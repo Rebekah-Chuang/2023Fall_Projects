{
 "cells": [
  {
   "cell_type": "code",
   "execution_count": 1,
   "metadata": {},
   "outputs": [],
   "source": [
    "import numpy as np\n",
    "import pandas as pd\n",
    "import plotly.express as px\n",
    "from scipy.stats import chi2_contingency, norm\n",
    "from data_viz import *\n",
    "from hypothesis_functions import *"
   ]
  },
  {
   "cell_type": "code",
   "execution_count": 2,
   "metadata": {},
   "outputs": [
    {
     "data": {
      "text/html": [
       "<div>\n",
       "<style scoped>\n",
       "    .dataframe tbody tr th:only-of-type {\n",
       "        vertical-align: middle;\n",
       "    }\n",
       "\n",
       "    .dataframe tbody tr th {\n",
       "        vertical-align: top;\n",
       "    }\n",
       "\n",
       "    .dataframe thead th {\n",
       "        text-align: right;\n",
       "    }\n",
       "</style>\n",
       "<table border=\"1\" class=\"dataframe\">\n",
       "  <thead>\n",
       "    <tr style=\"text-align: right;\">\n",
       "      <th></th>\n",
       "      <th>animal_id</th>\n",
       "      <th>name</th>\n",
       "      <th>animal_type</th>\n",
       "      <th>sex_intake</th>\n",
       "      <th>sex_outcome</th>\n",
       "      <th>breed</th>\n",
       "      <th>color</th>\n",
       "      <th>date_of_birth</th>\n",
       "      <th>found_location</th>\n",
       "      <th>intake_datetime</th>\n",
       "      <th>outcome_datetime</th>\n",
       "      <th>intake_type</th>\n",
       "      <th>intake_condition</th>\n",
       "      <th>outcome_type</th>\n",
       "      <th>outcome_subtype</th>\n",
       "      <th>age_upon_intake(years)</th>\n",
       "      <th>age_upon_outcome(years)</th>\n",
       "      <th>duration(days)</th>\n",
       "    </tr>\n",
       "  </thead>\n",
       "  <tbody>\n",
       "    <tr>\n",
       "      <th>0</th>\n",
       "      <td>A006100</td>\n",
       "      <td>Scamp</td>\n",
       "      <td>Dog</td>\n",
       "      <td>Neutered Male</td>\n",
       "      <td>Neutered Male</td>\n",
       "      <td>Spinone Italiano Mix</td>\n",
       "      <td>Yellow/White</td>\n",
       "      <td>2007-07-09</td>\n",
       "      <td>8700 Research in Austin (TX)</td>\n",
       "      <td>2014-03-07 14:26:00</td>\n",
       "      <td>2014-03-08 17:10:00</td>\n",
       "      <td>Public Assist</td>\n",
       "      <td>Normal</td>\n",
       "      <td>Return to Owner</td>\n",
       "      <td>NaN</td>\n",
       "      <td>6.7</td>\n",
       "      <td>6.7</td>\n",
       "      <td>1.0</td>\n",
       "    </tr>\n",
       "    <tr>\n",
       "      <th>1</th>\n",
       "      <td>A006100</td>\n",
       "      <td>Scamp</td>\n",
       "      <td>Dog</td>\n",
       "      <td>Neutered Male</td>\n",
       "      <td>Neutered Male</td>\n",
       "      <td>Spinone Italiano Mix</td>\n",
       "      <td>Yellow/White</td>\n",
       "      <td>2007-07-09</td>\n",
       "      <td>8700 Research Blvd in Austin (TX)</td>\n",
       "      <td>2014-12-19 10:21:00</td>\n",
       "      <td>2014-12-20 16:35:00</td>\n",
       "      <td>Public Assist</td>\n",
       "      <td>Normal</td>\n",
       "      <td>Return to Owner</td>\n",
       "      <td>NaN</td>\n",
       "      <td>7.4</td>\n",
       "      <td>7.4</td>\n",
       "      <td>1.0</td>\n",
       "    </tr>\n",
       "    <tr>\n",
       "      <th>2</th>\n",
       "      <td>A006100</td>\n",
       "      <td>Scamp</td>\n",
       "      <td>Dog</td>\n",
       "      <td>Neutered Male</td>\n",
       "      <td>Neutered Male</td>\n",
       "      <td>Spinone Italiano Mix</td>\n",
       "      <td>Yellow/White</td>\n",
       "      <td>2007-07-09</td>\n",
       "      <td>Colony Creek And Hunters Trace in Austin (TX)</td>\n",
       "      <td>2017-12-07 14:07:00</td>\n",
       "      <td>2017-12-07 00:00:00</td>\n",
       "      <td>Stray</td>\n",
       "      <td>Normal</td>\n",
       "      <td>Return to Owner</td>\n",
       "      <td>NaN</td>\n",
       "      <td>10.4</td>\n",
       "      <td>10.4</td>\n",
       "      <td>-1.0</td>\n",
       "    </tr>\n",
       "    <tr>\n",
       "      <th>3</th>\n",
       "      <td>A047759</td>\n",
       "      <td>Oreo</td>\n",
       "      <td>Dog</td>\n",
       "      <td>Neutered Male</td>\n",
       "      <td>Neutered Male</td>\n",
       "      <td>Dachshund</td>\n",
       "      <td>Tricolor</td>\n",
       "      <td>2004-04-02</td>\n",
       "      <td>Austin (TX)</td>\n",
       "      <td>2014-04-02 15:55:00</td>\n",
       "      <td>2014-04-07 15:12:00</td>\n",
       "      <td>Owner Surrender</td>\n",
       "      <td>Normal</td>\n",
       "      <td>Transfer</td>\n",
       "      <td>Partner</td>\n",
       "      <td>10.0</td>\n",
       "      <td>10.0</td>\n",
       "      <td>4.0</td>\n",
       "    </tr>\n",
       "    <tr>\n",
       "      <th>4</th>\n",
       "      <td>A134067</td>\n",
       "      <td>Bandit</td>\n",
       "      <td>Dog</td>\n",
       "      <td>Neutered Male</td>\n",
       "      <td>Neutered Male</td>\n",
       "      <td>Shetland Sheepdog</td>\n",
       "      <td>Brown/White</td>\n",
       "      <td>1997-10-16</td>\n",
       "      <td>12034 Research Blvd in Austin (TX)</td>\n",
       "      <td>2013-11-16 09:02:00</td>\n",
       "      <td>2013-11-16 11:54:00</td>\n",
       "      <td>Public Assist</td>\n",
       "      <td>Injured</td>\n",
       "      <td>Return to Owner</td>\n",
       "      <td>NaN</td>\n",
       "      <td>16.1</td>\n",
       "      <td>16.1</td>\n",
       "      <td>0.0</td>\n",
       "    </tr>\n",
       "    <tr>\n",
       "      <th>...</th>\n",
       "      <td>...</td>\n",
       "      <td>...</td>\n",
       "      <td>...</td>\n",
       "      <td>...</td>\n",
       "      <td>...</td>\n",
       "      <td>...</td>\n",
       "      <td>...</td>\n",
       "      <td>...</td>\n",
       "      <td>...</td>\n",
       "      <td>...</td>\n",
       "      <td>...</td>\n",
       "      <td>...</td>\n",
       "      <td>...</td>\n",
       "      <td>...</td>\n",
       "      <td>...</td>\n",
       "      <td>...</td>\n",
       "      <td>...</td>\n",
       "      <td>...</td>\n",
       "    </tr>\n",
       "    <tr>\n",
       "      <th>157621</th>\n",
       "      <td>A894189</td>\n",
       "      <td>Kittler</td>\n",
       "      <td>Cat</td>\n",
       "      <td>Intact Female</td>\n",
       "      <td>NaN</td>\n",
       "      <td>Domestic Shorthair Mix</td>\n",
       "      <td>Black/White</td>\n",
       "      <td>NaN</td>\n",
       "      <td>Austin (TX)</td>\n",
       "      <td>2023-12-04 17:16:00</td>\n",
       "      <td>NaN</td>\n",
       "      <td>Owner Surrender</td>\n",
       "      <td>Normal</td>\n",
       "      <td>NaN</td>\n",
       "      <td>NaN</td>\n",
       "      <td>NaN</td>\n",
       "      <td>NaN</td>\n",
       "      <td>NaN</td>\n",
       "    </tr>\n",
       "    <tr>\n",
       "      <th>157622</th>\n",
       "      <td>A894190</td>\n",
       "      <td>Zeeb</td>\n",
       "      <td>Cat</td>\n",
       "      <td>Intact Male</td>\n",
       "      <td>NaN</td>\n",
       "      <td>Domestic Shorthair Mix</td>\n",
       "      <td>Brown Tabby</td>\n",
       "      <td>NaN</td>\n",
       "      <td>Austin (TX)</td>\n",
       "      <td>2023-12-04 17:16:00</td>\n",
       "      <td>NaN</td>\n",
       "      <td>Owner Surrender</td>\n",
       "      <td>Normal</td>\n",
       "      <td>NaN</td>\n",
       "      <td>NaN</td>\n",
       "      <td>NaN</td>\n",
       "      <td>NaN</td>\n",
       "      <td>NaN</td>\n",
       "    </tr>\n",
       "    <tr>\n",
       "      <th>157623</th>\n",
       "      <td>A894191</td>\n",
       "      <td>Lucky</td>\n",
       "      <td>Cat</td>\n",
       "      <td>Intact Male</td>\n",
       "      <td>NaN</td>\n",
       "      <td>Domestic Shorthair Mix</td>\n",
       "      <td>Gray/White</td>\n",
       "      <td>NaN</td>\n",
       "      <td>Austin (TX)</td>\n",
       "      <td>2023-12-04 17:16:00</td>\n",
       "      <td>NaN</td>\n",
       "      <td>Owner Surrender</td>\n",
       "      <td>Normal</td>\n",
       "      <td>NaN</td>\n",
       "      <td>NaN</td>\n",
       "      <td>NaN</td>\n",
       "      <td>NaN</td>\n",
       "      <td>NaN</td>\n",
       "    </tr>\n",
       "    <tr>\n",
       "      <th>157624</th>\n",
       "      <td>A894192</td>\n",
       "      <td>Lil Bit</td>\n",
       "      <td>Cat</td>\n",
       "      <td>Intact Female</td>\n",
       "      <td>NaN</td>\n",
       "      <td>Domestic Shorthair Mix</td>\n",
       "      <td>Black/White</td>\n",
       "      <td>NaN</td>\n",
       "      <td>Austin (TX)</td>\n",
       "      <td>2023-12-04 17:16:00</td>\n",
       "      <td>NaN</td>\n",
       "      <td>Owner Surrender</td>\n",
       "      <td>Normal</td>\n",
       "      <td>NaN</td>\n",
       "      <td>NaN</td>\n",
       "      <td>NaN</td>\n",
       "      <td>NaN</td>\n",
       "      <td>NaN</td>\n",
       "    </tr>\n",
       "    <tr>\n",
       "      <th>157625</th>\n",
       "      <td>A894196</td>\n",
       "      <td>Jinx</td>\n",
       "      <td>Dog</td>\n",
       "      <td>Intact Female</td>\n",
       "      <td>NaN</td>\n",
       "      <td>Rottweiler Mix</td>\n",
       "      <td>Black/Brown</td>\n",
       "      <td>NaN</td>\n",
       "      <td>10926 Jollyville Road in Austin (TX)</td>\n",
       "      <td>2023-12-04 17:48:00</td>\n",
       "      <td>NaN</td>\n",
       "      <td>Abandoned</td>\n",
       "      <td>Normal</td>\n",
       "      <td>NaN</td>\n",
       "      <td>NaN</td>\n",
       "      <td>NaN</td>\n",
       "      <td>NaN</td>\n",
       "      <td>NaN</td>\n",
       "    </tr>\n",
       "  </tbody>\n",
       "</table>\n",
       "<p>157626 rows × 18 columns</p>\n",
       "</div>"
      ],
      "text/plain": [
       "       animal_id     name animal_type     sex_intake    sex_outcome  \\\n",
       "0        A006100    Scamp         Dog  Neutered Male  Neutered Male   \n",
       "1        A006100    Scamp         Dog  Neutered Male  Neutered Male   \n",
       "2        A006100    Scamp         Dog  Neutered Male  Neutered Male   \n",
       "3        A047759     Oreo         Dog  Neutered Male  Neutered Male   \n",
       "4        A134067   Bandit         Dog  Neutered Male  Neutered Male   \n",
       "...          ...      ...         ...            ...            ...   \n",
       "157621   A894189  Kittler         Cat  Intact Female            NaN   \n",
       "157622   A894190     Zeeb         Cat    Intact Male            NaN   \n",
       "157623   A894191    Lucky         Cat    Intact Male            NaN   \n",
       "157624   A894192  Lil Bit         Cat  Intact Female            NaN   \n",
       "157625   A894196     Jinx         Dog  Intact Female            NaN   \n",
       "\n",
       "                         breed         color date_of_birth  \\\n",
       "0         Spinone Italiano Mix  Yellow/White    2007-07-09   \n",
       "1         Spinone Italiano Mix  Yellow/White    2007-07-09   \n",
       "2         Spinone Italiano Mix  Yellow/White    2007-07-09   \n",
       "3                    Dachshund      Tricolor    2004-04-02   \n",
       "4            Shetland Sheepdog   Brown/White    1997-10-16   \n",
       "...                        ...           ...           ...   \n",
       "157621  Domestic Shorthair Mix   Black/White           NaN   \n",
       "157622  Domestic Shorthair Mix   Brown Tabby           NaN   \n",
       "157623  Domestic Shorthair Mix    Gray/White           NaN   \n",
       "157624  Domestic Shorthair Mix   Black/White           NaN   \n",
       "157625          Rottweiler Mix   Black/Brown           NaN   \n",
       "\n",
       "                                       found_location      intake_datetime  \\\n",
       "0                        8700 Research in Austin (TX)  2014-03-07 14:26:00   \n",
       "1                   8700 Research Blvd in Austin (TX)  2014-12-19 10:21:00   \n",
       "2       Colony Creek And Hunters Trace in Austin (TX)  2017-12-07 14:07:00   \n",
       "3                                         Austin (TX)  2014-04-02 15:55:00   \n",
       "4                  12034 Research Blvd in Austin (TX)  2013-11-16 09:02:00   \n",
       "...                                               ...                  ...   \n",
       "157621                                    Austin (TX)  2023-12-04 17:16:00   \n",
       "157622                                    Austin (TX)  2023-12-04 17:16:00   \n",
       "157623                                    Austin (TX)  2023-12-04 17:16:00   \n",
       "157624                                    Austin (TX)  2023-12-04 17:16:00   \n",
       "157625           10926 Jollyville Road in Austin (TX)  2023-12-04 17:48:00   \n",
       "\n",
       "           outcome_datetime      intake_type intake_condition  \\\n",
       "0       2014-03-08 17:10:00    Public Assist           Normal   \n",
       "1       2014-12-20 16:35:00    Public Assist           Normal   \n",
       "2       2017-12-07 00:00:00            Stray           Normal   \n",
       "3       2014-04-07 15:12:00  Owner Surrender           Normal   \n",
       "4       2013-11-16 11:54:00    Public Assist          Injured   \n",
       "...                     ...              ...              ...   \n",
       "157621                  NaN  Owner Surrender           Normal   \n",
       "157622                  NaN  Owner Surrender           Normal   \n",
       "157623                  NaN  Owner Surrender           Normal   \n",
       "157624                  NaN  Owner Surrender           Normal   \n",
       "157625                  NaN        Abandoned           Normal   \n",
       "\n",
       "           outcome_type outcome_subtype  age_upon_intake(years)  \\\n",
       "0       Return to Owner             NaN                     6.7   \n",
       "1       Return to Owner             NaN                     7.4   \n",
       "2       Return to Owner             NaN                    10.4   \n",
       "3              Transfer         Partner                    10.0   \n",
       "4       Return to Owner             NaN                    16.1   \n",
       "...                 ...             ...                     ...   \n",
       "157621              NaN             NaN                     NaN   \n",
       "157622              NaN             NaN                     NaN   \n",
       "157623              NaN             NaN                     NaN   \n",
       "157624              NaN             NaN                     NaN   \n",
       "157625              NaN             NaN                     NaN   \n",
       "\n",
       "        age_upon_outcome(years)  duration(days)  \n",
       "0                           6.7             1.0  \n",
       "1                           7.4             1.0  \n",
       "2                          10.4            -1.0  \n",
       "3                          10.0             4.0  \n",
       "4                          16.1             0.0  \n",
       "...                         ...             ...  \n",
       "157621                      NaN             NaN  \n",
       "157622                      NaN             NaN  \n",
       "157623                      NaN             NaN  \n",
       "157624                      NaN             NaN  \n",
       "157625                      NaN             NaN  \n",
       "\n",
       "[157626 rows x 18 columns]"
      ]
     },
     "execution_count": 2,
     "metadata": {},
     "output_type": "execute_result"
    }
   ],
   "source": [
    "data = pd.read_csv(\"data/animal_center.csv\")\n",
    "data"
   ]
  },
  {
   "cell_type": "code",
   "execution_count": 3,
   "metadata": {},
   "outputs": [
    {
     "data": {
      "text/plain": [
       "Index(['animal_id', 'name', 'animal_type', 'sex_intake', 'sex_outcome',\n",
       "       'breed', 'color', 'date_of_birth', 'found_location', 'intake_datetime',\n",
       "       'outcome_datetime', 'intake_type', 'intake_condition', 'outcome_type',\n",
       "       'outcome_subtype', 'age_upon_intake(years)', 'age_upon_outcome(years)',\n",
       "       'duration(days)'],\n",
       "      dtype='object')"
      ]
     },
     "execution_count": 3,
     "metadata": {},
     "output_type": "execute_result"
    }
   ],
   "source": [
    "data.columns"
   ]
  },
  {
   "cell_type": "code",
   "execution_count": 4,
   "metadata": {},
   "outputs": [
    {
     "data": {
      "text/plain": [
       "Adoption           73875\n",
       "Transfer           44903\n",
       "Return to Owner    24429\n",
       "Euthanasia          9965\n",
       "Died                1470\n",
       "Rto-Adopt           1079\n",
       "Disposal             767\n",
       "Missing               84\n",
       "Relocate              26\n",
       "Stolen                 5\n",
       "Name: outcome_type, dtype: int64"
      ]
     },
     "execution_count": 4,
     "metadata": {},
     "output_type": "execute_result"
    }
   ],
   "source": [
    "data.outcome_type.value_counts()"
   ]
  },
  {
   "cell_type": "code",
   "execution_count": 5,
   "metadata": {},
   "outputs": [
    {
     "data": {
      "text/html": [
       "<div>\n",
       "<style scoped>\n",
       "    .dataframe tbody tr th:only-of-type {\n",
       "        vertical-align: middle;\n",
       "    }\n",
       "\n",
       "    .dataframe tbody tr th {\n",
       "        vertical-align: top;\n",
       "    }\n",
       "\n",
       "    .dataframe thead th {\n",
       "        text-align: right;\n",
       "    }\n",
       "</style>\n",
       "<table border=\"1\" class=\"dataframe\">\n",
       "  <thead>\n",
       "    <tr style=\"text-align: right;\">\n",
       "      <th></th>\n",
       "      <th>animal_id</th>\n",
       "      <th>intake_datetime</th>\n",
       "      <th>outcome_datetime</th>\n",
       "      <th>outcome_type</th>\n",
       "      <th>duration(days)</th>\n",
       "    </tr>\n",
       "  </thead>\n",
       "  <tbody>\n",
       "    <tr>\n",
       "      <th>0</th>\n",
       "      <td>A006100</td>\n",
       "      <td>2014-03-07 14:26:00</td>\n",
       "      <td>2014-03-08 17:10:00</td>\n",
       "      <td>Return to Owner</td>\n",
       "      <td>1.0</td>\n",
       "    </tr>\n",
       "    <tr>\n",
       "      <th>1</th>\n",
       "      <td>A006100</td>\n",
       "      <td>2014-12-19 10:21:00</td>\n",
       "      <td>2014-12-20 16:35:00</td>\n",
       "      <td>Return to Owner</td>\n",
       "      <td>1.0</td>\n",
       "    </tr>\n",
       "    <tr>\n",
       "      <th>2</th>\n",
       "      <td>A006100</td>\n",
       "      <td>2017-12-07 14:07:00</td>\n",
       "      <td>2017-12-07 00:00:00</td>\n",
       "      <td>Return to Owner</td>\n",
       "      <td>-1.0</td>\n",
       "    </tr>\n",
       "    <tr>\n",
       "      <th>3</th>\n",
       "      <td>A047759</td>\n",
       "      <td>2014-04-02 15:55:00</td>\n",
       "      <td>2014-04-07 15:12:00</td>\n",
       "      <td>Transfer</td>\n",
       "      <td>4.0</td>\n",
       "    </tr>\n",
       "    <tr>\n",
       "      <th>4</th>\n",
       "      <td>A134067</td>\n",
       "      <td>2013-11-16 09:02:00</td>\n",
       "      <td>2013-11-16 11:54:00</td>\n",
       "      <td>Return to Owner</td>\n",
       "      <td>0.0</td>\n",
       "    </tr>\n",
       "    <tr>\n",
       "      <th>...</th>\n",
       "      <td>...</td>\n",
       "      <td>...</td>\n",
       "      <td>...</td>\n",
       "      <td>...</td>\n",
       "      <td>...</td>\n",
       "    </tr>\n",
       "    <tr>\n",
       "      <th>157621</th>\n",
       "      <td>A894189</td>\n",
       "      <td>2023-12-04 17:16:00</td>\n",
       "      <td>NaN</td>\n",
       "      <td>NaN</td>\n",
       "      <td>NaN</td>\n",
       "    </tr>\n",
       "    <tr>\n",
       "      <th>157622</th>\n",
       "      <td>A894190</td>\n",
       "      <td>2023-12-04 17:16:00</td>\n",
       "      <td>NaN</td>\n",
       "      <td>NaN</td>\n",
       "      <td>NaN</td>\n",
       "    </tr>\n",
       "    <tr>\n",
       "      <th>157623</th>\n",
       "      <td>A894191</td>\n",
       "      <td>2023-12-04 17:16:00</td>\n",
       "      <td>NaN</td>\n",
       "      <td>NaN</td>\n",
       "      <td>NaN</td>\n",
       "    </tr>\n",
       "    <tr>\n",
       "      <th>157624</th>\n",
       "      <td>A894192</td>\n",
       "      <td>2023-12-04 17:16:00</td>\n",
       "      <td>NaN</td>\n",
       "      <td>NaN</td>\n",
       "      <td>NaN</td>\n",
       "    </tr>\n",
       "    <tr>\n",
       "      <th>157625</th>\n",
       "      <td>A894196</td>\n",
       "      <td>2023-12-04 17:48:00</td>\n",
       "      <td>NaN</td>\n",
       "      <td>NaN</td>\n",
       "      <td>NaN</td>\n",
       "    </tr>\n",
       "  </tbody>\n",
       "</table>\n",
       "<p>157626 rows × 5 columns</p>\n",
       "</div>"
      ],
      "text/plain": [
       "       animal_id      intake_datetime     outcome_datetime     outcome_type  \\\n",
       "0        A006100  2014-03-07 14:26:00  2014-03-08 17:10:00  Return to Owner   \n",
       "1        A006100  2014-12-19 10:21:00  2014-12-20 16:35:00  Return to Owner   \n",
       "2        A006100  2017-12-07 14:07:00  2017-12-07 00:00:00  Return to Owner   \n",
       "3        A047759  2014-04-02 15:55:00  2014-04-07 15:12:00         Transfer   \n",
       "4        A134067  2013-11-16 09:02:00  2013-11-16 11:54:00  Return to Owner   \n",
       "...          ...                  ...                  ...              ...   \n",
       "157621   A894189  2023-12-04 17:16:00                  NaN              NaN   \n",
       "157622   A894190  2023-12-04 17:16:00                  NaN              NaN   \n",
       "157623   A894191  2023-12-04 17:16:00                  NaN              NaN   \n",
       "157624   A894192  2023-12-04 17:16:00                  NaN              NaN   \n",
       "157625   A894196  2023-12-04 17:48:00                  NaN              NaN   \n",
       "\n",
       "        duration(days)  \n",
       "0                  1.0  \n",
       "1                  1.0  \n",
       "2                 -1.0  \n",
       "3                  4.0  \n",
       "4                  0.0  \n",
       "...                ...  \n",
       "157621             NaN  \n",
       "157622             NaN  \n",
       "157623             NaN  \n",
       "157624             NaN  \n",
       "157625             NaN  \n",
       "\n",
       "[157626 rows x 5 columns]"
      ]
     },
     "execution_count": 5,
     "metadata": {},
     "output_type": "execute_result"
    }
   ],
   "source": [
    "no_kill_research = data[[\"animal_id\", \"intake_datetime\", \"outcome_datetime\", \"outcome_type\", \"duration(days)\"]].copy()\n",
    "no_kill_research"
   ]
  },
  {
   "cell_type": "code",
   "execution_count": 6,
   "metadata": {},
   "outputs": [
    {
     "data": {
      "text/html": [
       "<div>\n",
       "<style scoped>\n",
       "    .dataframe tbody tr th:only-of-type {\n",
       "        vertical-align: middle;\n",
       "    }\n",
       "\n",
       "    .dataframe tbody tr th {\n",
       "        vertical-align: top;\n",
       "    }\n",
       "\n",
       "    .dataframe thead th {\n",
       "        text-align: right;\n",
       "    }\n",
       "</style>\n",
       "<table border=\"1\" class=\"dataframe\">\n",
       "  <thead>\n",
       "    <tr style=\"text-align: right;\">\n",
       "      <th></th>\n",
       "      <th>animal_id</th>\n",
       "      <th>intake_datetime</th>\n",
       "      <th>outcome_datetime</th>\n",
       "      <th>outcome_type</th>\n",
       "      <th>duration(days)</th>\n",
       "      <th>intake_y_m</th>\n",
       "      <th>outcome_y_m</th>\n",
       "      <th>intake_yr</th>\n",
       "      <th>outcome_yr</th>\n",
       "      <th>intake_m</th>\n",
       "      <th>outcome_m</th>\n",
       "    </tr>\n",
       "  </thead>\n",
       "  <tbody>\n",
       "    <tr>\n",
       "      <th>0</th>\n",
       "      <td>A006100</td>\n",
       "      <td>2014-03-07 14:26:00</td>\n",
       "      <td>2014-03-08 17:10:00</td>\n",
       "      <td>Return to Owner</td>\n",
       "      <td>1.0</td>\n",
       "      <td>2014-03</td>\n",
       "      <td>2014-03</td>\n",
       "      <td>2014</td>\n",
       "      <td>2014</td>\n",
       "      <td>March</td>\n",
       "      <td>March</td>\n",
       "    </tr>\n",
       "    <tr>\n",
       "      <th>1</th>\n",
       "      <td>A006100</td>\n",
       "      <td>2014-12-19 10:21:00</td>\n",
       "      <td>2014-12-20 16:35:00</td>\n",
       "      <td>Return to Owner</td>\n",
       "      <td>1.0</td>\n",
       "      <td>2014-12</td>\n",
       "      <td>2014-12</td>\n",
       "      <td>2014</td>\n",
       "      <td>2014</td>\n",
       "      <td>December</td>\n",
       "      <td>December</td>\n",
       "    </tr>\n",
       "    <tr>\n",
       "      <th>2</th>\n",
       "      <td>A006100</td>\n",
       "      <td>2017-12-07 14:07:00</td>\n",
       "      <td>2017-12-07 00:00:00</td>\n",
       "      <td>Return to Owner</td>\n",
       "      <td>-1.0</td>\n",
       "      <td>2017-12</td>\n",
       "      <td>2017-12</td>\n",
       "      <td>2017</td>\n",
       "      <td>2017</td>\n",
       "      <td>December</td>\n",
       "      <td>December</td>\n",
       "    </tr>\n",
       "    <tr>\n",
       "      <th>3</th>\n",
       "      <td>A047759</td>\n",
       "      <td>2014-04-02 15:55:00</td>\n",
       "      <td>2014-04-07 15:12:00</td>\n",
       "      <td>Transfer</td>\n",
       "      <td>4.0</td>\n",
       "      <td>2014-04</td>\n",
       "      <td>2014-04</td>\n",
       "      <td>2014</td>\n",
       "      <td>2014</td>\n",
       "      <td>April</td>\n",
       "      <td>April</td>\n",
       "    </tr>\n",
       "    <tr>\n",
       "      <th>4</th>\n",
       "      <td>A134067</td>\n",
       "      <td>2013-11-16 09:02:00</td>\n",
       "      <td>2013-11-16 11:54:00</td>\n",
       "      <td>Return to Owner</td>\n",
       "      <td>0.0</td>\n",
       "      <td>2013-11</td>\n",
       "      <td>2013-11</td>\n",
       "      <td>2013</td>\n",
       "      <td>2013</td>\n",
       "      <td>November</td>\n",
       "      <td>November</td>\n",
       "    </tr>\n",
       "    <tr>\n",
       "      <th>...</th>\n",
       "      <td>...</td>\n",
       "      <td>...</td>\n",
       "      <td>...</td>\n",
       "      <td>...</td>\n",
       "      <td>...</td>\n",
       "      <td>...</td>\n",
       "      <td>...</td>\n",
       "      <td>...</td>\n",
       "      <td>...</td>\n",
       "      <td>...</td>\n",
       "      <td>...</td>\n",
       "    </tr>\n",
       "    <tr>\n",
       "      <th>157621</th>\n",
       "      <td>A894189</td>\n",
       "      <td>2023-12-04 17:16:00</td>\n",
       "      <td>NaT</td>\n",
       "      <td>NaN</td>\n",
       "      <td>NaN</td>\n",
       "      <td>2023-12</td>\n",
       "      <td>NaT</td>\n",
       "      <td>2023</td>\n",
       "      <td>NaT</td>\n",
       "      <td>December</td>\n",
       "      <td>NaN</td>\n",
       "    </tr>\n",
       "    <tr>\n",
       "      <th>157622</th>\n",
       "      <td>A894190</td>\n",
       "      <td>2023-12-04 17:16:00</td>\n",
       "      <td>NaT</td>\n",
       "      <td>NaN</td>\n",
       "      <td>NaN</td>\n",
       "      <td>2023-12</td>\n",
       "      <td>NaT</td>\n",
       "      <td>2023</td>\n",
       "      <td>NaT</td>\n",
       "      <td>December</td>\n",
       "      <td>NaN</td>\n",
       "    </tr>\n",
       "    <tr>\n",
       "      <th>157623</th>\n",
       "      <td>A894191</td>\n",
       "      <td>2023-12-04 17:16:00</td>\n",
       "      <td>NaT</td>\n",
       "      <td>NaN</td>\n",
       "      <td>NaN</td>\n",
       "      <td>2023-12</td>\n",
       "      <td>NaT</td>\n",
       "      <td>2023</td>\n",
       "      <td>NaT</td>\n",
       "      <td>December</td>\n",
       "      <td>NaN</td>\n",
       "    </tr>\n",
       "    <tr>\n",
       "      <th>157624</th>\n",
       "      <td>A894192</td>\n",
       "      <td>2023-12-04 17:16:00</td>\n",
       "      <td>NaT</td>\n",
       "      <td>NaN</td>\n",
       "      <td>NaN</td>\n",
       "      <td>2023-12</td>\n",
       "      <td>NaT</td>\n",
       "      <td>2023</td>\n",
       "      <td>NaT</td>\n",
       "      <td>December</td>\n",
       "      <td>NaN</td>\n",
       "    </tr>\n",
       "    <tr>\n",
       "      <th>157625</th>\n",
       "      <td>A894196</td>\n",
       "      <td>2023-12-04 17:48:00</td>\n",
       "      <td>NaT</td>\n",
       "      <td>NaN</td>\n",
       "      <td>NaN</td>\n",
       "      <td>2023-12</td>\n",
       "      <td>NaT</td>\n",
       "      <td>2023</td>\n",
       "      <td>NaT</td>\n",
       "      <td>December</td>\n",
       "      <td>NaN</td>\n",
       "    </tr>\n",
       "  </tbody>\n",
       "</table>\n",
       "<p>157626 rows × 11 columns</p>\n",
       "</div>"
      ],
      "text/plain": [
       "       animal_id     intake_datetime    outcome_datetime     outcome_type  \\\n",
       "0        A006100 2014-03-07 14:26:00 2014-03-08 17:10:00  Return to Owner   \n",
       "1        A006100 2014-12-19 10:21:00 2014-12-20 16:35:00  Return to Owner   \n",
       "2        A006100 2017-12-07 14:07:00 2017-12-07 00:00:00  Return to Owner   \n",
       "3        A047759 2014-04-02 15:55:00 2014-04-07 15:12:00         Transfer   \n",
       "4        A134067 2013-11-16 09:02:00 2013-11-16 11:54:00  Return to Owner   \n",
       "...          ...                 ...                 ...              ...   \n",
       "157621   A894189 2023-12-04 17:16:00                 NaT              NaN   \n",
       "157622   A894190 2023-12-04 17:16:00                 NaT              NaN   \n",
       "157623   A894191 2023-12-04 17:16:00                 NaT              NaN   \n",
       "157624   A894192 2023-12-04 17:16:00                 NaT              NaN   \n",
       "157625   A894196 2023-12-04 17:48:00                 NaT              NaN   \n",
       "\n",
       "        duration(days) intake_y_m outcome_y_m intake_yr outcome_yr  intake_m  \\\n",
       "0                  1.0    2014-03     2014-03      2014       2014     March   \n",
       "1                  1.0    2014-12     2014-12      2014       2014  December   \n",
       "2                 -1.0    2017-12     2017-12      2017       2017  December   \n",
       "3                  4.0    2014-04     2014-04      2014       2014     April   \n",
       "4                  0.0    2013-11     2013-11      2013       2013  November   \n",
       "...                ...        ...         ...       ...        ...       ...   \n",
       "157621             NaN    2023-12         NaT      2023        NaT  December   \n",
       "157622             NaN    2023-12         NaT      2023        NaT  December   \n",
       "157623             NaN    2023-12         NaT      2023        NaT  December   \n",
       "157624             NaN    2023-12         NaT      2023        NaT  December   \n",
       "157625             NaN    2023-12         NaT      2023        NaT  December   \n",
       "\n",
       "       outcome_m  \n",
       "0          March  \n",
       "1       December  \n",
       "2       December  \n",
       "3          April  \n",
       "4       November  \n",
       "...          ...  \n",
       "157621       NaN  \n",
       "157622       NaN  \n",
       "157623       NaN  \n",
       "157624       NaN  \n",
       "157625       NaN  \n",
       "\n",
       "[157626 rows x 11 columns]"
      ]
     },
     "execution_count": 6,
     "metadata": {},
     "output_type": "execute_result"
    }
   ],
   "source": [
    "no_kill_research[\"intake_datetime\"] = pd.to_datetime(no_kill_research[\"intake_datetime\"])\n",
    "no_kill_research[\"outcome_datetime\"] = pd.to_datetime(no_kill_research[\"outcome_datetime\"])\n",
    "\n",
    "no_kill_research[\"intake_y_m\"] = no_kill_research[\"intake_datetime\"].dt.to_period(\"M\").astype(str)\n",
    "no_kill_research[\"outcome_y_m\"] = no_kill_research[\"outcome_datetime\"].dt.to_period(\"M\").astype(str)\n",
    "\n",
    "no_kill_research[\"intake_yr\"] = no_kill_research[\"intake_datetime\"].dt.to_period(\"Y\").astype(str)\n",
    "no_kill_research[\"outcome_yr\"] = no_kill_research[\"outcome_datetime\"].dt.to_period(\"Y\").astype(str)\n",
    "\n",
    "no_kill_research[\"intake_m\"] = pd.to_datetime(no_kill_research[\"intake_datetime\"], format='%m').dt.month_name()\n",
    "no_kill_research[\"outcome_m\"] = pd.to_datetime(no_kill_research[\"outcome_datetime\"], format='%m').dt.month_name()\n",
    "\n",
    "no_kill_research"
   ]
  },
  {
   "cell_type": "markdown",
   "metadata": {},
   "source": [
    "## **Group by year-month**"
   ]
  },
  {
   "cell_type": "code",
   "execution_count": 7,
   "metadata": {},
   "outputs": [
    {
     "data": {
      "text/html": [
       "<div>\n",
       "<style scoped>\n",
       "    .dataframe tbody tr th:only-of-type {\n",
       "        vertical-align: middle;\n",
       "    }\n",
       "\n",
       "    .dataframe tbody tr th {\n",
       "        vertical-align: top;\n",
       "    }\n",
       "\n",
       "    .dataframe thead th {\n",
       "        text-align: right;\n",
       "    }\n",
       "</style>\n",
       "<table border=\"1\" class=\"dataframe\">\n",
       "  <thead>\n",
       "    <tr style=\"text-align: right;\">\n",
       "      <th></th>\n",
       "      <th>time</th>\n",
       "      <th>total_intake</th>\n",
       "      <th>total_outcome</th>\n",
       "      <th>euthanasia_cases</th>\n",
       "      <th>total_died_cases</th>\n",
       "      <th>save_rate(total died)</th>\n",
       "      <th>save_rate(euthanasia)</th>\n",
       "    </tr>\n",
       "  </thead>\n",
       "  <tbody>\n",
       "    <tr>\n",
       "      <th>0</th>\n",
       "      <td>2013-10</td>\n",
       "      <td>1589.0</td>\n",
       "      <td>1126</td>\n",
       "      <td>147</td>\n",
       "      <td>162</td>\n",
       "      <td>89.804909</td>\n",
       "      <td>90.748899</td>\n",
       "    </tr>\n",
       "    <tr>\n",
       "      <th>1</th>\n",
       "      <td>2013-11</td>\n",
       "      <td>1323.0</td>\n",
       "      <td>1213</td>\n",
       "      <td>120</td>\n",
       "      <td>129</td>\n",
       "      <td>90.249433</td>\n",
       "      <td>90.929705</td>\n",
       "    </tr>\n",
       "    <tr>\n",
       "      <th>2</th>\n",
       "      <td>2013-12</td>\n",
       "      <td>1270.0</td>\n",
       "      <td>1431</td>\n",
       "      <td>163</td>\n",
       "      <td>171</td>\n",
       "      <td>86.535433</td>\n",
       "      <td>87.165354</td>\n",
       "    </tr>\n",
       "    <tr>\n",
       "      <th>3</th>\n",
       "      <td>2014-01</td>\n",
       "      <td>1271.0</td>\n",
       "      <td>1224</td>\n",
       "      <td>114</td>\n",
       "      <td>124</td>\n",
       "      <td>90.243902</td>\n",
       "      <td>91.030685</td>\n",
       "    </tr>\n",
       "    <tr>\n",
       "      <th>4</th>\n",
       "      <td>2014-02</td>\n",
       "      <td>1192.0</td>\n",
       "      <td>1115</td>\n",
       "      <td>144</td>\n",
       "      <td>155</td>\n",
       "      <td>86.996644</td>\n",
       "      <td>87.919463</td>\n",
       "    </tr>\n",
       "    <tr>\n",
       "      <th>5</th>\n",
       "      <td>2014-03</td>\n",
       "      <td>1484.0</td>\n",
       "      <td>1479</td>\n",
       "      <td>267</td>\n",
       "      <td>298</td>\n",
       "      <td>79.919137</td>\n",
       "      <td>82.008086</td>\n",
       "    </tr>\n",
       "    <tr>\n",
       "      <th>6</th>\n",
       "      <td>2014-04</td>\n",
       "      <td>1535.0</td>\n",
       "      <td>1399</td>\n",
       "      <td>147</td>\n",
       "      <td>163</td>\n",
       "      <td>89.381107</td>\n",
       "      <td>90.423453</td>\n",
       "    </tr>\n",
       "    <tr>\n",
       "      <th>7</th>\n",
       "      <td>2014-05</td>\n",
       "      <td>1957.0</td>\n",
       "      <td>1625</td>\n",
       "      <td>156</td>\n",
       "      <td>178</td>\n",
       "      <td>90.904446</td>\n",
       "      <td>92.028615</td>\n",
       "    </tr>\n",
       "    <tr>\n",
       "      <th>8</th>\n",
       "      <td>2014-06</td>\n",
       "      <td>1793.0</td>\n",
       "      <td>1751</td>\n",
       "      <td>167</td>\n",
       "      <td>184</td>\n",
       "      <td>89.737869</td>\n",
       "      <td>90.686001</td>\n",
       "    </tr>\n",
       "    <tr>\n",
       "      <th>9</th>\n",
       "      <td>2014-07</td>\n",
       "      <td>1888.0</td>\n",
       "      <td>2070</td>\n",
       "      <td>165</td>\n",
       "      <td>194</td>\n",
       "      <td>89.724576</td>\n",
       "      <td>91.260593</td>\n",
       "    </tr>\n",
       "    <tr>\n",
       "      <th>10</th>\n",
       "      <td>2014-08</td>\n",
       "      <td>1645.0</td>\n",
       "      <td>1847</td>\n",
       "      <td>141</td>\n",
       "      <td>190</td>\n",
       "      <td>88.449848</td>\n",
       "      <td>91.428571</td>\n",
       "    </tr>\n",
       "    <tr>\n",
       "      <th>11</th>\n",
       "      <td>2014-09</td>\n",
       "      <td>1698.0</td>\n",
       "      <td>1656</td>\n",
       "      <td>134</td>\n",
       "      <td>163</td>\n",
       "      <td>90.400471</td>\n",
       "      <td>92.108363</td>\n",
       "    </tr>\n",
       "    <tr>\n",
       "      <th>12</th>\n",
       "      <td>2014-10</td>\n",
       "      <td>1530.0</td>\n",
       "      <td>1519</td>\n",
       "      <td>158</td>\n",
       "      <td>163</td>\n",
       "      <td>89.346405</td>\n",
       "      <td>89.673203</td>\n",
       "    </tr>\n",
       "    <tr>\n",
       "      <th>13</th>\n",
       "      <td>2014-11</td>\n",
       "      <td>1372.0</td>\n",
       "      <td>1420</td>\n",
       "      <td>135</td>\n",
       "      <td>143</td>\n",
       "      <td>89.577259</td>\n",
       "      <td>90.160350</td>\n",
       "    </tr>\n",
       "    <tr>\n",
       "      <th>14</th>\n",
       "      <td>2014-12</td>\n",
       "      <td>1289.0</td>\n",
       "      <td>1454</td>\n",
       "      <td>116</td>\n",
       "      <td>125</td>\n",
       "      <td>90.302560</td>\n",
       "      <td>91.000776</td>\n",
       "    </tr>\n",
       "    <tr>\n",
       "      <th>15</th>\n",
       "      <td>2015-01</td>\n",
       "      <td>1197.0</td>\n",
       "      <td>1198</td>\n",
       "      <td>81</td>\n",
       "      <td>85</td>\n",
       "      <td>92.898914</td>\n",
       "      <td>93.233083</td>\n",
       "    </tr>\n",
       "    <tr>\n",
       "      <th>16</th>\n",
       "      <td>2015-02</td>\n",
       "      <td>1118.0</td>\n",
       "      <td>1121</td>\n",
       "      <td>104</td>\n",
       "      <td>107</td>\n",
       "      <td>90.429338</td>\n",
       "      <td>90.697674</td>\n",
       "    </tr>\n",
       "    <tr>\n",
       "      <th>17</th>\n",
       "      <td>2015-03</td>\n",
       "      <td>1345.0</td>\n",
       "      <td>1241</td>\n",
       "      <td>176</td>\n",
       "      <td>201</td>\n",
       "      <td>85.055762</td>\n",
       "      <td>86.914498</td>\n",
       "    </tr>\n",
       "    <tr>\n",
       "      <th>18</th>\n",
       "      <td>2015-04</td>\n",
       "      <td>1543.0</td>\n",
       "      <td>1379</td>\n",
       "      <td>162</td>\n",
       "      <td>168</td>\n",
       "      <td>89.112119</td>\n",
       "      <td>89.500972</td>\n",
       "    </tr>\n",
       "    <tr>\n",
       "      <th>19</th>\n",
       "      <td>2015-05</td>\n",
       "      <td>2094.0</td>\n",
       "      <td>1877</td>\n",
       "      <td>199</td>\n",
       "      <td>215</td>\n",
       "      <td>89.732569</td>\n",
       "      <td>90.496657</td>\n",
       "    </tr>\n",
       "    <tr>\n",
       "      <th>20</th>\n",
       "      <td>2015-06</td>\n",
       "      <td>2189.0</td>\n",
       "      <td>1975</td>\n",
       "      <td>174</td>\n",
       "      <td>211</td>\n",
       "      <td>90.360895</td>\n",
       "      <td>92.051165</td>\n",
       "    </tr>\n",
       "    <tr>\n",
       "      <th>21</th>\n",
       "      <td>2015-07</td>\n",
       "      <td>1635.0</td>\n",
       "      <td>1897</td>\n",
       "      <td>131</td>\n",
       "      <td>155</td>\n",
       "      <td>90.519878</td>\n",
       "      <td>91.987768</td>\n",
       "    </tr>\n",
       "    <tr>\n",
       "      <th>22</th>\n",
       "      <td>2015-08</td>\n",
       "      <td>1718.0</td>\n",
       "      <td>1735</td>\n",
       "      <td>111</td>\n",
       "      <td>145</td>\n",
       "      <td>91.559953</td>\n",
       "      <td>93.538999</td>\n",
       "    </tr>\n",
       "    <tr>\n",
       "      <th>23</th>\n",
       "      <td>2015-09</td>\n",
       "      <td>1591.0</td>\n",
       "      <td>1601</td>\n",
       "      <td>96</td>\n",
       "      <td>117</td>\n",
       "      <td>92.646135</td>\n",
       "      <td>93.966059</td>\n",
       "    </tr>\n",
       "    <tr>\n",
       "      <th>24</th>\n",
       "      <td>2015-10</td>\n",
       "      <td>1740.0</td>\n",
       "      <td>1570</td>\n",
       "      <td>105</td>\n",
       "      <td>132</td>\n",
       "      <td>92.413793</td>\n",
       "      <td>93.965517</td>\n",
       "    </tr>\n",
       "    <tr>\n",
       "      <th>25</th>\n",
       "      <td>2015-11</td>\n",
       "      <td>1411.0</td>\n",
       "      <td>1559</td>\n",
       "      <td>65</td>\n",
       "      <td>85</td>\n",
       "      <td>93.975904</td>\n",
       "      <td>95.393338</td>\n",
       "    </tr>\n",
       "    <tr>\n",
       "      <th>26</th>\n",
       "      <td>2015-12</td>\n",
       "      <td>1128.0</td>\n",
       "      <td>1332</td>\n",
       "      <td>57</td>\n",
       "      <td>63</td>\n",
       "      <td>94.414894</td>\n",
       "      <td>94.946809</td>\n",
       "    </tr>\n",
       "    <tr>\n",
       "      <th>27</th>\n",
       "      <td>2016-01</td>\n",
       "      <td>1216.0</td>\n",
       "      <td>1304</td>\n",
       "      <td>65</td>\n",
       "      <td>75</td>\n",
       "      <td>93.832237</td>\n",
       "      <td>94.654605</td>\n",
       "    </tr>\n",
       "    <tr>\n",
       "      <th>28</th>\n",
       "      <td>2016-02</td>\n",
       "      <td>1194.0</td>\n",
       "      <td>1146</td>\n",
       "      <td>74</td>\n",
       "      <td>94</td>\n",
       "      <td>92.127303</td>\n",
       "      <td>93.802345</td>\n",
       "    </tr>\n",
       "    <tr>\n",
       "      <th>29</th>\n",
       "      <td>2016-03</td>\n",
       "      <td>1419.0</td>\n",
       "      <td>1419</td>\n",
       "      <td>208</td>\n",
       "      <td>252</td>\n",
       "      <td>82.241015</td>\n",
       "      <td>85.341790</td>\n",
       "    </tr>\n",
       "    <tr>\n",
       "      <th>30</th>\n",
       "      <td>2016-04</td>\n",
       "      <td>1560.0</td>\n",
       "      <td>1351</td>\n",
       "      <td>91</td>\n",
       "      <td>114</td>\n",
       "      <td>92.692308</td>\n",
       "      <td>94.166667</td>\n",
       "    </tr>\n",
       "    <tr>\n",
       "      <th>31</th>\n",
       "      <td>2016-05</td>\n",
       "      <td>2036.0</td>\n",
       "      <td>1692</td>\n",
       "      <td>141</td>\n",
       "      <td>173</td>\n",
       "      <td>91.502947</td>\n",
       "      <td>93.074656</td>\n",
       "    </tr>\n",
       "    <tr>\n",
       "      <th>32</th>\n",
       "      <td>2016-06</td>\n",
       "      <td>1634.0</td>\n",
       "      <td>1631</td>\n",
       "      <td>110</td>\n",
       "      <td>130</td>\n",
       "      <td>92.044064</td>\n",
       "      <td>93.268054</td>\n",
       "    </tr>\n",
       "    <tr>\n",
       "      <th>33</th>\n",
       "      <td>2016-07</td>\n",
       "      <td>1409.0</td>\n",
       "      <td>1679</td>\n",
       "      <td>70</td>\n",
       "      <td>92</td>\n",
       "      <td>93.470546</td>\n",
       "      <td>95.031938</td>\n",
       "    </tr>\n",
       "    <tr>\n",
       "      <th>34</th>\n",
       "      <td>2016-08</td>\n",
       "      <td>1653.0</td>\n",
       "      <td>1535</td>\n",
       "      <td>90</td>\n",
       "      <td>106</td>\n",
       "      <td>93.587417</td>\n",
       "      <td>94.555354</td>\n",
       "    </tr>\n",
       "    <tr>\n",
       "      <th>35</th>\n",
       "      <td>2016-09</td>\n",
       "      <td>1538.0</td>\n",
       "      <td>1658</td>\n",
       "      <td>85</td>\n",
       "      <td>117</td>\n",
       "      <td>92.392718</td>\n",
       "      <td>94.473342</td>\n",
       "    </tr>\n",
       "    <tr>\n",
       "      <th>36</th>\n",
       "      <td>2016-10</td>\n",
       "      <td>1387.0</td>\n",
       "      <td>1410</td>\n",
       "      <td>94</td>\n",
       "      <td>118</td>\n",
       "      <td>91.492430</td>\n",
       "      <td>93.222783</td>\n",
       "    </tr>\n",
       "    <tr>\n",
       "      <th>37</th>\n",
       "      <td>2016-11</td>\n",
       "      <td>1337.0</td>\n",
       "      <td>1447</td>\n",
       "      <td>79</td>\n",
       "      <td>92</td>\n",
       "      <td>93.118923</td>\n",
       "      <td>94.091249</td>\n",
       "    </tr>\n",
       "    <tr>\n",
       "      <th>38</th>\n",
       "      <td>2016-12</td>\n",
       "      <td>1290.0</td>\n",
       "      <td>1390</td>\n",
       "      <td>54</td>\n",
       "      <td>71</td>\n",
       "      <td>94.496124</td>\n",
       "      <td>95.813953</td>\n",
       "    </tr>\n",
       "    <tr>\n",
       "      <th>39</th>\n",
       "      <td>2017-01</td>\n",
       "      <td>1216.0</td>\n",
       "      <td>1359</td>\n",
       "      <td>59</td>\n",
       "      <td>85</td>\n",
       "      <td>93.009868</td>\n",
       "      <td>95.148026</td>\n",
       "    </tr>\n",
       "    <tr>\n",
       "      <th>40</th>\n",
       "      <td>2017-02</td>\n",
       "      <td>1202.0</td>\n",
       "      <td>1285</td>\n",
       "      <td>75</td>\n",
       "      <td>85</td>\n",
       "      <td>92.928453</td>\n",
       "      <td>93.760399</td>\n",
       "    </tr>\n",
       "    <tr>\n",
       "      <th>41</th>\n",
       "      <td>2017-03</td>\n",
       "      <td>1360.0</td>\n",
       "      <td>1330</td>\n",
       "      <td>158</td>\n",
       "      <td>188</td>\n",
       "      <td>86.176471</td>\n",
       "      <td>88.382353</td>\n",
       "    </tr>\n",
       "    <tr>\n",
       "      <th>42</th>\n",
       "      <td>2017-04</td>\n",
       "      <td>1481.0</td>\n",
       "      <td>1319</td>\n",
       "      <td>100</td>\n",
       "      <td>110</td>\n",
       "      <td>92.572586</td>\n",
       "      <td>93.247806</td>\n",
       "    </tr>\n",
       "    <tr>\n",
       "      <th>43</th>\n",
       "      <td>2017-05</td>\n",
       "      <td>1889.0</td>\n",
       "      <td>1631</td>\n",
       "      <td>86</td>\n",
       "      <td>107</td>\n",
       "      <td>94.335627</td>\n",
       "      <td>95.447327</td>\n",
       "    </tr>\n",
       "    <tr>\n",
       "      <th>44</th>\n",
       "      <td>2017-06</td>\n",
       "      <td>1854.0</td>\n",
       "      <td>1647</td>\n",
       "      <td>126</td>\n",
       "      <td>168</td>\n",
       "      <td>90.938511</td>\n",
       "      <td>93.203883</td>\n",
       "    </tr>\n",
       "    <tr>\n",
       "      <th>45</th>\n",
       "      <td>2017-07</td>\n",
       "      <td>1618.0</td>\n",
       "      <td>1773</td>\n",
       "      <td>100</td>\n",
       "      <td>129</td>\n",
       "      <td>92.027194</td>\n",
       "      <td>93.819530</td>\n",
       "    </tr>\n",
       "    <tr>\n",
       "      <th>46</th>\n",
       "      <td>2017-08</td>\n",
       "      <td>1492.0</td>\n",
       "      <td>1710</td>\n",
       "      <td>105</td>\n",
       "      <td>120</td>\n",
       "      <td>91.957105</td>\n",
       "      <td>92.962466</td>\n",
       "    </tr>\n",
       "    <tr>\n",
       "      <th>47</th>\n",
       "      <td>2017-09</td>\n",
       "      <td>1679.0</td>\n",
       "      <td>1505</td>\n",
       "      <td>77</td>\n",
       "      <td>102</td>\n",
       "      <td>93.924955</td>\n",
       "      <td>95.413937</td>\n",
       "    </tr>\n",
       "    <tr>\n",
       "      <th>48</th>\n",
       "      <td>2017-10</td>\n",
       "      <td>1428.0</td>\n",
       "      <td>1635</td>\n",
       "      <td>106</td>\n",
       "      <td>122</td>\n",
       "      <td>91.456583</td>\n",
       "      <td>92.577031</td>\n",
       "    </tr>\n",
       "    <tr>\n",
       "      <th>49</th>\n",
       "      <td>2017-11</td>\n",
       "      <td>1185.0</td>\n",
       "      <td>1207</td>\n",
       "      <td>47</td>\n",
       "      <td>57</td>\n",
       "      <td>95.189873</td>\n",
       "      <td>96.033755</td>\n",
       "    </tr>\n",
       "  </tbody>\n",
       "</table>\n",
       "</div>"
      ],
      "text/plain": [
       "       time  total_intake  total_outcome  euthanasia_cases  total_died_cases  \\\n",
       "0   2013-10        1589.0           1126               147               162   \n",
       "1   2013-11        1323.0           1213               120               129   \n",
       "2   2013-12        1270.0           1431               163               171   \n",
       "3   2014-01        1271.0           1224               114               124   \n",
       "4   2014-02        1192.0           1115               144               155   \n",
       "5   2014-03        1484.0           1479               267               298   \n",
       "6   2014-04        1535.0           1399               147               163   \n",
       "7   2014-05        1957.0           1625               156               178   \n",
       "8   2014-06        1793.0           1751               167               184   \n",
       "9   2014-07        1888.0           2070               165               194   \n",
       "10  2014-08        1645.0           1847               141               190   \n",
       "11  2014-09        1698.0           1656               134               163   \n",
       "12  2014-10        1530.0           1519               158               163   \n",
       "13  2014-11        1372.0           1420               135               143   \n",
       "14  2014-12        1289.0           1454               116               125   \n",
       "15  2015-01        1197.0           1198                81                85   \n",
       "16  2015-02        1118.0           1121               104               107   \n",
       "17  2015-03        1345.0           1241               176               201   \n",
       "18  2015-04        1543.0           1379               162               168   \n",
       "19  2015-05        2094.0           1877               199               215   \n",
       "20  2015-06        2189.0           1975               174               211   \n",
       "21  2015-07        1635.0           1897               131               155   \n",
       "22  2015-08        1718.0           1735               111               145   \n",
       "23  2015-09        1591.0           1601                96               117   \n",
       "24  2015-10        1740.0           1570               105               132   \n",
       "25  2015-11        1411.0           1559                65                85   \n",
       "26  2015-12        1128.0           1332                57                63   \n",
       "27  2016-01        1216.0           1304                65                75   \n",
       "28  2016-02        1194.0           1146                74                94   \n",
       "29  2016-03        1419.0           1419               208               252   \n",
       "30  2016-04        1560.0           1351                91               114   \n",
       "31  2016-05        2036.0           1692               141               173   \n",
       "32  2016-06        1634.0           1631               110               130   \n",
       "33  2016-07        1409.0           1679                70                92   \n",
       "34  2016-08        1653.0           1535                90               106   \n",
       "35  2016-09        1538.0           1658                85               117   \n",
       "36  2016-10        1387.0           1410                94               118   \n",
       "37  2016-11        1337.0           1447                79                92   \n",
       "38  2016-12        1290.0           1390                54                71   \n",
       "39  2017-01        1216.0           1359                59                85   \n",
       "40  2017-02        1202.0           1285                75                85   \n",
       "41  2017-03        1360.0           1330               158               188   \n",
       "42  2017-04        1481.0           1319               100               110   \n",
       "43  2017-05        1889.0           1631                86               107   \n",
       "44  2017-06        1854.0           1647               126               168   \n",
       "45  2017-07        1618.0           1773               100               129   \n",
       "46  2017-08        1492.0           1710               105               120   \n",
       "47  2017-09        1679.0           1505                77               102   \n",
       "48  2017-10        1428.0           1635               106               122   \n",
       "49  2017-11        1185.0           1207                47                57   \n",
       "\n",
       "    save_rate(total died)  save_rate(euthanasia)  \n",
       "0               89.804909              90.748899  \n",
       "1               90.249433              90.929705  \n",
       "2               86.535433              87.165354  \n",
       "3               90.243902              91.030685  \n",
       "4               86.996644              87.919463  \n",
       "5               79.919137              82.008086  \n",
       "6               89.381107              90.423453  \n",
       "7               90.904446              92.028615  \n",
       "8               89.737869              90.686001  \n",
       "9               89.724576              91.260593  \n",
       "10              88.449848              91.428571  \n",
       "11              90.400471              92.108363  \n",
       "12              89.346405              89.673203  \n",
       "13              89.577259              90.160350  \n",
       "14              90.302560              91.000776  \n",
       "15              92.898914              93.233083  \n",
       "16              90.429338              90.697674  \n",
       "17              85.055762              86.914498  \n",
       "18              89.112119              89.500972  \n",
       "19              89.732569              90.496657  \n",
       "20              90.360895              92.051165  \n",
       "21              90.519878              91.987768  \n",
       "22              91.559953              93.538999  \n",
       "23              92.646135              93.966059  \n",
       "24              92.413793              93.965517  \n",
       "25              93.975904              95.393338  \n",
       "26              94.414894              94.946809  \n",
       "27              93.832237              94.654605  \n",
       "28              92.127303              93.802345  \n",
       "29              82.241015              85.341790  \n",
       "30              92.692308              94.166667  \n",
       "31              91.502947              93.074656  \n",
       "32              92.044064              93.268054  \n",
       "33              93.470546              95.031938  \n",
       "34              93.587417              94.555354  \n",
       "35              92.392718              94.473342  \n",
       "36              91.492430              93.222783  \n",
       "37              93.118923              94.091249  \n",
       "38              94.496124              95.813953  \n",
       "39              93.009868              95.148026  \n",
       "40              92.928453              93.760399  \n",
       "41              86.176471              88.382353  \n",
       "42              92.572586              93.247806  \n",
       "43              94.335627              95.447327  \n",
       "44              90.938511              93.203883  \n",
       "45              92.027194              93.819530  \n",
       "46              91.957105              92.962466  \n",
       "47              93.924955              95.413937  \n",
       "48              91.456583              92.577031  \n",
       "49              95.189873              96.033755  "
      ]
     },
     "execution_count": 7,
     "metadata": {},
     "output_type": "execute_result"
    }
   ],
   "source": [
    "no_kill_by_ym = no_kill_rate(no_kill_research, \"intake_y_m\", \"outcome_y_m\")\n",
    "no_kill_by_ym.head(50)"
   ]
  },
  {
   "cell_type": "code",
   "execution_count": 8,
   "metadata": {},
   "outputs": [
    {
     "data": {
      "application/vnd.plotly.v1+json": {
       "config": {
        "plotlyServerURL": "https://plot.ly"
       },
       "data": [
        {
         "hovertemplate": "variable=save_rate(total died)<br>time=%{x}<br>value=%{y}<extra></extra>",
         "legendgroup": "save_rate(total died)",
         "line": {
          "color": "#636efa",
          "dash": "solid"
         },
         "marker": {
          "symbol": "circle"
         },
         "mode": "lines",
         "name": "save_rate(total died)",
         "orientation": "v",
         "showlegend": true,
         "type": "scatter",
         "x": [
          "2013-10",
          "2013-11",
          "2013-12",
          "2014-01",
          "2014-02",
          "2014-03",
          "2014-04",
          "2014-05",
          "2014-06",
          "2014-07",
          "2014-08",
          "2014-09",
          "2014-10",
          "2014-11",
          "2014-12",
          "2015-01",
          "2015-02",
          "2015-03",
          "2015-04",
          "2015-05",
          "2015-06",
          "2015-07",
          "2015-08",
          "2015-09",
          "2015-10",
          "2015-11",
          "2015-12",
          "2016-01",
          "2016-02",
          "2016-03",
          "2016-04",
          "2016-05",
          "2016-06",
          "2016-07",
          "2016-08",
          "2016-09",
          "2016-10",
          "2016-11",
          "2016-12",
          "2017-01",
          "2017-02",
          "2017-03",
          "2017-04",
          "2017-05",
          "2017-06",
          "2017-07",
          "2017-08",
          "2017-09",
          "2017-10",
          "2017-11",
          "2017-12",
          "2018-01",
          "2018-02",
          "2018-03",
          "2018-04",
          "2018-05",
          "2018-06",
          "2018-07",
          "2018-08",
          "2018-09",
          "2018-10",
          "2018-11",
          "2018-12",
          "2019-01",
          "2019-02",
          "2019-03",
          "2019-04",
          "2019-05",
          "2019-06",
          "2019-07",
          "2019-08",
          "2019-09",
          "2019-10",
          "2019-11",
          "2019-12",
          "2020-01",
          "2020-02",
          "2020-03",
          "2020-04",
          "2020-05",
          "2020-06",
          "2020-07",
          "2020-08",
          "2020-09",
          "2020-10",
          "2020-11",
          "2020-12",
          "2021-01",
          "2021-02",
          "2021-03",
          "2021-04",
          "2021-05",
          "2021-06",
          "2021-07",
          "2021-08",
          "2021-09",
          "2021-10",
          "2021-11",
          "2021-12",
          "2022-01",
          "2022-02",
          "2022-03",
          "2022-04",
          "2022-05",
          "2022-06",
          "2022-07",
          "2022-08",
          "2022-09",
          "2022-10",
          "2022-11",
          "2022-12",
          "2023-01",
          "2023-02",
          "2023-03",
          "2023-04",
          "2023-05",
          "2023-06",
          "2023-07",
          "2023-08",
          "2023-09",
          "2023-10",
          "2023-11",
          "2023-12"
         ],
         "xaxis": "x",
         "y": [
          89.80490874764003,
          90.24943310657596,
          86.53543307086615,
          90.2439024390244,
          86.99664429530202,
          79.91913746630728,
          89.38110749185668,
          90.90444557996933,
          89.73786949247072,
          89.72457627118644,
          88.44984802431611,
          90.40047114252062,
          89.34640522875817,
          89.57725947521867,
          90.30256012412723,
          92.89891395154552,
          90.4293381037567,
          85.05576208178438,
          89.11211924821775,
          89.73256924546322,
          90.36089538602101,
          90.51987767584097,
          91.55995343422585,
          92.64613450659962,
          92.41379310344827,
          93.97590361445783,
          94.41489361702128,
          93.83223684210526,
          92.12730318257957,
          82.24101479915433,
          92.6923076923077,
          91.50294695481335,
          92.04406364749083,
          93.47054648687012,
          93.58741681790683,
          92.39271781534461,
          91.49242970439798,
          93.1189229618549,
          94.49612403100775,
          93.00986842105263,
          92.92845257903494,
          86.1764705882353,
          92.5725860904794,
          94.33562731604025,
          90.93851132686083,
          92.02719406674908,
          91.95710455764075,
          93.9249553305539,
          91.45658263305322,
          95.18987341772151,
          95.32467532467533,
          94.47907390917186,
          93.39080459770115,
          87.83987915407855,
          91.4265129682997,
          93.69266055045871,
          94.48315911730546,
          95.01800720288115,
          94.9964260185847,
          94.62962962962963,
          94.27844882390337,
          95.71544058205336,
          96.74008810572687,
          97.01612903225806,
          94.07603890362512,
          91.01198402130493,
          93.09068476249229,
          95.91932457786116,
          91.46873485215706,
          93.55812783090084,
          94.84815618221259,
          96.04121475054231,
          94.26751592356688,
          95.26462395543176,
          95.82985821517931,
          95.63786008230453,
          92.75109170305676,
          83.69195922989807,
          80.12820512820514,
          87.78467908902692,
          89.74056603773585,
          90.25641025641026,
          89.76470588235294,
          93.34862385321101,
          92.44851258581235,
          87.86982248520711,
          94.5904173106646,
          92.9453262786596,
          92.24806201550388,
          85.67530695770806,
          90.26845637583892,
          93.58490566037736,
          92.62917933130699,
          93.47181008902076,
          95.23431294678316,
          94.85477178423236,
          94.8535233570863,
          95.86614173228347,
          95.46370967741935,
          94.07327586206897,
          92.5311203319502,
          90.84821428571429,
          93.15838800374883,
          94.19354838709677,
          93.09791332263242,
          91.85483870967742,
          95.45064377682404,
          92.56308100929614,
          94.41860465116278,
          95.3405017921147,
          94.62227912932138,
          94.87179487179486,
          95.42203147353362,
          87.374749498998,
          93.32096474953617,
          95.4909090909091,
          90.82397003745318,
          94.17249417249417,
          94.19689119170984,
          95.03775620280474,
          95.3125,
          92.65091863517061,
          96.42857142857143
         ],
         "yaxis": "y"
        },
        {
         "hovertemplate": "variable=save_rate(euthanasia)<br>time=%{x}<br>value=%{y}<extra></extra>",
         "legendgroup": "save_rate(euthanasia)",
         "line": {
          "color": "#EF553B",
          "dash": "solid"
         },
         "marker": {
          "symbol": "circle"
         },
         "mode": "lines",
         "name": "save_rate(euthanasia)",
         "orientation": "v",
         "showlegend": true,
         "type": "scatter",
         "x": [
          "2013-10",
          "2013-11",
          "2013-12",
          "2014-01",
          "2014-02",
          "2014-03",
          "2014-04",
          "2014-05",
          "2014-06",
          "2014-07",
          "2014-08",
          "2014-09",
          "2014-10",
          "2014-11",
          "2014-12",
          "2015-01",
          "2015-02",
          "2015-03",
          "2015-04",
          "2015-05",
          "2015-06",
          "2015-07",
          "2015-08",
          "2015-09",
          "2015-10",
          "2015-11",
          "2015-12",
          "2016-01",
          "2016-02",
          "2016-03",
          "2016-04",
          "2016-05",
          "2016-06",
          "2016-07",
          "2016-08",
          "2016-09",
          "2016-10",
          "2016-11",
          "2016-12",
          "2017-01",
          "2017-02",
          "2017-03",
          "2017-04",
          "2017-05",
          "2017-06",
          "2017-07",
          "2017-08",
          "2017-09",
          "2017-10",
          "2017-11",
          "2017-12",
          "2018-01",
          "2018-02",
          "2018-03",
          "2018-04",
          "2018-05",
          "2018-06",
          "2018-07",
          "2018-08",
          "2018-09",
          "2018-10",
          "2018-11",
          "2018-12",
          "2019-01",
          "2019-02",
          "2019-03",
          "2019-04",
          "2019-05",
          "2019-06",
          "2019-07",
          "2019-08",
          "2019-09",
          "2019-10",
          "2019-11",
          "2019-12",
          "2020-01",
          "2020-02",
          "2020-03",
          "2020-04",
          "2020-05",
          "2020-06",
          "2020-07",
          "2020-08",
          "2020-09",
          "2020-10",
          "2020-11",
          "2020-12",
          "2021-01",
          "2021-02",
          "2021-03",
          "2021-04",
          "2021-05",
          "2021-06",
          "2021-07",
          "2021-08",
          "2021-09",
          "2021-10",
          "2021-11",
          "2021-12",
          "2022-01",
          "2022-02",
          "2022-03",
          "2022-04",
          "2022-05",
          "2022-06",
          "2022-07",
          "2022-08",
          "2022-09",
          "2022-10",
          "2022-11",
          "2022-12",
          "2023-01",
          "2023-02",
          "2023-03",
          "2023-04",
          "2023-05",
          "2023-06",
          "2023-07",
          "2023-08",
          "2023-09",
          "2023-10",
          "2023-11",
          "2023-12"
         ],
         "xaxis": "x",
         "y": [
          90.7488986784141,
          90.9297052154195,
          87.16535433070867,
          91.03068450039339,
          87.91946308724832,
          82.00808625336927,
          90.42345276872965,
          92.02861522738885,
          90.68600111544896,
          91.26059322033898,
          91.42857142857143,
          92.10836277974087,
          89.6732026143791,
          90.1603498542274,
          91.00077579519007,
          93.23308270676691,
          90.69767441860466,
          86.91449814126393,
          89.50097213220998,
          90.4966571155683,
          92.05116491548652,
          91.98776758409785,
          93.53899883585565,
          93.96605908233815,
          93.96551724137932,
          95.39333805811481,
          94.9468085106383,
          94.6546052631579,
          93.80234505862647,
          85.34178999295278,
          94.16666666666667,
          93.0746561886051,
          93.26805385556915,
          95.0319375443577,
          94.55535390199637,
          94.47334200260077,
          93.2227829848594,
          94.09124906507105,
          95.81395348837209,
          95.14802631578947,
          93.7603993344426,
          88.38235294117646,
          93.24780553679946,
          95.44732662784541,
          93.20388349514563,
          93.8195302843016,
          92.96246648793566,
          95.41393686718284,
          92.57703081232494,
          96.0337552742616,
          96.19047619047619,
          95.10240427426537,
          94.06130268199233,
          89.42598187311178,
          92.93948126801152,
          95.12614678899082,
          96.34146341463415,
          96.63865546218487,
          96.56897784131523,
          95.74074074074073,
          95.8041958041958,
          96.928051738076,
          97.53303964757708,
          97.8225806451613,
          95.1370468611848,
          92.80958721704394,
          94.50956199876619,
          97.27954971857412,
          94.52253999030538,
          95.97382989431303,
          97.07158351409979,
          97.12581344902385,
          96.23624782860452,
          96.10027855153204,
          97.4979149291076,
          96.70781893004116,
          94.32314410480349,
          87.42921857304643,
          82.37179487179486,
          91.30434782608697,
          91.98113207547169,
          92.43589743589745,
          92.11764705882352,
          94.38073394495413,
          94.05034324942791,
          90.68047337278107,
          95.82689335394127,
          94.70899470899471,
          93.28165374677002,
          87.03956343792633,
          91.49888143176734,
          96.0377358490566,
          94.68085106382979,
          95.32640949554896,
          97.06115965051629,
          95.93360995850622,
          96.27870150435471,
          96.9488188976378,
          96.875,
          95.04310344827587,
          93.3609958506224,
          92.07589285714286,
          94.09559512652295,
          95.3405017921147,
          94.0609951845907,
          94.6774193548387,
          96.39484978540771,
          94.55511288180611,
          96.27906976744185,
          96.415770609319,
          96.28681177976952,
          95.57109557109558,
          96.28040057224607,
          90.6813627254509,
          95.54730983302412,
          97.16363636363636,
          92.79026217228464,
          96.5034965034965,
          96.78756476683937,
          96.44012944983818,
          96.35416666666666,
          95.2755905511811,
          97.61904761904762
         ],
         "yaxis": "y"
        }
       ],
       "layout": {
        "legend": {
         "title": {
          "text": "variable"
         },
         "tracegroupgap": 0
        },
        "margin": {
         "t": 60
        },
        "template": {
         "data": {
          "bar": [
           {
            "error_x": {
             "color": "#2a3f5f"
            },
            "error_y": {
             "color": "#2a3f5f"
            },
            "marker": {
             "line": {
              "color": "#E5ECF6",
              "width": 0.5
             },
             "pattern": {
              "fillmode": "overlay",
              "size": 10,
              "solidity": 0.2
             }
            },
            "type": "bar"
           }
          ],
          "barpolar": [
           {
            "marker": {
             "line": {
              "color": "#E5ECF6",
              "width": 0.5
             },
             "pattern": {
              "fillmode": "overlay",
              "size": 10,
              "solidity": 0.2
             }
            },
            "type": "barpolar"
           }
          ],
          "carpet": [
           {
            "aaxis": {
             "endlinecolor": "#2a3f5f",
             "gridcolor": "white",
             "linecolor": "white",
             "minorgridcolor": "white",
             "startlinecolor": "#2a3f5f"
            },
            "baxis": {
             "endlinecolor": "#2a3f5f",
             "gridcolor": "white",
             "linecolor": "white",
             "minorgridcolor": "white",
             "startlinecolor": "#2a3f5f"
            },
            "type": "carpet"
           }
          ],
          "choropleth": [
           {
            "colorbar": {
             "outlinewidth": 0,
             "ticks": ""
            },
            "type": "choropleth"
           }
          ],
          "contour": [
           {
            "colorbar": {
             "outlinewidth": 0,
             "ticks": ""
            },
            "colorscale": [
             [
              0,
              "#0d0887"
             ],
             [
              0.1111111111111111,
              "#46039f"
             ],
             [
              0.2222222222222222,
              "#7201a8"
             ],
             [
              0.3333333333333333,
              "#9c179e"
             ],
             [
              0.4444444444444444,
              "#bd3786"
             ],
             [
              0.5555555555555556,
              "#d8576b"
             ],
             [
              0.6666666666666666,
              "#ed7953"
             ],
             [
              0.7777777777777778,
              "#fb9f3a"
             ],
             [
              0.8888888888888888,
              "#fdca26"
             ],
             [
              1,
              "#f0f921"
             ]
            ],
            "type": "contour"
           }
          ],
          "contourcarpet": [
           {
            "colorbar": {
             "outlinewidth": 0,
             "ticks": ""
            },
            "type": "contourcarpet"
           }
          ],
          "heatmap": [
           {
            "colorbar": {
             "outlinewidth": 0,
             "ticks": ""
            },
            "colorscale": [
             [
              0,
              "#0d0887"
             ],
             [
              0.1111111111111111,
              "#46039f"
             ],
             [
              0.2222222222222222,
              "#7201a8"
             ],
             [
              0.3333333333333333,
              "#9c179e"
             ],
             [
              0.4444444444444444,
              "#bd3786"
             ],
             [
              0.5555555555555556,
              "#d8576b"
             ],
             [
              0.6666666666666666,
              "#ed7953"
             ],
             [
              0.7777777777777778,
              "#fb9f3a"
             ],
             [
              0.8888888888888888,
              "#fdca26"
             ],
             [
              1,
              "#f0f921"
             ]
            ],
            "type": "heatmap"
           }
          ],
          "heatmapgl": [
           {
            "colorbar": {
             "outlinewidth": 0,
             "ticks": ""
            },
            "colorscale": [
             [
              0,
              "#0d0887"
             ],
             [
              0.1111111111111111,
              "#46039f"
             ],
             [
              0.2222222222222222,
              "#7201a8"
             ],
             [
              0.3333333333333333,
              "#9c179e"
             ],
             [
              0.4444444444444444,
              "#bd3786"
             ],
             [
              0.5555555555555556,
              "#d8576b"
             ],
             [
              0.6666666666666666,
              "#ed7953"
             ],
             [
              0.7777777777777778,
              "#fb9f3a"
             ],
             [
              0.8888888888888888,
              "#fdca26"
             ],
             [
              1,
              "#f0f921"
             ]
            ],
            "type": "heatmapgl"
           }
          ],
          "histogram": [
           {
            "marker": {
             "pattern": {
              "fillmode": "overlay",
              "size": 10,
              "solidity": 0.2
             }
            },
            "type": "histogram"
           }
          ],
          "histogram2d": [
           {
            "colorbar": {
             "outlinewidth": 0,
             "ticks": ""
            },
            "colorscale": [
             [
              0,
              "#0d0887"
             ],
             [
              0.1111111111111111,
              "#46039f"
             ],
             [
              0.2222222222222222,
              "#7201a8"
             ],
             [
              0.3333333333333333,
              "#9c179e"
             ],
             [
              0.4444444444444444,
              "#bd3786"
             ],
             [
              0.5555555555555556,
              "#d8576b"
             ],
             [
              0.6666666666666666,
              "#ed7953"
             ],
             [
              0.7777777777777778,
              "#fb9f3a"
             ],
             [
              0.8888888888888888,
              "#fdca26"
             ],
             [
              1,
              "#f0f921"
             ]
            ],
            "type": "histogram2d"
           }
          ],
          "histogram2dcontour": [
           {
            "colorbar": {
             "outlinewidth": 0,
             "ticks": ""
            },
            "colorscale": [
             [
              0,
              "#0d0887"
             ],
             [
              0.1111111111111111,
              "#46039f"
             ],
             [
              0.2222222222222222,
              "#7201a8"
             ],
             [
              0.3333333333333333,
              "#9c179e"
             ],
             [
              0.4444444444444444,
              "#bd3786"
             ],
             [
              0.5555555555555556,
              "#d8576b"
             ],
             [
              0.6666666666666666,
              "#ed7953"
             ],
             [
              0.7777777777777778,
              "#fb9f3a"
             ],
             [
              0.8888888888888888,
              "#fdca26"
             ],
             [
              1,
              "#f0f921"
             ]
            ],
            "type": "histogram2dcontour"
           }
          ],
          "mesh3d": [
           {
            "colorbar": {
             "outlinewidth": 0,
             "ticks": ""
            },
            "type": "mesh3d"
           }
          ],
          "parcoords": [
           {
            "line": {
             "colorbar": {
              "outlinewidth": 0,
              "ticks": ""
             }
            },
            "type": "parcoords"
           }
          ],
          "pie": [
           {
            "automargin": true,
            "type": "pie"
           }
          ],
          "scatter": [
           {
            "marker": {
             "colorbar": {
              "outlinewidth": 0,
              "ticks": ""
             }
            },
            "type": "scatter"
           }
          ],
          "scatter3d": [
           {
            "line": {
             "colorbar": {
              "outlinewidth": 0,
              "ticks": ""
             }
            },
            "marker": {
             "colorbar": {
              "outlinewidth": 0,
              "ticks": ""
             }
            },
            "type": "scatter3d"
           }
          ],
          "scattercarpet": [
           {
            "marker": {
             "colorbar": {
              "outlinewidth": 0,
              "ticks": ""
             }
            },
            "type": "scattercarpet"
           }
          ],
          "scattergeo": [
           {
            "marker": {
             "colorbar": {
              "outlinewidth": 0,
              "ticks": ""
             }
            },
            "type": "scattergeo"
           }
          ],
          "scattergl": [
           {
            "marker": {
             "colorbar": {
              "outlinewidth": 0,
              "ticks": ""
             }
            },
            "type": "scattergl"
           }
          ],
          "scattermapbox": [
           {
            "marker": {
             "colorbar": {
              "outlinewidth": 0,
              "ticks": ""
             }
            },
            "type": "scattermapbox"
           }
          ],
          "scatterpolar": [
           {
            "marker": {
             "colorbar": {
              "outlinewidth": 0,
              "ticks": ""
             }
            },
            "type": "scatterpolar"
           }
          ],
          "scatterpolargl": [
           {
            "marker": {
             "colorbar": {
              "outlinewidth": 0,
              "ticks": ""
             }
            },
            "type": "scatterpolargl"
           }
          ],
          "scatterternary": [
           {
            "marker": {
             "colorbar": {
              "outlinewidth": 0,
              "ticks": ""
             }
            },
            "type": "scatterternary"
           }
          ],
          "surface": [
           {
            "colorbar": {
             "outlinewidth": 0,
             "ticks": ""
            },
            "colorscale": [
             [
              0,
              "#0d0887"
             ],
             [
              0.1111111111111111,
              "#46039f"
             ],
             [
              0.2222222222222222,
              "#7201a8"
             ],
             [
              0.3333333333333333,
              "#9c179e"
             ],
             [
              0.4444444444444444,
              "#bd3786"
             ],
             [
              0.5555555555555556,
              "#d8576b"
             ],
             [
              0.6666666666666666,
              "#ed7953"
             ],
             [
              0.7777777777777778,
              "#fb9f3a"
             ],
             [
              0.8888888888888888,
              "#fdca26"
             ],
             [
              1,
              "#f0f921"
             ]
            ],
            "type": "surface"
           }
          ],
          "table": [
           {
            "cells": {
             "fill": {
              "color": "#EBF0F8"
             },
             "line": {
              "color": "white"
             }
            },
            "header": {
             "fill": {
              "color": "#C8D4E3"
             },
             "line": {
              "color": "white"
             }
            },
            "type": "table"
           }
          ]
         },
         "layout": {
          "annotationdefaults": {
           "arrowcolor": "#2a3f5f",
           "arrowhead": 0,
           "arrowwidth": 1
          },
          "autotypenumbers": "strict",
          "coloraxis": {
           "colorbar": {
            "outlinewidth": 0,
            "ticks": ""
           }
          },
          "colorscale": {
           "diverging": [
            [
             0,
             "#8e0152"
            ],
            [
             0.1,
             "#c51b7d"
            ],
            [
             0.2,
             "#de77ae"
            ],
            [
             0.3,
             "#f1b6da"
            ],
            [
             0.4,
             "#fde0ef"
            ],
            [
             0.5,
             "#f7f7f7"
            ],
            [
             0.6,
             "#e6f5d0"
            ],
            [
             0.7,
             "#b8e186"
            ],
            [
             0.8,
             "#7fbc41"
            ],
            [
             0.9,
             "#4d9221"
            ],
            [
             1,
             "#276419"
            ]
           ],
           "sequential": [
            [
             0,
             "#0d0887"
            ],
            [
             0.1111111111111111,
             "#46039f"
            ],
            [
             0.2222222222222222,
             "#7201a8"
            ],
            [
             0.3333333333333333,
             "#9c179e"
            ],
            [
             0.4444444444444444,
             "#bd3786"
            ],
            [
             0.5555555555555556,
             "#d8576b"
            ],
            [
             0.6666666666666666,
             "#ed7953"
            ],
            [
             0.7777777777777778,
             "#fb9f3a"
            ],
            [
             0.8888888888888888,
             "#fdca26"
            ],
            [
             1,
             "#f0f921"
            ]
           ],
           "sequentialminus": [
            [
             0,
             "#0d0887"
            ],
            [
             0.1111111111111111,
             "#46039f"
            ],
            [
             0.2222222222222222,
             "#7201a8"
            ],
            [
             0.3333333333333333,
             "#9c179e"
            ],
            [
             0.4444444444444444,
             "#bd3786"
            ],
            [
             0.5555555555555556,
             "#d8576b"
            ],
            [
             0.6666666666666666,
             "#ed7953"
            ],
            [
             0.7777777777777778,
             "#fb9f3a"
            ],
            [
             0.8888888888888888,
             "#fdca26"
            ],
            [
             1,
             "#f0f921"
            ]
           ]
          },
          "colorway": [
           "#636efa",
           "#EF553B",
           "#00cc96",
           "#ab63fa",
           "#FFA15A",
           "#19d3f3",
           "#FF6692",
           "#B6E880",
           "#FF97FF",
           "#FECB52"
          ],
          "font": {
           "color": "#2a3f5f"
          },
          "geo": {
           "bgcolor": "white",
           "lakecolor": "white",
           "landcolor": "#E5ECF6",
           "showlakes": true,
           "showland": true,
           "subunitcolor": "white"
          },
          "hoverlabel": {
           "align": "left"
          },
          "hovermode": "closest",
          "mapbox": {
           "style": "light"
          },
          "paper_bgcolor": "white",
          "plot_bgcolor": "#E5ECF6",
          "polar": {
           "angularaxis": {
            "gridcolor": "white",
            "linecolor": "white",
            "ticks": ""
           },
           "bgcolor": "#E5ECF6",
           "radialaxis": {
            "gridcolor": "white",
            "linecolor": "white",
            "ticks": ""
           }
          },
          "scene": {
           "xaxis": {
            "backgroundcolor": "#E5ECF6",
            "gridcolor": "white",
            "gridwidth": 2,
            "linecolor": "white",
            "showbackground": true,
            "ticks": "",
            "zerolinecolor": "white"
           },
           "yaxis": {
            "backgroundcolor": "#E5ECF6",
            "gridcolor": "white",
            "gridwidth": 2,
            "linecolor": "white",
            "showbackground": true,
            "ticks": "",
            "zerolinecolor": "white"
           },
           "zaxis": {
            "backgroundcolor": "#E5ECF6",
            "gridcolor": "white",
            "gridwidth": 2,
            "linecolor": "white",
            "showbackground": true,
            "ticks": "",
            "zerolinecolor": "white"
           }
          },
          "shapedefaults": {
           "line": {
            "color": "#2a3f5f"
           }
          },
          "ternary": {
           "aaxis": {
            "gridcolor": "white",
            "linecolor": "white",
            "ticks": ""
           },
           "baxis": {
            "gridcolor": "white",
            "linecolor": "white",
            "ticks": ""
           },
           "bgcolor": "#E5ECF6",
           "caxis": {
            "gridcolor": "white",
            "linecolor": "white",
            "ticks": ""
           }
          },
          "title": {
           "x": 0.05
          },
          "xaxis": {
           "automargin": true,
           "gridcolor": "white",
           "linecolor": "white",
           "ticks": "",
           "title": {
            "standoff": 15
           },
           "zerolinecolor": "white",
           "zerolinewidth": 2
          },
          "yaxis": {
           "automargin": true,
           "gridcolor": "white",
           "linecolor": "white",
           "ticks": "",
           "title": {
            "standoff": 15
           },
           "zerolinecolor": "white",
           "zerolinewidth": 2
          }
         }
        },
        "xaxis": {
         "anchor": "y",
         "domain": [
          0,
          1
         ],
         "title": {
          "text": "time"
         }
        },
        "yaxis": {
         "anchor": "x",
         "domain": [
          0,
          1
         ],
         "title": {
          "text": "value"
         }
        }
       }
      }
     },
     "metadata": {},
     "output_type": "display_data"
    }
   ],
   "source": [
    "fig = px.line(no_kill_by_ym,\n",
    "              x=\"time\",\n",
    "              y=[\"save_rate(total died)\", \"save_rate(euthanasia)\"])\n",
    "fig.update_traces()\n",
    "fig.show()"
   ]
  },
  {
   "cell_type": "markdown",
   "metadata": {},
   "source": [
    "## **Group by year**"
   ]
  },
  {
   "cell_type": "code",
   "execution_count": 9,
   "metadata": {},
   "outputs": [
    {
     "data": {
      "text/html": [
       "<div>\n",
       "<style scoped>\n",
       "    .dataframe tbody tr th:only-of-type {\n",
       "        vertical-align: middle;\n",
       "    }\n",
       "\n",
       "    .dataframe tbody tr th {\n",
       "        vertical-align: top;\n",
       "    }\n",
       "\n",
       "    .dataframe thead th {\n",
       "        text-align: right;\n",
       "    }\n",
       "</style>\n",
       "<table border=\"1\" class=\"dataframe\">\n",
       "  <thead>\n",
       "    <tr style=\"text-align: right;\">\n",
       "      <th></th>\n",
       "      <th>time</th>\n",
       "      <th>total_intake</th>\n",
       "      <th>total_outcome</th>\n",
       "      <th>euthanasia_cases</th>\n",
       "      <th>total_died_cases</th>\n",
       "      <th>save_rate(total died)</th>\n",
       "      <th>save_rate(euthanasia)</th>\n",
       "    </tr>\n",
       "  </thead>\n",
       "  <tbody>\n",
       "    <tr>\n",
       "      <th>0</th>\n",
       "      <td>2013</td>\n",
       "      <td>4182.0</td>\n",
       "      <td>3770</td>\n",
       "      <td>430</td>\n",
       "      <td>462</td>\n",
       "      <td>88.952654</td>\n",
       "      <td>89.717838</td>\n",
       "    </tr>\n",
       "    <tr>\n",
       "      <th>1</th>\n",
       "      <td>2014</td>\n",
       "      <td>18654.0</td>\n",
       "      <td>18559</td>\n",
       "      <td>1844</td>\n",
       "      <td>2080</td>\n",
       "      <td>88.849576</td>\n",
       "      <td>90.114721</td>\n",
       "    </tr>\n",
       "    <tr>\n",
       "      <th>2</th>\n",
       "      <td>2015</td>\n",
       "      <td>18709.0</td>\n",
       "      <td>18485</td>\n",
       "      <td>1461</td>\n",
       "      <td>1684</td>\n",
       "      <td>90.998984</td>\n",
       "      <td>92.190924</td>\n",
       "    </tr>\n",
       "    <tr>\n",
       "      <th>3</th>\n",
       "      <td>2016</td>\n",
       "      <td>17673.0</td>\n",
       "      <td>17662</td>\n",
       "      <td>1161</td>\n",
       "      <td>1434</td>\n",
       "      <td>91.885928</td>\n",
       "      <td>93.430657</td>\n",
       "    </tr>\n",
       "    <tr>\n",
       "      <th>4</th>\n",
       "      <td>2017</td>\n",
       "      <td>17559.0</td>\n",
       "      <td>17643</td>\n",
       "      <td>1083</td>\n",
       "      <td>1327</td>\n",
       "      <td>92.442622</td>\n",
       "      <td>93.832223</td>\n",
       "    </tr>\n",
       "    <tr>\n",
       "      <th>5</th>\n",
       "      <td>2018</td>\n",
       "      <td>16975.0</td>\n",
       "      <td>16734</td>\n",
       "      <td>808</td>\n",
       "      <td>1036</td>\n",
       "      <td>93.896907</td>\n",
       "      <td>95.240059</td>\n",
       "    </tr>\n",
       "    <tr>\n",
       "      <th>6</th>\n",
       "      <td>2019</td>\n",
       "      <td>19726.0</td>\n",
       "      <td>19769</td>\n",
       "      <td>788</td>\n",
       "      <td>1127</td>\n",
       "      <td>94.286728</td>\n",
       "      <td>96.005272</td>\n",
       "    </tr>\n",
       "    <tr>\n",
       "      <th>7</th>\n",
       "      <td>2020</td>\n",
       "      <td>9585.0</td>\n",
       "      <td>9772</td>\n",
       "      <td>698</td>\n",
       "      <td>892</td>\n",
       "      <td>90.693792</td>\n",
       "      <td>92.717788</td>\n",
       "    </tr>\n",
       "    <tr>\n",
       "      <th>8</th>\n",
       "      <td>2021</td>\n",
       "      <td>12040.0</td>\n",
       "      <td>11962</td>\n",
       "      <td>597</td>\n",
       "      <td>789</td>\n",
       "      <td>93.446844</td>\n",
       "      <td>95.041528</td>\n",
       "    </tr>\n",
       "    <tr>\n",
       "      <th>9</th>\n",
       "      <td>2022</td>\n",
       "      <td>11891.0</td>\n",
       "      <td>11882</td>\n",
       "      <td>607</td>\n",
       "      <td>770</td>\n",
       "      <td>93.524514</td>\n",
       "      <td>94.895299</td>\n",
       "    </tr>\n",
       "    <tr>\n",
       "      <th>10</th>\n",
       "      <td>2023</td>\n",
       "      <td>10632.0</td>\n",
       "      <td>10395</td>\n",
       "      <td>488</td>\n",
       "      <td>690</td>\n",
       "      <td>93.510158</td>\n",
       "      <td>95.410083</td>\n",
       "    </tr>\n",
       "  </tbody>\n",
       "</table>\n",
       "</div>"
      ],
      "text/plain": [
       "    time  total_intake  total_outcome  euthanasia_cases  total_died_cases  \\\n",
       "0   2013        4182.0           3770               430               462   \n",
       "1   2014       18654.0          18559              1844              2080   \n",
       "2   2015       18709.0          18485              1461              1684   \n",
       "3   2016       17673.0          17662              1161              1434   \n",
       "4   2017       17559.0          17643              1083              1327   \n",
       "5   2018       16975.0          16734               808              1036   \n",
       "6   2019       19726.0          19769               788              1127   \n",
       "7   2020        9585.0           9772               698               892   \n",
       "8   2021       12040.0          11962               597               789   \n",
       "9   2022       11891.0          11882               607               770   \n",
       "10  2023       10632.0          10395               488               690   \n",
       "\n",
       "    save_rate(total died)  save_rate(euthanasia)  \n",
       "0               88.952654              89.717838  \n",
       "1               88.849576              90.114721  \n",
       "2               90.998984              92.190924  \n",
       "3               91.885928              93.430657  \n",
       "4               92.442622              93.832223  \n",
       "5               93.896907              95.240059  \n",
       "6               94.286728              96.005272  \n",
       "7               90.693792              92.717788  \n",
       "8               93.446844              95.041528  \n",
       "9               93.524514              94.895299  \n",
       "10              93.510158              95.410083  "
      ]
     },
     "execution_count": 9,
     "metadata": {},
     "output_type": "execute_result"
    }
   ],
   "source": [
    "no_kill_by_yr = no_kill_rate(no_kill_research, \"intake_yr\", \"outcome_yr\")\n",
    "no_kill_by_yr"
   ]
  },
  {
   "cell_type": "code",
   "execution_count": 10,
   "metadata": {},
   "outputs": [
    {
     "data": {
      "application/vnd.plotly.v1+json": {
       "config": {
        "plotlyServerURL": "https://plot.ly"
       },
       "data": [
        {
         "hovertemplate": "variable=save_rate(total died)<br>time=%{x}<br>value=%{y}<extra></extra>",
         "legendgroup": "save_rate(total died)",
         "line": {
          "color": "#636efa",
          "dash": "solid"
         },
         "marker": {
          "symbol": "circle"
         },
         "mode": "lines",
         "name": "save_rate(total died)",
         "orientation": "v",
         "showlegend": true,
         "type": "scatter",
         "x": [
          "2013",
          "2014",
          "2015",
          "2016",
          "2017",
          "2018",
          "2019",
          "2020",
          "2021",
          "2022",
          "2023"
         ],
         "xaxis": "x",
         "y": [
          88.95265423242468,
          88.84957649833815,
          90.99898444598857,
          91.88592768630114,
          92.44262201719916,
          93.89690721649484,
          94.28672817601137,
          90.69379238393323,
          93.4468438538206,
          93.52451433857539,
          93.51015801354401
         ],
         "yaxis": "y"
        },
        {
         "hovertemplate": "variable=save_rate(euthanasia)<br>time=%{x}<br>value=%{y}<extra></extra>",
         "legendgroup": "save_rate(euthanasia)",
         "line": {
          "color": "#EF553B",
          "dash": "solid"
         },
         "marker": {
          "symbol": "circle"
         },
         "mode": "lines",
         "name": "save_rate(euthanasia)",
         "orientation": "v",
         "showlegend": true,
         "type": "scatter",
         "x": [
          "2013",
          "2014",
          "2015",
          "2016",
          "2017",
          "2018",
          "2019",
          "2020",
          "2021",
          "2022",
          "2023"
         ],
         "xaxis": "x",
         "y": [
          89.71783835485414,
          90.1147207033344,
          92.19092415415041,
          93.43065693430657,
          93.83222279173073,
          95.240058910162,
          96.00527222954476,
          92.71778821074595,
          95.04152823920265,
          94.89529896560424,
          95.41008276899925
         ],
         "yaxis": "y"
        }
       ],
       "layout": {
        "legend": {
         "title": {
          "text": "variable"
         },
         "tracegroupgap": 0
        },
        "margin": {
         "t": 60
        },
        "template": {
         "data": {
          "bar": [
           {
            "error_x": {
             "color": "#2a3f5f"
            },
            "error_y": {
             "color": "#2a3f5f"
            },
            "marker": {
             "line": {
              "color": "#E5ECF6",
              "width": 0.5
             },
             "pattern": {
              "fillmode": "overlay",
              "size": 10,
              "solidity": 0.2
             }
            },
            "type": "bar"
           }
          ],
          "barpolar": [
           {
            "marker": {
             "line": {
              "color": "#E5ECF6",
              "width": 0.5
             },
             "pattern": {
              "fillmode": "overlay",
              "size": 10,
              "solidity": 0.2
             }
            },
            "type": "barpolar"
           }
          ],
          "carpet": [
           {
            "aaxis": {
             "endlinecolor": "#2a3f5f",
             "gridcolor": "white",
             "linecolor": "white",
             "minorgridcolor": "white",
             "startlinecolor": "#2a3f5f"
            },
            "baxis": {
             "endlinecolor": "#2a3f5f",
             "gridcolor": "white",
             "linecolor": "white",
             "minorgridcolor": "white",
             "startlinecolor": "#2a3f5f"
            },
            "type": "carpet"
           }
          ],
          "choropleth": [
           {
            "colorbar": {
             "outlinewidth": 0,
             "ticks": ""
            },
            "type": "choropleth"
           }
          ],
          "contour": [
           {
            "colorbar": {
             "outlinewidth": 0,
             "ticks": ""
            },
            "colorscale": [
             [
              0,
              "#0d0887"
             ],
             [
              0.1111111111111111,
              "#46039f"
             ],
             [
              0.2222222222222222,
              "#7201a8"
             ],
             [
              0.3333333333333333,
              "#9c179e"
             ],
             [
              0.4444444444444444,
              "#bd3786"
             ],
             [
              0.5555555555555556,
              "#d8576b"
             ],
             [
              0.6666666666666666,
              "#ed7953"
             ],
             [
              0.7777777777777778,
              "#fb9f3a"
             ],
             [
              0.8888888888888888,
              "#fdca26"
             ],
             [
              1,
              "#f0f921"
             ]
            ],
            "type": "contour"
           }
          ],
          "contourcarpet": [
           {
            "colorbar": {
             "outlinewidth": 0,
             "ticks": ""
            },
            "type": "contourcarpet"
           }
          ],
          "heatmap": [
           {
            "colorbar": {
             "outlinewidth": 0,
             "ticks": ""
            },
            "colorscale": [
             [
              0,
              "#0d0887"
             ],
             [
              0.1111111111111111,
              "#46039f"
             ],
             [
              0.2222222222222222,
              "#7201a8"
             ],
             [
              0.3333333333333333,
              "#9c179e"
             ],
             [
              0.4444444444444444,
              "#bd3786"
             ],
             [
              0.5555555555555556,
              "#d8576b"
             ],
             [
              0.6666666666666666,
              "#ed7953"
             ],
             [
              0.7777777777777778,
              "#fb9f3a"
             ],
             [
              0.8888888888888888,
              "#fdca26"
             ],
             [
              1,
              "#f0f921"
             ]
            ],
            "type": "heatmap"
           }
          ],
          "heatmapgl": [
           {
            "colorbar": {
             "outlinewidth": 0,
             "ticks": ""
            },
            "colorscale": [
             [
              0,
              "#0d0887"
             ],
             [
              0.1111111111111111,
              "#46039f"
             ],
             [
              0.2222222222222222,
              "#7201a8"
             ],
             [
              0.3333333333333333,
              "#9c179e"
             ],
             [
              0.4444444444444444,
              "#bd3786"
             ],
             [
              0.5555555555555556,
              "#d8576b"
             ],
             [
              0.6666666666666666,
              "#ed7953"
             ],
             [
              0.7777777777777778,
              "#fb9f3a"
             ],
             [
              0.8888888888888888,
              "#fdca26"
             ],
             [
              1,
              "#f0f921"
             ]
            ],
            "type": "heatmapgl"
           }
          ],
          "histogram": [
           {
            "marker": {
             "pattern": {
              "fillmode": "overlay",
              "size": 10,
              "solidity": 0.2
             }
            },
            "type": "histogram"
           }
          ],
          "histogram2d": [
           {
            "colorbar": {
             "outlinewidth": 0,
             "ticks": ""
            },
            "colorscale": [
             [
              0,
              "#0d0887"
             ],
             [
              0.1111111111111111,
              "#46039f"
             ],
             [
              0.2222222222222222,
              "#7201a8"
             ],
             [
              0.3333333333333333,
              "#9c179e"
             ],
             [
              0.4444444444444444,
              "#bd3786"
             ],
             [
              0.5555555555555556,
              "#d8576b"
             ],
             [
              0.6666666666666666,
              "#ed7953"
             ],
             [
              0.7777777777777778,
              "#fb9f3a"
             ],
             [
              0.8888888888888888,
              "#fdca26"
             ],
             [
              1,
              "#f0f921"
             ]
            ],
            "type": "histogram2d"
           }
          ],
          "histogram2dcontour": [
           {
            "colorbar": {
             "outlinewidth": 0,
             "ticks": ""
            },
            "colorscale": [
             [
              0,
              "#0d0887"
             ],
             [
              0.1111111111111111,
              "#46039f"
             ],
             [
              0.2222222222222222,
              "#7201a8"
             ],
             [
              0.3333333333333333,
              "#9c179e"
             ],
             [
              0.4444444444444444,
              "#bd3786"
             ],
             [
              0.5555555555555556,
              "#d8576b"
             ],
             [
              0.6666666666666666,
              "#ed7953"
             ],
             [
              0.7777777777777778,
              "#fb9f3a"
             ],
             [
              0.8888888888888888,
              "#fdca26"
             ],
             [
              1,
              "#f0f921"
             ]
            ],
            "type": "histogram2dcontour"
           }
          ],
          "mesh3d": [
           {
            "colorbar": {
             "outlinewidth": 0,
             "ticks": ""
            },
            "type": "mesh3d"
           }
          ],
          "parcoords": [
           {
            "line": {
             "colorbar": {
              "outlinewidth": 0,
              "ticks": ""
             }
            },
            "type": "parcoords"
           }
          ],
          "pie": [
           {
            "automargin": true,
            "type": "pie"
           }
          ],
          "scatter": [
           {
            "marker": {
             "colorbar": {
              "outlinewidth": 0,
              "ticks": ""
             }
            },
            "type": "scatter"
           }
          ],
          "scatter3d": [
           {
            "line": {
             "colorbar": {
              "outlinewidth": 0,
              "ticks": ""
             }
            },
            "marker": {
             "colorbar": {
              "outlinewidth": 0,
              "ticks": ""
             }
            },
            "type": "scatter3d"
           }
          ],
          "scattercarpet": [
           {
            "marker": {
             "colorbar": {
              "outlinewidth": 0,
              "ticks": ""
             }
            },
            "type": "scattercarpet"
           }
          ],
          "scattergeo": [
           {
            "marker": {
             "colorbar": {
              "outlinewidth": 0,
              "ticks": ""
             }
            },
            "type": "scattergeo"
           }
          ],
          "scattergl": [
           {
            "marker": {
             "colorbar": {
              "outlinewidth": 0,
              "ticks": ""
             }
            },
            "type": "scattergl"
           }
          ],
          "scattermapbox": [
           {
            "marker": {
             "colorbar": {
              "outlinewidth": 0,
              "ticks": ""
             }
            },
            "type": "scattermapbox"
           }
          ],
          "scatterpolar": [
           {
            "marker": {
             "colorbar": {
              "outlinewidth": 0,
              "ticks": ""
             }
            },
            "type": "scatterpolar"
           }
          ],
          "scatterpolargl": [
           {
            "marker": {
             "colorbar": {
              "outlinewidth": 0,
              "ticks": ""
             }
            },
            "type": "scatterpolargl"
           }
          ],
          "scatterternary": [
           {
            "marker": {
             "colorbar": {
              "outlinewidth": 0,
              "ticks": ""
             }
            },
            "type": "scatterternary"
           }
          ],
          "surface": [
           {
            "colorbar": {
             "outlinewidth": 0,
             "ticks": ""
            },
            "colorscale": [
             [
              0,
              "#0d0887"
             ],
             [
              0.1111111111111111,
              "#46039f"
             ],
             [
              0.2222222222222222,
              "#7201a8"
             ],
             [
              0.3333333333333333,
              "#9c179e"
             ],
             [
              0.4444444444444444,
              "#bd3786"
             ],
             [
              0.5555555555555556,
              "#d8576b"
             ],
             [
              0.6666666666666666,
              "#ed7953"
             ],
             [
              0.7777777777777778,
              "#fb9f3a"
             ],
             [
              0.8888888888888888,
              "#fdca26"
             ],
             [
              1,
              "#f0f921"
             ]
            ],
            "type": "surface"
           }
          ],
          "table": [
           {
            "cells": {
             "fill": {
              "color": "#EBF0F8"
             },
             "line": {
              "color": "white"
             }
            },
            "header": {
             "fill": {
              "color": "#C8D4E3"
             },
             "line": {
              "color": "white"
             }
            },
            "type": "table"
           }
          ]
         },
         "layout": {
          "annotationdefaults": {
           "arrowcolor": "#2a3f5f",
           "arrowhead": 0,
           "arrowwidth": 1
          },
          "autotypenumbers": "strict",
          "coloraxis": {
           "colorbar": {
            "outlinewidth": 0,
            "ticks": ""
           }
          },
          "colorscale": {
           "diverging": [
            [
             0,
             "#8e0152"
            ],
            [
             0.1,
             "#c51b7d"
            ],
            [
             0.2,
             "#de77ae"
            ],
            [
             0.3,
             "#f1b6da"
            ],
            [
             0.4,
             "#fde0ef"
            ],
            [
             0.5,
             "#f7f7f7"
            ],
            [
             0.6,
             "#e6f5d0"
            ],
            [
             0.7,
             "#b8e186"
            ],
            [
             0.8,
             "#7fbc41"
            ],
            [
             0.9,
             "#4d9221"
            ],
            [
             1,
             "#276419"
            ]
           ],
           "sequential": [
            [
             0,
             "#0d0887"
            ],
            [
             0.1111111111111111,
             "#46039f"
            ],
            [
             0.2222222222222222,
             "#7201a8"
            ],
            [
             0.3333333333333333,
             "#9c179e"
            ],
            [
             0.4444444444444444,
             "#bd3786"
            ],
            [
             0.5555555555555556,
             "#d8576b"
            ],
            [
             0.6666666666666666,
             "#ed7953"
            ],
            [
             0.7777777777777778,
             "#fb9f3a"
            ],
            [
             0.8888888888888888,
             "#fdca26"
            ],
            [
             1,
             "#f0f921"
            ]
           ],
           "sequentialminus": [
            [
             0,
             "#0d0887"
            ],
            [
             0.1111111111111111,
             "#46039f"
            ],
            [
             0.2222222222222222,
             "#7201a8"
            ],
            [
             0.3333333333333333,
             "#9c179e"
            ],
            [
             0.4444444444444444,
             "#bd3786"
            ],
            [
             0.5555555555555556,
             "#d8576b"
            ],
            [
             0.6666666666666666,
             "#ed7953"
            ],
            [
             0.7777777777777778,
             "#fb9f3a"
            ],
            [
             0.8888888888888888,
             "#fdca26"
            ],
            [
             1,
             "#f0f921"
            ]
           ]
          },
          "colorway": [
           "#636efa",
           "#EF553B",
           "#00cc96",
           "#ab63fa",
           "#FFA15A",
           "#19d3f3",
           "#FF6692",
           "#B6E880",
           "#FF97FF",
           "#FECB52"
          ],
          "font": {
           "color": "#2a3f5f"
          },
          "geo": {
           "bgcolor": "white",
           "lakecolor": "white",
           "landcolor": "#E5ECF6",
           "showlakes": true,
           "showland": true,
           "subunitcolor": "white"
          },
          "hoverlabel": {
           "align": "left"
          },
          "hovermode": "closest",
          "mapbox": {
           "style": "light"
          },
          "paper_bgcolor": "white",
          "plot_bgcolor": "#E5ECF6",
          "polar": {
           "angularaxis": {
            "gridcolor": "white",
            "linecolor": "white",
            "ticks": ""
           },
           "bgcolor": "#E5ECF6",
           "radialaxis": {
            "gridcolor": "white",
            "linecolor": "white",
            "ticks": ""
           }
          },
          "scene": {
           "xaxis": {
            "backgroundcolor": "#E5ECF6",
            "gridcolor": "white",
            "gridwidth": 2,
            "linecolor": "white",
            "showbackground": true,
            "ticks": "",
            "zerolinecolor": "white"
           },
           "yaxis": {
            "backgroundcolor": "#E5ECF6",
            "gridcolor": "white",
            "gridwidth": 2,
            "linecolor": "white",
            "showbackground": true,
            "ticks": "",
            "zerolinecolor": "white"
           },
           "zaxis": {
            "backgroundcolor": "#E5ECF6",
            "gridcolor": "white",
            "gridwidth": 2,
            "linecolor": "white",
            "showbackground": true,
            "ticks": "",
            "zerolinecolor": "white"
           }
          },
          "shapedefaults": {
           "line": {
            "color": "#2a3f5f"
           }
          },
          "ternary": {
           "aaxis": {
            "gridcolor": "white",
            "linecolor": "white",
            "ticks": ""
           },
           "baxis": {
            "gridcolor": "white",
            "linecolor": "white",
            "ticks": ""
           },
           "bgcolor": "#E5ECF6",
           "caxis": {
            "gridcolor": "white",
            "linecolor": "white",
            "ticks": ""
           }
          },
          "title": {
           "x": 0.05
          },
          "xaxis": {
           "automargin": true,
           "gridcolor": "white",
           "linecolor": "white",
           "ticks": "",
           "title": {
            "standoff": 15
           },
           "zerolinecolor": "white",
           "zerolinewidth": 2
          },
          "yaxis": {
           "automargin": true,
           "gridcolor": "white",
           "linecolor": "white",
           "ticks": "",
           "title": {
            "standoff": 15
           },
           "zerolinecolor": "white",
           "zerolinewidth": 2
          }
         }
        },
        "xaxis": {
         "anchor": "y",
         "domain": [
          0,
          1
         ],
         "title": {
          "text": "time"
         }
        },
        "yaxis": {
         "anchor": "x",
         "domain": [
          0,
          1
         ],
         "title": {
          "text": "value"
         }
        }
       }
      }
     },
     "metadata": {},
     "output_type": "display_data"
    }
   ],
   "source": [
    "fig = px.line(no_kill_by_yr,\n",
    "              x=\"time\",\n",
    "              y=[\"save_rate(total died)\", \"save_rate(euthanasia)\"])\n",
    "fig.show()"
   ]
  },
  {
   "cell_type": "markdown",
   "metadata": {},
   "source": [
    "## **Group by month**"
   ]
  },
  {
   "cell_type": "code",
   "execution_count": 13,
   "metadata": {},
   "outputs": [
    {
     "data": {
      "text/html": [
       "<div>\n",
       "<style scoped>\n",
       "    .dataframe tbody tr th:only-of-type {\n",
       "        vertical-align: middle;\n",
       "    }\n",
       "\n",
       "    .dataframe tbody tr th {\n",
       "        vertical-align: top;\n",
       "    }\n",
       "\n",
       "    .dataframe thead th {\n",
       "        text-align: right;\n",
       "    }\n",
       "</style>\n",
       "<table border=\"1\" class=\"dataframe\">\n",
       "  <thead>\n",
       "    <tr style=\"text-align: right;\">\n",
       "      <th></th>\n",
       "      <th>time</th>\n",
       "      <th>total_intake</th>\n",
       "      <th>total_outcome</th>\n",
       "      <th>euthanasia_cases</th>\n",
       "      <th>total_died_cases</th>\n",
       "      <th>save_rate(total died)</th>\n",
       "      <th>save_rate(euthanasia)</th>\n",
       "    </tr>\n",
       "  </thead>\n",
       "  <tbody>\n",
       "    <tr>\n",
       "      <th>4</th>\n",
       "      <td>January</td>\n",
       "      <td>10831</td>\n",
       "      <td>11418</td>\n",
       "      <td>555</td>\n",
       "      <td>660</td>\n",
       "      <td>93.906380</td>\n",
       "      <td>94.875819</td>\n",
       "    </tr>\n",
       "    <tr>\n",
       "      <th>3</th>\n",
       "      <td>February</td>\n",
       "      <td>9835</td>\n",
       "      <td>9974</td>\n",
       "      <td>679</td>\n",
       "      <td>776</td>\n",
       "      <td>92.109812</td>\n",
       "      <td>93.096085</td>\n",
       "    </tr>\n",
       "    <tr>\n",
       "      <th>7</th>\n",
       "      <td>March</td>\n",
       "      <td>11944</td>\n",
       "      <td>11685</td>\n",
       "      <td>1427</td>\n",
       "      <td>1692</td>\n",
       "      <td>85.833891</td>\n",
       "      <td>88.052579</td>\n",
       "    </tr>\n",
       "    <tr>\n",
       "      <th>0</th>\n",
       "      <td>April</td>\n",
       "      <td>12479</td>\n",
       "      <td>11213</td>\n",
       "      <td>929</td>\n",
       "      <td>1080</td>\n",
       "      <td>91.345460</td>\n",
       "      <td>92.555493</td>\n",
       "    </tr>\n",
       "    <tr>\n",
       "      <th>8</th>\n",
       "      <td>May</td>\n",
       "      <td>16165</td>\n",
       "      <td>13519</td>\n",
       "      <td>913</td>\n",
       "      <td>1140</td>\n",
       "      <td>92.947727</td>\n",
       "      <td>94.351995</td>\n",
       "    </tr>\n",
       "    <tr>\n",
       "      <th>6</th>\n",
       "      <td>June</td>\n",
       "      <td>15733</td>\n",
       "      <td>15093</td>\n",
       "      <td>1042</td>\n",
       "      <td>1332</td>\n",
       "      <td>91.533719</td>\n",
       "      <td>93.376978</td>\n",
       "    </tr>\n",
       "    <tr>\n",
       "      <th>5</th>\n",
       "      <td>July</td>\n",
       "      <td>14429</td>\n",
       "      <td>15329</td>\n",
       "      <td>820</td>\n",
       "      <td>1096</td>\n",
       "      <td>92.404186</td>\n",
       "      <td>94.317000</td>\n",
       "    </tr>\n",
       "    <tr>\n",
       "      <th>1</th>\n",
       "      <td>August</td>\n",
       "      <td>13990</td>\n",
       "      <td>14991</td>\n",
       "      <td>726</td>\n",
       "      <td>982</td>\n",
       "      <td>92.980701</td>\n",
       "      <td>94.810579</td>\n",
       "    </tr>\n",
       "    <tr>\n",
       "      <th>11</th>\n",
       "      <td>September</td>\n",
       "      <td>13727</td>\n",
       "      <td>13670</td>\n",
       "      <td>686</td>\n",
       "      <td>881</td>\n",
       "      <td>93.581992</td>\n",
       "      <td>95.002550</td>\n",
       "    </tr>\n",
       "    <tr>\n",
       "      <th>10</th>\n",
       "      <td>October</td>\n",
       "      <td>14931</td>\n",
       "      <td>14179</td>\n",
       "      <td>907</td>\n",
       "      <td>1110</td>\n",
       "      <td>92.565803</td>\n",
       "      <td>93.925390</td>\n",
       "    </tr>\n",
       "    <tr>\n",
       "      <th>9</th>\n",
       "      <td>November</td>\n",
       "      <td>12592</td>\n",
       "      <td>12971</td>\n",
       "      <td>700</td>\n",
       "      <td>846</td>\n",
       "      <td>93.281449</td>\n",
       "      <td>94.440915</td>\n",
       "    </tr>\n",
       "    <tr>\n",
       "      <th>2</th>\n",
       "      <td>December</td>\n",
       "      <td>10970</td>\n",
       "      <td>12591</td>\n",
       "      <td>581</td>\n",
       "      <td>696</td>\n",
       "      <td>93.655424</td>\n",
       "      <td>94.703737</td>\n",
       "    </tr>\n",
       "  </tbody>\n",
       "</table>\n",
       "</div>"
      ],
      "text/plain": [
       "         time  total_intake  total_outcome  euthanasia_cases  \\\n",
       "4     January         10831          11418               555   \n",
       "3    February          9835           9974               679   \n",
       "7       March         11944          11685              1427   \n",
       "0       April         12479          11213               929   \n",
       "8         May         16165          13519               913   \n",
       "6        June         15733          15093              1042   \n",
       "5        July         14429          15329               820   \n",
       "1      August         13990          14991               726   \n",
       "11  September         13727          13670               686   \n",
       "10    October         14931          14179               907   \n",
       "9    November         12592          12971               700   \n",
       "2    December         10970          12591               581   \n",
       "\n",
       "    total_died_cases  save_rate(total died)  save_rate(euthanasia)  \n",
       "4                660              93.906380              94.875819  \n",
       "3                776              92.109812              93.096085  \n",
       "7               1692              85.833891              88.052579  \n",
       "0               1080              91.345460              92.555493  \n",
       "8               1140              92.947727              94.351995  \n",
       "6               1332              91.533719              93.376978  \n",
       "5               1096              92.404186              94.317000  \n",
       "1                982              92.980701              94.810579  \n",
       "11               881              93.581992              95.002550  \n",
       "10              1110              92.565803              93.925390  \n",
       "9                846              93.281449              94.440915  \n",
       "2                696              93.655424              94.703737  "
      ]
     },
     "execution_count": 13,
     "metadata": {},
     "output_type": "execute_result"
    }
   ],
   "source": [
    "no_kill_by_m = no_kill_rate(no_kill_research, \"intake_m\", \"outcome_m\")\n",
    "month_order = [\"January\", \"February\", \"March\", \"April\",\n",
    "               \"May\", \"June\", \"July\", \"August\",\n",
    "               \"September\", \"October\", \"November\", \"December\"]\n",
    "no_kill_by_m[\"time\"] = pd.Categorical(no_kill_by_m[\"time\"],\n",
    "                                      categories=month_order,\n",
    "                                      ordered=True)\n",
    "no_kill_by_m = no_kill_by_m.sort_values(\"time\")\n",
    "no_kill_by_m"
   ]
  },
  {
   "cell_type": "code",
   "execution_count": 14,
   "metadata": {},
   "outputs": [
    {
     "data": {
      "application/vnd.plotly.v1+json": {
       "config": {
        "plotlyServerURL": "https://plot.ly"
       },
       "data": [
        {
         "hovertemplate": "variable=save_rate(total died)<br>time=%{x}<br>value=%{y}<extra></extra>",
         "legendgroup": "save_rate(total died)",
         "line": {
          "color": "#636efa",
          "dash": "solid"
         },
         "marker": {
          "symbol": "circle"
         },
         "mode": "lines",
         "name": "save_rate(total died)",
         "orientation": "v",
         "showlegend": true,
         "type": "scatter",
         "x": [
          "January",
          "February",
          "March",
          "April",
          "May",
          "June",
          "July",
          "August",
          "September",
          "October",
          "November",
          "December"
         ],
         "xaxis": "x",
         "y": [
          93.9063798356569,
          92.10981189628876,
          85.83389149363697,
          91.34546037342736,
          92.94772656974945,
          91.5337189347232,
          92.4041860142768,
          92.9807005003574,
          93.58199169519924,
          92.56580269238496,
          93.28144853875476,
          93.65542388331815
         ],
         "yaxis": "y"
        },
        {
         "hovertemplate": "variable=save_rate(euthanasia)<br>time=%{x}<br>value=%{y}<extra></extra>",
         "legendgroup": "save_rate(euthanasia)",
         "line": {
          "color": "#EF553B",
          "dash": "solid"
         },
         "marker": {
          "symbol": "circle"
         },
         "mode": "lines",
         "name": "save_rate(euthanasia)",
         "orientation": "v",
         "showlegend": true,
         "type": "scatter",
         "x": [
          "January",
          "February",
          "March",
          "April",
          "May",
          "June",
          "July",
          "August",
          "September",
          "October",
          "November",
          "December"
         ],
         "xaxis": "x",
         "y": [
          94.87581940725694,
          93.09608540925267,
          88.05257870060281,
          92.55549322862409,
          94.35199505103618,
          93.37697832581199,
          94.3170004851341,
          94.81057898498928,
          95.00254971953085,
          93.92539012792177,
          94.44091486658196,
          94.70373746581586
         ],
         "yaxis": "y"
        }
       ],
       "layout": {
        "legend": {
         "title": {
          "text": "variable"
         },
         "tracegroupgap": 0
        },
        "margin": {
         "t": 60
        },
        "template": {
         "data": {
          "bar": [
           {
            "error_x": {
             "color": "#2a3f5f"
            },
            "error_y": {
             "color": "#2a3f5f"
            },
            "marker": {
             "line": {
              "color": "#E5ECF6",
              "width": 0.5
             },
             "pattern": {
              "fillmode": "overlay",
              "size": 10,
              "solidity": 0.2
             }
            },
            "type": "bar"
           }
          ],
          "barpolar": [
           {
            "marker": {
             "line": {
              "color": "#E5ECF6",
              "width": 0.5
             },
             "pattern": {
              "fillmode": "overlay",
              "size": 10,
              "solidity": 0.2
             }
            },
            "type": "barpolar"
           }
          ],
          "carpet": [
           {
            "aaxis": {
             "endlinecolor": "#2a3f5f",
             "gridcolor": "white",
             "linecolor": "white",
             "minorgridcolor": "white",
             "startlinecolor": "#2a3f5f"
            },
            "baxis": {
             "endlinecolor": "#2a3f5f",
             "gridcolor": "white",
             "linecolor": "white",
             "minorgridcolor": "white",
             "startlinecolor": "#2a3f5f"
            },
            "type": "carpet"
           }
          ],
          "choropleth": [
           {
            "colorbar": {
             "outlinewidth": 0,
             "ticks": ""
            },
            "type": "choropleth"
           }
          ],
          "contour": [
           {
            "colorbar": {
             "outlinewidth": 0,
             "ticks": ""
            },
            "colorscale": [
             [
              0,
              "#0d0887"
             ],
             [
              0.1111111111111111,
              "#46039f"
             ],
             [
              0.2222222222222222,
              "#7201a8"
             ],
             [
              0.3333333333333333,
              "#9c179e"
             ],
             [
              0.4444444444444444,
              "#bd3786"
             ],
             [
              0.5555555555555556,
              "#d8576b"
             ],
             [
              0.6666666666666666,
              "#ed7953"
             ],
             [
              0.7777777777777778,
              "#fb9f3a"
             ],
             [
              0.8888888888888888,
              "#fdca26"
             ],
             [
              1,
              "#f0f921"
             ]
            ],
            "type": "contour"
           }
          ],
          "contourcarpet": [
           {
            "colorbar": {
             "outlinewidth": 0,
             "ticks": ""
            },
            "type": "contourcarpet"
           }
          ],
          "heatmap": [
           {
            "colorbar": {
             "outlinewidth": 0,
             "ticks": ""
            },
            "colorscale": [
             [
              0,
              "#0d0887"
             ],
             [
              0.1111111111111111,
              "#46039f"
             ],
             [
              0.2222222222222222,
              "#7201a8"
             ],
             [
              0.3333333333333333,
              "#9c179e"
             ],
             [
              0.4444444444444444,
              "#bd3786"
             ],
             [
              0.5555555555555556,
              "#d8576b"
             ],
             [
              0.6666666666666666,
              "#ed7953"
             ],
             [
              0.7777777777777778,
              "#fb9f3a"
             ],
             [
              0.8888888888888888,
              "#fdca26"
             ],
             [
              1,
              "#f0f921"
             ]
            ],
            "type": "heatmap"
           }
          ],
          "heatmapgl": [
           {
            "colorbar": {
             "outlinewidth": 0,
             "ticks": ""
            },
            "colorscale": [
             [
              0,
              "#0d0887"
             ],
             [
              0.1111111111111111,
              "#46039f"
             ],
             [
              0.2222222222222222,
              "#7201a8"
             ],
             [
              0.3333333333333333,
              "#9c179e"
             ],
             [
              0.4444444444444444,
              "#bd3786"
             ],
             [
              0.5555555555555556,
              "#d8576b"
             ],
             [
              0.6666666666666666,
              "#ed7953"
             ],
             [
              0.7777777777777778,
              "#fb9f3a"
             ],
             [
              0.8888888888888888,
              "#fdca26"
             ],
             [
              1,
              "#f0f921"
             ]
            ],
            "type": "heatmapgl"
           }
          ],
          "histogram": [
           {
            "marker": {
             "pattern": {
              "fillmode": "overlay",
              "size": 10,
              "solidity": 0.2
             }
            },
            "type": "histogram"
           }
          ],
          "histogram2d": [
           {
            "colorbar": {
             "outlinewidth": 0,
             "ticks": ""
            },
            "colorscale": [
             [
              0,
              "#0d0887"
             ],
             [
              0.1111111111111111,
              "#46039f"
             ],
             [
              0.2222222222222222,
              "#7201a8"
             ],
             [
              0.3333333333333333,
              "#9c179e"
             ],
             [
              0.4444444444444444,
              "#bd3786"
             ],
             [
              0.5555555555555556,
              "#d8576b"
             ],
             [
              0.6666666666666666,
              "#ed7953"
             ],
             [
              0.7777777777777778,
              "#fb9f3a"
             ],
             [
              0.8888888888888888,
              "#fdca26"
             ],
             [
              1,
              "#f0f921"
             ]
            ],
            "type": "histogram2d"
           }
          ],
          "histogram2dcontour": [
           {
            "colorbar": {
             "outlinewidth": 0,
             "ticks": ""
            },
            "colorscale": [
             [
              0,
              "#0d0887"
             ],
             [
              0.1111111111111111,
              "#46039f"
             ],
             [
              0.2222222222222222,
              "#7201a8"
             ],
             [
              0.3333333333333333,
              "#9c179e"
             ],
             [
              0.4444444444444444,
              "#bd3786"
             ],
             [
              0.5555555555555556,
              "#d8576b"
             ],
             [
              0.6666666666666666,
              "#ed7953"
             ],
             [
              0.7777777777777778,
              "#fb9f3a"
             ],
             [
              0.8888888888888888,
              "#fdca26"
             ],
             [
              1,
              "#f0f921"
             ]
            ],
            "type": "histogram2dcontour"
           }
          ],
          "mesh3d": [
           {
            "colorbar": {
             "outlinewidth": 0,
             "ticks": ""
            },
            "type": "mesh3d"
           }
          ],
          "parcoords": [
           {
            "line": {
             "colorbar": {
              "outlinewidth": 0,
              "ticks": ""
             }
            },
            "type": "parcoords"
           }
          ],
          "pie": [
           {
            "automargin": true,
            "type": "pie"
           }
          ],
          "scatter": [
           {
            "marker": {
             "colorbar": {
              "outlinewidth": 0,
              "ticks": ""
             }
            },
            "type": "scatter"
           }
          ],
          "scatter3d": [
           {
            "line": {
             "colorbar": {
              "outlinewidth": 0,
              "ticks": ""
             }
            },
            "marker": {
             "colorbar": {
              "outlinewidth": 0,
              "ticks": ""
             }
            },
            "type": "scatter3d"
           }
          ],
          "scattercarpet": [
           {
            "marker": {
             "colorbar": {
              "outlinewidth": 0,
              "ticks": ""
             }
            },
            "type": "scattercarpet"
           }
          ],
          "scattergeo": [
           {
            "marker": {
             "colorbar": {
              "outlinewidth": 0,
              "ticks": ""
             }
            },
            "type": "scattergeo"
           }
          ],
          "scattergl": [
           {
            "marker": {
             "colorbar": {
              "outlinewidth": 0,
              "ticks": ""
             }
            },
            "type": "scattergl"
           }
          ],
          "scattermapbox": [
           {
            "marker": {
             "colorbar": {
              "outlinewidth": 0,
              "ticks": ""
             }
            },
            "type": "scattermapbox"
           }
          ],
          "scatterpolar": [
           {
            "marker": {
             "colorbar": {
              "outlinewidth": 0,
              "ticks": ""
             }
            },
            "type": "scatterpolar"
           }
          ],
          "scatterpolargl": [
           {
            "marker": {
             "colorbar": {
              "outlinewidth": 0,
              "ticks": ""
             }
            },
            "type": "scatterpolargl"
           }
          ],
          "scatterternary": [
           {
            "marker": {
             "colorbar": {
              "outlinewidth": 0,
              "ticks": ""
             }
            },
            "type": "scatterternary"
           }
          ],
          "surface": [
           {
            "colorbar": {
             "outlinewidth": 0,
             "ticks": ""
            },
            "colorscale": [
             [
              0,
              "#0d0887"
             ],
             [
              0.1111111111111111,
              "#46039f"
             ],
             [
              0.2222222222222222,
              "#7201a8"
             ],
             [
              0.3333333333333333,
              "#9c179e"
             ],
             [
              0.4444444444444444,
              "#bd3786"
             ],
             [
              0.5555555555555556,
              "#d8576b"
             ],
             [
              0.6666666666666666,
              "#ed7953"
             ],
             [
              0.7777777777777778,
              "#fb9f3a"
             ],
             [
              0.8888888888888888,
              "#fdca26"
             ],
             [
              1,
              "#f0f921"
             ]
            ],
            "type": "surface"
           }
          ],
          "table": [
           {
            "cells": {
             "fill": {
              "color": "#EBF0F8"
             },
             "line": {
              "color": "white"
             }
            },
            "header": {
             "fill": {
              "color": "#C8D4E3"
             },
             "line": {
              "color": "white"
             }
            },
            "type": "table"
           }
          ]
         },
         "layout": {
          "annotationdefaults": {
           "arrowcolor": "#2a3f5f",
           "arrowhead": 0,
           "arrowwidth": 1
          },
          "autotypenumbers": "strict",
          "coloraxis": {
           "colorbar": {
            "outlinewidth": 0,
            "ticks": ""
           }
          },
          "colorscale": {
           "diverging": [
            [
             0,
             "#8e0152"
            ],
            [
             0.1,
             "#c51b7d"
            ],
            [
             0.2,
             "#de77ae"
            ],
            [
             0.3,
             "#f1b6da"
            ],
            [
             0.4,
             "#fde0ef"
            ],
            [
             0.5,
             "#f7f7f7"
            ],
            [
             0.6,
             "#e6f5d0"
            ],
            [
             0.7,
             "#b8e186"
            ],
            [
             0.8,
             "#7fbc41"
            ],
            [
             0.9,
             "#4d9221"
            ],
            [
             1,
             "#276419"
            ]
           ],
           "sequential": [
            [
             0,
             "#0d0887"
            ],
            [
             0.1111111111111111,
             "#46039f"
            ],
            [
             0.2222222222222222,
             "#7201a8"
            ],
            [
             0.3333333333333333,
             "#9c179e"
            ],
            [
             0.4444444444444444,
             "#bd3786"
            ],
            [
             0.5555555555555556,
             "#d8576b"
            ],
            [
             0.6666666666666666,
             "#ed7953"
            ],
            [
             0.7777777777777778,
             "#fb9f3a"
            ],
            [
             0.8888888888888888,
             "#fdca26"
            ],
            [
             1,
             "#f0f921"
            ]
           ],
           "sequentialminus": [
            [
             0,
             "#0d0887"
            ],
            [
             0.1111111111111111,
             "#46039f"
            ],
            [
             0.2222222222222222,
             "#7201a8"
            ],
            [
             0.3333333333333333,
             "#9c179e"
            ],
            [
             0.4444444444444444,
             "#bd3786"
            ],
            [
             0.5555555555555556,
             "#d8576b"
            ],
            [
             0.6666666666666666,
             "#ed7953"
            ],
            [
             0.7777777777777778,
             "#fb9f3a"
            ],
            [
             0.8888888888888888,
             "#fdca26"
            ],
            [
             1,
             "#f0f921"
            ]
           ]
          },
          "colorway": [
           "#636efa",
           "#EF553B",
           "#00cc96",
           "#ab63fa",
           "#FFA15A",
           "#19d3f3",
           "#FF6692",
           "#B6E880",
           "#FF97FF",
           "#FECB52"
          ],
          "font": {
           "color": "#2a3f5f"
          },
          "geo": {
           "bgcolor": "white",
           "lakecolor": "white",
           "landcolor": "#E5ECF6",
           "showlakes": true,
           "showland": true,
           "subunitcolor": "white"
          },
          "hoverlabel": {
           "align": "left"
          },
          "hovermode": "closest",
          "mapbox": {
           "style": "light"
          },
          "paper_bgcolor": "white",
          "plot_bgcolor": "#E5ECF6",
          "polar": {
           "angularaxis": {
            "gridcolor": "white",
            "linecolor": "white",
            "ticks": ""
           },
           "bgcolor": "#E5ECF6",
           "radialaxis": {
            "gridcolor": "white",
            "linecolor": "white",
            "ticks": ""
           }
          },
          "scene": {
           "xaxis": {
            "backgroundcolor": "#E5ECF6",
            "gridcolor": "white",
            "gridwidth": 2,
            "linecolor": "white",
            "showbackground": true,
            "ticks": "",
            "zerolinecolor": "white"
           },
           "yaxis": {
            "backgroundcolor": "#E5ECF6",
            "gridcolor": "white",
            "gridwidth": 2,
            "linecolor": "white",
            "showbackground": true,
            "ticks": "",
            "zerolinecolor": "white"
           },
           "zaxis": {
            "backgroundcolor": "#E5ECF6",
            "gridcolor": "white",
            "gridwidth": 2,
            "linecolor": "white",
            "showbackground": true,
            "ticks": "",
            "zerolinecolor": "white"
           }
          },
          "shapedefaults": {
           "line": {
            "color": "#2a3f5f"
           }
          },
          "ternary": {
           "aaxis": {
            "gridcolor": "white",
            "linecolor": "white",
            "ticks": ""
           },
           "baxis": {
            "gridcolor": "white",
            "linecolor": "white",
            "ticks": ""
           },
           "bgcolor": "#E5ECF6",
           "caxis": {
            "gridcolor": "white",
            "linecolor": "white",
            "ticks": ""
           }
          },
          "title": {
           "x": 0.05
          },
          "xaxis": {
           "automargin": true,
           "gridcolor": "white",
           "linecolor": "white",
           "ticks": "",
           "title": {
            "standoff": 15
           },
           "zerolinecolor": "white",
           "zerolinewidth": 2
          },
          "yaxis": {
           "automargin": true,
           "gridcolor": "white",
           "linecolor": "white",
           "ticks": "",
           "title": {
            "standoff": 15
           },
           "zerolinecolor": "white",
           "zerolinewidth": 2
          }
         }
        },
        "xaxis": {
         "anchor": "y",
         "domain": [
          0,
          1
         ],
         "title": {
          "text": "time"
         }
        },
        "yaxis": {
         "anchor": "x",
         "domain": [
          0,
          1
         ],
         "title": {
          "text": "value"
         }
        }
       }
      }
     },
     "metadata": {},
     "output_type": "display_data"
    }
   ],
   "source": [
    "fig = px.line(no_kill_by_m,\n",
    "              x=\"time\",\n",
    "              y=[\"save_rate(total died)\", \"save_rate(euthanasia)\"])\n",
    "fig.show()"
   ]
  },
  {
   "cell_type": "code",
   "execution_count": 12,
   "metadata": {},
   "outputs": [
    {
     "data": {
      "application/vnd.plotly.v1+json": {
       "config": {
        "plotlyServerURL": "https://plot.ly"
       },
       "data": [
        {
         "hovertemplate": "variable=total_intake<br>time=%{x}<br>value=%{y}<extra></extra>",
         "legendgroup": "total_intake",
         "line": {
          "color": "#636efa",
          "dash": "solid"
         },
         "marker": {
          "symbol": "circle"
         },
         "mode": "lines",
         "name": "total_intake",
         "orientation": "v",
         "showlegend": true,
         "type": "scatter",
         "x": [
          "2013-10",
          "2013-11",
          "2013-12",
          "2014-01",
          "2014-02",
          "2014-03",
          "2014-04",
          "2014-05",
          "2014-06",
          "2014-07",
          "2014-08",
          "2014-09",
          "2014-10",
          "2014-11",
          "2014-12",
          "2015-01",
          "2015-02",
          "2015-03",
          "2015-04",
          "2015-05",
          "2015-06",
          "2015-07",
          "2015-08",
          "2015-09",
          "2015-10",
          "2015-11",
          "2015-12",
          "2016-01",
          "2016-02",
          "2016-03",
          "2016-04",
          "2016-05",
          "2016-06",
          "2016-07",
          "2016-08",
          "2016-09",
          "2016-10",
          "2016-11",
          "2016-12",
          "2017-01",
          "2017-02",
          "2017-03",
          "2017-04",
          "2017-05",
          "2017-06",
          "2017-07",
          "2017-08",
          "2017-09",
          "2017-10",
          "2017-11",
          "2017-12",
          "2018-01",
          "2018-02",
          "2018-03",
          "2018-04",
          "2018-05",
          "2018-06",
          "2018-07",
          "2018-08",
          "2018-09",
          "2018-10",
          "2018-11",
          "2018-12",
          "2019-01",
          "2019-02",
          "2019-03",
          "2019-04",
          "2019-05",
          "2019-06",
          "2019-07",
          "2019-08",
          "2019-09",
          "2019-10",
          "2019-11",
          "2019-12",
          "2020-01",
          "2020-02",
          "2020-03",
          "2020-04",
          "2020-05",
          "2020-06",
          "2020-07",
          "2020-08",
          "2020-09",
          "2020-10",
          "2020-11",
          "2020-12",
          "2021-01",
          "2021-02",
          "2021-03",
          "2021-04",
          "2021-05",
          "2021-06",
          "2021-07",
          "2021-08",
          "2021-09",
          "2021-10",
          "2021-11",
          "2021-12",
          "2022-01",
          "2022-02",
          "2022-03",
          "2022-04",
          "2022-05",
          "2022-06",
          "2022-07",
          "2022-08",
          "2022-09",
          "2022-10",
          "2022-11",
          "2022-12",
          "2023-01",
          "2023-02",
          "2023-03",
          "2023-04",
          "2023-05",
          "2023-06",
          "2023-07",
          "2023-08",
          "2023-09",
          "2023-10",
          "2023-11",
          "2023-12"
         ],
         "xaxis": "x",
         "y": [
          1589,
          1323,
          1270,
          1271,
          1192,
          1484,
          1535,
          1957,
          1793,
          1888,
          1645,
          1698,
          1530,
          1372,
          1289,
          1197,
          1118,
          1345,
          1543,
          2094,
          2189,
          1635,
          1718,
          1591,
          1740,
          1411,
          1128,
          1216,
          1194,
          1419,
          1560,
          2036,
          1634,
          1409,
          1653,
          1538,
          1387,
          1337,
          1290,
          1216,
          1202,
          1360,
          1481,
          1889,
          1854,
          1618,
          1492,
          1679,
          1428,
          1185,
          1155,
          1123,
          1044,
          1324,
          1388,
          1744,
          1722,
          1666,
          1399,
          1620,
          1573,
          1237,
          1135,
          1240,
          1131,
          1502,
          1621,
          2132,
          2063,
          1987,
          1844,
          1844,
          1727,
          1436,
          1199,
          1215,
          1145,
          883,
          312,
          483,
          848,
          780,
          850,
          872,
          874,
          676,
          647,
          567,
          387,
          733,
          894,
          1060,
          1316,
          1348,
          1259,
          1205,
          1263,
          1016,
          992,
          928,
          723,
          896,
          1067,
          1395,
          1246,
          1240,
          1165,
          753,
          860,
          837,
          781,
          858,
          699,
          998,
          1078,
          1375,
          1068,
          858,
          965,
          927,
          960,
          762,
          84
         ],
         "yaxis": "y"
        },
        {
         "hovertemplate": "variable=total_outcome<br>time=%{x}<br>value=%{y}<extra></extra>",
         "legendgroup": "total_outcome",
         "line": {
          "color": "#EF553B",
          "dash": "solid"
         },
         "marker": {
          "symbol": "circle"
         },
         "mode": "lines",
         "name": "total_outcome",
         "orientation": "v",
         "showlegend": true,
         "type": "scatter",
         "x": [
          "2013-10",
          "2013-11",
          "2013-12",
          "2014-01",
          "2014-02",
          "2014-03",
          "2014-04",
          "2014-05",
          "2014-06",
          "2014-07",
          "2014-08",
          "2014-09",
          "2014-10",
          "2014-11",
          "2014-12",
          "2015-01",
          "2015-02",
          "2015-03",
          "2015-04",
          "2015-05",
          "2015-06",
          "2015-07",
          "2015-08",
          "2015-09",
          "2015-10",
          "2015-11",
          "2015-12",
          "2016-01",
          "2016-02",
          "2016-03",
          "2016-04",
          "2016-05",
          "2016-06",
          "2016-07",
          "2016-08",
          "2016-09",
          "2016-10",
          "2016-11",
          "2016-12",
          "2017-01",
          "2017-02",
          "2017-03",
          "2017-04",
          "2017-05",
          "2017-06",
          "2017-07",
          "2017-08",
          "2017-09",
          "2017-10",
          "2017-11",
          "2017-12",
          "2018-01",
          "2018-02",
          "2018-03",
          "2018-04",
          "2018-05",
          "2018-06",
          "2018-07",
          "2018-08",
          "2018-09",
          "2018-10",
          "2018-11",
          "2018-12",
          "2019-01",
          "2019-02",
          "2019-03",
          "2019-04",
          "2019-05",
          "2019-06",
          "2019-07",
          "2019-08",
          "2019-09",
          "2019-10",
          "2019-11",
          "2019-12",
          "2020-01",
          "2020-02",
          "2020-03",
          "2020-04",
          "2020-05",
          "2020-06",
          "2020-07",
          "2020-08",
          "2020-09",
          "2020-10",
          "2020-11",
          "2020-12",
          "2021-01",
          "2021-02",
          "2021-03",
          "2021-04",
          "2021-05",
          "2021-06",
          "2021-07",
          "2021-08",
          "2021-09",
          "2021-10",
          "2021-11",
          "2021-12",
          "2022-01",
          "2022-02",
          "2022-03",
          "2022-04",
          "2022-05",
          "2022-06",
          "2022-07",
          "2022-08",
          "2022-09",
          "2022-10",
          "2022-11",
          "2022-12",
          "2023-01",
          "2023-02",
          "2023-03",
          "2023-04",
          "2023-05",
          "2023-06",
          "2023-07",
          "2023-08",
          "2023-09",
          "2023-10",
          "2023-11",
          "2023-12"
         ],
         "xaxis": "x",
         "y": [
          1126,
          1213,
          1431,
          1224,
          1115,
          1479,
          1399,
          1625,
          1751,
          2070,
          1847,
          1656,
          1519,
          1420,
          1454,
          1198,
          1121,
          1241,
          1379,
          1877,
          1975,
          1897,
          1735,
          1601,
          1570,
          1559,
          1332,
          1304,
          1146,
          1419,
          1351,
          1692,
          1631,
          1679,
          1535,
          1658,
          1410,
          1447,
          1390,
          1359,
          1285,
          1330,
          1319,
          1631,
          1647,
          1773,
          1710,
          1505,
          1635,
          1207,
          1242,
          1161,
          1056,
          1285,
          1265,
          1492,
          1634,
          1670,
          1637,
          1513,
          1468,
          1158,
          1395,
          1328,
          1129,
          1464,
          1476,
          1673,
          2242,
          1948,
          1979,
          1766,
          1753,
          1565,
          1446,
          1303,
          1195,
          978,
          391,
          442,
          665,
          745,
          842,
          816,
          817,
          706,
          872,
          649,
          422,
          713,
          738,
          936,
          1199,
          1357,
          1327,
          1238,
          1239,
          1077,
          1067,
          1012,
          803,
          851,
          969,
          1085,
          1198,
          1198,
          1271,
          1043,
          799,
          786,
          867,
          880,
          702,
          925,
          926,
          1066,
          1151,
          992,
          1108,
          874,
          843,
          833,
          95
         ],
         "yaxis": "y"
        }
       ],
       "layout": {
        "legend": {
         "title": {
          "text": "variable"
         },
         "tracegroupgap": 0
        },
        "margin": {
         "t": 60
        },
        "template": {
         "data": {
          "bar": [
           {
            "error_x": {
             "color": "#2a3f5f"
            },
            "error_y": {
             "color": "#2a3f5f"
            },
            "marker": {
             "line": {
              "color": "#E5ECF6",
              "width": 0.5
             },
             "pattern": {
              "fillmode": "overlay",
              "size": 10,
              "solidity": 0.2
             }
            },
            "type": "bar"
           }
          ],
          "barpolar": [
           {
            "marker": {
             "line": {
              "color": "#E5ECF6",
              "width": 0.5
             },
             "pattern": {
              "fillmode": "overlay",
              "size": 10,
              "solidity": 0.2
             }
            },
            "type": "barpolar"
           }
          ],
          "carpet": [
           {
            "aaxis": {
             "endlinecolor": "#2a3f5f",
             "gridcolor": "white",
             "linecolor": "white",
             "minorgridcolor": "white",
             "startlinecolor": "#2a3f5f"
            },
            "baxis": {
             "endlinecolor": "#2a3f5f",
             "gridcolor": "white",
             "linecolor": "white",
             "minorgridcolor": "white",
             "startlinecolor": "#2a3f5f"
            },
            "type": "carpet"
           }
          ],
          "choropleth": [
           {
            "colorbar": {
             "outlinewidth": 0,
             "ticks": ""
            },
            "type": "choropleth"
           }
          ],
          "contour": [
           {
            "colorbar": {
             "outlinewidth": 0,
             "ticks": ""
            },
            "colorscale": [
             [
              0,
              "#0d0887"
             ],
             [
              0.1111111111111111,
              "#46039f"
             ],
             [
              0.2222222222222222,
              "#7201a8"
             ],
             [
              0.3333333333333333,
              "#9c179e"
             ],
             [
              0.4444444444444444,
              "#bd3786"
             ],
             [
              0.5555555555555556,
              "#d8576b"
             ],
             [
              0.6666666666666666,
              "#ed7953"
             ],
             [
              0.7777777777777778,
              "#fb9f3a"
             ],
             [
              0.8888888888888888,
              "#fdca26"
             ],
             [
              1,
              "#f0f921"
             ]
            ],
            "type": "contour"
           }
          ],
          "contourcarpet": [
           {
            "colorbar": {
             "outlinewidth": 0,
             "ticks": ""
            },
            "type": "contourcarpet"
           }
          ],
          "heatmap": [
           {
            "colorbar": {
             "outlinewidth": 0,
             "ticks": ""
            },
            "colorscale": [
             [
              0,
              "#0d0887"
             ],
             [
              0.1111111111111111,
              "#46039f"
             ],
             [
              0.2222222222222222,
              "#7201a8"
             ],
             [
              0.3333333333333333,
              "#9c179e"
             ],
             [
              0.4444444444444444,
              "#bd3786"
             ],
             [
              0.5555555555555556,
              "#d8576b"
             ],
             [
              0.6666666666666666,
              "#ed7953"
             ],
             [
              0.7777777777777778,
              "#fb9f3a"
             ],
             [
              0.8888888888888888,
              "#fdca26"
             ],
             [
              1,
              "#f0f921"
             ]
            ],
            "type": "heatmap"
           }
          ],
          "heatmapgl": [
           {
            "colorbar": {
             "outlinewidth": 0,
             "ticks": ""
            },
            "colorscale": [
             [
              0,
              "#0d0887"
             ],
             [
              0.1111111111111111,
              "#46039f"
             ],
             [
              0.2222222222222222,
              "#7201a8"
             ],
             [
              0.3333333333333333,
              "#9c179e"
             ],
             [
              0.4444444444444444,
              "#bd3786"
             ],
             [
              0.5555555555555556,
              "#d8576b"
             ],
             [
              0.6666666666666666,
              "#ed7953"
             ],
             [
              0.7777777777777778,
              "#fb9f3a"
             ],
             [
              0.8888888888888888,
              "#fdca26"
             ],
             [
              1,
              "#f0f921"
             ]
            ],
            "type": "heatmapgl"
           }
          ],
          "histogram": [
           {
            "marker": {
             "pattern": {
              "fillmode": "overlay",
              "size": 10,
              "solidity": 0.2
             }
            },
            "type": "histogram"
           }
          ],
          "histogram2d": [
           {
            "colorbar": {
             "outlinewidth": 0,
             "ticks": ""
            },
            "colorscale": [
             [
              0,
              "#0d0887"
             ],
             [
              0.1111111111111111,
              "#46039f"
             ],
             [
              0.2222222222222222,
              "#7201a8"
             ],
             [
              0.3333333333333333,
              "#9c179e"
             ],
             [
              0.4444444444444444,
              "#bd3786"
             ],
             [
              0.5555555555555556,
              "#d8576b"
             ],
             [
              0.6666666666666666,
              "#ed7953"
             ],
             [
              0.7777777777777778,
              "#fb9f3a"
             ],
             [
              0.8888888888888888,
              "#fdca26"
             ],
             [
              1,
              "#f0f921"
             ]
            ],
            "type": "histogram2d"
           }
          ],
          "histogram2dcontour": [
           {
            "colorbar": {
             "outlinewidth": 0,
             "ticks": ""
            },
            "colorscale": [
             [
              0,
              "#0d0887"
             ],
             [
              0.1111111111111111,
              "#46039f"
             ],
             [
              0.2222222222222222,
              "#7201a8"
             ],
             [
              0.3333333333333333,
              "#9c179e"
             ],
             [
              0.4444444444444444,
              "#bd3786"
             ],
             [
              0.5555555555555556,
              "#d8576b"
             ],
             [
              0.6666666666666666,
              "#ed7953"
             ],
             [
              0.7777777777777778,
              "#fb9f3a"
             ],
             [
              0.8888888888888888,
              "#fdca26"
             ],
             [
              1,
              "#f0f921"
             ]
            ],
            "type": "histogram2dcontour"
           }
          ],
          "mesh3d": [
           {
            "colorbar": {
             "outlinewidth": 0,
             "ticks": ""
            },
            "type": "mesh3d"
           }
          ],
          "parcoords": [
           {
            "line": {
             "colorbar": {
              "outlinewidth": 0,
              "ticks": ""
             }
            },
            "type": "parcoords"
           }
          ],
          "pie": [
           {
            "automargin": true,
            "type": "pie"
           }
          ],
          "scatter": [
           {
            "marker": {
             "colorbar": {
              "outlinewidth": 0,
              "ticks": ""
             }
            },
            "type": "scatter"
           }
          ],
          "scatter3d": [
           {
            "line": {
             "colorbar": {
              "outlinewidth": 0,
              "ticks": ""
             }
            },
            "marker": {
             "colorbar": {
              "outlinewidth": 0,
              "ticks": ""
             }
            },
            "type": "scatter3d"
           }
          ],
          "scattercarpet": [
           {
            "marker": {
             "colorbar": {
              "outlinewidth": 0,
              "ticks": ""
             }
            },
            "type": "scattercarpet"
           }
          ],
          "scattergeo": [
           {
            "marker": {
             "colorbar": {
              "outlinewidth": 0,
              "ticks": ""
             }
            },
            "type": "scattergeo"
           }
          ],
          "scattergl": [
           {
            "marker": {
             "colorbar": {
              "outlinewidth": 0,
              "ticks": ""
             }
            },
            "type": "scattergl"
           }
          ],
          "scattermapbox": [
           {
            "marker": {
             "colorbar": {
              "outlinewidth": 0,
              "ticks": ""
             }
            },
            "type": "scattermapbox"
           }
          ],
          "scatterpolar": [
           {
            "marker": {
             "colorbar": {
              "outlinewidth": 0,
              "ticks": ""
             }
            },
            "type": "scatterpolar"
           }
          ],
          "scatterpolargl": [
           {
            "marker": {
             "colorbar": {
              "outlinewidth": 0,
              "ticks": ""
             }
            },
            "type": "scatterpolargl"
           }
          ],
          "scatterternary": [
           {
            "marker": {
             "colorbar": {
              "outlinewidth": 0,
              "ticks": ""
             }
            },
            "type": "scatterternary"
           }
          ],
          "surface": [
           {
            "colorbar": {
             "outlinewidth": 0,
             "ticks": ""
            },
            "colorscale": [
             [
              0,
              "#0d0887"
             ],
             [
              0.1111111111111111,
              "#46039f"
             ],
             [
              0.2222222222222222,
              "#7201a8"
             ],
             [
              0.3333333333333333,
              "#9c179e"
             ],
             [
              0.4444444444444444,
              "#bd3786"
             ],
             [
              0.5555555555555556,
              "#d8576b"
             ],
             [
              0.6666666666666666,
              "#ed7953"
             ],
             [
              0.7777777777777778,
              "#fb9f3a"
             ],
             [
              0.8888888888888888,
              "#fdca26"
             ],
             [
              1,
              "#f0f921"
             ]
            ],
            "type": "surface"
           }
          ],
          "table": [
           {
            "cells": {
             "fill": {
              "color": "#EBF0F8"
             },
             "line": {
              "color": "white"
             }
            },
            "header": {
             "fill": {
              "color": "#C8D4E3"
             },
             "line": {
              "color": "white"
             }
            },
            "type": "table"
           }
          ]
         },
         "layout": {
          "annotationdefaults": {
           "arrowcolor": "#2a3f5f",
           "arrowhead": 0,
           "arrowwidth": 1
          },
          "autotypenumbers": "strict",
          "coloraxis": {
           "colorbar": {
            "outlinewidth": 0,
            "ticks": ""
           }
          },
          "colorscale": {
           "diverging": [
            [
             0,
             "#8e0152"
            ],
            [
             0.1,
             "#c51b7d"
            ],
            [
             0.2,
             "#de77ae"
            ],
            [
             0.3,
             "#f1b6da"
            ],
            [
             0.4,
             "#fde0ef"
            ],
            [
             0.5,
             "#f7f7f7"
            ],
            [
             0.6,
             "#e6f5d0"
            ],
            [
             0.7,
             "#b8e186"
            ],
            [
             0.8,
             "#7fbc41"
            ],
            [
             0.9,
             "#4d9221"
            ],
            [
             1,
             "#276419"
            ]
           ],
           "sequential": [
            [
             0,
             "#0d0887"
            ],
            [
             0.1111111111111111,
             "#46039f"
            ],
            [
             0.2222222222222222,
             "#7201a8"
            ],
            [
             0.3333333333333333,
             "#9c179e"
            ],
            [
             0.4444444444444444,
             "#bd3786"
            ],
            [
             0.5555555555555556,
             "#d8576b"
            ],
            [
             0.6666666666666666,
             "#ed7953"
            ],
            [
             0.7777777777777778,
             "#fb9f3a"
            ],
            [
             0.8888888888888888,
             "#fdca26"
            ],
            [
             1,
             "#f0f921"
            ]
           ],
           "sequentialminus": [
            [
             0,
             "#0d0887"
            ],
            [
             0.1111111111111111,
             "#46039f"
            ],
            [
             0.2222222222222222,
             "#7201a8"
            ],
            [
             0.3333333333333333,
             "#9c179e"
            ],
            [
             0.4444444444444444,
             "#bd3786"
            ],
            [
             0.5555555555555556,
             "#d8576b"
            ],
            [
             0.6666666666666666,
             "#ed7953"
            ],
            [
             0.7777777777777778,
             "#fb9f3a"
            ],
            [
             0.8888888888888888,
             "#fdca26"
            ],
            [
             1,
             "#f0f921"
            ]
           ]
          },
          "colorway": [
           "#636efa",
           "#EF553B",
           "#00cc96",
           "#ab63fa",
           "#FFA15A",
           "#19d3f3",
           "#FF6692",
           "#B6E880",
           "#FF97FF",
           "#FECB52"
          ],
          "font": {
           "color": "#2a3f5f"
          },
          "geo": {
           "bgcolor": "white",
           "lakecolor": "white",
           "landcolor": "#E5ECF6",
           "showlakes": true,
           "showland": true,
           "subunitcolor": "white"
          },
          "hoverlabel": {
           "align": "left"
          },
          "hovermode": "closest",
          "mapbox": {
           "style": "light"
          },
          "paper_bgcolor": "white",
          "plot_bgcolor": "#E5ECF6",
          "polar": {
           "angularaxis": {
            "gridcolor": "white",
            "linecolor": "white",
            "ticks": ""
           },
           "bgcolor": "#E5ECF6",
           "radialaxis": {
            "gridcolor": "white",
            "linecolor": "white",
            "ticks": ""
           }
          },
          "scene": {
           "xaxis": {
            "backgroundcolor": "#E5ECF6",
            "gridcolor": "white",
            "gridwidth": 2,
            "linecolor": "white",
            "showbackground": true,
            "ticks": "",
            "zerolinecolor": "white"
           },
           "yaxis": {
            "backgroundcolor": "#E5ECF6",
            "gridcolor": "white",
            "gridwidth": 2,
            "linecolor": "white",
            "showbackground": true,
            "ticks": "",
            "zerolinecolor": "white"
           },
           "zaxis": {
            "backgroundcolor": "#E5ECF6",
            "gridcolor": "white",
            "gridwidth": 2,
            "linecolor": "white",
            "showbackground": true,
            "ticks": "",
            "zerolinecolor": "white"
           }
          },
          "shapedefaults": {
           "line": {
            "color": "#2a3f5f"
           }
          },
          "ternary": {
           "aaxis": {
            "gridcolor": "white",
            "linecolor": "white",
            "ticks": ""
           },
           "baxis": {
            "gridcolor": "white",
            "linecolor": "white",
            "ticks": ""
           },
           "bgcolor": "#E5ECF6",
           "caxis": {
            "gridcolor": "white",
            "linecolor": "white",
            "ticks": ""
           }
          },
          "title": {
           "x": 0.05
          },
          "xaxis": {
           "automargin": true,
           "gridcolor": "white",
           "linecolor": "white",
           "ticks": "",
           "title": {
            "standoff": 15
           },
           "zerolinecolor": "white",
           "zerolinewidth": 2
          },
          "yaxis": {
           "automargin": true,
           "gridcolor": "white",
           "linecolor": "white",
           "ticks": "",
           "title": {
            "standoff": 15
           },
           "zerolinecolor": "white",
           "zerolinewidth": 2
          }
         }
        },
        "xaxis": {
         "anchor": "y",
         "domain": [
          0,
          1
         ],
         "title": {
          "text": "time"
         }
        },
        "yaxis": {
         "anchor": "x",
         "domain": [
          0,
          1
         ],
         "title": {
          "text": "value"
         }
        }
       }
      }
     },
     "metadata": {},
     "output_type": "display_data"
    }
   ],
   "source": [
    "fig = px.line(no_kill_by_ym,\n",
    "              x=\"time\",\n",
    "              y=[\"total_intake\", \"total_outcome\"])\n",
    "fig.show()"
   ]
  },
  {
   "cell_type": "code",
   "execution_count": null,
   "metadata": {},
   "outputs": [],
   "source": []
  }
 ],
 "metadata": {
  "kernelspec": {
   "display_name": "base",
   "language": "python",
   "name": "python3"
  },
  "language_info": {
   "codemirror_mode": {
    "name": "ipython",
    "version": 3
   },
   "file_extension": ".py",
   "mimetype": "text/x-python",
   "name": "python",
   "nbconvert_exporter": "python",
   "pygments_lexer": "ipython3",
   "version": "3.9.12"
  }
 },
 "nbformat": 4,
 "nbformat_minor": 2
}
