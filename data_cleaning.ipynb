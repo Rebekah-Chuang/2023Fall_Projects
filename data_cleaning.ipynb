{
 "cells": [
  {
   "cell_type": "code",
   "execution_count": 2,
   "metadata": {
    "ExecuteTime": {
     "end_time": "2023-11-30T23:02:36.789472Z",
     "start_time": "2023-11-30T23:02:36.748011Z"
    }
   },
   "outputs": [],
   "source": [
    "import numpy as np\n",
    "import pandas as pd\n",
    "import requests\n",
    "from data_cleaning import *"
   ]
  },
  {
   "cell_type": "markdown",
   "metadata": {},
   "source": [
    "## **Get data using API**"
   ]
  },
  {
   "cell_type": "code",
   "execution_count": 3,
   "metadata": {
    "ExecuteTime": {
     "end_time": "2023-11-30T23:03:03.644538Z",
     "start_time": "2023-11-30T23:02:36.758817Z"
    }
   },
   "outputs": [
    {
     "name": "stdout",
     "output_type": "stream",
     "text": [
      "Successfully get INTAKE data(157561 rows)...\n",
      "Successfully get OUTCOME data(157481 rows)...\n"
     ]
    }
   ],
   "source": [
    "# API endpoint URL(set the limit to get all data(default is 1000 rows))\n",
    "urls = {\n",
    "    \"intake\": \"https://data.austintexas.gov/resource/wter-evkm.csv?$limit=160000\",\n",
    "    \"outcome\": \"https://data.austintexas.gov/resource/9t4d-g238.csv?$limit=160000\"\n",
    "    }\n",
    "intake, outcome = get_data(urls)"
   ]
  },
  {
   "cell_type": "markdown",
   "source": [
    "## Check number of rows, columns, and duplicated rows"
   ],
   "metadata": {
    "collapsed": false,
    "ExecuteTime": {
     "end_time": "2023-11-30T19:05:11.599993Z",
     "start_time": "2023-11-30T19:05:10.372430Z"
    }
   }
  },
  {
   "cell_type": "code",
   "execution_count": 4,
   "metadata": {
    "ExecuteTime": {
     "end_time": "2023-11-30T23:03:04.027990Z",
     "start_time": "2023-11-30T23:03:03.644062Z"
    }
   },
   "outputs": [
    {
     "name": "stdout",
     "output_type": "stream",
     "text": [
      "INTAKE data: 157561 rows | 12 columns | 30 duplicated rows\n",
      "OUTCOME data: 157481 rows | 12 columns | 23 duplicated rows\n"
     ]
    }
   ],
   "source": [
    "print(f\"INTAKE data: {intake.shape[0]} rows | {intake.shape[1]} columns | {intake.duplicated().sum()} duplicated rows\")\n",
    "print(f\"OUTCOME data: {outcome.shape[0]} rows | {outcome.shape[1]} columns | {outcome.duplicated().sum()} duplicated rows\")"
   ]
  },
  {
   "cell_type": "markdown",
   "source": [
    "## Drop duplicates"
   ],
   "metadata": {
    "collapsed": false,
    "ExecuteTime": {
     "start_time": "2023-11-30T19:04:43.530233Z"
    }
   }
  },
  {
   "cell_type": "code",
   "execution_count": 5,
   "outputs": [],
   "source": [
    "intake.drop_duplicates(inplace=True)\n",
    "outcome.drop_duplicates(inplace=True)"
   ],
   "metadata": {
    "collapsed": false,
    "ExecuteTime": {
     "end_time": "2023-11-30T23:03:04.405756Z",
     "start_time": "2023-11-30T23:03:04.027298Z"
    }
   }
  },
  {
   "cell_type": "markdown",
   "source": [
    "## Check number of rows, columns, and duplicated rows again"
   ],
   "metadata": {
    "collapsed": false,
    "ExecuteTime": {
     "start_time": "2023-11-30T19:04:43.532119Z"
    }
   }
  },
  {
   "cell_type": "code",
   "execution_count": 6,
   "outputs": [
    {
     "name": "stdout",
     "output_type": "stream",
     "text": [
      "INTAKE data: 157531 rows | 12 columns | 0 duplicated rows\n",
      "OUTCOME data: 157458 rows | 12 columns | 0 duplicated rows\n"
     ]
    }
   ],
   "source": [
    "print(f\"INTAKE data: {intake.shape[0]} rows | {intake.shape[1]} columns | {intake.duplicated().sum()} duplicated rows\")\n",
    "print(f\"OUTCOME data: {outcome.shape[0]} rows | {outcome.shape[1]} columns | {outcome.duplicated().sum()} duplicated rows\")"
   ],
   "metadata": {
    "collapsed": false,
    "ExecuteTime": {
     "end_time": "2023-11-30T23:03:04.776216Z",
     "start_time": "2023-11-30T23:03:04.413872Z"
    }
   }
  },
  {
   "cell_type": "markdown",
   "metadata": {
    "ExecuteTime": {
     "start_time": "2023-11-30T19:04:43.533968Z"
    }
   },
   "source": [
    "## Remove `datetime2` in `intake` data and `monthyear` in `outcome` data"
   ]
  },
  {
   "cell_type": "code",
   "execution_count": 7,
   "metadata": {
    "ExecuteTime": {
     "end_time": "2023-11-30T23:03:04.811188Z",
     "start_time": "2023-11-30T23:03:04.762269Z"
    }
   },
   "outputs": [],
   "source": [
    "intake.drop(\"datetime2\", axis=1, inplace = True)\n",
    "outcome.drop(\"monthyear\", axis=1, inplace = True)"
   ]
  },
  {
   "cell_type": "code",
   "execution_count": 8,
   "metadata": {
    "ExecuteTime": {
     "end_time": "2023-11-30T23:03:04.829332Z",
     "start_time": "2023-11-30T23:03:04.796987Z"
    }
   },
   "outputs": [
    {
     "data": {
      "text/plain": "       animal_id          name                 datetime  \\\n0        A786884        *Brock  2019-01-03T16:19:00.000   \n1        A706918         Belle  2015-07-05T12:59:00.000   \n2        A724273       Runster  2016-04-14T18:43:00.000   \n3        A857105  Johnny Ringo  2022-05-12T00:23:00.000   \n4        A682524           Rio  2014-06-29T10:38:00.000   \n...          ...           ...                      ...   \n157556   A775309      Snowball  2018-06-27T18:16:00.000   \n157557   A760677           NaN  2017-10-22T13:58:00.000   \n157558   A811255           NaN  2019-12-31T08:10:00.000   \n157559   A763156           NaN  2017-12-04T11:42:00.000   \n157560   A855904      *Julissa  2022-04-25T15:22:00.000   \n\n                                         found_location      intake_type  \\\n0                   2501 Magin Meadow Dr in Austin (TX)            Stray   \n1                      9409 Bluegrass Dr in Austin (TX)            Stray   \n2                    2818 Palomino Trail in Austin (TX)            Stray   \n3                    4404 Sarasota Drive in Austin (TX)    Public Assist   \n4                         800 Grove Blvd in Austin (TX)            Stray   \n...                                                 ...              ...   \n157556                                      Austin (TX)  Owner Surrender   \n157557  Thomaswood Lane And Lenape Trail in Austin (TX)            Stray   \n157558               12034 Research Blvd in Austin (TX)            Stray   \n157559            1009 West Dittmar Road in Austin (TX)            Stray   \n157560                     9109 Marsh Dr in Austin (TX)            Stray   \n\n       intake_condition animal_type sex_upon_intake age_upon_intake  \\\n0                Normal         Dog   Neutered Male         2 years   \n1                Normal         Dog   Spayed Female         8 years   \n2                Normal         Dog     Intact Male       11 months   \n3                Normal         Cat   Neutered Male         2 years   \n4                Normal         Dog   Neutered Male         4 years   \n...                 ...         ...             ...             ...   \n157556           Normal         Cat   Spayed Female         2 years   \n157557           Normal         Cat     Intact Male         2 years   \n157558          Injured         Cat   Intact Female        5 months   \n157559           Normal         Dog     Intact Male         2 years   \n157560           Normal         Dog   Intact Female        9 months   \n\n                                        breed         color  \n0                                  Beagle Mix      Tricolor  \n1                    English Springer Spaniel   White/Liver  \n2                                 Basenji Mix   Sable/White  \n3                          Domestic Shorthair  Orange Tabby  \n4       Doberman Pinsch/Australian Cattle Dog      Tan/Gray  \n...                                       ...           ...  \n157556                         Turkish Angora         White  \n157557                 Domestic Shorthair Mix    Blue/White  \n157558                     Domestic Shorthair         Black  \n157559        Miniature Poodle/Cocker Spaniel         White  \n157560                 Labrador Retriever Mix           Red  \n\n[157531 rows x 11 columns]",
      "text/html": "<div>\n<style scoped>\n    .dataframe tbody tr th:only-of-type {\n        vertical-align: middle;\n    }\n\n    .dataframe tbody tr th {\n        vertical-align: top;\n    }\n\n    .dataframe thead th {\n        text-align: right;\n    }\n</style>\n<table border=\"1\" class=\"dataframe\">\n  <thead>\n    <tr style=\"text-align: right;\">\n      <th></th>\n      <th>animal_id</th>\n      <th>name</th>\n      <th>datetime</th>\n      <th>found_location</th>\n      <th>intake_type</th>\n      <th>intake_condition</th>\n      <th>animal_type</th>\n      <th>sex_upon_intake</th>\n      <th>age_upon_intake</th>\n      <th>breed</th>\n      <th>color</th>\n    </tr>\n  </thead>\n  <tbody>\n    <tr>\n      <th>0</th>\n      <td>A786884</td>\n      <td>*Brock</td>\n      <td>2019-01-03T16:19:00.000</td>\n      <td>2501 Magin Meadow Dr in Austin (TX)</td>\n      <td>Stray</td>\n      <td>Normal</td>\n      <td>Dog</td>\n      <td>Neutered Male</td>\n      <td>2 years</td>\n      <td>Beagle Mix</td>\n      <td>Tricolor</td>\n    </tr>\n    <tr>\n      <th>1</th>\n      <td>A706918</td>\n      <td>Belle</td>\n      <td>2015-07-05T12:59:00.000</td>\n      <td>9409 Bluegrass Dr in Austin (TX)</td>\n      <td>Stray</td>\n      <td>Normal</td>\n      <td>Dog</td>\n      <td>Spayed Female</td>\n      <td>8 years</td>\n      <td>English Springer Spaniel</td>\n      <td>White/Liver</td>\n    </tr>\n    <tr>\n      <th>2</th>\n      <td>A724273</td>\n      <td>Runster</td>\n      <td>2016-04-14T18:43:00.000</td>\n      <td>2818 Palomino Trail in Austin (TX)</td>\n      <td>Stray</td>\n      <td>Normal</td>\n      <td>Dog</td>\n      <td>Intact Male</td>\n      <td>11 months</td>\n      <td>Basenji Mix</td>\n      <td>Sable/White</td>\n    </tr>\n    <tr>\n      <th>3</th>\n      <td>A857105</td>\n      <td>Johnny Ringo</td>\n      <td>2022-05-12T00:23:00.000</td>\n      <td>4404 Sarasota Drive in Austin (TX)</td>\n      <td>Public Assist</td>\n      <td>Normal</td>\n      <td>Cat</td>\n      <td>Neutered Male</td>\n      <td>2 years</td>\n      <td>Domestic Shorthair</td>\n      <td>Orange Tabby</td>\n    </tr>\n    <tr>\n      <th>4</th>\n      <td>A682524</td>\n      <td>Rio</td>\n      <td>2014-06-29T10:38:00.000</td>\n      <td>800 Grove Blvd in Austin (TX)</td>\n      <td>Stray</td>\n      <td>Normal</td>\n      <td>Dog</td>\n      <td>Neutered Male</td>\n      <td>4 years</td>\n      <td>Doberman Pinsch/Australian Cattle Dog</td>\n      <td>Tan/Gray</td>\n    </tr>\n    <tr>\n      <th>...</th>\n      <td>...</td>\n      <td>...</td>\n      <td>...</td>\n      <td>...</td>\n      <td>...</td>\n      <td>...</td>\n      <td>...</td>\n      <td>...</td>\n      <td>...</td>\n      <td>...</td>\n      <td>...</td>\n    </tr>\n    <tr>\n      <th>157556</th>\n      <td>A775309</td>\n      <td>Snowball</td>\n      <td>2018-06-27T18:16:00.000</td>\n      <td>Austin (TX)</td>\n      <td>Owner Surrender</td>\n      <td>Normal</td>\n      <td>Cat</td>\n      <td>Spayed Female</td>\n      <td>2 years</td>\n      <td>Turkish Angora</td>\n      <td>White</td>\n    </tr>\n    <tr>\n      <th>157557</th>\n      <td>A760677</td>\n      <td>NaN</td>\n      <td>2017-10-22T13:58:00.000</td>\n      <td>Thomaswood Lane And Lenape Trail in Austin (TX)</td>\n      <td>Stray</td>\n      <td>Normal</td>\n      <td>Cat</td>\n      <td>Intact Male</td>\n      <td>2 years</td>\n      <td>Domestic Shorthair Mix</td>\n      <td>Blue/White</td>\n    </tr>\n    <tr>\n      <th>157558</th>\n      <td>A811255</td>\n      <td>NaN</td>\n      <td>2019-12-31T08:10:00.000</td>\n      <td>12034 Research Blvd in Austin (TX)</td>\n      <td>Stray</td>\n      <td>Injured</td>\n      <td>Cat</td>\n      <td>Intact Female</td>\n      <td>5 months</td>\n      <td>Domestic Shorthair</td>\n      <td>Black</td>\n    </tr>\n    <tr>\n      <th>157559</th>\n      <td>A763156</td>\n      <td>NaN</td>\n      <td>2017-12-04T11:42:00.000</td>\n      <td>1009 West Dittmar Road in Austin (TX)</td>\n      <td>Stray</td>\n      <td>Normal</td>\n      <td>Dog</td>\n      <td>Intact Male</td>\n      <td>2 years</td>\n      <td>Miniature Poodle/Cocker Spaniel</td>\n      <td>White</td>\n    </tr>\n    <tr>\n      <th>157560</th>\n      <td>A855904</td>\n      <td>*Julissa</td>\n      <td>2022-04-25T15:22:00.000</td>\n      <td>9109 Marsh Dr in Austin (TX)</td>\n      <td>Stray</td>\n      <td>Normal</td>\n      <td>Dog</td>\n      <td>Intact Female</td>\n      <td>9 months</td>\n      <td>Labrador Retriever Mix</td>\n      <td>Red</td>\n    </tr>\n  </tbody>\n</table>\n<p>157531 rows × 11 columns</p>\n</div>"
     },
     "execution_count": 8,
     "metadata": {},
     "output_type": "execute_result"
    }
   ],
   "source": [
    "intake"
   ]
  },
  {
   "cell_type": "code",
   "execution_count": 9,
   "metadata": {
    "ExecuteTime": {
     "end_time": "2023-11-30T23:03:04.830322Z",
     "start_time": "2023-11-30T23:03:04.814666Z"
    }
   },
   "outputs": [
    {
     "data": {
      "text/plain": "       animal_id             name                 datetime  \\\n0        A794011            Chunk  2019-05-08T18:20:00.000   \n1        A776359            Gizmo  2018-07-18T16:02:00.000   \n2        A821648              NaN  2020-08-16T11:38:00.000   \n3        A720371            Moose  2016-02-13T17:59:00.000   \n4        A674754              NaN  2014-03-18T11:47:00.000   \n...          ...              ...                      ...   \n157476   A892186           *Slate  2023-11-30T13:41:00.000   \n157477   A892197       *Volodymyr  2023-11-30T13:42:00.000   \n157478   A888494  Luca \"Aka\" Shaq  2023-09-19T12:37:00.000   \n157479   A893447              NaN  2023-11-30T13:40:00.000   \n157480   A893856           Jin Do  2023-11-30T15:56:00.000   \n\n                  date_of_birth     outcome_type outcome_subtype animal_type  \\\n0       2017-05-02T00:00:00.000        Rto-Adopt             NaN         Cat   \n1       2017-07-12T00:00:00.000         Adoption             NaN         Dog   \n2       2019-08-16T00:00:00.000       Euthanasia             NaN       Other   \n3       2015-10-08T00:00:00.000         Adoption             NaN         Dog   \n4       2014-03-12T00:00:00.000         Transfer         Partner         Cat   \n...                         ...              ...             ...         ...   \n157476  2021-11-02T00:00:00.000         Transfer         Partner         Cat   \n157477  2021-11-02T00:00:00.000         Transfer         Partner         Cat   \n157478  2022-03-07T00:00:00.000  Return to Owner           Field         Dog   \n157479  2021-11-21T00:00:00.000         Transfer         Partner         Cat   \n157480  2019-11-29T00:00:00.000       Euthanasia       Suffering         Dog   \n\n       sex_upon_outcome age_upon_outcome                               breed  \\\n0         Neutered Male          2 years              Domestic Shorthair Mix   \n1         Neutered Male           1 year             Chihuahua Shorthair Mix   \n2               Unknown           1 year                             Raccoon   \n3         Neutered Male         4 months  Anatol Shepherd/Labrador Retriever   \n4           Intact Male           6 days              Domestic Shorthair Mix   \n...                 ...              ...                                 ...   \n157476      Intact Male          2 years              Domestic Shorthair Mix   \n157477      Intact Male          2 years              Domestic Shorthair Mix   \n157478    Neutered Male           1 year                            Pit Bull   \n157479          Unknown          2 years                  Domestic Shorthair   \n157480    Neutered Male              NaN                     German Shepherd   \n\n                         color  \n0            Brown Tabby/White  \n1                  White/Brown  \n2                         Gray  \n3                         Buff  \n4                 Orange Tabby  \n...                        ...  \n157476             Black/White  \n157477       Brown Tabby/White  \n157478                     Tan  \n157479  Blue Tabby/Brown Tabby  \n157480                   White  \n\n[157458 rows x 11 columns]",
      "text/html": "<div>\n<style scoped>\n    .dataframe tbody tr th:only-of-type {\n        vertical-align: middle;\n    }\n\n    .dataframe tbody tr th {\n        vertical-align: top;\n    }\n\n    .dataframe thead th {\n        text-align: right;\n    }\n</style>\n<table border=\"1\" class=\"dataframe\">\n  <thead>\n    <tr style=\"text-align: right;\">\n      <th></th>\n      <th>animal_id</th>\n      <th>name</th>\n      <th>datetime</th>\n      <th>date_of_birth</th>\n      <th>outcome_type</th>\n      <th>outcome_subtype</th>\n      <th>animal_type</th>\n      <th>sex_upon_outcome</th>\n      <th>age_upon_outcome</th>\n      <th>breed</th>\n      <th>color</th>\n    </tr>\n  </thead>\n  <tbody>\n    <tr>\n      <th>0</th>\n      <td>A794011</td>\n      <td>Chunk</td>\n      <td>2019-05-08T18:20:00.000</td>\n      <td>2017-05-02T00:00:00.000</td>\n      <td>Rto-Adopt</td>\n      <td>NaN</td>\n      <td>Cat</td>\n      <td>Neutered Male</td>\n      <td>2 years</td>\n      <td>Domestic Shorthair Mix</td>\n      <td>Brown Tabby/White</td>\n    </tr>\n    <tr>\n      <th>1</th>\n      <td>A776359</td>\n      <td>Gizmo</td>\n      <td>2018-07-18T16:02:00.000</td>\n      <td>2017-07-12T00:00:00.000</td>\n      <td>Adoption</td>\n      <td>NaN</td>\n      <td>Dog</td>\n      <td>Neutered Male</td>\n      <td>1 year</td>\n      <td>Chihuahua Shorthair Mix</td>\n      <td>White/Brown</td>\n    </tr>\n    <tr>\n      <th>2</th>\n      <td>A821648</td>\n      <td>NaN</td>\n      <td>2020-08-16T11:38:00.000</td>\n      <td>2019-08-16T00:00:00.000</td>\n      <td>Euthanasia</td>\n      <td>NaN</td>\n      <td>Other</td>\n      <td>Unknown</td>\n      <td>1 year</td>\n      <td>Raccoon</td>\n      <td>Gray</td>\n    </tr>\n    <tr>\n      <th>3</th>\n      <td>A720371</td>\n      <td>Moose</td>\n      <td>2016-02-13T17:59:00.000</td>\n      <td>2015-10-08T00:00:00.000</td>\n      <td>Adoption</td>\n      <td>NaN</td>\n      <td>Dog</td>\n      <td>Neutered Male</td>\n      <td>4 months</td>\n      <td>Anatol Shepherd/Labrador Retriever</td>\n      <td>Buff</td>\n    </tr>\n    <tr>\n      <th>4</th>\n      <td>A674754</td>\n      <td>NaN</td>\n      <td>2014-03-18T11:47:00.000</td>\n      <td>2014-03-12T00:00:00.000</td>\n      <td>Transfer</td>\n      <td>Partner</td>\n      <td>Cat</td>\n      <td>Intact Male</td>\n      <td>6 days</td>\n      <td>Domestic Shorthair Mix</td>\n      <td>Orange Tabby</td>\n    </tr>\n    <tr>\n      <th>...</th>\n      <td>...</td>\n      <td>...</td>\n      <td>...</td>\n      <td>...</td>\n      <td>...</td>\n      <td>...</td>\n      <td>...</td>\n      <td>...</td>\n      <td>...</td>\n      <td>...</td>\n      <td>...</td>\n    </tr>\n    <tr>\n      <th>157476</th>\n      <td>A892186</td>\n      <td>*Slate</td>\n      <td>2023-11-30T13:41:00.000</td>\n      <td>2021-11-02T00:00:00.000</td>\n      <td>Transfer</td>\n      <td>Partner</td>\n      <td>Cat</td>\n      <td>Intact Male</td>\n      <td>2 years</td>\n      <td>Domestic Shorthair Mix</td>\n      <td>Black/White</td>\n    </tr>\n    <tr>\n      <th>157477</th>\n      <td>A892197</td>\n      <td>*Volodymyr</td>\n      <td>2023-11-30T13:42:00.000</td>\n      <td>2021-11-02T00:00:00.000</td>\n      <td>Transfer</td>\n      <td>Partner</td>\n      <td>Cat</td>\n      <td>Intact Male</td>\n      <td>2 years</td>\n      <td>Domestic Shorthair Mix</td>\n      <td>Brown Tabby/White</td>\n    </tr>\n    <tr>\n      <th>157478</th>\n      <td>A888494</td>\n      <td>Luca \"Aka\" Shaq</td>\n      <td>2023-09-19T12:37:00.000</td>\n      <td>2022-03-07T00:00:00.000</td>\n      <td>Return to Owner</td>\n      <td>Field</td>\n      <td>Dog</td>\n      <td>Neutered Male</td>\n      <td>1 year</td>\n      <td>Pit Bull</td>\n      <td>Tan</td>\n    </tr>\n    <tr>\n      <th>157479</th>\n      <td>A893447</td>\n      <td>NaN</td>\n      <td>2023-11-30T13:40:00.000</td>\n      <td>2021-11-21T00:00:00.000</td>\n      <td>Transfer</td>\n      <td>Partner</td>\n      <td>Cat</td>\n      <td>Unknown</td>\n      <td>2 years</td>\n      <td>Domestic Shorthair</td>\n      <td>Blue Tabby/Brown Tabby</td>\n    </tr>\n    <tr>\n      <th>157480</th>\n      <td>A893856</td>\n      <td>Jin Do</td>\n      <td>2023-11-30T15:56:00.000</td>\n      <td>2019-11-29T00:00:00.000</td>\n      <td>Euthanasia</td>\n      <td>Suffering</td>\n      <td>Dog</td>\n      <td>Neutered Male</td>\n      <td>NaN</td>\n      <td>German Shepherd</td>\n      <td>White</td>\n    </tr>\n  </tbody>\n</table>\n<p>157458 rows × 11 columns</p>\n</div>"
     },
     "execution_count": 9,
     "metadata": {},
     "output_type": "execute_result"
    }
   ],
   "source": [
    "outcome"
   ]
  },
  {
   "cell_type": "code",
   "execution_count": 10,
   "metadata": {
    "ExecuteTime": {
     "end_time": "2023-11-30T23:03:05.577510Z",
     "start_time": "2023-11-30T23:03:04.818643Z"
    }
   },
   "outputs": [],
   "source": [
    "intake = intake.sort_values(by=[\"animal_id\", \"datetime\"], ascending=True).reset_index(drop=True)\n",
    "outcome = outcome.sort_values(by=[\"animal_id\", \"datetime\"], ascending=True).reset_index(drop=True)"
   ]
  },
  {
   "cell_type": "code",
   "execution_count": 11,
   "metadata": {
    "ExecuteTime": {
     "end_time": "2023-11-30T23:03:05.591060Z",
     "start_time": "2023-11-30T23:03:05.585219Z"
    }
   },
   "outputs": [
    {
     "data": {
      "text/plain": "       animal_id    name                 datetime  \\\n0        A006100   Scamp  2014-03-07T14:26:00.000   \n1        A006100   Scamp  2014-12-19T10:21:00.000   \n2        A006100   Scamp  2017-12-07T14:07:00.000   \n3        A047759    Oreo  2014-04-02T15:55:00.000   \n4        A134067  Bandit  2013-11-16T09:02:00.000   \n...          ...     ...                      ...   \n157526   A893921     NaN  2023-11-30T12:25:00.000   \n157527   A893922     NaN  2023-11-30T12:25:00.000   \n157528   A893925     NaN  2023-11-30T12:49:00.000   \n157529   A893926     NaN  2023-11-30T12:27:00.000   \n157530   A893927     NaN  2023-11-30T13:42:00.000   \n\n                                       found_location      intake_type  \\\n0                        8700 Research in Austin (TX)    Public Assist   \n1                   8700 Research Blvd in Austin (TX)    Public Assist   \n2       Colony Creek And Hunters Trace in Austin (TX)            Stray   \n3                                         Austin (TX)  Owner Surrender   \n4                  12034 Research Blvd in Austin (TX)    Public Assist   \n...                                               ...              ...   \n157526                   Ridgepoint Dr in Austin (TX)            Stray   \n157527                   Ridgepoint Dr in Austin (TX)            Stray   \n157528             7501 Bethune Avenue in Austin (TX)            Stray   \n157529    2400 Wickersham Ln Unit #192 in Austin (TX)            Stray   \n157530         10105 Big Thicket Drive in Austin (TX)            Stray   \n\n       intake_condition animal_type sex_upon_intake age_upon_intake  \\\n0                Normal         Dog   Neutered Male         6 years   \n1                Normal         Dog   Neutered Male         7 years   \n2                Normal         Dog   Neutered Male        10 years   \n3                Normal         Dog   Neutered Male        10 years   \n4               Injured         Dog   Neutered Male        16 years   \n...                 ...         ...             ...             ...   \n157526           Normal         Cat     Intact Male        3 months   \n157527           Normal         Cat   Intact Female        3 months   \n157528           Normal         Cat     Intact Male        4 months   \n157529           Normal         Dog     Intact Male          1 year   \n157530           Normal         Dog     Intact Male        9 months   \n\n                                breed         color  \n0                Spinone Italiano Mix  Yellow/White  \n1                Spinone Italiano Mix  Yellow/White  \n2                Spinone Italiano Mix  Yellow/White  \n3                           Dachshund      Tricolor  \n4                   Shetland Sheepdog   Brown/White  \n...                               ...           ...  \n157526             Domestic Shorthair   Brown Tabby  \n157527             Domestic Shorthair   Brown Tabby  \n157528             Domestic Shorthair    Blue Tabby  \n157529  Siberian Husky/Great Pyrenees         White  \n157530                 Siberian Husky   Black/White  \n\n[157531 rows x 11 columns]",
      "text/html": "<div>\n<style scoped>\n    .dataframe tbody tr th:only-of-type {\n        vertical-align: middle;\n    }\n\n    .dataframe tbody tr th {\n        vertical-align: top;\n    }\n\n    .dataframe thead th {\n        text-align: right;\n    }\n</style>\n<table border=\"1\" class=\"dataframe\">\n  <thead>\n    <tr style=\"text-align: right;\">\n      <th></th>\n      <th>animal_id</th>\n      <th>name</th>\n      <th>datetime</th>\n      <th>found_location</th>\n      <th>intake_type</th>\n      <th>intake_condition</th>\n      <th>animal_type</th>\n      <th>sex_upon_intake</th>\n      <th>age_upon_intake</th>\n      <th>breed</th>\n      <th>color</th>\n    </tr>\n  </thead>\n  <tbody>\n    <tr>\n      <th>0</th>\n      <td>A006100</td>\n      <td>Scamp</td>\n      <td>2014-03-07T14:26:00.000</td>\n      <td>8700 Research in Austin (TX)</td>\n      <td>Public Assist</td>\n      <td>Normal</td>\n      <td>Dog</td>\n      <td>Neutered Male</td>\n      <td>6 years</td>\n      <td>Spinone Italiano Mix</td>\n      <td>Yellow/White</td>\n    </tr>\n    <tr>\n      <th>1</th>\n      <td>A006100</td>\n      <td>Scamp</td>\n      <td>2014-12-19T10:21:00.000</td>\n      <td>8700 Research Blvd in Austin (TX)</td>\n      <td>Public Assist</td>\n      <td>Normal</td>\n      <td>Dog</td>\n      <td>Neutered Male</td>\n      <td>7 years</td>\n      <td>Spinone Italiano Mix</td>\n      <td>Yellow/White</td>\n    </tr>\n    <tr>\n      <th>2</th>\n      <td>A006100</td>\n      <td>Scamp</td>\n      <td>2017-12-07T14:07:00.000</td>\n      <td>Colony Creek And Hunters Trace in Austin (TX)</td>\n      <td>Stray</td>\n      <td>Normal</td>\n      <td>Dog</td>\n      <td>Neutered Male</td>\n      <td>10 years</td>\n      <td>Spinone Italiano Mix</td>\n      <td>Yellow/White</td>\n    </tr>\n    <tr>\n      <th>3</th>\n      <td>A047759</td>\n      <td>Oreo</td>\n      <td>2014-04-02T15:55:00.000</td>\n      <td>Austin (TX)</td>\n      <td>Owner Surrender</td>\n      <td>Normal</td>\n      <td>Dog</td>\n      <td>Neutered Male</td>\n      <td>10 years</td>\n      <td>Dachshund</td>\n      <td>Tricolor</td>\n    </tr>\n    <tr>\n      <th>4</th>\n      <td>A134067</td>\n      <td>Bandit</td>\n      <td>2013-11-16T09:02:00.000</td>\n      <td>12034 Research Blvd in Austin (TX)</td>\n      <td>Public Assist</td>\n      <td>Injured</td>\n      <td>Dog</td>\n      <td>Neutered Male</td>\n      <td>16 years</td>\n      <td>Shetland Sheepdog</td>\n      <td>Brown/White</td>\n    </tr>\n    <tr>\n      <th>...</th>\n      <td>...</td>\n      <td>...</td>\n      <td>...</td>\n      <td>...</td>\n      <td>...</td>\n      <td>...</td>\n      <td>...</td>\n      <td>...</td>\n      <td>...</td>\n      <td>...</td>\n      <td>...</td>\n    </tr>\n    <tr>\n      <th>157526</th>\n      <td>A893921</td>\n      <td>NaN</td>\n      <td>2023-11-30T12:25:00.000</td>\n      <td>Ridgepoint Dr in Austin (TX)</td>\n      <td>Stray</td>\n      <td>Normal</td>\n      <td>Cat</td>\n      <td>Intact Male</td>\n      <td>3 months</td>\n      <td>Domestic Shorthair</td>\n      <td>Brown Tabby</td>\n    </tr>\n    <tr>\n      <th>157527</th>\n      <td>A893922</td>\n      <td>NaN</td>\n      <td>2023-11-30T12:25:00.000</td>\n      <td>Ridgepoint Dr in Austin (TX)</td>\n      <td>Stray</td>\n      <td>Normal</td>\n      <td>Cat</td>\n      <td>Intact Female</td>\n      <td>3 months</td>\n      <td>Domestic Shorthair</td>\n      <td>Brown Tabby</td>\n    </tr>\n    <tr>\n      <th>157528</th>\n      <td>A893925</td>\n      <td>NaN</td>\n      <td>2023-11-30T12:49:00.000</td>\n      <td>7501 Bethune Avenue in Austin (TX)</td>\n      <td>Stray</td>\n      <td>Normal</td>\n      <td>Cat</td>\n      <td>Intact Male</td>\n      <td>4 months</td>\n      <td>Domestic Shorthair</td>\n      <td>Blue Tabby</td>\n    </tr>\n    <tr>\n      <th>157529</th>\n      <td>A893926</td>\n      <td>NaN</td>\n      <td>2023-11-30T12:27:00.000</td>\n      <td>2400 Wickersham Ln Unit #192 in Austin (TX)</td>\n      <td>Stray</td>\n      <td>Normal</td>\n      <td>Dog</td>\n      <td>Intact Male</td>\n      <td>1 year</td>\n      <td>Siberian Husky/Great Pyrenees</td>\n      <td>White</td>\n    </tr>\n    <tr>\n      <th>157530</th>\n      <td>A893927</td>\n      <td>NaN</td>\n      <td>2023-11-30T13:42:00.000</td>\n      <td>10105 Big Thicket Drive in Austin (TX)</td>\n      <td>Stray</td>\n      <td>Normal</td>\n      <td>Dog</td>\n      <td>Intact Male</td>\n      <td>9 months</td>\n      <td>Siberian Husky</td>\n      <td>Black/White</td>\n    </tr>\n  </tbody>\n</table>\n<p>157531 rows × 11 columns</p>\n</div>"
     },
     "execution_count": 11,
     "metadata": {},
     "output_type": "execute_result"
    }
   ],
   "source": [
    "intake"
   ]
  },
  {
   "cell_type": "code",
   "execution_count": 12,
   "metadata": {
    "ExecuteTime": {
     "end_time": "2023-11-30T23:03:05.603898Z",
     "start_time": "2023-11-30T23:03:05.598126Z"
    }
   },
   "outputs": [
    {
     "data": {
      "text/plain": "       animal_id    name                 datetime            date_of_birth  \\\n0        A006100   Scamp  2014-03-08T17:10:00.000  2007-07-09T00:00:00.000   \n1        A006100   Scamp  2014-12-20T16:35:00.000  2007-07-09T00:00:00.000   \n2        A006100   Scamp  2017-12-07T00:00:00.000  2007-07-09T00:00:00.000   \n3        A047759    Oreo  2014-04-07T15:12:00.000  2004-04-02T00:00:00.000   \n4        A134067  Bandit  2013-11-16T11:54:00.000  1997-10-16T00:00:00.000   \n...          ...     ...                      ...                      ...   \n157453   A893776     NaN  2023-11-30T08:50:00.000  2023-06-28T00:00:00.000   \n157454   A893778     NaN  2023-11-30T08:50:00.000  2021-11-28T00:00:00.000   \n157455   A893795     NaN  2023-11-30T08:50:00.000  2023-07-28T00:00:00.000   \n157456   A893840    Luna  2023-11-30T12:30:00.000  2018-11-29T00:00:00.000   \n157457   A893856  Jin Do  2023-11-30T15:56:00.000  2019-11-29T00:00:00.000   \n\n           outcome_type outcome_subtype animal_type sex_upon_outcome  \\\n0       Return to Owner             NaN         Dog    Neutered Male   \n1       Return to Owner             NaN         Dog    Neutered Male   \n2       Return to Owner             NaN         Dog    Neutered Male   \n3              Transfer         Partner         Dog    Neutered Male   \n4       Return to Owner             NaN         Dog    Neutered Male   \n...                 ...             ...         ...              ...   \n157453         Transfer             Snr         Cat          Unknown   \n157454         Transfer             Snr         Cat          Unknown   \n157455         Transfer             Snr         Cat          Unknown   \n157456  Return to Owner             NaN         Dog    Intact Female   \n157457       Euthanasia       Suffering         Dog    Neutered Male   \n\n       age_upon_outcome                 breed         color  \n0               6 years  Spinone Italiano Mix  Yellow/White  \n1               7 years  Spinone Italiano Mix  Yellow/White  \n2              10 years  Spinone Italiano Mix  Yellow/White  \n3              10 years             Dachshund      Tricolor  \n4              16 years     Shetland Sheepdog   Brown/White  \n...                 ...                   ...           ...  \n157453         5 months     Domestic Longhair    Gray Tabby  \n157454          2 years    Domestic Shorthair   Brown Tabby  \n157455         4 months    Domestic Shorthair  Orange Tabby  \n157456          5 years          Pit Bull Mix   Brown/White  \n157457              NaN       German Shepherd         White  \n\n[157458 rows x 11 columns]",
      "text/html": "<div>\n<style scoped>\n    .dataframe tbody tr th:only-of-type {\n        vertical-align: middle;\n    }\n\n    .dataframe tbody tr th {\n        vertical-align: top;\n    }\n\n    .dataframe thead th {\n        text-align: right;\n    }\n</style>\n<table border=\"1\" class=\"dataframe\">\n  <thead>\n    <tr style=\"text-align: right;\">\n      <th></th>\n      <th>animal_id</th>\n      <th>name</th>\n      <th>datetime</th>\n      <th>date_of_birth</th>\n      <th>outcome_type</th>\n      <th>outcome_subtype</th>\n      <th>animal_type</th>\n      <th>sex_upon_outcome</th>\n      <th>age_upon_outcome</th>\n      <th>breed</th>\n      <th>color</th>\n    </tr>\n  </thead>\n  <tbody>\n    <tr>\n      <th>0</th>\n      <td>A006100</td>\n      <td>Scamp</td>\n      <td>2014-03-08T17:10:00.000</td>\n      <td>2007-07-09T00:00:00.000</td>\n      <td>Return to Owner</td>\n      <td>NaN</td>\n      <td>Dog</td>\n      <td>Neutered Male</td>\n      <td>6 years</td>\n      <td>Spinone Italiano Mix</td>\n      <td>Yellow/White</td>\n    </tr>\n    <tr>\n      <th>1</th>\n      <td>A006100</td>\n      <td>Scamp</td>\n      <td>2014-12-20T16:35:00.000</td>\n      <td>2007-07-09T00:00:00.000</td>\n      <td>Return to Owner</td>\n      <td>NaN</td>\n      <td>Dog</td>\n      <td>Neutered Male</td>\n      <td>7 years</td>\n      <td>Spinone Italiano Mix</td>\n      <td>Yellow/White</td>\n    </tr>\n    <tr>\n      <th>2</th>\n      <td>A006100</td>\n      <td>Scamp</td>\n      <td>2017-12-07T00:00:00.000</td>\n      <td>2007-07-09T00:00:00.000</td>\n      <td>Return to Owner</td>\n      <td>NaN</td>\n      <td>Dog</td>\n      <td>Neutered Male</td>\n      <td>10 years</td>\n      <td>Spinone Italiano Mix</td>\n      <td>Yellow/White</td>\n    </tr>\n    <tr>\n      <th>3</th>\n      <td>A047759</td>\n      <td>Oreo</td>\n      <td>2014-04-07T15:12:00.000</td>\n      <td>2004-04-02T00:00:00.000</td>\n      <td>Transfer</td>\n      <td>Partner</td>\n      <td>Dog</td>\n      <td>Neutered Male</td>\n      <td>10 years</td>\n      <td>Dachshund</td>\n      <td>Tricolor</td>\n    </tr>\n    <tr>\n      <th>4</th>\n      <td>A134067</td>\n      <td>Bandit</td>\n      <td>2013-11-16T11:54:00.000</td>\n      <td>1997-10-16T00:00:00.000</td>\n      <td>Return to Owner</td>\n      <td>NaN</td>\n      <td>Dog</td>\n      <td>Neutered Male</td>\n      <td>16 years</td>\n      <td>Shetland Sheepdog</td>\n      <td>Brown/White</td>\n    </tr>\n    <tr>\n      <th>...</th>\n      <td>...</td>\n      <td>...</td>\n      <td>...</td>\n      <td>...</td>\n      <td>...</td>\n      <td>...</td>\n      <td>...</td>\n      <td>...</td>\n      <td>...</td>\n      <td>...</td>\n      <td>...</td>\n    </tr>\n    <tr>\n      <th>157453</th>\n      <td>A893776</td>\n      <td>NaN</td>\n      <td>2023-11-30T08:50:00.000</td>\n      <td>2023-06-28T00:00:00.000</td>\n      <td>Transfer</td>\n      <td>Snr</td>\n      <td>Cat</td>\n      <td>Unknown</td>\n      <td>5 months</td>\n      <td>Domestic Longhair</td>\n      <td>Gray Tabby</td>\n    </tr>\n    <tr>\n      <th>157454</th>\n      <td>A893778</td>\n      <td>NaN</td>\n      <td>2023-11-30T08:50:00.000</td>\n      <td>2021-11-28T00:00:00.000</td>\n      <td>Transfer</td>\n      <td>Snr</td>\n      <td>Cat</td>\n      <td>Unknown</td>\n      <td>2 years</td>\n      <td>Domestic Shorthair</td>\n      <td>Brown Tabby</td>\n    </tr>\n    <tr>\n      <th>157455</th>\n      <td>A893795</td>\n      <td>NaN</td>\n      <td>2023-11-30T08:50:00.000</td>\n      <td>2023-07-28T00:00:00.000</td>\n      <td>Transfer</td>\n      <td>Snr</td>\n      <td>Cat</td>\n      <td>Unknown</td>\n      <td>4 months</td>\n      <td>Domestic Shorthair</td>\n      <td>Orange Tabby</td>\n    </tr>\n    <tr>\n      <th>157456</th>\n      <td>A893840</td>\n      <td>Luna</td>\n      <td>2023-11-30T12:30:00.000</td>\n      <td>2018-11-29T00:00:00.000</td>\n      <td>Return to Owner</td>\n      <td>NaN</td>\n      <td>Dog</td>\n      <td>Intact Female</td>\n      <td>5 years</td>\n      <td>Pit Bull Mix</td>\n      <td>Brown/White</td>\n    </tr>\n    <tr>\n      <th>157457</th>\n      <td>A893856</td>\n      <td>Jin Do</td>\n      <td>2023-11-30T15:56:00.000</td>\n      <td>2019-11-29T00:00:00.000</td>\n      <td>Euthanasia</td>\n      <td>Suffering</td>\n      <td>Dog</td>\n      <td>Neutered Male</td>\n      <td>NaN</td>\n      <td>German Shepherd</td>\n      <td>White</td>\n    </tr>\n  </tbody>\n</table>\n<p>157458 rows × 11 columns</p>\n</div>"
     },
     "execution_count": 12,
     "metadata": {},
     "output_type": "execute_result"
    }
   ],
   "source": [
    "outcome"
   ]
  },
  {
   "cell_type": "markdown",
   "metadata": {
    "ExecuteTime": {
     "start_time": "2023-11-30T19:04:43.545022Z"
    }
   },
   "source": [
    "## format datetime"
   ]
  },
  {
   "cell_type": "code",
   "execution_count": 13,
   "metadata": {
    "ExecuteTime": {
     "end_time": "2023-11-30T23:03:06.449465Z",
     "start_time": "2023-11-30T23:03:05.660053Z"
    }
   },
   "outputs": [
    {
     "data": {
      "text/plain": "       animal_id    name            datetime  \\\n0        A006100   Scamp 2014-03-07 14:26:00   \n1        A006100   Scamp 2014-12-19 10:21:00   \n2        A006100   Scamp 2017-12-07 14:07:00   \n3        A047759    Oreo 2014-04-02 15:55:00   \n4        A134067  Bandit 2013-11-16 09:02:00   \n...          ...     ...                 ...   \n157526   A893921     NaN 2023-11-30 12:25:00   \n157527   A893922     NaN 2023-11-30 12:25:00   \n157528   A893925     NaN 2023-11-30 12:49:00   \n157529   A893926     NaN 2023-11-30 12:27:00   \n157530   A893927     NaN 2023-11-30 13:42:00   \n\n                                       found_location      intake_type  \\\n0                        8700 Research in Austin (TX)    Public Assist   \n1                   8700 Research Blvd in Austin (TX)    Public Assist   \n2       Colony Creek And Hunters Trace in Austin (TX)            Stray   \n3                                         Austin (TX)  Owner Surrender   \n4                  12034 Research Blvd in Austin (TX)    Public Assist   \n...                                               ...              ...   \n157526                   Ridgepoint Dr in Austin (TX)            Stray   \n157527                   Ridgepoint Dr in Austin (TX)            Stray   \n157528             7501 Bethune Avenue in Austin (TX)            Stray   \n157529    2400 Wickersham Ln Unit #192 in Austin (TX)            Stray   \n157530         10105 Big Thicket Drive in Austin (TX)            Stray   \n\n       intake_condition animal_type sex_upon_intake age_upon_intake  \\\n0                Normal         Dog   Neutered Male         6 years   \n1                Normal         Dog   Neutered Male         7 years   \n2                Normal         Dog   Neutered Male        10 years   \n3                Normal         Dog   Neutered Male        10 years   \n4               Injured         Dog   Neutered Male        16 years   \n...                 ...         ...             ...             ...   \n157526           Normal         Cat     Intact Male        3 months   \n157527           Normal         Cat   Intact Female        3 months   \n157528           Normal         Cat     Intact Male        4 months   \n157529           Normal         Dog     Intact Male          1 year   \n157530           Normal         Dog     Intact Male        9 months   \n\n                                breed         color  \n0                Spinone Italiano Mix  Yellow/White  \n1                Spinone Italiano Mix  Yellow/White  \n2                Spinone Italiano Mix  Yellow/White  \n3                           Dachshund      Tricolor  \n4                   Shetland Sheepdog   Brown/White  \n...                               ...           ...  \n157526             Domestic Shorthair   Brown Tabby  \n157527             Domestic Shorthair   Brown Tabby  \n157528             Domestic Shorthair    Blue Tabby  \n157529  Siberian Husky/Great Pyrenees         White  \n157530                 Siberian Husky   Black/White  \n\n[157531 rows x 11 columns]",
      "text/html": "<div>\n<style scoped>\n    .dataframe tbody tr th:only-of-type {\n        vertical-align: middle;\n    }\n\n    .dataframe tbody tr th {\n        vertical-align: top;\n    }\n\n    .dataframe thead th {\n        text-align: right;\n    }\n</style>\n<table border=\"1\" class=\"dataframe\">\n  <thead>\n    <tr style=\"text-align: right;\">\n      <th></th>\n      <th>animal_id</th>\n      <th>name</th>\n      <th>datetime</th>\n      <th>found_location</th>\n      <th>intake_type</th>\n      <th>intake_condition</th>\n      <th>animal_type</th>\n      <th>sex_upon_intake</th>\n      <th>age_upon_intake</th>\n      <th>breed</th>\n      <th>color</th>\n    </tr>\n  </thead>\n  <tbody>\n    <tr>\n      <th>0</th>\n      <td>A006100</td>\n      <td>Scamp</td>\n      <td>2014-03-07 14:26:00</td>\n      <td>8700 Research in Austin (TX)</td>\n      <td>Public Assist</td>\n      <td>Normal</td>\n      <td>Dog</td>\n      <td>Neutered Male</td>\n      <td>6 years</td>\n      <td>Spinone Italiano Mix</td>\n      <td>Yellow/White</td>\n    </tr>\n    <tr>\n      <th>1</th>\n      <td>A006100</td>\n      <td>Scamp</td>\n      <td>2014-12-19 10:21:00</td>\n      <td>8700 Research Blvd in Austin (TX)</td>\n      <td>Public Assist</td>\n      <td>Normal</td>\n      <td>Dog</td>\n      <td>Neutered Male</td>\n      <td>7 years</td>\n      <td>Spinone Italiano Mix</td>\n      <td>Yellow/White</td>\n    </tr>\n    <tr>\n      <th>2</th>\n      <td>A006100</td>\n      <td>Scamp</td>\n      <td>2017-12-07 14:07:00</td>\n      <td>Colony Creek And Hunters Trace in Austin (TX)</td>\n      <td>Stray</td>\n      <td>Normal</td>\n      <td>Dog</td>\n      <td>Neutered Male</td>\n      <td>10 years</td>\n      <td>Spinone Italiano Mix</td>\n      <td>Yellow/White</td>\n    </tr>\n    <tr>\n      <th>3</th>\n      <td>A047759</td>\n      <td>Oreo</td>\n      <td>2014-04-02 15:55:00</td>\n      <td>Austin (TX)</td>\n      <td>Owner Surrender</td>\n      <td>Normal</td>\n      <td>Dog</td>\n      <td>Neutered Male</td>\n      <td>10 years</td>\n      <td>Dachshund</td>\n      <td>Tricolor</td>\n    </tr>\n    <tr>\n      <th>4</th>\n      <td>A134067</td>\n      <td>Bandit</td>\n      <td>2013-11-16 09:02:00</td>\n      <td>12034 Research Blvd in Austin (TX)</td>\n      <td>Public Assist</td>\n      <td>Injured</td>\n      <td>Dog</td>\n      <td>Neutered Male</td>\n      <td>16 years</td>\n      <td>Shetland Sheepdog</td>\n      <td>Brown/White</td>\n    </tr>\n    <tr>\n      <th>...</th>\n      <td>...</td>\n      <td>...</td>\n      <td>...</td>\n      <td>...</td>\n      <td>...</td>\n      <td>...</td>\n      <td>...</td>\n      <td>...</td>\n      <td>...</td>\n      <td>...</td>\n      <td>...</td>\n    </tr>\n    <tr>\n      <th>157526</th>\n      <td>A893921</td>\n      <td>NaN</td>\n      <td>2023-11-30 12:25:00</td>\n      <td>Ridgepoint Dr in Austin (TX)</td>\n      <td>Stray</td>\n      <td>Normal</td>\n      <td>Cat</td>\n      <td>Intact Male</td>\n      <td>3 months</td>\n      <td>Domestic Shorthair</td>\n      <td>Brown Tabby</td>\n    </tr>\n    <tr>\n      <th>157527</th>\n      <td>A893922</td>\n      <td>NaN</td>\n      <td>2023-11-30 12:25:00</td>\n      <td>Ridgepoint Dr in Austin (TX)</td>\n      <td>Stray</td>\n      <td>Normal</td>\n      <td>Cat</td>\n      <td>Intact Female</td>\n      <td>3 months</td>\n      <td>Domestic Shorthair</td>\n      <td>Brown Tabby</td>\n    </tr>\n    <tr>\n      <th>157528</th>\n      <td>A893925</td>\n      <td>NaN</td>\n      <td>2023-11-30 12:49:00</td>\n      <td>7501 Bethune Avenue in Austin (TX)</td>\n      <td>Stray</td>\n      <td>Normal</td>\n      <td>Cat</td>\n      <td>Intact Male</td>\n      <td>4 months</td>\n      <td>Domestic Shorthair</td>\n      <td>Blue Tabby</td>\n    </tr>\n    <tr>\n      <th>157529</th>\n      <td>A893926</td>\n      <td>NaN</td>\n      <td>2023-11-30 12:27:00</td>\n      <td>2400 Wickersham Ln Unit #192 in Austin (TX)</td>\n      <td>Stray</td>\n      <td>Normal</td>\n      <td>Dog</td>\n      <td>Intact Male</td>\n      <td>1 year</td>\n      <td>Siberian Husky/Great Pyrenees</td>\n      <td>White</td>\n    </tr>\n    <tr>\n      <th>157530</th>\n      <td>A893927</td>\n      <td>NaN</td>\n      <td>2023-11-30 13:42:00</td>\n      <td>10105 Big Thicket Drive in Austin (TX)</td>\n      <td>Stray</td>\n      <td>Normal</td>\n      <td>Dog</td>\n      <td>Intact Male</td>\n      <td>9 months</td>\n      <td>Siberian Husky</td>\n      <td>Black/White</td>\n    </tr>\n  </tbody>\n</table>\n<p>157531 rows × 11 columns</p>\n</div>"
     },
     "execution_count": 13,
     "metadata": {},
     "output_type": "execute_result"
    }
   ],
   "source": [
    "# date_format(df, col, format)\n",
    "date_format(intake, \"datetime\", \"%Y-%m-%d %H:%M\")"
   ]
  },
  {
   "cell_type": "code",
   "execution_count": 14,
   "metadata": {
    "ExecuteTime": {
     "end_time": "2023-11-30T23:03:07.473119Z",
     "start_time": "2023-11-30T23:03:06.509745Z"
    }
   },
   "outputs": [
    {
     "data": {
      "text/plain": "       animal_id    name            datetime date_of_birth     outcome_type  \\\n0        A006100   Scamp 2014-03-08 17:10:00    2007-07-09  Return to Owner   \n1        A006100   Scamp 2014-12-20 16:35:00    2007-07-09  Return to Owner   \n2        A006100   Scamp 2017-12-07 00:00:00    2007-07-09  Return to Owner   \n3        A047759    Oreo 2014-04-07 15:12:00    2004-04-02         Transfer   \n4        A134067  Bandit 2013-11-16 11:54:00    1997-10-16  Return to Owner   \n...          ...     ...                 ...           ...              ...   \n157453   A893776     NaN 2023-11-30 08:50:00    2023-06-28         Transfer   \n157454   A893778     NaN 2023-11-30 08:50:00    2021-11-28         Transfer   \n157455   A893795     NaN 2023-11-30 08:50:00    2023-07-28         Transfer   \n157456   A893840    Luna 2023-11-30 12:30:00    2018-11-29  Return to Owner   \n157457   A893856  Jin Do 2023-11-30 15:56:00    2019-11-29       Euthanasia   \n\n       outcome_subtype animal_type sex_upon_outcome age_upon_outcome  \\\n0                  NaN         Dog    Neutered Male          6 years   \n1                  NaN         Dog    Neutered Male          7 years   \n2                  NaN         Dog    Neutered Male         10 years   \n3              Partner         Dog    Neutered Male         10 years   \n4                  NaN         Dog    Neutered Male         16 years   \n...                ...         ...              ...              ...   \n157453             Snr         Cat          Unknown         5 months   \n157454             Snr         Cat          Unknown          2 years   \n157455             Snr         Cat          Unknown         4 months   \n157456             NaN         Dog    Intact Female          5 years   \n157457       Suffering         Dog    Neutered Male              NaN   \n\n                       breed         color  \n0       Spinone Italiano Mix  Yellow/White  \n1       Spinone Italiano Mix  Yellow/White  \n2       Spinone Italiano Mix  Yellow/White  \n3                  Dachshund      Tricolor  \n4          Shetland Sheepdog   Brown/White  \n...                      ...           ...  \n157453     Domestic Longhair    Gray Tabby  \n157454    Domestic Shorthair   Brown Tabby  \n157455    Domestic Shorthair  Orange Tabby  \n157456          Pit Bull Mix   Brown/White  \n157457       German Shepherd         White  \n\n[157458 rows x 11 columns]",
      "text/html": "<div>\n<style scoped>\n    .dataframe tbody tr th:only-of-type {\n        vertical-align: middle;\n    }\n\n    .dataframe tbody tr th {\n        vertical-align: top;\n    }\n\n    .dataframe thead th {\n        text-align: right;\n    }\n</style>\n<table border=\"1\" class=\"dataframe\">\n  <thead>\n    <tr style=\"text-align: right;\">\n      <th></th>\n      <th>animal_id</th>\n      <th>name</th>\n      <th>datetime</th>\n      <th>date_of_birth</th>\n      <th>outcome_type</th>\n      <th>outcome_subtype</th>\n      <th>animal_type</th>\n      <th>sex_upon_outcome</th>\n      <th>age_upon_outcome</th>\n      <th>breed</th>\n      <th>color</th>\n    </tr>\n  </thead>\n  <tbody>\n    <tr>\n      <th>0</th>\n      <td>A006100</td>\n      <td>Scamp</td>\n      <td>2014-03-08 17:10:00</td>\n      <td>2007-07-09</td>\n      <td>Return to Owner</td>\n      <td>NaN</td>\n      <td>Dog</td>\n      <td>Neutered Male</td>\n      <td>6 years</td>\n      <td>Spinone Italiano Mix</td>\n      <td>Yellow/White</td>\n    </tr>\n    <tr>\n      <th>1</th>\n      <td>A006100</td>\n      <td>Scamp</td>\n      <td>2014-12-20 16:35:00</td>\n      <td>2007-07-09</td>\n      <td>Return to Owner</td>\n      <td>NaN</td>\n      <td>Dog</td>\n      <td>Neutered Male</td>\n      <td>7 years</td>\n      <td>Spinone Italiano Mix</td>\n      <td>Yellow/White</td>\n    </tr>\n    <tr>\n      <th>2</th>\n      <td>A006100</td>\n      <td>Scamp</td>\n      <td>2017-12-07 00:00:00</td>\n      <td>2007-07-09</td>\n      <td>Return to Owner</td>\n      <td>NaN</td>\n      <td>Dog</td>\n      <td>Neutered Male</td>\n      <td>10 years</td>\n      <td>Spinone Italiano Mix</td>\n      <td>Yellow/White</td>\n    </tr>\n    <tr>\n      <th>3</th>\n      <td>A047759</td>\n      <td>Oreo</td>\n      <td>2014-04-07 15:12:00</td>\n      <td>2004-04-02</td>\n      <td>Transfer</td>\n      <td>Partner</td>\n      <td>Dog</td>\n      <td>Neutered Male</td>\n      <td>10 years</td>\n      <td>Dachshund</td>\n      <td>Tricolor</td>\n    </tr>\n    <tr>\n      <th>4</th>\n      <td>A134067</td>\n      <td>Bandit</td>\n      <td>2013-11-16 11:54:00</td>\n      <td>1997-10-16</td>\n      <td>Return to Owner</td>\n      <td>NaN</td>\n      <td>Dog</td>\n      <td>Neutered Male</td>\n      <td>16 years</td>\n      <td>Shetland Sheepdog</td>\n      <td>Brown/White</td>\n    </tr>\n    <tr>\n      <th>...</th>\n      <td>...</td>\n      <td>...</td>\n      <td>...</td>\n      <td>...</td>\n      <td>...</td>\n      <td>...</td>\n      <td>...</td>\n      <td>...</td>\n      <td>...</td>\n      <td>...</td>\n      <td>...</td>\n    </tr>\n    <tr>\n      <th>157453</th>\n      <td>A893776</td>\n      <td>NaN</td>\n      <td>2023-11-30 08:50:00</td>\n      <td>2023-06-28</td>\n      <td>Transfer</td>\n      <td>Snr</td>\n      <td>Cat</td>\n      <td>Unknown</td>\n      <td>5 months</td>\n      <td>Domestic Longhair</td>\n      <td>Gray Tabby</td>\n    </tr>\n    <tr>\n      <th>157454</th>\n      <td>A893778</td>\n      <td>NaN</td>\n      <td>2023-11-30 08:50:00</td>\n      <td>2021-11-28</td>\n      <td>Transfer</td>\n      <td>Snr</td>\n      <td>Cat</td>\n      <td>Unknown</td>\n      <td>2 years</td>\n      <td>Domestic Shorthair</td>\n      <td>Brown Tabby</td>\n    </tr>\n    <tr>\n      <th>157455</th>\n      <td>A893795</td>\n      <td>NaN</td>\n      <td>2023-11-30 08:50:00</td>\n      <td>2023-07-28</td>\n      <td>Transfer</td>\n      <td>Snr</td>\n      <td>Cat</td>\n      <td>Unknown</td>\n      <td>4 months</td>\n      <td>Domestic Shorthair</td>\n      <td>Orange Tabby</td>\n    </tr>\n    <tr>\n      <th>157456</th>\n      <td>A893840</td>\n      <td>Luna</td>\n      <td>2023-11-30 12:30:00</td>\n      <td>2018-11-29</td>\n      <td>Return to Owner</td>\n      <td>NaN</td>\n      <td>Dog</td>\n      <td>Intact Female</td>\n      <td>5 years</td>\n      <td>Pit Bull Mix</td>\n      <td>Brown/White</td>\n    </tr>\n    <tr>\n      <th>157457</th>\n      <td>A893856</td>\n      <td>Jin Do</td>\n      <td>2023-11-30 15:56:00</td>\n      <td>2019-11-29</td>\n      <td>Euthanasia</td>\n      <td>Suffering</td>\n      <td>Dog</td>\n      <td>Neutered Male</td>\n      <td>NaN</td>\n      <td>German Shepherd</td>\n      <td>White</td>\n    </tr>\n  </tbody>\n</table>\n<p>157458 rows × 11 columns</p>\n</div>"
     },
     "execution_count": 14,
     "metadata": {},
     "output_type": "execute_result"
    }
   ],
   "source": [
    "date_format(outcome, \"datetime\", \"%Y-%m-%d %H:%M\")\n",
    "date_format(outcome, \"date_of_birth\", \"%Y-%m-%d\")"
   ]
  },
  {
   "cell_type": "markdown",
   "source": [
    "# Merge dataframes"
   ],
   "metadata": {
    "collapsed": false,
    "ExecuteTime": {
     "start_time": "2023-11-30T19:04:43.548376Z"
    }
   }
  },
  {
   "cell_type": "code",
   "execution_count": 15,
   "outputs": [
    {
     "data": {
      "text/plain": "Index(['animal_id', 'name', 'datetime', 'found_location', 'intake_type',\n       'intake_condition', 'animal_type', 'sex_upon_intake', 'age_upon_intake',\n       'breed', 'color'],\n      dtype='object')"
     },
     "execution_count": 15,
     "metadata": {},
     "output_type": "execute_result"
    }
   ],
   "source": [
    "intake.columns"
   ],
   "metadata": {
    "collapsed": false,
    "ExecuteTime": {
     "end_time": "2023-11-30T23:03:07.478356Z",
     "start_time": "2023-11-30T23:03:07.473526Z"
    }
   }
  },
  {
   "cell_type": "code",
   "execution_count": 16,
   "outputs": [
    {
     "data": {
      "text/plain": "Index(['animal_id', 'name', 'datetime', 'date_of_birth', 'outcome_type',\n       'outcome_subtype', 'animal_type', 'sex_upon_outcome',\n       'age_upon_outcome', 'breed', 'color'],\n      dtype='object')"
     },
     "execution_count": 16,
     "metadata": {},
     "output_type": "execute_result"
    }
   ],
   "source": [
    "outcome.columns"
   ],
   "metadata": {
    "collapsed": false,
    "ExecuteTime": {
     "end_time": "2023-11-30T23:03:07.483612Z",
     "start_time": "2023-11-30T23:03:07.478822Z"
    }
   }
  },
  {
   "cell_type": "markdown",
   "source": [
    "# Drop duplicated columns in outcome data"
   ],
   "metadata": {
    "collapsed": false,
    "ExecuteTime": {
     "start_time": "2023-11-30T19:04:43.551335Z"
    }
   }
  },
  {
   "cell_type": "code",
   "execution_count": 17,
   "outputs": [],
   "source": [
    "outcome.drop([\"name\", \"animal_type\", \"sex_upon_outcome\", \"breed\", \"color\"],\n",
    "             inplace=True,\n",
    "             axis=1)"
   ],
   "metadata": {
    "collapsed": false,
    "ExecuteTime": {
     "end_time": "2023-11-30T23:03:07.524957Z",
     "start_time": "2023-11-30T23:03:07.481254Z"
    }
   }
  },
  {
   "cell_type": "code",
   "execution_count": 18,
   "outputs": [
    {
     "data": {
      "text/plain": "       animal_id    name     datetime_intake  \\\n0        A006100   Scamp 2014-03-07 14:26:00   \n1        A006100   Scamp 2014-12-19 10:21:00   \n2        A006100   Scamp 2017-12-07 14:07:00   \n3        A047759    Oreo 2014-04-02 15:55:00   \n4        A134067  Bandit 2013-11-16 09:02:00   \n...          ...     ...                 ...   \n157527   A893921     NaN 2023-11-30 12:25:00   \n157528   A893922     NaN 2023-11-30 12:25:00   \n157529   A893925     NaN 2023-11-30 12:49:00   \n157530   A893926     NaN 2023-11-30 12:27:00   \n157531   A893927     NaN 2023-11-30 13:42:00   \n\n                                       found_location      intake_type  \\\n0                        8700 Research in Austin (TX)    Public Assist   \n1                   8700 Research Blvd in Austin (TX)    Public Assist   \n2       Colony Creek And Hunters Trace in Austin (TX)            Stray   \n3                                         Austin (TX)  Owner Surrender   \n4                  12034 Research Blvd in Austin (TX)    Public Assist   \n...                                               ...              ...   \n157527                   Ridgepoint Dr in Austin (TX)            Stray   \n157528                   Ridgepoint Dr in Austin (TX)            Stray   \n157529             7501 Bethune Avenue in Austin (TX)            Stray   \n157530    2400 Wickersham Ln Unit #192 in Austin (TX)            Stray   \n157531         10105 Big Thicket Drive in Austin (TX)            Stray   \n\n       intake_condition animal_type sex_upon_intake age_upon_intake  \\\n0                Normal         Dog   Neutered Male         6 years   \n1                Normal         Dog   Neutered Male         7 years   \n2                Normal         Dog   Neutered Male        10 years   \n3                Normal         Dog   Neutered Male        10 years   \n4               Injured         Dog   Neutered Male        16 years   \n...                 ...         ...             ...             ...   \n157527           Normal         Cat     Intact Male        3 months   \n157528           Normal         Cat   Intact Female        3 months   \n157529           Normal         Cat     Intact Male        4 months   \n157530           Normal         Dog     Intact Male          1 year   \n157531           Normal         Dog     Intact Male        9 months   \n\n                                breed         color    datetime_outcome  \\\n0                Spinone Italiano Mix  Yellow/White 2014-03-08 17:10:00   \n1                Spinone Italiano Mix  Yellow/White 2014-12-20 16:35:00   \n2                Spinone Italiano Mix  Yellow/White 2017-12-07 00:00:00   \n3                           Dachshund      Tricolor 2014-04-07 15:12:00   \n4                   Shetland Sheepdog   Brown/White 2013-11-16 11:54:00   \n...                               ...           ...                 ...   \n157527             Domestic Shorthair   Brown Tabby                 NaT   \n157528             Domestic Shorthair   Brown Tabby                 NaT   \n157529             Domestic Shorthair    Blue Tabby                 NaT   \n157530  Siberian Husky/Great Pyrenees         White                 NaT   \n157531                 Siberian Husky   Black/White                 NaT   \n\n          datetime_outcome date_of_birth     outcome_type outcome_subtype  \\\n0      2014-03-08 17:10:00    2007-07-09  Return to Owner             NaN   \n1      2014-12-20 16:35:00    2007-07-09  Return to Owner             NaN   \n2      2017-12-07 00:00:00    2007-07-09  Return to Owner             NaN   \n3      2014-04-07 15:12:00    2004-04-02         Transfer         Partner   \n4      2013-11-16 11:54:00    1997-10-16  Return to Owner             NaN   \n...                    ...           ...              ...             ...   \n157527                 NaT           NaT              NaN             NaN   \n157528                 NaT           NaT              NaN             NaN   \n157529                 NaT           NaT              NaN             NaN   \n157530                 NaT           NaT              NaN             NaN   \n157531                 NaT           NaT              NaN             NaN   \n\n       age_upon_outcome  \n0               6 years  \n1               7 years  \n2              10 years  \n3              10 years  \n4              16 years  \n...                 ...  \n157527              NaN  \n157528              NaN  \n157529              NaN  \n157530              NaN  \n157531              NaN  \n\n[157532 rows x 17 columns]",
      "text/html": "<div>\n<style scoped>\n    .dataframe tbody tr th:only-of-type {\n        vertical-align: middle;\n    }\n\n    .dataframe tbody tr th {\n        vertical-align: top;\n    }\n\n    .dataframe thead th {\n        text-align: right;\n    }\n</style>\n<table border=\"1\" class=\"dataframe\">\n  <thead>\n    <tr style=\"text-align: right;\">\n      <th></th>\n      <th>animal_id</th>\n      <th>name</th>\n      <th>datetime_intake</th>\n      <th>found_location</th>\n      <th>intake_type</th>\n      <th>intake_condition</th>\n      <th>animal_type</th>\n      <th>sex_upon_intake</th>\n      <th>age_upon_intake</th>\n      <th>breed</th>\n      <th>color</th>\n      <th>datetime_outcome</th>\n      <th>datetime_outcome</th>\n      <th>date_of_birth</th>\n      <th>outcome_type</th>\n      <th>outcome_subtype</th>\n      <th>age_upon_outcome</th>\n    </tr>\n  </thead>\n  <tbody>\n    <tr>\n      <th>0</th>\n      <td>A006100</td>\n      <td>Scamp</td>\n      <td>2014-03-07 14:26:00</td>\n      <td>8700 Research in Austin (TX)</td>\n      <td>Public Assist</td>\n      <td>Normal</td>\n      <td>Dog</td>\n      <td>Neutered Male</td>\n      <td>6 years</td>\n      <td>Spinone Italiano Mix</td>\n      <td>Yellow/White</td>\n      <td>2014-03-08 17:10:00</td>\n      <td>2014-03-08 17:10:00</td>\n      <td>2007-07-09</td>\n      <td>Return to Owner</td>\n      <td>NaN</td>\n      <td>6 years</td>\n    </tr>\n    <tr>\n      <th>1</th>\n      <td>A006100</td>\n      <td>Scamp</td>\n      <td>2014-12-19 10:21:00</td>\n      <td>8700 Research Blvd in Austin (TX)</td>\n      <td>Public Assist</td>\n      <td>Normal</td>\n      <td>Dog</td>\n      <td>Neutered Male</td>\n      <td>7 years</td>\n      <td>Spinone Italiano Mix</td>\n      <td>Yellow/White</td>\n      <td>2014-12-20 16:35:00</td>\n      <td>2014-12-20 16:35:00</td>\n      <td>2007-07-09</td>\n      <td>Return to Owner</td>\n      <td>NaN</td>\n      <td>7 years</td>\n    </tr>\n    <tr>\n      <th>2</th>\n      <td>A006100</td>\n      <td>Scamp</td>\n      <td>2017-12-07 14:07:00</td>\n      <td>Colony Creek And Hunters Trace in Austin (TX)</td>\n      <td>Stray</td>\n      <td>Normal</td>\n      <td>Dog</td>\n      <td>Neutered Male</td>\n      <td>10 years</td>\n      <td>Spinone Italiano Mix</td>\n      <td>Yellow/White</td>\n      <td>2017-12-07 00:00:00</td>\n      <td>2017-12-07 00:00:00</td>\n      <td>2007-07-09</td>\n      <td>Return to Owner</td>\n      <td>NaN</td>\n      <td>10 years</td>\n    </tr>\n    <tr>\n      <th>3</th>\n      <td>A047759</td>\n      <td>Oreo</td>\n      <td>2014-04-02 15:55:00</td>\n      <td>Austin (TX)</td>\n      <td>Owner Surrender</td>\n      <td>Normal</td>\n      <td>Dog</td>\n      <td>Neutered Male</td>\n      <td>10 years</td>\n      <td>Dachshund</td>\n      <td>Tricolor</td>\n      <td>2014-04-07 15:12:00</td>\n      <td>2014-04-07 15:12:00</td>\n      <td>2004-04-02</td>\n      <td>Transfer</td>\n      <td>Partner</td>\n      <td>10 years</td>\n    </tr>\n    <tr>\n      <th>4</th>\n      <td>A134067</td>\n      <td>Bandit</td>\n      <td>2013-11-16 09:02:00</td>\n      <td>12034 Research Blvd in Austin (TX)</td>\n      <td>Public Assist</td>\n      <td>Injured</td>\n      <td>Dog</td>\n      <td>Neutered Male</td>\n      <td>16 years</td>\n      <td>Shetland Sheepdog</td>\n      <td>Brown/White</td>\n      <td>2013-11-16 11:54:00</td>\n      <td>2013-11-16 11:54:00</td>\n      <td>1997-10-16</td>\n      <td>Return to Owner</td>\n      <td>NaN</td>\n      <td>16 years</td>\n    </tr>\n    <tr>\n      <th>...</th>\n      <td>...</td>\n      <td>...</td>\n      <td>...</td>\n      <td>...</td>\n      <td>...</td>\n      <td>...</td>\n      <td>...</td>\n      <td>...</td>\n      <td>...</td>\n      <td>...</td>\n      <td>...</td>\n      <td>...</td>\n      <td>...</td>\n      <td>...</td>\n      <td>...</td>\n      <td>...</td>\n      <td>...</td>\n    </tr>\n    <tr>\n      <th>157527</th>\n      <td>A893921</td>\n      <td>NaN</td>\n      <td>2023-11-30 12:25:00</td>\n      <td>Ridgepoint Dr in Austin (TX)</td>\n      <td>Stray</td>\n      <td>Normal</td>\n      <td>Cat</td>\n      <td>Intact Male</td>\n      <td>3 months</td>\n      <td>Domestic Shorthair</td>\n      <td>Brown Tabby</td>\n      <td>NaT</td>\n      <td>NaT</td>\n      <td>NaT</td>\n      <td>NaN</td>\n      <td>NaN</td>\n      <td>NaN</td>\n    </tr>\n    <tr>\n      <th>157528</th>\n      <td>A893922</td>\n      <td>NaN</td>\n      <td>2023-11-30 12:25:00</td>\n      <td>Ridgepoint Dr in Austin (TX)</td>\n      <td>Stray</td>\n      <td>Normal</td>\n      <td>Cat</td>\n      <td>Intact Female</td>\n      <td>3 months</td>\n      <td>Domestic Shorthair</td>\n      <td>Brown Tabby</td>\n      <td>NaT</td>\n      <td>NaT</td>\n      <td>NaT</td>\n      <td>NaN</td>\n      <td>NaN</td>\n      <td>NaN</td>\n    </tr>\n    <tr>\n      <th>157529</th>\n      <td>A893925</td>\n      <td>NaN</td>\n      <td>2023-11-30 12:49:00</td>\n      <td>7501 Bethune Avenue in Austin (TX)</td>\n      <td>Stray</td>\n      <td>Normal</td>\n      <td>Cat</td>\n      <td>Intact Male</td>\n      <td>4 months</td>\n      <td>Domestic Shorthair</td>\n      <td>Blue Tabby</td>\n      <td>NaT</td>\n      <td>NaT</td>\n      <td>NaT</td>\n      <td>NaN</td>\n      <td>NaN</td>\n      <td>NaN</td>\n    </tr>\n    <tr>\n      <th>157530</th>\n      <td>A893926</td>\n      <td>NaN</td>\n      <td>2023-11-30 12:27:00</td>\n      <td>2400 Wickersham Ln Unit #192 in Austin (TX)</td>\n      <td>Stray</td>\n      <td>Normal</td>\n      <td>Dog</td>\n      <td>Intact Male</td>\n      <td>1 year</td>\n      <td>Siberian Husky/Great Pyrenees</td>\n      <td>White</td>\n      <td>NaT</td>\n      <td>NaT</td>\n      <td>NaT</td>\n      <td>NaN</td>\n      <td>NaN</td>\n      <td>NaN</td>\n    </tr>\n    <tr>\n      <th>157531</th>\n      <td>A893927</td>\n      <td>NaN</td>\n      <td>2023-11-30 13:42:00</td>\n      <td>10105 Big Thicket Drive in Austin (TX)</td>\n      <td>Stray</td>\n      <td>Normal</td>\n      <td>Dog</td>\n      <td>Intact Male</td>\n      <td>9 months</td>\n      <td>Siberian Husky</td>\n      <td>Black/White</td>\n      <td>NaT</td>\n      <td>NaT</td>\n      <td>NaT</td>\n      <td>NaN</td>\n      <td>NaN</td>\n      <td>NaN</td>\n    </tr>\n  </tbody>\n</table>\n<p>157532 rows × 17 columns</p>\n</div>"
     },
     "execution_count": 18,
     "metadata": {},
     "output_type": "execute_result"
    }
   ],
   "source": [
    "intake_n_outcome = merge_intake_n_outcome(intake, outcome)\n",
    "intake_n_outcome"
   ],
   "metadata": {
    "collapsed": false,
    "ExecuteTime": {
     "end_time": "2023-11-30T23:03:24.734952Z",
     "start_time": "2023-11-30T23:03:07.495982Z"
    }
   }
  },
  {
   "cell_type": "markdown",
   "source": [
    "In certain cases, an animal's information may be entered multiple times due to updates in basic details such as `intake_type` or `intake_condition`. Consequently, resolving the issue by solely dropping duplicates at the outset may not suffice. Instead, duplicates will be identified if rows exhibit matching values for `animal_id`, `intake_datetime`, and `outcome_datetime`."
   ],
   "metadata": {
    "collapsed": false,
    "ExecuteTime": {
     "start_time": "2023-11-30T19:04:43.553245Z"
    }
   }
  },
  {
   "cell_type": "code",
   "execution_count": 19,
   "outputs": [
    {
     "data": {
      "text/plain": "       animal_id    name     datetime_intake  \\\n0        A006100   Scamp 2014-03-07 14:26:00   \n1        A006100   Scamp 2014-12-19 10:21:00   \n2        A006100   Scamp 2017-12-07 14:07:00   \n3        A047759    Oreo 2014-04-02 15:55:00   \n4        A134067  Bandit 2013-11-16 09:02:00   \n...          ...     ...                 ...   \n157527   A893921     NaN 2023-11-30 12:25:00   \n157528   A893922     NaN 2023-11-30 12:25:00   \n157529   A893925     NaN 2023-11-30 12:49:00   \n157530   A893926     NaN 2023-11-30 12:27:00   \n157531   A893927     NaN 2023-11-30 13:42:00   \n\n                                       found_location      intake_type  \\\n0                        8700 Research in Austin (TX)    Public Assist   \n1                   8700 Research Blvd in Austin (TX)    Public Assist   \n2       Colony Creek And Hunters Trace in Austin (TX)            Stray   \n3                                         Austin (TX)  Owner Surrender   \n4                  12034 Research Blvd in Austin (TX)    Public Assist   \n...                                               ...              ...   \n157527                   Ridgepoint Dr in Austin (TX)            Stray   \n157528                   Ridgepoint Dr in Austin (TX)            Stray   \n157529             7501 Bethune Avenue in Austin (TX)            Stray   \n157530    2400 Wickersham Ln Unit #192 in Austin (TX)            Stray   \n157531         10105 Big Thicket Drive in Austin (TX)            Stray   \n\n       intake_condition animal_type sex_upon_intake age_upon_intake  \\\n0                Normal         Dog   Neutered Male         6 years   \n1                Normal         Dog   Neutered Male         7 years   \n2                Normal         Dog   Neutered Male        10 years   \n3                Normal         Dog   Neutered Male        10 years   \n4               Injured         Dog   Neutered Male        16 years   \n...                 ...         ...             ...             ...   \n157527           Normal         Cat     Intact Male        3 months   \n157528           Normal         Cat   Intact Female        3 months   \n157529           Normal         Cat     Intact Male        4 months   \n157530           Normal         Dog     Intact Male          1 year   \n157531           Normal         Dog     Intact Male        9 months   \n\n                                breed         color    datetime_outcome  \\\n0                Spinone Italiano Mix  Yellow/White 2014-03-08 17:10:00   \n1                Spinone Italiano Mix  Yellow/White 2014-12-20 16:35:00   \n2                Spinone Italiano Mix  Yellow/White 2017-12-07 00:00:00   \n3                           Dachshund      Tricolor 2014-04-07 15:12:00   \n4                   Shetland Sheepdog   Brown/White 2013-11-16 11:54:00   \n...                               ...           ...                 ...   \n157527             Domestic Shorthair   Brown Tabby                 NaT   \n157528             Domestic Shorthair   Brown Tabby                 NaT   \n157529             Domestic Shorthair    Blue Tabby                 NaT   \n157530  Siberian Husky/Great Pyrenees         White                 NaT   \n157531                 Siberian Husky   Black/White                 NaT   \n\n       date_of_birth     outcome_type outcome_subtype age_upon_outcome  \n0         2007-07-09  Return to Owner             NaN          6 years  \n1         2007-07-09  Return to Owner             NaN          7 years  \n2         2007-07-09  Return to Owner             NaN         10 years  \n3         2004-04-02         Transfer         Partner         10 years  \n4         1997-10-16  Return to Owner             NaN         16 years  \n...              ...              ...             ...              ...  \n157527           NaT              NaN             NaN              NaN  \n157528           NaT              NaN             NaN              NaN  \n157529           NaT              NaN             NaN              NaN  \n157530           NaT              NaN             NaN              NaN  \n157531           NaT              NaN             NaN              NaN  \n\n[157531 rows x 16 columns]",
      "text/html": "<div>\n<style scoped>\n    .dataframe tbody tr th:only-of-type {\n        vertical-align: middle;\n    }\n\n    .dataframe tbody tr th {\n        vertical-align: top;\n    }\n\n    .dataframe thead th {\n        text-align: right;\n    }\n</style>\n<table border=\"1\" class=\"dataframe\">\n  <thead>\n    <tr style=\"text-align: right;\">\n      <th></th>\n      <th>animal_id</th>\n      <th>name</th>\n      <th>datetime_intake</th>\n      <th>found_location</th>\n      <th>intake_type</th>\n      <th>intake_condition</th>\n      <th>animal_type</th>\n      <th>sex_upon_intake</th>\n      <th>age_upon_intake</th>\n      <th>breed</th>\n      <th>color</th>\n      <th>datetime_outcome</th>\n      <th>date_of_birth</th>\n      <th>outcome_type</th>\n      <th>outcome_subtype</th>\n      <th>age_upon_outcome</th>\n    </tr>\n  </thead>\n  <tbody>\n    <tr>\n      <th>0</th>\n      <td>A006100</td>\n      <td>Scamp</td>\n      <td>2014-03-07 14:26:00</td>\n      <td>8700 Research in Austin (TX)</td>\n      <td>Public Assist</td>\n      <td>Normal</td>\n      <td>Dog</td>\n      <td>Neutered Male</td>\n      <td>6 years</td>\n      <td>Spinone Italiano Mix</td>\n      <td>Yellow/White</td>\n      <td>2014-03-08 17:10:00</td>\n      <td>2007-07-09</td>\n      <td>Return to Owner</td>\n      <td>NaN</td>\n      <td>6 years</td>\n    </tr>\n    <tr>\n      <th>1</th>\n      <td>A006100</td>\n      <td>Scamp</td>\n      <td>2014-12-19 10:21:00</td>\n      <td>8700 Research Blvd in Austin (TX)</td>\n      <td>Public Assist</td>\n      <td>Normal</td>\n      <td>Dog</td>\n      <td>Neutered Male</td>\n      <td>7 years</td>\n      <td>Spinone Italiano Mix</td>\n      <td>Yellow/White</td>\n      <td>2014-12-20 16:35:00</td>\n      <td>2007-07-09</td>\n      <td>Return to Owner</td>\n      <td>NaN</td>\n      <td>7 years</td>\n    </tr>\n    <tr>\n      <th>2</th>\n      <td>A006100</td>\n      <td>Scamp</td>\n      <td>2017-12-07 14:07:00</td>\n      <td>Colony Creek And Hunters Trace in Austin (TX)</td>\n      <td>Stray</td>\n      <td>Normal</td>\n      <td>Dog</td>\n      <td>Neutered Male</td>\n      <td>10 years</td>\n      <td>Spinone Italiano Mix</td>\n      <td>Yellow/White</td>\n      <td>2017-12-07 00:00:00</td>\n      <td>2007-07-09</td>\n      <td>Return to Owner</td>\n      <td>NaN</td>\n      <td>10 years</td>\n    </tr>\n    <tr>\n      <th>3</th>\n      <td>A047759</td>\n      <td>Oreo</td>\n      <td>2014-04-02 15:55:00</td>\n      <td>Austin (TX)</td>\n      <td>Owner Surrender</td>\n      <td>Normal</td>\n      <td>Dog</td>\n      <td>Neutered Male</td>\n      <td>10 years</td>\n      <td>Dachshund</td>\n      <td>Tricolor</td>\n      <td>2014-04-07 15:12:00</td>\n      <td>2004-04-02</td>\n      <td>Transfer</td>\n      <td>Partner</td>\n      <td>10 years</td>\n    </tr>\n    <tr>\n      <th>4</th>\n      <td>A134067</td>\n      <td>Bandit</td>\n      <td>2013-11-16 09:02:00</td>\n      <td>12034 Research Blvd in Austin (TX)</td>\n      <td>Public Assist</td>\n      <td>Injured</td>\n      <td>Dog</td>\n      <td>Neutered Male</td>\n      <td>16 years</td>\n      <td>Shetland Sheepdog</td>\n      <td>Brown/White</td>\n      <td>2013-11-16 11:54:00</td>\n      <td>1997-10-16</td>\n      <td>Return to Owner</td>\n      <td>NaN</td>\n      <td>16 years</td>\n    </tr>\n    <tr>\n      <th>...</th>\n      <td>...</td>\n      <td>...</td>\n      <td>...</td>\n      <td>...</td>\n      <td>...</td>\n      <td>...</td>\n      <td>...</td>\n      <td>...</td>\n      <td>...</td>\n      <td>...</td>\n      <td>...</td>\n      <td>...</td>\n      <td>...</td>\n      <td>...</td>\n      <td>...</td>\n      <td>...</td>\n    </tr>\n    <tr>\n      <th>157527</th>\n      <td>A893921</td>\n      <td>NaN</td>\n      <td>2023-11-30 12:25:00</td>\n      <td>Ridgepoint Dr in Austin (TX)</td>\n      <td>Stray</td>\n      <td>Normal</td>\n      <td>Cat</td>\n      <td>Intact Male</td>\n      <td>3 months</td>\n      <td>Domestic Shorthair</td>\n      <td>Brown Tabby</td>\n      <td>NaT</td>\n      <td>NaT</td>\n      <td>NaN</td>\n      <td>NaN</td>\n      <td>NaN</td>\n    </tr>\n    <tr>\n      <th>157528</th>\n      <td>A893922</td>\n      <td>NaN</td>\n      <td>2023-11-30 12:25:00</td>\n      <td>Ridgepoint Dr in Austin (TX)</td>\n      <td>Stray</td>\n      <td>Normal</td>\n      <td>Cat</td>\n      <td>Intact Female</td>\n      <td>3 months</td>\n      <td>Domestic Shorthair</td>\n      <td>Brown Tabby</td>\n      <td>NaT</td>\n      <td>NaT</td>\n      <td>NaN</td>\n      <td>NaN</td>\n      <td>NaN</td>\n    </tr>\n    <tr>\n      <th>157529</th>\n      <td>A893925</td>\n      <td>NaN</td>\n      <td>2023-11-30 12:49:00</td>\n      <td>7501 Bethune Avenue in Austin (TX)</td>\n      <td>Stray</td>\n      <td>Normal</td>\n      <td>Cat</td>\n      <td>Intact Male</td>\n      <td>4 months</td>\n      <td>Domestic Shorthair</td>\n      <td>Blue Tabby</td>\n      <td>NaT</td>\n      <td>NaT</td>\n      <td>NaN</td>\n      <td>NaN</td>\n      <td>NaN</td>\n    </tr>\n    <tr>\n      <th>157530</th>\n      <td>A893926</td>\n      <td>NaN</td>\n      <td>2023-11-30 12:27:00</td>\n      <td>2400 Wickersham Ln Unit #192 in Austin (TX)</td>\n      <td>Stray</td>\n      <td>Normal</td>\n      <td>Dog</td>\n      <td>Intact Male</td>\n      <td>1 year</td>\n      <td>Siberian Husky/Great Pyrenees</td>\n      <td>White</td>\n      <td>NaT</td>\n      <td>NaT</td>\n      <td>NaN</td>\n      <td>NaN</td>\n      <td>NaN</td>\n    </tr>\n    <tr>\n      <th>157531</th>\n      <td>A893927</td>\n      <td>NaN</td>\n      <td>2023-11-30 13:42:00</td>\n      <td>10105 Big Thicket Drive in Austin (TX)</td>\n      <td>Stray</td>\n      <td>Normal</td>\n      <td>Dog</td>\n      <td>Intact Male</td>\n      <td>9 months</td>\n      <td>Siberian Husky</td>\n      <td>Black/White</td>\n      <td>NaT</td>\n      <td>NaT</td>\n      <td>NaN</td>\n      <td>NaN</td>\n      <td>NaN</td>\n    </tr>\n  </tbody>\n</table>\n<p>157531 rows × 16 columns</p>\n</div>"
     },
     "execution_count": 19,
     "metadata": {},
     "output_type": "execute_result"
    }
   ],
   "source": [
    "intake_n_outcome.drop_duplicates(subset = [\"animal_id\", \"datetime_intake\", \"datetime_outcome\"],\n",
    "                                 inplace=True)\n",
    "intake_n_outcome = intake_n_outcome.loc[:,~intake_n_outcome.columns.duplicated()]\n",
    "intake_n_outcome"
   ],
   "metadata": {
    "collapsed": false,
    "ExecuteTime": {
     "end_time": "2023-11-30T23:03:24.942344Z",
     "start_time": "2023-11-30T23:03:24.742609Z"
    }
   }
  },
  {
   "cell_type": "code",
   "execution_count": 20,
   "outputs": [
    {
     "data": {
      "text/plain": "Index(['animal_id', 'name', 'datetime_intake', 'found_location', 'intake_type',\n       'intake_condition', 'animal_type', 'sex_upon_intake', 'age_upon_intake',\n       'breed', 'color', 'datetime_outcome', 'date_of_birth', 'outcome_type',\n       'outcome_subtype', 'age_upon_outcome'],\n      dtype='object')"
     },
     "execution_count": 20,
     "metadata": {},
     "output_type": "execute_result"
    }
   ],
   "source": [
    "intake_n_outcome.columns"
   ],
   "metadata": {
    "collapsed": false,
    "ExecuteTime": {
     "end_time": "2023-11-30T23:03:24.942731Z",
     "start_time": "2023-11-30T23:03:24.835769Z"
    }
   }
  },
  {
   "cell_type": "code",
   "execution_count": 21,
   "outputs": [
    {
     "data": {
      "text/plain": "       animal_id    name animal_type            sex  \\\n0        A006100   Scamp         Dog  Neutered Male   \n1        A006100   Scamp         Dog  Neutered Male   \n2        A006100   Scamp         Dog  Neutered Male   \n3        A047759    Oreo         Dog  Neutered Male   \n4        A134067  Bandit         Dog  Neutered Male   \n...          ...     ...         ...            ...   \n157527   A893921     NaN         Cat    Intact Male   \n157528   A893922     NaN         Cat  Intact Female   \n157529   A893925     NaN         Cat    Intact Male   \n157530   A893926     NaN         Dog    Intact Male   \n157531   A893927     NaN         Dog    Intact Male   \n\n                                breed         color date_of_birth  \\\n0                Spinone Italiano Mix  Yellow/White    2007-07-09   \n1                Spinone Italiano Mix  Yellow/White    2007-07-09   \n2                Spinone Italiano Mix  Yellow/White    2007-07-09   \n3                           Dachshund      Tricolor    2004-04-02   \n4                   Shetland Sheepdog   Brown/White    1997-10-16   \n...                               ...           ...           ...   \n157527             Domestic Shorthair   Brown Tabby           NaT   \n157528             Domestic Shorthair   Brown Tabby           NaT   \n157529             Domestic Shorthair    Blue Tabby           NaT   \n157530  Siberian Husky/Great Pyrenees         White           NaT   \n157531                 Siberian Husky   Black/White           NaT   \n\n                                       found_location     intake_datetime  \\\n0                        8700 Research in Austin (TX) 2014-03-07 14:26:00   \n1                   8700 Research Blvd in Austin (TX) 2014-12-19 10:21:00   \n2       Colony Creek And Hunters Trace in Austin (TX) 2017-12-07 14:07:00   \n3                                         Austin (TX) 2014-04-02 15:55:00   \n4                  12034 Research Blvd in Austin (TX) 2013-11-16 09:02:00   \n...                                               ...                 ...   \n157527                   Ridgepoint Dr in Austin (TX) 2023-11-30 12:25:00   \n157528                   Ridgepoint Dr in Austin (TX) 2023-11-30 12:25:00   \n157529             7501 Bethune Avenue in Austin (TX) 2023-11-30 12:49:00   \n157530    2400 Wickersham Ln Unit #192 in Austin (TX) 2023-11-30 12:27:00   \n157531         10105 Big Thicket Drive in Austin (TX) 2023-11-30 13:42:00   \n\n       age_upon_intake    outcome_datetime age_upon_outcome      intake_type  \\\n0              6 years 2014-03-08 17:10:00          6 years    Public Assist   \n1              7 years 2014-12-20 16:35:00          7 years    Public Assist   \n2             10 years 2017-12-07 00:00:00         10 years            Stray   \n3             10 years 2014-04-07 15:12:00         10 years  Owner Surrender   \n4             16 years 2013-11-16 11:54:00         16 years    Public Assist   \n...                ...                 ...              ...              ...   \n157527        3 months                 NaT              NaN            Stray   \n157528        3 months                 NaT              NaN            Stray   \n157529        4 months                 NaT              NaN            Stray   \n157530          1 year                 NaT              NaN            Stray   \n157531        9 months                 NaT              NaN            Stray   \n\n       intake_condition     outcome_type outcome_subtype  \n0                Normal  Return to Owner             NaN  \n1                Normal  Return to Owner             NaN  \n2                Normal  Return to Owner             NaN  \n3                Normal         Transfer         Partner  \n4               Injured  Return to Owner             NaN  \n...                 ...              ...             ...  \n157527           Normal              NaN             NaN  \n157528           Normal              NaN             NaN  \n157529           Normal              NaN             NaN  \n157530           Normal              NaN             NaN  \n157531           Normal              NaN             NaN  \n\n[157531 rows x 16 columns]",
      "text/html": "<div>\n<style scoped>\n    .dataframe tbody tr th:only-of-type {\n        vertical-align: middle;\n    }\n\n    .dataframe tbody tr th {\n        vertical-align: top;\n    }\n\n    .dataframe thead th {\n        text-align: right;\n    }\n</style>\n<table border=\"1\" class=\"dataframe\">\n  <thead>\n    <tr style=\"text-align: right;\">\n      <th></th>\n      <th>animal_id</th>\n      <th>name</th>\n      <th>animal_type</th>\n      <th>sex</th>\n      <th>breed</th>\n      <th>color</th>\n      <th>date_of_birth</th>\n      <th>found_location</th>\n      <th>intake_datetime</th>\n      <th>age_upon_intake</th>\n      <th>outcome_datetime</th>\n      <th>age_upon_outcome</th>\n      <th>intake_type</th>\n      <th>intake_condition</th>\n      <th>outcome_type</th>\n      <th>outcome_subtype</th>\n    </tr>\n  </thead>\n  <tbody>\n    <tr>\n      <th>0</th>\n      <td>A006100</td>\n      <td>Scamp</td>\n      <td>Dog</td>\n      <td>Neutered Male</td>\n      <td>Spinone Italiano Mix</td>\n      <td>Yellow/White</td>\n      <td>2007-07-09</td>\n      <td>8700 Research in Austin (TX)</td>\n      <td>2014-03-07 14:26:00</td>\n      <td>6 years</td>\n      <td>2014-03-08 17:10:00</td>\n      <td>6 years</td>\n      <td>Public Assist</td>\n      <td>Normal</td>\n      <td>Return to Owner</td>\n      <td>NaN</td>\n    </tr>\n    <tr>\n      <th>1</th>\n      <td>A006100</td>\n      <td>Scamp</td>\n      <td>Dog</td>\n      <td>Neutered Male</td>\n      <td>Spinone Italiano Mix</td>\n      <td>Yellow/White</td>\n      <td>2007-07-09</td>\n      <td>8700 Research Blvd in Austin (TX)</td>\n      <td>2014-12-19 10:21:00</td>\n      <td>7 years</td>\n      <td>2014-12-20 16:35:00</td>\n      <td>7 years</td>\n      <td>Public Assist</td>\n      <td>Normal</td>\n      <td>Return to Owner</td>\n      <td>NaN</td>\n    </tr>\n    <tr>\n      <th>2</th>\n      <td>A006100</td>\n      <td>Scamp</td>\n      <td>Dog</td>\n      <td>Neutered Male</td>\n      <td>Spinone Italiano Mix</td>\n      <td>Yellow/White</td>\n      <td>2007-07-09</td>\n      <td>Colony Creek And Hunters Trace in Austin (TX)</td>\n      <td>2017-12-07 14:07:00</td>\n      <td>10 years</td>\n      <td>2017-12-07 00:00:00</td>\n      <td>10 years</td>\n      <td>Stray</td>\n      <td>Normal</td>\n      <td>Return to Owner</td>\n      <td>NaN</td>\n    </tr>\n    <tr>\n      <th>3</th>\n      <td>A047759</td>\n      <td>Oreo</td>\n      <td>Dog</td>\n      <td>Neutered Male</td>\n      <td>Dachshund</td>\n      <td>Tricolor</td>\n      <td>2004-04-02</td>\n      <td>Austin (TX)</td>\n      <td>2014-04-02 15:55:00</td>\n      <td>10 years</td>\n      <td>2014-04-07 15:12:00</td>\n      <td>10 years</td>\n      <td>Owner Surrender</td>\n      <td>Normal</td>\n      <td>Transfer</td>\n      <td>Partner</td>\n    </tr>\n    <tr>\n      <th>4</th>\n      <td>A134067</td>\n      <td>Bandit</td>\n      <td>Dog</td>\n      <td>Neutered Male</td>\n      <td>Shetland Sheepdog</td>\n      <td>Brown/White</td>\n      <td>1997-10-16</td>\n      <td>12034 Research Blvd in Austin (TX)</td>\n      <td>2013-11-16 09:02:00</td>\n      <td>16 years</td>\n      <td>2013-11-16 11:54:00</td>\n      <td>16 years</td>\n      <td>Public Assist</td>\n      <td>Injured</td>\n      <td>Return to Owner</td>\n      <td>NaN</td>\n    </tr>\n    <tr>\n      <th>...</th>\n      <td>...</td>\n      <td>...</td>\n      <td>...</td>\n      <td>...</td>\n      <td>...</td>\n      <td>...</td>\n      <td>...</td>\n      <td>...</td>\n      <td>...</td>\n      <td>...</td>\n      <td>...</td>\n      <td>...</td>\n      <td>...</td>\n      <td>...</td>\n      <td>...</td>\n      <td>...</td>\n    </tr>\n    <tr>\n      <th>157527</th>\n      <td>A893921</td>\n      <td>NaN</td>\n      <td>Cat</td>\n      <td>Intact Male</td>\n      <td>Domestic Shorthair</td>\n      <td>Brown Tabby</td>\n      <td>NaT</td>\n      <td>Ridgepoint Dr in Austin (TX)</td>\n      <td>2023-11-30 12:25:00</td>\n      <td>3 months</td>\n      <td>NaT</td>\n      <td>NaN</td>\n      <td>Stray</td>\n      <td>Normal</td>\n      <td>NaN</td>\n      <td>NaN</td>\n    </tr>\n    <tr>\n      <th>157528</th>\n      <td>A893922</td>\n      <td>NaN</td>\n      <td>Cat</td>\n      <td>Intact Female</td>\n      <td>Domestic Shorthair</td>\n      <td>Brown Tabby</td>\n      <td>NaT</td>\n      <td>Ridgepoint Dr in Austin (TX)</td>\n      <td>2023-11-30 12:25:00</td>\n      <td>3 months</td>\n      <td>NaT</td>\n      <td>NaN</td>\n      <td>Stray</td>\n      <td>Normal</td>\n      <td>NaN</td>\n      <td>NaN</td>\n    </tr>\n    <tr>\n      <th>157529</th>\n      <td>A893925</td>\n      <td>NaN</td>\n      <td>Cat</td>\n      <td>Intact Male</td>\n      <td>Domestic Shorthair</td>\n      <td>Blue Tabby</td>\n      <td>NaT</td>\n      <td>7501 Bethune Avenue in Austin (TX)</td>\n      <td>2023-11-30 12:49:00</td>\n      <td>4 months</td>\n      <td>NaT</td>\n      <td>NaN</td>\n      <td>Stray</td>\n      <td>Normal</td>\n      <td>NaN</td>\n      <td>NaN</td>\n    </tr>\n    <tr>\n      <th>157530</th>\n      <td>A893926</td>\n      <td>NaN</td>\n      <td>Dog</td>\n      <td>Intact Male</td>\n      <td>Siberian Husky/Great Pyrenees</td>\n      <td>White</td>\n      <td>NaT</td>\n      <td>2400 Wickersham Ln Unit #192 in Austin (TX)</td>\n      <td>2023-11-30 12:27:00</td>\n      <td>1 year</td>\n      <td>NaT</td>\n      <td>NaN</td>\n      <td>Stray</td>\n      <td>Normal</td>\n      <td>NaN</td>\n      <td>NaN</td>\n    </tr>\n    <tr>\n      <th>157531</th>\n      <td>A893927</td>\n      <td>NaN</td>\n      <td>Dog</td>\n      <td>Intact Male</td>\n      <td>Siberian Husky</td>\n      <td>Black/White</td>\n      <td>NaT</td>\n      <td>10105 Big Thicket Drive in Austin (TX)</td>\n      <td>2023-11-30 13:42:00</td>\n      <td>9 months</td>\n      <td>NaT</td>\n      <td>NaN</td>\n      <td>Stray</td>\n      <td>Normal</td>\n      <td>NaN</td>\n      <td>NaN</td>\n    </tr>\n  </tbody>\n</table>\n<p>157531 rows × 16 columns</p>\n</div>"
     },
     "execution_count": 21,
     "metadata": {},
     "output_type": "execute_result"
    }
   ],
   "source": [
    "column_order = {\n",
    "    \"animal_id\": \"animal_id\",\n",
    "    \"name\": \"name\",\n",
    "    \"animal_type\": \"animal_type\",\n",
    "    \"sex_upon_intake\": \"sex\",\n",
    "    \"breed\": \"breed\",\n",
    "    \"color\": \"color\",\n",
    "    \"date_of_birth\": \"date_of_birth\",\n",
    "    \"found_location\": \"found_location\",\n",
    "    \"datetime_intake\": \"intake_datetime\",\n",
    "    \"age_upon_intake\": \"age_upon_intake\",\n",
    "    \"datetime_outcome\": \"outcome_datetime\",\n",
    "    \"age_upon_outcome\": \"age_upon_outcome\",\n",
    "    \"intake_type\": \"intake_type\",\n",
    "    \"intake_condition\": \"intake_condition\",\n",
    "    \"outcome_type\": \"outcome_type\",\n",
    "    \"outcome_subtype\": \"outcome_subtype\"\n",
    "}\n",
    "intake_n_outcome = intake_n_outcome.rename(columns=column_order)[column_order.values()]\n",
    "intake_n_outcome"
   ],
   "metadata": {
    "collapsed": false,
    "ExecuteTime": {
     "end_time": "2023-11-30T23:03:24.945732Z",
     "start_time": "2023-11-30T23:03:24.838068Z"
    }
   }
  },
  {
   "cell_type": "markdown",
   "source": [
    "# Check final dataset"
   ],
   "metadata": {
    "collapsed": false,
    "ExecuteTime": {
     "start_time": "2023-11-30T19:04:43.557034Z"
    }
   }
  },
  {
   "cell_type": "code",
   "execution_count": 22,
   "outputs": [
    {
     "data": {
      "text/plain": "animal_id                   object\nname                        object\nanimal_type                 object\nsex                         object\nbreed                       object\ncolor                       object\ndate_of_birth       datetime64[ns]\nfound_location              object\nintake_datetime     datetime64[ns]\nage_upon_intake             object\noutcome_datetime    datetime64[ns]\nage_upon_outcome            object\nintake_type                 object\nintake_condition            object\noutcome_type                object\noutcome_subtype             object\ndtype: object"
     },
     "execution_count": 22,
     "metadata": {},
     "output_type": "execute_result"
    }
   ],
   "source": [
    "intake_n_outcome.dtypes"
   ],
   "metadata": {
    "collapsed": false,
    "ExecuteTime": {
     "end_time": "2023-11-30T23:03:24.945925Z",
     "start_time": "2023-11-30T23:03:24.898730Z"
    }
   }
  },
  {
   "cell_type": "code",
   "execution_count": 23,
   "outputs": [
    {
     "data": {
      "text/plain": "0         1.0\n1         1.0\n2        -1.0\n3         4.0\n4         0.0\n         ... \n157527    NaN\n157528    NaN\n157529    NaN\n157530    NaN\n157531    NaN\nName: duration(days), Length: 157531, dtype: float64"
     },
     "execution_count": 23,
     "metadata": {},
     "output_type": "execute_result"
    }
   ],
   "source": [
    "calculate_age_delta(intake_n_outcome, start=\"date_of_birth\", end=\"intake_datetime\", unit=\"years\", col_suffix=\"intake\")\n",
    "calculate_age_delta(intake_n_outcome, start=\"date_of_birth\", end=\"outcome_datetime\", unit=\"years\", col_suffix=\"outcome\")\n",
    "calculate_age_delta(intake_n_outcome, start=\"intake_datetime\", end=\"outcome_datetime\", unit=\"days\")"
   ],
   "metadata": {
    "collapsed": false,
    "ExecuteTime": {
     "end_time": "2023-11-30T23:03:24.962659Z",
     "start_time": "2023-11-30T23:03:24.903232Z"
    }
   }
  },
  {
   "cell_type": "code",
   "execution_count": 24,
   "outputs": [
    {
     "data": {
      "text/plain": "       animal_id    name animal_type            sex  \\\n0        A006100   Scamp         Dog  Neutered Male   \n1        A006100   Scamp         Dog  Neutered Male   \n2        A006100   Scamp         Dog  Neutered Male   \n3        A047759    Oreo         Dog  Neutered Male   \n4        A134067  Bandit         Dog  Neutered Male   \n...          ...     ...         ...            ...   \n157527   A893921     NaN         Cat    Intact Male   \n157528   A893922     NaN         Cat  Intact Female   \n157529   A893925     NaN         Cat    Intact Male   \n157530   A893926     NaN         Dog    Intact Male   \n157531   A893927     NaN         Dog    Intact Male   \n\n                                breed         color date_of_birth  \\\n0                Spinone Italiano Mix  Yellow/White    2007-07-09   \n1                Spinone Italiano Mix  Yellow/White    2007-07-09   \n2                Spinone Italiano Mix  Yellow/White    2007-07-09   \n3                           Dachshund      Tricolor    2004-04-02   \n4                   Shetland Sheepdog   Brown/White    1997-10-16   \n...                               ...           ...           ...   \n157527             Domestic Shorthair   Brown Tabby           NaT   \n157528             Domestic Shorthair   Brown Tabby           NaT   \n157529             Domestic Shorthair    Blue Tabby           NaT   \n157530  Siberian Husky/Great Pyrenees         White           NaT   \n157531                 Siberian Husky   Black/White           NaT   \n\n                                       found_location     intake_datetime  \\\n0                        8700 Research in Austin (TX) 2014-03-07 14:26:00   \n1                   8700 Research Blvd in Austin (TX) 2014-12-19 10:21:00   \n2       Colony Creek And Hunters Trace in Austin (TX) 2017-12-07 14:07:00   \n3                                         Austin (TX) 2014-04-02 15:55:00   \n4                  12034 Research Blvd in Austin (TX) 2013-11-16 09:02:00   \n...                                               ...                 ...   \n157527                   Ridgepoint Dr in Austin (TX) 2023-11-30 12:25:00   \n157528                   Ridgepoint Dr in Austin (TX) 2023-11-30 12:25:00   \n157529             7501 Bethune Avenue in Austin (TX) 2023-11-30 12:49:00   \n157530    2400 Wickersham Ln Unit #192 in Austin (TX) 2023-11-30 12:27:00   \n157531         10105 Big Thicket Drive in Austin (TX) 2023-11-30 13:42:00   \n\n       age_upon_intake    outcome_datetime age_upon_outcome      intake_type  \\\n0              6 years 2014-03-08 17:10:00          6 years    Public Assist   \n1              7 years 2014-12-20 16:35:00          7 years    Public Assist   \n2             10 years 2017-12-07 00:00:00         10 years            Stray   \n3             10 years 2014-04-07 15:12:00         10 years  Owner Surrender   \n4             16 years 2013-11-16 11:54:00         16 years    Public Assist   \n...                ...                 ...              ...              ...   \n157527        3 months                 NaT              NaN            Stray   \n157528        3 months                 NaT              NaN            Stray   \n157529        4 months                 NaT              NaN            Stray   \n157530          1 year                 NaT              NaN            Stray   \n157531        9 months                 NaT              NaN            Stray   \n\n       intake_condition     outcome_type outcome_subtype  \\\n0                Normal  Return to Owner             NaN   \n1                Normal  Return to Owner             NaN   \n2                Normal  Return to Owner             NaN   \n3                Normal         Transfer         Partner   \n4               Injured  Return to Owner             NaN   \n...                 ...              ...             ...   \n157527           Normal              NaN             NaN   \n157528           Normal              NaN             NaN   \n157529           Normal              NaN             NaN   \n157530           Normal              NaN             NaN   \n157531           Normal              NaN             NaN   \n\n        age_upon_intake(years)  age_upon_outcome(years)  duration(days)  \n0                          6.7                      6.7             1.0  \n1                          7.4                      7.4             1.0  \n2                         10.4                     10.4            -1.0  \n3                         10.0                     10.0             4.0  \n4                         16.1                     16.1             0.0  \n...                        ...                      ...             ...  \n157527                     NaN                      NaN             NaN  \n157528                     NaN                      NaN             NaN  \n157529                     NaN                      NaN             NaN  \n157530                     NaN                      NaN             NaN  \n157531                     NaN                      NaN             NaN  \n\n[157531 rows x 19 columns]",
      "text/html": "<div>\n<style scoped>\n    .dataframe tbody tr th:only-of-type {\n        vertical-align: middle;\n    }\n\n    .dataframe tbody tr th {\n        vertical-align: top;\n    }\n\n    .dataframe thead th {\n        text-align: right;\n    }\n</style>\n<table border=\"1\" class=\"dataframe\">\n  <thead>\n    <tr style=\"text-align: right;\">\n      <th></th>\n      <th>animal_id</th>\n      <th>name</th>\n      <th>animal_type</th>\n      <th>sex</th>\n      <th>breed</th>\n      <th>color</th>\n      <th>date_of_birth</th>\n      <th>found_location</th>\n      <th>intake_datetime</th>\n      <th>age_upon_intake</th>\n      <th>outcome_datetime</th>\n      <th>age_upon_outcome</th>\n      <th>intake_type</th>\n      <th>intake_condition</th>\n      <th>outcome_type</th>\n      <th>outcome_subtype</th>\n      <th>age_upon_intake(years)</th>\n      <th>age_upon_outcome(years)</th>\n      <th>duration(days)</th>\n    </tr>\n  </thead>\n  <tbody>\n    <tr>\n      <th>0</th>\n      <td>A006100</td>\n      <td>Scamp</td>\n      <td>Dog</td>\n      <td>Neutered Male</td>\n      <td>Spinone Italiano Mix</td>\n      <td>Yellow/White</td>\n      <td>2007-07-09</td>\n      <td>8700 Research in Austin (TX)</td>\n      <td>2014-03-07 14:26:00</td>\n      <td>6 years</td>\n      <td>2014-03-08 17:10:00</td>\n      <td>6 years</td>\n      <td>Public Assist</td>\n      <td>Normal</td>\n      <td>Return to Owner</td>\n      <td>NaN</td>\n      <td>6.7</td>\n      <td>6.7</td>\n      <td>1.0</td>\n    </tr>\n    <tr>\n      <th>1</th>\n      <td>A006100</td>\n      <td>Scamp</td>\n      <td>Dog</td>\n      <td>Neutered Male</td>\n      <td>Spinone Italiano Mix</td>\n      <td>Yellow/White</td>\n      <td>2007-07-09</td>\n      <td>8700 Research Blvd in Austin (TX)</td>\n      <td>2014-12-19 10:21:00</td>\n      <td>7 years</td>\n      <td>2014-12-20 16:35:00</td>\n      <td>7 years</td>\n      <td>Public Assist</td>\n      <td>Normal</td>\n      <td>Return to Owner</td>\n      <td>NaN</td>\n      <td>7.4</td>\n      <td>7.4</td>\n      <td>1.0</td>\n    </tr>\n    <tr>\n      <th>2</th>\n      <td>A006100</td>\n      <td>Scamp</td>\n      <td>Dog</td>\n      <td>Neutered Male</td>\n      <td>Spinone Italiano Mix</td>\n      <td>Yellow/White</td>\n      <td>2007-07-09</td>\n      <td>Colony Creek And Hunters Trace in Austin (TX)</td>\n      <td>2017-12-07 14:07:00</td>\n      <td>10 years</td>\n      <td>2017-12-07 00:00:00</td>\n      <td>10 years</td>\n      <td>Stray</td>\n      <td>Normal</td>\n      <td>Return to Owner</td>\n      <td>NaN</td>\n      <td>10.4</td>\n      <td>10.4</td>\n      <td>-1.0</td>\n    </tr>\n    <tr>\n      <th>3</th>\n      <td>A047759</td>\n      <td>Oreo</td>\n      <td>Dog</td>\n      <td>Neutered Male</td>\n      <td>Dachshund</td>\n      <td>Tricolor</td>\n      <td>2004-04-02</td>\n      <td>Austin (TX)</td>\n      <td>2014-04-02 15:55:00</td>\n      <td>10 years</td>\n      <td>2014-04-07 15:12:00</td>\n      <td>10 years</td>\n      <td>Owner Surrender</td>\n      <td>Normal</td>\n      <td>Transfer</td>\n      <td>Partner</td>\n      <td>10.0</td>\n      <td>10.0</td>\n      <td>4.0</td>\n    </tr>\n    <tr>\n      <th>4</th>\n      <td>A134067</td>\n      <td>Bandit</td>\n      <td>Dog</td>\n      <td>Neutered Male</td>\n      <td>Shetland Sheepdog</td>\n      <td>Brown/White</td>\n      <td>1997-10-16</td>\n      <td>12034 Research Blvd in Austin (TX)</td>\n      <td>2013-11-16 09:02:00</td>\n      <td>16 years</td>\n      <td>2013-11-16 11:54:00</td>\n      <td>16 years</td>\n      <td>Public Assist</td>\n      <td>Injured</td>\n      <td>Return to Owner</td>\n      <td>NaN</td>\n      <td>16.1</td>\n      <td>16.1</td>\n      <td>0.0</td>\n    </tr>\n    <tr>\n      <th>...</th>\n      <td>...</td>\n      <td>...</td>\n      <td>...</td>\n      <td>...</td>\n      <td>...</td>\n      <td>...</td>\n      <td>...</td>\n      <td>...</td>\n      <td>...</td>\n      <td>...</td>\n      <td>...</td>\n      <td>...</td>\n      <td>...</td>\n      <td>...</td>\n      <td>...</td>\n      <td>...</td>\n      <td>...</td>\n      <td>...</td>\n      <td>...</td>\n    </tr>\n    <tr>\n      <th>157527</th>\n      <td>A893921</td>\n      <td>NaN</td>\n      <td>Cat</td>\n      <td>Intact Male</td>\n      <td>Domestic Shorthair</td>\n      <td>Brown Tabby</td>\n      <td>NaT</td>\n      <td>Ridgepoint Dr in Austin (TX)</td>\n      <td>2023-11-30 12:25:00</td>\n      <td>3 months</td>\n      <td>NaT</td>\n      <td>NaN</td>\n      <td>Stray</td>\n      <td>Normal</td>\n      <td>NaN</td>\n      <td>NaN</td>\n      <td>NaN</td>\n      <td>NaN</td>\n      <td>NaN</td>\n    </tr>\n    <tr>\n      <th>157528</th>\n      <td>A893922</td>\n      <td>NaN</td>\n      <td>Cat</td>\n      <td>Intact Female</td>\n      <td>Domestic Shorthair</td>\n      <td>Brown Tabby</td>\n      <td>NaT</td>\n      <td>Ridgepoint Dr in Austin (TX)</td>\n      <td>2023-11-30 12:25:00</td>\n      <td>3 months</td>\n      <td>NaT</td>\n      <td>NaN</td>\n      <td>Stray</td>\n      <td>Normal</td>\n      <td>NaN</td>\n      <td>NaN</td>\n      <td>NaN</td>\n      <td>NaN</td>\n      <td>NaN</td>\n    </tr>\n    <tr>\n      <th>157529</th>\n      <td>A893925</td>\n      <td>NaN</td>\n      <td>Cat</td>\n      <td>Intact Male</td>\n      <td>Domestic Shorthair</td>\n      <td>Blue Tabby</td>\n      <td>NaT</td>\n      <td>7501 Bethune Avenue in Austin (TX)</td>\n      <td>2023-11-30 12:49:00</td>\n      <td>4 months</td>\n      <td>NaT</td>\n      <td>NaN</td>\n      <td>Stray</td>\n      <td>Normal</td>\n      <td>NaN</td>\n      <td>NaN</td>\n      <td>NaN</td>\n      <td>NaN</td>\n      <td>NaN</td>\n    </tr>\n    <tr>\n      <th>157530</th>\n      <td>A893926</td>\n      <td>NaN</td>\n      <td>Dog</td>\n      <td>Intact Male</td>\n      <td>Siberian Husky/Great Pyrenees</td>\n      <td>White</td>\n      <td>NaT</td>\n      <td>2400 Wickersham Ln Unit #192 in Austin (TX)</td>\n      <td>2023-11-30 12:27:00</td>\n      <td>1 year</td>\n      <td>NaT</td>\n      <td>NaN</td>\n      <td>Stray</td>\n      <td>Normal</td>\n      <td>NaN</td>\n      <td>NaN</td>\n      <td>NaN</td>\n      <td>NaN</td>\n      <td>NaN</td>\n    </tr>\n    <tr>\n      <th>157531</th>\n      <td>A893927</td>\n      <td>NaN</td>\n      <td>Dog</td>\n      <td>Intact Male</td>\n      <td>Siberian Husky</td>\n      <td>Black/White</td>\n      <td>NaT</td>\n      <td>10105 Big Thicket Drive in Austin (TX)</td>\n      <td>2023-11-30 13:42:00</td>\n      <td>9 months</td>\n      <td>NaT</td>\n      <td>NaN</td>\n      <td>Stray</td>\n      <td>Normal</td>\n      <td>NaN</td>\n      <td>NaN</td>\n      <td>NaN</td>\n      <td>NaN</td>\n      <td>NaN</td>\n    </tr>\n  </tbody>\n</table>\n<p>157531 rows × 19 columns</p>\n</div>"
     },
     "execution_count": 24,
     "metadata": {},
     "output_type": "execute_result"
    }
   ],
   "source": [
    "intake_n_outcome"
   ],
   "metadata": {
    "collapsed": false,
    "ExecuteTime": {
     "end_time": "2023-11-30T23:03:24.963175Z",
     "start_time": "2023-11-30T23:03:24.922431Z"
    }
   }
  },
  {
   "cell_type": "markdown",
   "source": [
    "# Check columns"
   ],
   "metadata": {
    "collapsed": false,
    "ExecuteTime": {
     "start_time": "2023-11-30T19:04:43.560178Z"
    }
   }
  },
  {
   "cell_type": "code",
   "execution_count": 25,
   "outputs": [
    {
     "data": {
      "text/plain": "animal_id                          object\nname                               object\nanimal_type                        object\nsex                                object\nbreed                              object\ncolor                              object\ndate_of_birth              datetime64[ns]\nfound_location                     object\nintake_datetime            datetime64[ns]\nage_upon_intake                    object\noutcome_datetime           datetime64[ns]\nage_upon_outcome                   object\nintake_type                        object\nintake_condition                   object\noutcome_type                       object\noutcome_subtype                    object\nage_upon_intake(years)            float64\nage_upon_outcome(years)           float64\nduration(days)                    float64\ndtype: object"
     },
     "execution_count": 25,
     "metadata": {},
     "output_type": "execute_result"
    }
   ],
   "source": [
    "intake_n_outcome.dtypes"
   ],
   "metadata": {
    "collapsed": false,
    "ExecuteTime": {
     "end_time": "2023-11-30T23:03:24.963320Z",
     "start_time": "2023-11-30T23:03:24.938290Z"
    }
   }
  },
  {
   "cell_type": "code",
   "execution_count": 26,
   "outputs": [
    {
     "data": {
      "text/plain": "Index(['animal_id', 'name', 'animal_type', 'sex', 'breed', 'color',\n       'date_of_birth', 'found_location', 'intake_datetime', 'age_upon_intake',\n       'outcome_datetime', 'age_upon_outcome', 'intake_type',\n       'intake_condition', 'outcome_type', 'outcome_subtype',\n       'age_upon_intake(years)', 'age_upon_outcome(years)', 'duration(days)'],\n      dtype='object')"
     },
     "execution_count": 26,
     "metadata": {},
     "output_type": "execute_result"
    }
   ],
   "source": [
    "intake_n_outcome.columns"
   ],
   "metadata": {
    "collapsed": false,
    "ExecuteTime": {
     "end_time": "2023-11-30T23:03:24.965255Z",
     "start_time": "2023-11-30T23:03:24.942480Z"
    }
   }
  },
  {
   "cell_type": "code",
   "execution_count": 27,
   "outputs": [
    {
     "data": {
      "text/plain": "animal_type\nDog          87133\nCat          61332\nOther         8261\nBird           779\nLivestock       26\nName: count, dtype: int64"
     },
     "execution_count": 27,
     "metadata": {},
     "output_type": "execute_result"
    }
   ],
   "source": [
    "intake_n_outcome.animal_type.value_counts()"
   ],
   "metadata": {
    "collapsed": false,
    "ExecuteTime": {
     "end_time": "2023-11-30T23:03:25.020792Z",
     "start_time": "2023-11-30T23:03:24.957982Z"
    }
   }
  },
  {
   "cell_type": "code",
   "execution_count": 28,
   "outputs": [
    {
     "data": {
      "text/plain": "breed\nDomestic Shorthair Mix             33276\nDomestic Shorthair                 17559\nPit Bull Mix                        9638\nLabrador Retriever Mix              8167\nChihuahua Shorthair Mix             6737\n                                   ...  \nPit Bull/American Foxhound             1\nPit Bull/Dogue De Bordeaux             1\nEnglish Springer Spaniel/Beagle        1\nGoose Mix                              1\nDomestic Shorthair/Oriental Sh         1\nName: count, Length: 2887, dtype: int64"
     },
     "execution_count": 28,
     "metadata": {},
     "output_type": "execute_result"
    }
   ],
   "source": [
    "intake_n_outcome.breed.value_counts()"
   ],
   "metadata": {
    "collapsed": false,
    "ExecuteTime": {
     "end_time": "2023-11-30T23:03:25.099718Z",
     "start_time": "2023-11-30T23:03:24.960040Z"
    }
   }
  },
  {
   "cell_type": "code",
   "execution_count": null,
   "outputs": [],
   "source": [
    "test = {\"date_of_birth\":[\"2014-04-02 15:55:00\"],\n",
    "         \"date_leave\":[\"2015-04-27 14:45:00\"]}\n",
    "test[\"date_of_birth\"] = pd.to_datetime(test[\"date_of_birth\"])\n",
    "test[\"date_leave\"] = pd.to_datetime(test[\"date_leave\"])\n",
    "test_df = pd.DataFrame(test)\n",
    "print(calculate_age_delta(test_df, \"date_of_birth\", \"date_leave\", unit=\"years\", col_suffix=\"leaving\"))"
   ],
   "metadata": {
    "collapsed": false
   }
  },
  {
   "cell_type": "code",
   "execution_count": null,
   "outputs": [],
   "source": [
    "test_intake = pd.read_csv(\"test_data/test_intake.csv\")\n",
    "test_intake_data = pd.DataFrame(test_intake)\n",
    "test_outcome = pd.read_csv(\"test_Data/test_outcome.csv\")\n",
    "test_outcome_data = pd.DataFrame(test_outcome)\n",
    "    # >>> print(test_intake_data)\n",
    "merge_intake_n_outcome(test_intake_data, test_outcome_data)"
   ],
   "metadata": {
    "collapsed": false
   }
  },
  {
   "cell_type": "code",
   "execution_count": null,
   "outputs": [],
   "source": [
    "print(test_intake['datetime'])"
   ],
   "metadata": {
    "collapsed": false
   }
  },
  {
   "cell_type": "code",
   "execution_count": null,
   "outputs": [],
   "source": [
    "test_intake.columns"
   ],
   "metadata": {
    "collapsed": false
   }
  },
  {
   "cell_type": "code",
   "execution_count": null,
   "outputs": [],
   "source": [],
   "metadata": {
    "collapsed": false
   }
  }
 ],
 "metadata": {
  "kernelspec": {
   "display_name": "base",
   "language": "python",
   "name": "python3"
  },
  "language_info": {
   "codemirror_mode": {
    "name": "ipython",
    "version": 3
   },
   "file_extension": ".py",
   "mimetype": "text/x-python",
   "name": "python",
   "nbconvert_exporter": "python",
   "pygments_lexer": "ipython3",
   "version": "3.9.12"
  }
 },
 "nbformat": 4,
 "nbformat_minor": 2
}
