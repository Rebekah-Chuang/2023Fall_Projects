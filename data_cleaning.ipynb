{
 "cells": [
  {
   "cell_type": "code",
   "execution_count": 1,
   "metadata": {
    "ExecuteTime": {
     "end_time": "2023-11-30T19:04:20.012742Z",
     "start_time": "2023-11-30T19:04:18.678418Z"
    }
   },
   "outputs": [
    {
     "name": "stdout",
     "output_type": "stream",
     "text": [
      "Intel MKL WARNING: Support of Intel(R) Streaming SIMD Extensions 4.2 (Intel(R) SSE4.2) enabled only processors has been deprecated. Intel oneAPI Math Kernel Library 2025.0 will require Intel(R) Advanced Vector Extensions (Intel(R) AVX) instructions.\n",
      "Intel MKL WARNING: Support of Intel(R) Streaming SIMD Extensions 4.2 (Intel(R) SSE4.2) enabled only processors has been deprecated. Intel oneAPI Math Kernel Library 2025.0 will require Intel(R) Advanced Vector Extensions (Intel(R) AVX) instructions.\n"
     ]
    }
   ],
   "source": [
    "import numpy as np\n",
    "import pandas as pd\n",
    "import requests\n",
    "from data_cleaning import *"
   ]
  },
  {
   "cell_type": "markdown",
   "metadata": {},
   "source": [
    "## **Get data using API**"
   ]
  },
  {
   "cell_type": "code",
   "execution_count": 2,
   "metadata": {
    "ExecuteTime": {
     "end_time": "2023-11-30T19:04:40.368831Z",
     "start_time": "2023-11-30T19:04:20.014549Z"
    }
   },
   "outputs": [
    {
     "name": "stdout",
     "output_type": "stream",
     "text": [
      "Successfully get INTAKE data(157554 rows)...\n",
      "Successfully get OUTCOME data(157473 rows)...\n"
     ]
    }
   ],
   "source": [
    "# API endpoint URL(set the limit to get all data(default is 1000 rows))\n",
    "urls = {\n",
    "    \"intake\": \"https://data.austintexas.gov/resource/wter-evkm.csv?$limit=160000\",\n",
    "    \"outcome\": \"https://data.austintexas.gov/resource/9t4d-g238.csv?$limit=160000\"\n",
    "    }\n",
    "intake, outcome = get_data(urls)"
   ]
  },
  {
   "cell_type": "markdown",
   "source": [
    "## Check number of rows, columns, and duplicated rows"
   ],
   "metadata": {
    "collapsed": false,
    "ExecuteTime": {
     "end_time": "2023-11-30T19:05:11.599993Z",
     "start_time": "2023-11-30T19:05:10.372430Z"
    }
   }
  },
  {
   "cell_type": "code",
   "execution_count": 5,
   "metadata": {
    "ExecuteTime": {
     "end_time": "2023-11-30T20:03:30.479209Z",
     "start_time": "2023-11-30T20:03:30.437271Z"
    }
   },
   "outputs": [
    {
     "name": "stdout",
     "output_type": "stream",
     "text": [
      "INTAKE data: 10 rows | 12 columns | 0 duplicated rows\n",
      "OUTCOME data: 13 rows | 12 columns | 0 duplicated rows\n"
     ]
    }
   ],
   "source": [
    "print(f\"INTAKE data: {intake.shape[0]} rows | {intake.shape[1]} columns | {intake.duplicated().sum()} duplicated rows\")\n",
    "print(f\"OUTCOME data: {outcome.shape[0]} rows | {outcome.shape[1]} columns | {outcome.duplicated().sum()} duplicated rows\")"
   ]
  },
  {
   "cell_type": "markdown",
   "source": [
    "## Drop duplicates"
   ],
   "metadata": {
    "collapsed": false,
    "ExecuteTime": {
     "start_time": "2023-11-30T19:04:43.530233Z"
    }
   }
  },
  {
   "cell_type": "code",
   "execution_count": 6,
   "outputs": [],
   "source": [
    "intake.drop_duplicates(inplace=True)\n",
    "outcome.drop_duplicates(inplace=True)"
   ],
   "metadata": {
    "collapsed": false,
    "ExecuteTime": {
     "end_time": "2023-11-30T20:03:32.532188Z",
     "start_time": "2023-11-30T20:03:32.507940Z"
    }
   }
  },
  {
   "cell_type": "markdown",
   "source": [
    "## Check number of rows, columns, and duplicated rows again"
   ],
   "metadata": {
    "collapsed": false,
    "ExecuteTime": {
     "start_time": "2023-11-30T19:04:43.532119Z"
    }
   }
  },
  {
   "cell_type": "code",
   "execution_count": 7,
   "outputs": [
    {
     "name": "stdout",
     "output_type": "stream",
     "text": [
      "INTAKE data: 10 rows | 12 columns | 0 duplicated rows\n",
      "OUTCOME data: 13 rows | 12 columns | 0 duplicated rows\n"
     ]
    }
   ],
   "source": [
    "print(f\"INTAKE data: {intake.shape[0]} rows | {intake.shape[1]} columns | {intake.duplicated().sum()} duplicated rows\")\n",
    "print(f\"OUTCOME data: {outcome.shape[0]} rows | {outcome.shape[1]} columns | {outcome.duplicated().sum()} duplicated rows\")"
   ],
   "metadata": {
    "collapsed": false,
    "ExecuteTime": {
     "end_time": "2023-11-30T20:03:34.360849Z",
     "start_time": "2023-11-30T20:03:34.336625Z"
    }
   }
  },
  {
   "cell_type": "markdown",
   "metadata": {
    "ExecuteTime": {
     "start_time": "2023-11-30T19:04:43.533968Z"
    }
   },
   "source": [
    "## Remove `datetime2` in `intake` data and `monthyear` in `outcome` data"
   ]
  },
  {
   "cell_type": "code",
   "execution_count": 8,
   "metadata": {
    "ExecuteTime": {
     "end_time": "2023-11-30T20:03:35.527662Z",
     "start_time": "2023-11-30T20:03:35.504813Z"
    }
   },
   "outputs": [],
   "source": [
    "intake.drop(\"datetime2\", axis=1, inplace = True)\n",
    "outcome.drop(\"monthyear\", axis=1, inplace = True)"
   ]
  },
  {
   "cell_type": "code",
   "execution_count": 9,
   "metadata": {
    "ExecuteTime": {
     "end_time": "2023-11-30T20:03:36.283630Z",
     "start_time": "2023-11-30T20:03:36.265877Z"
    }
   },
   "outputs": [
    {
     "data": {
      "text/plain": "  animal_id          name                 datetime  \\\n0   A786884        *Brock  2019-01-03T16:19:00.000   \n1   A706918         Belle  2015-07-05T12:59:00.000   \n2   A724273       Runster  2016-04-14T18:43:00.000   \n3   A857105  Johnny Ringo  2022-05-12T00:23:00.000   \n4   A682524           Rio  2014-06-29T10:38:00.000   \n5   A743852          Odin  2017-02-18T12:46:00.000   \n6   A635072       Beowulf  2019-04-16T09:53:00.000   \n7   A708452        Mumble  2015-07-30T14:37:00.000   \n8   A844350         *Ella  2021-10-15T11:40:00.000   \n9   A818975           NaN  2020-06-18T14:53:00.000   \n\n                                  found_location      intake_type  \\\n0            2501 Magin Meadow Dr in Austin (TX)            Stray   \n1               9409 Bluegrass Dr in Austin (TX)            Stray   \n2             2818 Palomino Trail in Austin (TX)            Stray   \n3             4404 Sarasota Drive in Austin (TX)    Public Assist   \n4                  800 Grove Blvd in Austin (TX)            Stray   \n5                                    Austin (TX)  Owner Surrender   \n6            415 East Mary Street in Austin (TX)    Public Assist   \n7                                    Austin (TX)    Public Assist   \n8  2112 East William Cannon Drive in Austin (TX)            Stray   \n9          Braker Lane And Metric in Travis (TX)            Stray   \n\n  intake_condition animal_type sex_upon_intake age_upon_intake  \\\n0           Normal         Dog   Neutered Male         2 years   \n1           Normal         Dog   Spayed Female         8 years   \n2           Normal         Dog     Intact Male       11 months   \n3           Normal         Cat   Neutered Male         2 years   \n4           Normal         Dog   Neutered Male         4 years   \n5           Normal         Dog   Neutered Male         2 years   \n6           Normal         Dog   Neutered Male         6 years   \n7           Normal         Dog     Intact Male         2 years   \n8           Normal         Cat   Intact Female        6 months   \n9           Normal         Cat     Intact Male         4 weeks   \n\n                                   breed         color  \n0                             Beagle Mix      Tricolor  \n1               English Springer Spaniel   White/Liver  \n2                            Basenji Mix   Sable/White  \n3                     Domestic Shorthair  Orange Tabby  \n4  Doberman Pinsch/Australian Cattle Dog      Tan/Gray  \n5                 Labrador Retriever Mix     Chocolate  \n6                         Great Dane Mix         Black  \n7                 Labrador Retriever Mix   Black/White  \n8                     Domestic Shorthair   Brown Tabby  \n9                     Domestic Shorthair   Cream Tabby  ",
      "text/html": "<div>\n<style scoped>\n    .dataframe tbody tr th:only-of-type {\n        vertical-align: middle;\n    }\n\n    .dataframe tbody tr th {\n        vertical-align: top;\n    }\n\n    .dataframe thead th {\n        text-align: right;\n    }\n</style>\n<table border=\"1\" class=\"dataframe\">\n  <thead>\n    <tr style=\"text-align: right;\">\n      <th></th>\n      <th>animal_id</th>\n      <th>name</th>\n      <th>datetime</th>\n      <th>found_location</th>\n      <th>intake_type</th>\n      <th>intake_condition</th>\n      <th>animal_type</th>\n      <th>sex_upon_intake</th>\n      <th>age_upon_intake</th>\n      <th>breed</th>\n      <th>color</th>\n    </tr>\n  </thead>\n  <tbody>\n    <tr>\n      <th>0</th>\n      <td>A786884</td>\n      <td>*Brock</td>\n      <td>2019-01-03T16:19:00.000</td>\n      <td>2501 Magin Meadow Dr in Austin (TX)</td>\n      <td>Stray</td>\n      <td>Normal</td>\n      <td>Dog</td>\n      <td>Neutered Male</td>\n      <td>2 years</td>\n      <td>Beagle Mix</td>\n      <td>Tricolor</td>\n    </tr>\n    <tr>\n      <th>1</th>\n      <td>A706918</td>\n      <td>Belle</td>\n      <td>2015-07-05T12:59:00.000</td>\n      <td>9409 Bluegrass Dr in Austin (TX)</td>\n      <td>Stray</td>\n      <td>Normal</td>\n      <td>Dog</td>\n      <td>Spayed Female</td>\n      <td>8 years</td>\n      <td>English Springer Spaniel</td>\n      <td>White/Liver</td>\n    </tr>\n    <tr>\n      <th>2</th>\n      <td>A724273</td>\n      <td>Runster</td>\n      <td>2016-04-14T18:43:00.000</td>\n      <td>2818 Palomino Trail in Austin (TX)</td>\n      <td>Stray</td>\n      <td>Normal</td>\n      <td>Dog</td>\n      <td>Intact Male</td>\n      <td>11 months</td>\n      <td>Basenji Mix</td>\n      <td>Sable/White</td>\n    </tr>\n    <tr>\n      <th>3</th>\n      <td>A857105</td>\n      <td>Johnny Ringo</td>\n      <td>2022-05-12T00:23:00.000</td>\n      <td>4404 Sarasota Drive in Austin (TX)</td>\n      <td>Public Assist</td>\n      <td>Normal</td>\n      <td>Cat</td>\n      <td>Neutered Male</td>\n      <td>2 years</td>\n      <td>Domestic Shorthair</td>\n      <td>Orange Tabby</td>\n    </tr>\n    <tr>\n      <th>4</th>\n      <td>A682524</td>\n      <td>Rio</td>\n      <td>2014-06-29T10:38:00.000</td>\n      <td>800 Grove Blvd in Austin (TX)</td>\n      <td>Stray</td>\n      <td>Normal</td>\n      <td>Dog</td>\n      <td>Neutered Male</td>\n      <td>4 years</td>\n      <td>Doberman Pinsch/Australian Cattle Dog</td>\n      <td>Tan/Gray</td>\n    </tr>\n    <tr>\n      <th>5</th>\n      <td>A743852</td>\n      <td>Odin</td>\n      <td>2017-02-18T12:46:00.000</td>\n      <td>Austin (TX)</td>\n      <td>Owner Surrender</td>\n      <td>Normal</td>\n      <td>Dog</td>\n      <td>Neutered Male</td>\n      <td>2 years</td>\n      <td>Labrador Retriever Mix</td>\n      <td>Chocolate</td>\n    </tr>\n    <tr>\n      <th>6</th>\n      <td>A635072</td>\n      <td>Beowulf</td>\n      <td>2019-04-16T09:53:00.000</td>\n      <td>415 East Mary Street in Austin (TX)</td>\n      <td>Public Assist</td>\n      <td>Normal</td>\n      <td>Dog</td>\n      <td>Neutered Male</td>\n      <td>6 years</td>\n      <td>Great Dane Mix</td>\n      <td>Black</td>\n    </tr>\n    <tr>\n      <th>7</th>\n      <td>A708452</td>\n      <td>Mumble</td>\n      <td>2015-07-30T14:37:00.000</td>\n      <td>Austin (TX)</td>\n      <td>Public Assist</td>\n      <td>Normal</td>\n      <td>Dog</td>\n      <td>Intact Male</td>\n      <td>2 years</td>\n      <td>Labrador Retriever Mix</td>\n      <td>Black/White</td>\n    </tr>\n    <tr>\n      <th>8</th>\n      <td>A844350</td>\n      <td>*Ella</td>\n      <td>2021-10-15T11:40:00.000</td>\n      <td>2112 East William Cannon Drive in Austin (TX)</td>\n      <td>Stray</td>\n      <td>Normal</td>\n      <td>Cat</td>\n      <td>Intact Female</td>\n      <td>6 months</td>\n      <td>Domestic Shorthair</td>\n      <td>Brown Tabby</td>\n    </tr>\n    <tr>\n      <th>9</th>\n      <td>A818975</td>\n      <td>NaN</td>\n      <td>2020-06-18T14:53:00.000</td>\n      <td>Braker Lane And Metric in Travis (TX)</td>\n      <td>Stray</td>\n      <td>Normal</td>\n      <td>Cat</td>\n      <td>Intact Male</td>\n      <td>4 weeks</td>\n      <td>Domestic Shorthair</td>\n      <td>Cream Tabby</td>\n    </tr>\n  </tbody>\n</table>\n</div>"
     },
     "execution_count": 9,
     "metadata": {},
     "output_type": "execute_result"
    }
   ],
   "source": [
    "intake"
   ]
  },
  {
   "cell_type": "code",
   "execution_count": 10,
   "metadata": {
    "ExecuteTime": {
     "end_time": "2023-11-30T20:03:37.088021Z",
     "start_time": "2023-11-30T20:03:37.076733Z"
    }
   },
   "outputs": [
    {
     "data": {
      "text/plain": "   animal_id        name                 datetime            date_of_birth  \\\n0    A794011       Chunk  2019-05-08T18:20:00.000  2017-05-02T00:00:00.000   \n1    A776359       Gizmo  2018-07-18T16:02:00.000  2017-07-12T00:00:00.000   \n2    A821648         NaN  2020-08-16T11:38:00.000  2019-08-16T00:00:00.000   \n3    A720371       Moose  2016-02-13T17:59:00.000  2015-10-08T00:00:00.000   \n4    A674754         NaN  2014-03-18T11:47:00.000  2014-03-12T00:00:00.000   \n5    A659412    Princess  2020-10-05T14:37:00.000  2013-03-24T00:00:00.000   \n6    A814515     Quentin  2020-05-06T07:59:00.000  2018-03-01T00:00:00.000   \n7    A881795         NaN  2023-06-13T07:13:00.000  2021-05-26T00:00:00.000   \n8    A689724  *Donatello  2014-10-18T18:52:00.000  2014-08-01T00:00:00.000   \n9    A680969       *Zeus  2014-08-05T16:59:00.000  2014-06-03T00:00:00.000   \n10   A840370       Tulip  2021-08-19T19:36:00.000  2019-08-06T00:00:00.000   \n11   A684617         NaN  2014-07-27T09:00:00.000  2012-07-26T00:00:00.000   \n12   A742354     Artemis  2017-01-22T11:56:00.000  2010-01-20T00:00:00.000   \n\n       outcome_type outcome_subtype animal_type sex_upon_outcome  \\\n0         Rto-Adopt             NaN         Cat    Neutered Male   \n1          Adoption             NaN         Dog    Neutered Male   \n2        Euthanasia             NaN       Other          Unknown   \n3          Adoption             NaN         Dog    Neutered Male   \n4          Transfer         Partner         Cat      Intact Male   \n5          Adoption             NaN         Dog    Spayed Female   \n6          Adoption          Foster         Dog    Neutered Male   \n7          Transfer             Snr         Cat          Unknown   \n8          Adoption             NaN         Cat    Neutered Male   \n9          Adoption             NaN         Cat    Neutered Male   \n10         Adoption             NaN         Dog    Spayed Female   \n11         Transfer            SCRP         Cat    Intact Female   \n12  Return to Owner             NaN         Cat    Neutered Male   \n\n   age_upon_outcome                                 breed               color  \n0           2 years                Domestic Shorthair Mix   Brown Tabby/White  \n1            1 year               Chihuahua Shorthair Mix         White/Brown  \n2            1 year                               Raccoon                Gray  \n3          4 months    Anatol Shepherd/Labrador Retriever                Buff  \n4            6 days                Domestic Shorthair Mix        Orange Tabby  \n5           7 years               Chihuahua Shorthair Mix               Brown  \n6           2 years  American Foxhound/Labrador Retriever         White/Brown  \n7           2 years                    Domestic Shorthair         Brown Tabby  \n8          2 months                Domestic Shorthair Mix               Black  \n9          2 months                Domestic Shorthair Mix  White/Orange Tabby  \n10          2 years    Border Collie/Cardigan Welsh Corgi         Black/White  \n11          2 years                Domestic Shorthair Mix               Black  \n12          7 years                Domestic Shorthair Mix          Blue/White  ",
      "text/html": "<div>\n<style scoped>\n    .dataframe tbody tr th:only-of-type {\n        vertical-align: middle;\n    }\n\n    .dataframe tbody tr th {\n        vertical-align: top;\n    }\n\n    .dataframe thead th {\n        text-align: right;\n    }\n</style>\n<table border=\"1\" class=\"dataframe\">\n  <thead>\n    <tr style=\"text-align: right;\">\n      <th></th>\n      <th>animal_id</th>\n      <th>name</th>\n      <th>datetime</th>\n      <th>date_of_birth</th>\n      <th>outcome_type</th>\n      <th>outcome_subtype</th>\n      <th>animal_type</th>\n      <th>sex_upon_outcome</th>\n      <th>age_upon_outcome</th>\n      <th>breed</th>\n      <th>color</th>\n    </tr>\n  </thead>\n  <tbody>\n    <tr>\n      <th>0</th>\n      <td>A794011</td>\n      <td>Chunk</td>\n      <td>2019-05-08T18:20:00.000</td>\n      <td>2017-05-02T00:00:00.000</td>\n      <td>Rto-Adopt</td>\n      <td>NaN</td>\n      <td>Cat</td>\n      <td>Neutered Male</td>\n      <td>2 years</td>\n      <td>Domestic Shorthair Mix</td>\n      <td>Brown Tabby/White</td>\n    </tr>\n    <tr>\n      <th>1</th>\n      <td>A776359</td>\n      <td>Gizmo</td>\n      <td>2018-07-18T16:02:00.000</td>\n      <td>2017-07-12T00:00:00.000</td>\n      <td>Adoption</td>\n      <td>NaN</td>\n      <td>Dog</td>\n      <td>Neutered Male</td>\n      <td>1 year</td>\n      <td>Chihuahua Shorthair Mix</td>\n      <td>White/Brown</td>\n    </tr>\n    <tr>\n      <th>2</th>\n      <td>A821648</td>\n      <td>NaN</td>\n      <td>2020-08-16T11:38:00.000</td>\n      <td>2019-08-16T00:00:00.000</td>\n      <td>Euthanasia</td>\n      <td>NaN</td>\n      <td>Other</td>\n      <td>Unknown</td>\n      <td>1 year</td>\n      <td>Raccoon</td>\n      <td>Gray</td>\n    </tr>\n    <tr>\n      <th>3</th>\n      <td>A720371</td>\n      <td>Moose</td>\n      <td>2016-02-13T17:59:00.000</td>\n      <td>2015-10-08T00:00:00.000</td>\n      <td>Adoption</td>\n      <td>NaN</td>\n      <td>Dog</td>\n      <td>Neutered Male</td>\n      <td>4 months</td>\n      <td>Anatol Shepherd/Labrador Retriever</td>\n      <td>Buff</td>\n    </tr>\n    <tr>\n      <th>4</th>\n      <td>A674754</td>\n      <td>NaN</td>\n      <td>2014-03-18T11:47:00.000</td>\n      <td>2014-03-12T00:00:00.000</td>\n      <td>Transfer</td>\n      <td>Partner</td>\n      <td>Cat</td>\n      <td>Intact Male</td>\n      <td>6 days</td>\n      <td>Domestic Shorthair Mix</td>\n      <td>Orange Tabby</td>\n    </tr>\n    <tr>\n      <th>5</th>\n      <td>A659412</td>\n      <td>Princess</td>\n      <td>2020-10-05T14:37:00.000</td>\n      <td>2013-03-24T00:00:00.000</td>\n      <td>Adoption</td>\n      <td>NaN</td>\n      <td>Dog</td>\n      <td>Spayed Female</td>\n      <td>7 years</td>\n      <td>Chihuahua Shorthair Mix</td>\n      <td>Brown</td>\n    </tr>\n    <tr>\n      <th>6</th>\n      <td>A814515</td>\n      <td>Quentin</td>\n      <td>2020-05-06T07:59:00.000</td>\n      <td>2018-03-01T00:00:00.000</td>\n      <td>Adoption</td>\n      <td>Foster</td>\n      <td>Dog</td>\n      <td>Neutered Male</td>\n      <td>2 years</td>\n      <td>American Foxhound/Labrador Retriever</td>\n      <td>White/Brown</td>\n    </tr>\n    <tr>\n      <th>7</th>\n      <td>A881795</td>\n      <td>NaN</td>\n      <td>2023-06-13T07:13:00.000</td>\n      <td>2021-05-26T00:00:00.000</td>\n      <td>Transfer</td>\n      <td>Snr</td>\n      <td>Cat</td>\n      <td>Unknown</td>\n      <td>2 years</td>\n      <td>Domestic Shorthair</td>\n      <td>Brown Tabby</td>\n    </tr>\n    <tr>\n      <th>8</th>\n      <td>A689724</td>\n      <td>*Donatello</td>\n      <td>2014-10-18T18:52:00.000</td>\n      <td>2014-08-01T00:00:00.000</td>\n      <td>Adoption</td>\n      <td>NaN</td>\n      <td>Cat</td>\n      <td>Neutered Male</td>\n      <td>2 months</td>\n      <td>Domestic Shorthair Mix</td>\n      <td>Black</td>\n    </tr>\n    <tr>\n      <th>9</th>\n      <td>A680969</td>\n      <td>*Zeus</td>\n      <td>2014-08-05T16:59:00.000</td>\n      <td>2014-06-03T00:00:00.000</td>\n      <td>Adoption</td>\n      <td>NaN</td>\n      <td>Cat</td>\n      <td>Neutered Male</td>\n      <td>2 months</td>\n      <td>Domestic Shorthair Mix</td>\n      <td>White/Orange Tabby</td>\n    </tr>\n    <tr>\n      <th>10</th>\n      <td>A840370</td>\n      <td>Tulip</td>\n      <td>2021-08-19T19:36:00.000</td>\n      <td>2019-08-06T00:00:00.000</td>\n      <td>Adoption</td>\n      <td>NaN</td>\n      <td>Dog</td>\n      <td>Spayed Female</td>\n      <td>2 years</td>\n      <td>Border Collie/Cardigan Welsh Corgi</td>\n      <td>Black/White</td>\n    </tr>\n    <tr>\n      <th>11</th>\n      <td>A684617</td>\n      <td>NaN</td>\n      <td>2014-07-27T09:00:00.000</td>\n      <td>2012-07-26T00:00:00.000</td>\n      <td>Transfer</td>\n      <td>SCRP</td>\n      <td>Cat</td>\n      <td>Intact Female</td>\n      <td>2 years</td>\n      <td>Domestic Shorthair Mix</td>\n      <td>Black</td>\n    </tr>\n    <tr>\n      <th>12</th>\n      <td>A742354</td>\n      <td>Artemis</td>\n      <td>2017-01-22T11:56:00.000</td>\n      <td>2010-01-20T00:00:00.000</td>\n      <td>Return to Owner</td>\n      <td>NaN</td>\n      <td>Cat</td>\n      <td>Neutered Male</td>\n      <td>7 years</td>\n      <td>Domestic Shorthair Mix</td>\n      <td>Blue/White</td>\n    </tr>\n  </tbody>\n</table>\n</div>"
     },
     "execution_count": 10,
     "metadata": {},
     "output_type": "execute_result"
    }
   ],
   "source": [
    "outcome"
   ]
  },
  {
   "cell_type": "code",
   "execution_count": 11,
   "metadata": {
    "ExecuteTime": {
     "end_time": "2023-11-30T20:03:37.777769Z",
     "start_time": "2023-11-30T20:03:37.745774Z"
    }
   },
   "outputs": [],
   "source": [
    "intake = intake.sort_values(by=[\"animal_id\", \"datetime\"], ascending=True).reset_index(drop=True)\n",
    "outcome = outcome.sort_values(by=[\"animal_id\", \"datetime\"], ascending=True).reset_index(drop=True)"
   ]
  },
  {
   "cell_type": "code",
   "execution_count": 12,
   "metadata": {
    "ExecuteTime": {
     "end_time": "2023-11-30T20:03:38.395355Z",
     "start_time": "2023-11-30T20:03:38.374664Z"
    }
   },
   "outputs": [
    {
     "data": {
      "text/plain": "  animal_id          name                 datetime  \\\n0   A635072       Beowulf  2019-04-16T09:53:00.000   \n1   A682524           Rio  2014-06-29T10:38:00.000   \n2   A706918         Belle  2015-07-05T12:59:00.000   \n3   A708452        Mumble  2015-07-30T14:37:00.000   \n4   A724273       Runster  2016-04-14T18:43:00.000   \n5   A743852          Odin  2017-02-18T12:46:00.000   \n6   A786884        *Brock  2019-01-03T16:19:00.000   \n7   A818975           NaN  2020-06-18T14:53:00.000   \n8   A844350         *Ella  2021-10-15T11:40:00.000   \n9   A857105  Johnny Ringo  2022-05-12T00:23:00.000   \n\n                                  found_location      intake_type  \\\n0            415 East Mary Street in Austin (TX)    Public Assist   \n1                  800 Grove Blvd in Austin (TX)            Stray   \n2               9409 Bluegrass Dr in Austin (TX)            Stray   \n3                                    Austin (TX)    Public Assist   \n4             2818 Palomino Trail in Austin (TX)            Stray   \n5                                    Austin (TX)  Owner Surrender   \n6            2501 Magin Meadow Dr in Austin (TX)            Stray   \n7          Braker Lane And Metric in Travis (TX)            Stray   \n8  2112 East William Cannon Drive in Austin (TX)            Stray   \n9             4404 Sarasota Drive in Austin (TX)    Public Assist   \n\n  intake_condition animal_type sex_upon_intake age_upon_intake  \\\n0           Normal         Dog   Neutered Male         6 years   \n1           Normal         Dog   Neutered Male         4 years   \n2           Normal         Dog   Spayed Female         8 years   \n3           Normal         Dog     Intact Male         2 years   \n4           Normal         Dog     Intact Male       11 months   \n5           Normal         Dog   Neutered Male         2 years   \n6           Normal         Dog   Neutered Male         2 years   \n7           Normal         Cat     Intact Male         4 weeks   \n8           Normal         Cat   Intact Female        6 months   \n9           Normal         Cat   Neutered Male         2 years   \n\n                                   breed         color  \n0                         Great Dane Mix         Black  \n1  Doberman Pinsch/Australian Cattle Dog      Tan/Gray  \n2               English Springer Spaniel   White/Liver  \n3                 Labrador Retriever Mix   Black/White  \n4                            Basenji Mix   Sable/White  \n5                 Labrador Retriever Mix     Chocolate  \n6                             Beagle Mix      Tricolor  \n7                     Domestic Shorthair   Cream Tabby  \n8                     Domestic Shorthair   Brown Tabby  \n9                     Domestic Shorthair  Orange Tabby  ",
      "text/html": "<div>\n<style scoped>\n    .dataframe tbody tr th:only-of-type {\n        vertical-align: middle;\n    }\n\n    .dataframe tbody tr th {\n        vertical-align: top;\n    }\n\n    .dataframe thead th {\n        text-align: right;\n    }\n</style>\n<table border=\"1\" class=\"dataframe\">\n  <thead>\n    <tr style=\"text-align: right;\">\n      <th></th>\n      <th>animal_id</th>\n      <th>name</th>\n      <th>datetime</th>\n      <th>found_location</th>\n      <th>intake_type</th>\n      <th>intake_condition</th>\n      <th>animal_type</th>\n      <th>sex_upon_intake</th>\n      <th>age_upon_intake</th>\n      <th>breed</th>\n      <th>color</th>\n    </tr>\n  </thead>\n  <tbody>\n    <tr>\n      <th>0</th>\n      <td>A635072</td>\n      <td>Beowulf</td>\n      <td>2019-04-16T09:53:00.000</td>\n      <td>415 East Mary Street in Austin (TX)</td>\n      <td>Public Assist</td>\n      <td>Normal</td>\n      <td>Dog</td>\n      <td>Neutered Male</td>\n      <td>6 years</td>\n      <td>Great Dane Mix</td>\n      <td>Black</td>\n    </tr>\n    <tr>\n      <th>1</th>\n      <td>A682524</td>\n      <td>Rio</td>\n      <td>2014-06-29T10:38:00.000</td>\n      <td>800 Grove Blvd in Austin (TX)</td>\n      <td>Stray</td>\n      <td>Normal</td>\n      <td>Dog</td>\n      <td>Neutered Male</td>\n      <td>4 years</td>\n      <td>Doberman Pinsch/Australian Cattle Dog</td>\n      <td>Tan/Gray</td>\n    </tr>\n    <tr>\n      <th>2</th>\n      <td>A706918</td>\n      <td>Belle</td>\n      <td>2015-07-05T12:59:00.000</td>\n      <td>9409 Bluegrass Dr in Austin (TX)</td>\n      <td>Stray</td>\n      <td>Normal</td>\n      <td>Dog</td>\n      <td>Spayed Female</td>\n      <td>8 years</td>\n      <td>English Springer Spaniel</td>\n      <td>White/Liver</td>\n    </tr>\n    <tr>\n      <th>3</th>\n      <td>A708452</td>\n      <td>Mumble</td>\n      <td>2015-07-30T14:37:00.000</td>\n      <td>Austin (TX)</td>\n      <td>Public Assist</td>\n      <td>Normal</td>\n      <td>Dog</td>\n      <td>Intact Male</td>\n      <td>2 years</td>\n      <td>Labrador Retriever Mix</td>\n      <td>Black/White</td>\n    </tr>\n    <tr>\n      <th>4</th>\n      <td>A724273</td>\n      <td>Runster</td>\n      <td>2016-04-14T18:43:00.000</td>\n      <td>2818 Palomino Trail in Austin (TX)</td>\n      <td>Stray</td>\n      <td>Normal</td>\n      <td>Dog</td>\n      <td>Intact Male</td>\n      <td>11 months</td>\n      <td>Basenji Mix</td>\n      <td>Sable/White</td>\n    </tr>\n    <tr>\n      <th>5</th>\n      <td>A743852</td>\n      <td>Odin</td>\n      <td>2017-02-18T12:46:00.000</td>\n      <td>Austin (TX)</td>\n      <td>Owner Surrender</td>\n      <td>Normal</td>\n      <td>Dog</td>\n      <td>Neutered Male</td>\n      <td>2 years</td>\n      <td>Labrador Retriever Mix</td>\n      <td>Chocolate</td>\n    </tr>\n    <tr>\n      <th>6</th>\n      <td>A786884</td>\n      <td>*Brock</td>\n      <td>2019-01-03T16:19:00.000</td>\n      <td>2501 Magin Meadow Dr in Austin (TX)</td>\n      <td>Stray</td>\n      <td>Normal</td>\n      <td>Dog</td>\n      <td>Neutered Male</td>\n      <td>2 years</td>\n      <td>Beagle Mix</td>\n      <td>Tricolor</td>\n    </tr>\n    <tr>\n      <th>7</th>\n      <td>A818975</td>\n      <td>NaN</td>\n      <td>2020-06-18T14:53:00.000</td>\n      <td>Braker Lane And Metric in Travis (TX)</td>\n      <td>Stray</td>\n      <td>Normal</td>\n      <td>Cat</td>\n      <td>Intact Male</td>\n      <td>4 weeks</td>\n      <td>Domestic Shorthair</td>\n      <td>Cream Tabby</td>\n    </tr>\n    <tr>\n      <th>8</th>\n      <td>A844350</td>\n      <td>*Ella</td>\n      <td>2021-10-15T11:40:00.000</td>\n      <td>2112 East William Cannon Drive in Austin (TX)</td>\n      <td>Stray</td>\n      <td>Normal</td>\n      <td>Cat</td>\n      <td>Intact Female</td>\n      <td>6 months</td>\n      <td>Domestic Shorthair</td>\n      <td>Brown Tabby</td>\n    </tr>\n    <tr>\n      <th>9</th>\n      <td>A857105</td>\n      <td>Johnny Ringo</td>\n      <td>2022-05-12T00:23:00.000</td>\n      <td>4404 Sarasota Drive in Austin (TX)</td>\n      <td>Public Assist</td>\n      <td>Normal</td>\n      <td>Cat</td>\n      <td>Neutered Male</td>\n      <td>2 years</td>\n      <td>Domestic Shorthair</td>\n      <td>Orange Tabby</td>\n    </tr>\n  </tbody>\n</table>\n</div>"
     },
     "execution_count": 12,
     "metadata": {},
     "output_type": "execute_result"
    }
   ],
   "source": [
    "intake"
   ]
  },
  {
   "cell_type": "code",
   "execution_count": 13,
   "metadata": {
    "ExecuteTime": {
     "end_time": "2023-11-30T20:03:39.123771Z",
     "start_time": "2023-11-30T20:03:39.075306Z"
    }
   },
   "outputs": [
    {
     "data": {
      "text/plain": "   animal_id        name                 datetime            date_of_birth  \\\n0    A659412    Princess  2020-10-05T14:37:00.000  2013-03-24T00:00:00.000   \n1    A674754         NaN  2014-03-18T11:47:00.000  2014-03-12T00:00:00.000   \n2    A680969       *Zeus  2014-08-05T16:59:00.000  2014-06-03T00:00:00.000   \n3    A684617         NaN  2014-07-27T09:00:00.000  2012-07-26T00:00:00.000   \n4    A689724  *Donatello  2014-10-18T18:52:00.000  2014-08-01T00:00:00.000   \n5    A720371       Moose  2016-02-13T17:59:00.000  2015-10-08T00:00:00.000   \n6    A742354     Artemis  2017-01-22T11:56:00.000  2010-01-20T00:00:00.000   \n7    A776359       Gizmo  2018-07-18T16:02:00.000  2017-07-12T00:00:00.000   \n8    A794011       Chunk  2019-05-08T18:20:00.000  2017-05-02T00:00:00.000   \n9    A814515     Quentin  2020-05-06T07:59:00.000  2018-03-01T00:00:00.000   \n10   A821648         NaN  2020-08-16T11:38:00.000  2019-08-16T00:00:00.000   \n11   A840370       Tulip  2021-08-19T19:36:00.000  2019-08-06T00:00:00.000   \n12   A881795         NaN  2023-06-13T07:13:00.000  2021-05-26T00:00:00.000   \n\n       outcome_type outcome_subtype animal_type sex_upon_outcome  \\\n0          Adoption             NaN         Dog    Spayed Female   \n1          Transfer         Partner         Cat      Intact Male   \n2          Adoption             NaN         Cat    Neutered Male   \n3          Transfer            SCRP         Cat    Intact Female   \n4          Adoption             NaN         Cat    Neutered Male   \n5          Adoption             NaN         Dog    Neutered Male   \n6   Return to Owner             NaN         Cat    Neutered Male   \n7          Adoption             NaN         Dog    Neutered Male   \n8         Rto-Adopt             NaN         Cat    Neutered Male   \n9          Adoption          Foster         Dog    Neutered Male   \n10       Euthanasia             NaN       Other          Unknown   \n11         Adoption             NaN         Dog    Spayed Female   \n12         Transfer             Snr         Cat          Unknown   \n\n   age_upon_outcome                                 breed               color  \n0           7 years               Chihuahua Shorthair Mix               Brown  \n1            6 days                Domestic Shorthair Mix        Orange Tabby  \n2          2 months                Domestic Shorthair Mix  White/Orange Tabby  \n3           2 years                Domestic Shorthair Mix               Black  \n4          2 months                Domestic Shorthair Mix               Black  \n5          4 months    Anatol Shepherd/Labrador Retriever                Buff  \n6           7 years                Domestic Shorthair Mix          Blue/White  \n7            1 year               Chihuahua Shorthair Mix         White/Brown  \n8           2 years                Domestic Shorthair Mix   Brown Tabby/White  \n9           2 years  American Foxhound/Labrador Retriever         White/Brown  \n10           1 year                               Raccoon                Gray  \n11          2 years    Border Collie/Cardigan Welsh Corgi         Black/White  \n12          2 years                    Domestic Shorthair         Brown Tabby  ",
      "text/html": "<div>\n<style scoped>\n    .dataframe tbody tr th:only-of-type {\n        vertical-align: middle;\n    }\n\n    .dataframe tbody tr th {\n        vertical-align: top;\n    }\n\n    .dataframe thead th {\n        text-align: right;\n    }\n</style>\n<table border=\"1\" class=\"dataframe\">\n  <thead>\n    <tr style=\"text-align: right;\">\n      <th></th>\n      <th>animal_id</th>\n      <th>name</th>\n      <th>datetime</th>\n      <th>date_of_birth</th>\n      <th>outcome_type</th>\n      <th>outcome_subtype</th>\n      <th>animal_type</th>\n      <th>sex_upon_outcome</th>\n      <th>age_upon_outcome</th>\n      <th>breed</th>\n      <th>color</th>\n    </tr>\n  </thead>\n  <tbody>\n    <tr>\n      <th>0</th>\n      <td>A659412</td>\n      <td>Princess</td>\n      <td>2020-10-05T14:37:00.000</td>\n      <td>2013-03-24T00:00:00.000</td>\n      <td>Adoption</td>\n      <td>NaN</td>\n      <td>Dog</td>\n      <td>Spayed Female</td>\n      <td>7 years</td>\n      <td>Chihuahua Shorthair Mix</td>\n      <td>Brown</td>\n    </tr>\n    <tr>\n      <th>1</th>\n      <td>A674754</td>\n      <td>NaN</td>\n      <td>2014-03-18T11:47:00.000</td>\n      <td>2014-03-12T00:00:00.000</td>\n      <td>Transfer</td>\n      <td>Partner</td>\n      <td>Cat</td>\n      <td>Intact Male</td>\n      <td>6 days</td>\n      <td>Domestic Shorthair Mix</td>\n      <td>Orange Tabby</td>\n    </tr>\n    <tr>\n      <th>2</th>\n      <td>A680969</td>\n      <td>*Zeus</td>\n      <td>2014-08-05T16:59:00.000</td>\n      <td>2014-06-03T00:00:00.000</td>\n      <td>Adoption</td>\n      <td>NaN</td>\n      <td>Cat</td>\n      <td>Neutered Male</td>\n      <td>2 months</td>\n      <td>Domestic Shorthair Mix</td>\n      <td>White/Orange Tabby</td>\n    </tr>\n    <tr>\n      <th>3</th>\n      <td>A684617</td>\n      <td>NaN</td>\n      <td>2014-07-27T09:00:00.000</td>\n      <td>2012-07-26T00:00:00.000</td>\n      <td>Transfer</td>\n      <td>SCRP</td>\n      <td>Cat</td>\n      <td>Intact Female</td>\n      <td>2 years</td>\n      <td>Domestic Shorthair Mix</td>\n      <td>Black</td>\n    </tr>\n    <tr>\n      <th>4</th>\n      <td>A689724</td>\n      <td>*Donatello</td>\n      <td>2014-10-18T18:52:00.000</td>\n      <td>2014-08-01T00:00:00.000</td>\n      <td>Adoption</td>\n      <td>NaN</td>\n      <td>Cat</td>\n      <td>Neutered Male</td>\n      <td>2 months</td>\n      <td>Domestic Shorthair Mix</td>\n      <td>Black</td>\n    </tr>\n    <tr>\n      <th>5</th>\n      <td>A720371</td>\n      <td>Moose</td>\n      <td>2016-02-13T17:59:00.000</td>\n      <td>2015-10-08T00:00:00.000</td>\n      <td>Adoption</td>\n      <td>NaN</td>\n      <td>Dog</td>\n      <td>Neutered Male</td>\n      <td>4 months</td>\n      <td>Anatol Shepherd/Labrador Retriever</td>\n      <td>Buff</td>\n    </tr>\n    <tr>\n      <th>6</th>\n      <td>A742354</td>\n      <td>Artemis</td>\n      <td>2017-01-22T11:56:00.000</td>\n      <td>2010-01-20T00:00:00.000</td>\n      <td>Return to Owner</td>\n      <td>NaN</td>\n      <td>Cat</td>\n      <td>Neutered Male</td>\n      <td>7 years</td>\n      <td>Domestic Shorthair Mix</td>\n      <td>Blue/White</td>\n    </tr>\n    <tr>\n      <th>7</th>\n      <td>A776359</td>\n      <td>Gizmo</td>\n      <td>2018-07-18T16:02:00.000</td>\n      <td>2017-07-12T00:00:00.000</td>\n      <td>Adoption</td>\n      <td>NaN</td>\n      <td>Dog</td>\n      <td>Neutered Male</td>\n      <td>1 year</td>\n      <td>Chihuahua Shorthair Mix</td>\n      <td>White/Brown</td>\n    </tr>\n    <tr>\n      <th>8</th>\n      <td>A794011</td>\n      <td>Chunk</td>\n      <td>2019-05-08T18:20:00.000</td>\n      <td>2017-05-02T00:00:00.000</td>\n      <td>Rto-Adopt</td>\n      <td>NaN</td>\n      <td>Cat</td>\n      <td>Neutered Male</td>\n      <td>2 years</td>\n      <td>Domestic Shorthair Mix</td>\n      <td>Brown Tabby/White</td>\n    </tr>\n    <tr>\n      <th>9</th>\n      <td>A814515</td>\n      <td>Quentin</td>\n      <td>2020-05-06T07:59:00.000</td>\n      <td>2018-03-01T00:00:00.000</td>\n      <td>Adoption</td>\n      <td>Foster</td>\n      <td>Dog</td>\n      <td>Neutered Male</td>\n      <td>2 years</td>\n      <td>American Foxhound/Labrador Retriever</td>\n      <td>White/Brown</td>\n    </tr>\n    <tr>\n      <th>10</th>\n      <td>A821648</td>\n      <td>NaN</td>\n      <td>2020-08-16T11:38:00.000</td>\n      <td>2019-08-16T00:00:00.000</td>\n      <td>Euthanasia</td>\n      <td>NaN</td>\n      <td>Other</td>\n      <td>Unknown</td>\n      <td>1 year</td>\n      <td>Raccoon</td>\n      <td>Gray</td>\n    </tr>\n    <tr>\n      <th>11</th>\n      <td>A840370</td>\n      <td>Tulip</td>\n      <td>2021-08-19T19:36:00.000</td>\n      <td>2019-08-06T00:00:00.000</td>\n      <td>Adoption</td>\n      <td>NaN</td>\n      <td>Dog</td>\n      <td>Spayed Female</td>\n      <td>2 years</td>\n      <td>Border Collie/Cardigan Welsh Corgi</td>\n      <td>Black/White</td>\n    </tr>\n    <tr>\n      <th>12</th>\n      <td>A881795</td>\n      <td>NaN</td>\n      <td>2023-06-13T07:13:00.000</td>\n      <td>2021-05-26T00:00:00.000</td>\n      <td>Transfer</td>\n      <td>Snr</td>\n      <td>Cat</td>\n      <td>Unknown</td>\n      <td>2 years</td>\n      <td>Domestic Shorthair</td>\n      <td>Brown Tabby</td>\n    </tr>\n  </tbody>\n</table>\n</div>"
     },
     "execution_count": 13,
     "metadata": {},
     "output_type": "execute_result"
    }
   ],
   "source": [
    "outcome"
   ]
  },
  {
   "cell_type": "markdown",
   "metadata": {
    "ExecuteTime": {
     "start_time": "2023-11-30T19:04:43.545022Z"
    }
   },
   "source": [
    "## format datetime"
   ]
  },
  {
   "cell_type": "code",
   "execution_count": 14,
   "metadata": {
    "ExecuteTime": {
     "end_time": "2023-11-30T20:03:40.400412Z",
     "start_time": "2023-11-30T20:03:40.392429Z"
    }
   },
   "outputs": [
    {
     "data": {
      "text/plain": "  animal_id          name            datetime  \\\n0   A635072       Beowulf 2019-04-16 09:53:00   \n1   A682524           Rio 2014-06-29 10:38:00   \n2   A706918         Belle 2015-07-05 12:59:00   \n3   A708452        Mumble 2015-07-30 14:37:00   \n4   A724273       Runster 2016-04-14 18:43:00   \n5   A743852          Odin 2017-02-18 12:46:00   \n6   A786884        *Brock 2019-01-03 16:19:00   \n7   A818975           NaN 2020-06-18 14:53:00   \n8   A844350         *Ella 2021-10-15 11:40:00   \n9   A857105  Johnny Ringo 2022-05-12 00:23:00   \n\n                                  found_location      intake_type  \\\n0            415 East Mary Street in Austin (TX)    Public Assist   \n1                  800 Grove Blvd in Austin (TX)            Stray   \n2               9409 Bluegrass Dr in Austin (TX)            Stray   \n3                                    Austin (TX)    Public Assist   \n4             2818 Palomino Trail in Austin (TX)            Stray   \n5                                    Austin (TX)  Owner Surrender   \n6            2501 Magin Meadow Dr in Austin (TX)            Stray   \n7          Braker Lane And Metric in Travis (TX)            Stray   \n8  2112 East William Cannon Drive in Austin (TX)            Stray   \n9             4404 Sarasota Drive in Austin (TX)    Public Assist   \n\n  intake_condition animal_type sex_upon_intake age_upon_intake  \\\n0           Normal         Dog   Neutered Male         6 years   \n1           Normal         Dog   Neutered Male         4 years   \n2           Normal         Dog   Spayed Female         8 years   \n3           Normal         Dog     Intact Male         2 years   \n4           Normal         Dog     Intact Male       11 months   \n5           Normal         Dog   Neutered Male         2 years   \n6           Normal         Dog   Neutered Male         2 years   \n7           Normal         Cat     Intact Male         4 weeks   \n8           Normal         Cat   Intact Female        6 months   \n9           Normal         Cat   Neutered Male         2 years   \n\n                                   breed         color  \n0                         Great Dane Mix         Black  \n1  Doberman Pinsch/Australian Cattle Dog      Tan/Gray  \n2               English Springer Spaniel   White/Liver  \n3                 Labrador Retriever Mix   Black/White  \n4                            Basenji Mix   Sable/White  \n5                 Labrador Retriever Mix     Chocolate  \n6                             Beagle Mix      Tricolor  \n7                     Domestic Shorthair   Cream Tabby  \n8                     Domestic Shorthair   Brown Tabby  \n9                     Domestic Shorthair  Orange Tabby  ",
      "text/html": "<div>\n<style scoped>\n    .dataframe tbody tr th:only-of-type {\n        vertical-align: middle;\n    }\n\n    .dataframe tbody tr th {\n        vertical-align: top;\n    }\n\n    .dataframe thead th {\n        text-align: right;\n    }\n</style>\n<table border=\"1\" class=\"dataframe\">\n  <thead>\n    <tr style=\"text-align: right;\">\n      <th></th>\n      <th>animal_id</th>\n      <th>name</th>\n      <th>datetime</th>\n      <th>found_location</th>\n      <th>intake_type</th>\n      <th>intake_condition</th>\n      <th>animal_type</th>\n      <th>sex_upon_intake</th>\n      <th>age_upon_intake</th>\n      <th>breed</th>\n      <th>color</th>\n    </tr>\n  </thead>\n  <tbody>\n    <tr>\n      <th>0</th>\n      <td>A635072</td>\n      <td>Beowulf</td>\n      <td>2019-04-16 09:53:00</td>\n      <td>415 East Mary Street in Austin (TX)</td>\n      <td>Public Assist</td>\n      <td>Normal</td>\n      <td>Dog</td>\n      <td>Neutered Male</td>\n      <td>6 years</td>\n      <td>Great Dane Mix</td>\n      <td>Black</td>\n    </tr>\n    <tr>\n      <th>1</th>\n      <td>A682524</td>\n      <td>Rio</td>\n      <td>2014-06-29 10:38:00</td>\n      <td>800 Grove Blvd in Austin (TX)</td>\n      <td>Stray</td>\n      <td>Normal</td>\n      <td>Dog</td>\n      <td>Neutered Male</td>\n      <td>4 years</td>\n      <td>Doberman Pinsch/Australian Cattle Dog</td>\n      <td>Tan/Gray</td>\n    </tr>\n    <tr>\n      <th>2</th>\n      <td>A706918</td>\n      <td>Belle</td>\n      <td>2015-07-05 12:59:00</td>\n      <td>9409 Bluegrass Dr in Austin (TX)</td>\n      <td>Stray</td>\n      <td>Normal</td>\n      <td>Dog</td>\n      <td>Spayed Female</td>\n      <td>8 years</td>\n      <td>English Springer Spaniel</td>\n      <td>White/Liver</td>\n    </tr>\n    <tr>\n      <th>3</th>\n      <td>A708452</td>\n      <td>Mumble</td>\n      <td>2015-07-30 14:37:00</td>\n      <td>Austin (TX)</td>\n      <td>Public Assist</td>\n      <td>Normal</td>\n      <td>Dog</td>\n      <td>Intact Male</td>\n      <td>2 years</td>\n      <td>Labrador Retriever Mix</td>\n      <td>Black/White</td>\n    </tr>\n    <tr>\n      <th>4</th>\n      <td>A724273</td>\n      <td>Runster</td>\n      <td>2016-04-14 18:43:00</td>\n      <td>2818 Palomino Trail in Austin (TX)</td>\n      <td>Stray</td>\n      <td>Normal</td>\n      <td>Dog</td>\n      <td>Intact Male</td>\n      <td>11 months</td>\n      <td>Basenji Mix</td>\n      <td>Sable/White</td>\n    </tr>\n    <tr>\n      <th>5</th>\n      <td>A743852</td>\n      <td>Odin</td>\n      <td>2017-02-18 12:46:00</td>\n      <td>Austin (TX)</td>\n      <td>Owner Surrender</td>\n      <td>Normal</td>\n      <td>Dog</td>\n      <td>Neutered Male</td>\n      <td>2 years</td>\n      <td>Labrador Retriever Mix</td>\n      <td>Chocolate</td>\n    </tr>\n    <tr>\n      <th>6</th>\n      <td>A786884</td>\n      <td>*Brock</td>\n      <td>2019-01-03 16:19:00</td>\n      <td>2501 Magin Meadow Dr in Austin (TX)</td>\n      <td>Stray</td>\n      <td>Normal</td>\n      <td>Dog</td>\n      <td>Neutered Male</td>\n      <td>2 years</td>\n      <td>Beagle Mix</td>\n      <td>Tricolor</td>\n    </tr>\n    <tr>\n      <th>7</th>\n      <td>A818975</td>\n      <td>NaN</td>\n      <td>2020-06-18 14:53:00</td>\n      <td>Braker Lane And Metric in Travis (TX)</td>\n      <td>Stray</td>\n      <td>Normal</td>\n      <td>Cat</td>\n      <td>Intact Male</td>\n      <td>4 weeks</td>\n      <td>Domestic Shorthair</td>\n      <td>Cream Tabby</td>\n    </tr>\n    <tr>\n      <th>8</th>\n      <td>A844350</td>\n      <td>*Ella</td>\n      <td>2021-10-15 11:40:00</td>\n      <td>2112 East William Cannon Drive in Austin (TX)</td>\n      <td>Stray</td>\n      <td>Normal</td>\n      <td>Cat</td>\n      <td>Intact Female</td>\n      <td>6 months</td>\n      <td>Domestic Shorthair</td>\n      <td>Brown Tabby</td>\n    </tr>\n    <tr>\n      <th>9</th>\n      <td>A857105</td>\n      <td>Johnny Ringo</td>\n      <td>2022-05-12 00:23:00</td>\n      <td>4404 Sarasota Drive in Austin (TX)</td>\n      <td>Public Assist</td>\n      <td>Normal</td>\n      <td>Cat</td>\n      <td>Neutered Male</td>\n      <td>2 years</td>\n      <td>Domestic Shorthair</td>\n      <td>Orange Tabby</td>\n    </tr>\n  </tbody>\n</table>\n</div>"
     },
     "execution_count": 14,
     "metadata": {},
     "output_type": "execute_result"
    }
   ],
   "source": [
    "# date_format(df, col, format)\n",
    "date_format(intake, \"datetime\", \"%Y-%m-%d %H:%M\")"
   ]
  },
  {
   "cell_type": "code",
   "execution_count": 15,
   "metadata": {
    "ExecuteTime": {
     "end_time": "2023-11-30T20:03:41.009104Z",
     "start_time": "2023-11-30T20:03:40.933844Z"
    }
   },
   "outputs": [
    {
     "data": {
      "text/plain": "   animal_id        name            datetime date_of_birth     outcome_type  \\\n0    A659412    Princess 2020-10-05 14:37:00    2013-03-24         Adoption   \n1    A674754         NaN 2014-03-18 11:47:00    2014-03-12         Transfer   \n2    A680969       *Zeus 2014-08-05 16:59:00    2014-06-03         Adoption   \n3    A684617         NaN 2014-07-27 09:00:00    2012-07-26         Transfer   \n4    A689724  *Donatello 2014-10-18 18:52:00    2014-08-01         Adoption   \n5    A720371       Moose 2016-02-13 17:59:00    2015-10-08         Adoption   \n6    A742354     Artemis 2017-01-22 11:56:00    2010-01-20  Return to Owner   \n7    A776359       Gizmo 2018-07-18 16:02:00    2017-07-12         Adoption   \n8    A794011       Chunk 2019-05-08 18:20:00    2017-05-02        Rto-Adopt   \n9    A814515     Quentin 2020-05-06 07:59:00    2018-03-01         Adoption   \n10   A821648         NaN 2020-08-16 11:38:00    2019-08-16       Euthanasia   \n11   A840370       Tulip 2021-08-19 19:36:00    2019-08-06         Adoption   \n12   A881795         NaN 2023-06-13 07:13:00    2021-05-26         Transfer   \n\n   outcome_subtype animal_type sex_upon_outcome age_upon_outcome  \\\n0              NaN         Dog    Spayed Female          7 years   \n1          Partner         Cat      Intact Male           6 days   \n2              NaN         Cat    Neutered Male         2 months   \n3             SCRP         Cat    Intact Female          2 years   \n4              NaN         Cat    Neutered Male         2 months   \n5              NaN         Dog    Neutered Male         4 months   \n6              NaN         Cat    Neutered Male          7 years   \n7              NaN         Dog    Neutered Male           1 year   \n8              NaN         Cat    Neutered Male          2 years   \n9           Foster         Dog    Neutered Male          2 years   \n10             NaN       Other          Unknown           1 year   \n11             NaN         Dog    Spayed Female          2 years   \n12             Snr         Cat          Unknown          2 years   \n\n                                   breed               color  \n0                Chihuahua Shorthair Mix               Brown  \n1                 Domestic Shorthair Mix        Orange Tabby  \n2                 Domestic Shorthair Mix  White/Orange Tabby  \n3                 Domestic Shorthair Mix               Black  \n4                 Domestic Shorthair Mix               Black  \n5     Anatol Shepherd/Labrador Retriever                Buff  \n6                 Domestic Shorthair Mix          Blue/White  \n7                Chihuahua Shorthair Mix         White/Brown  \n8                 Domestic Shorthair Mix   Brown Tabby/White  \n9   American Foxhound/Labrador Retriever         White/Brown  \n10                               Raccoon                Gray  \n11    Border Collie/Cardigan Welsh Corgi         Black/White  \n12                    Domestic Shorthair         Brown Tabby  ",
      "text/html": "<div>\n<style scoped>\n    .dataframe tbody tr th:only-of-type {\n        vertical-align: middle;\n    }\n\n    .dataframe tbody tr th {\n        vertical-align: top;\n    }\n\n    .dataframe thead th {\n        text-align: right;\n    }\n</style>\n<table border=\"1\" class=\"dataframe\">\n  <thead>\n    <tr style=\"text-align: right;\">\n      <th></th>\n      <th>animal_id</th>\n      <th>name</th>\n      <th>datetime</th>\n      <th>date_of_birth</th>\n      <th>outcome_type</th>\n      <th>outcome_subtype</th>\n      <th>animal_type</th>\n      <th>sex_upon_outcome</th>\n      <th>age_upon_outcome</th>\n      <th>breed</th>\n      <th>color</th>\n    </tr>\n  </thead>\n  <tbody>\n    <tr>\n      <th>0</th>\n      <td>A659412</td>\n      <td>Princess</td>\n      <td>2020-10-05 14:37:00</td>\n      <td>2013-03-24</td>\n      <td>Adoption</td>\n      <td>NaN</td>\n      <td>Dog</td>\n      <td>Spayed Female</td>\n      <td>7 years</td>\n      <td>Chihuahua Shorthair Mix</td>\n      <td>Brown</td>\n    </tr>\n    <tr>\n      <th>1</th>\n      <td>A674754</td>\n      <td>NaN</td>\n      <td>2014-03-18 11:47:00</td>\n      <td>2014-03-12</td>\n      <td>Transfer</td>\n      <td>Partner</td>\n      <td>Cat</td>\n      <td>Intact Male</td>\n      <td>6 days</td>\n      <td>Domestic Shorthair Mix</td>\n      <td>Orange Tabby</td>\n    </tr>\n    <tr>\n      <th>2</th>\n      <td>A680969</td>\n      <td>*Zeus</td>\n      <td>2014-08-05 16:59:00</td>\n      <td>2014-06-03</td>\n      <td>Adoption</td>\n      <td>NaN</td>\n      <td>Cat</td>\n      <td>Neutered Male</td>\n      <td>2 months</td>\n      <td>Domestic Shorthair Mix</td>\n      <td>White/Orange Tabby</td>\n    </tr>\n    <tr>\n      <th>3</th>\n      <td>A684617</td>\n      <td>NaN</td>\n      <td>2014-07-27 09:00:00</td>\n      <td>2012-07-26</td>\n      <td>Transfer</td>\n      <td>SCRP</td>\n      <td>Cat</td>\n      <td>Intact Female</td>\n      <td>2 years</td>\n      <td>Domestic Shorthair Mix</td>\n      <td>Black</td>\n    </tr>\n    <tr>\n      <th>4</th>\n      <td>A689724</td>\n      <td>*Donatello</td>\n      <td>2014-10-18 18:52:00</td>\n      <td>2014-08-01</td>\n      <td>Adoption</td>\n      <td>NaN</td>\n      <td>Cat</td>\n      <td>Neutered Male</td>\n      <td>2 months</td>\n      <td>Domestic Shorthair Mix</td>\n      <td>Black</td>\n    </tr>\n    <tr>\n      <th>5</th>\n      <td>A720371</td>\n      <td>Moose</td>\n      <td>2016-02-13 17:59:00</td>\n      <td>2015-10-08</td>\n      <td>Adoption</td>\n      <td>NaN</td>\n      <td>Dog</td>\n      <td>Neutered Male</td>\n      <td>4 months</td>\n      <td>Anatol Shepherd/Labrador Retriever</td>\n      <td>Buff</td>\n    </tr>\n    <tr>\n      <th>6</th>\n      <td>A742354</td>\n      <td>Artemis</td>\n      <td>2017-01-22 11:56:00</td>\n      <td>2010-01-20</td>\n      <td>Return to Owner</td>\n      <td>NaN</td>\n      <td>Cat</td>\n      <td>Neutered Male</td>\n      <td>7 years</td>\n      <td>Domestic Shorthair Mix</td>\n      <td>Blue/White</td>\n    </tr>\n    <tr>\n      <th>7</th>\n      <td>A776359</td>\n      <td>Gizmo</td>\n      <td>2018-07-18 16:02:00</td>\n      <td>2017-07-12</td>\n      <td>Adoption</td>\n      <td>NaN</td>\n      <td>Dog</td>\n      <td>Neutered Male</td>\n      <td>1 year</td>\n      <td>Chihuahua Shorthair Mix</td>\n      <td>White/Brown</td>\n    </tr>\n    <tr>\n      <th>8</th>\n      <td>A794011</td>\n      <td>Chunk</td>\n      <td>2019-05-08 18:20:00</td>\n      <td>2017-05-02</td>\n      <td>Rto-Adopt</td>\n      <td>NaN</td>\n      <td>Cat</td>\n      <td>Neutered Male</td>\n      <td>2 years</td>\n      <td>Domestic Shorthair Mix</td>\n      <td>Brown Tabby/White</td>\n    </tr>\n    <tr>\n      <th>9</th>\n      <td>A814515</td>\n      <td>Quentin</td>\n      <td>2020-05-06 07:59:00</td>\n      <td>2018-03-01</td>\n      <td>Adoption</td>\n      <td>Foster</td>\n      <td>Dog</td>\n      <td>Neutered Male</td>\n      <td>2 years</td>\n      <td>American Foxhound/Labrador Retriever</td>\n      <td>White/Brown</td>\n    </tr>\n    <tr>\n      <th>10</th>\n      <td>A821648</td>\n      <td>NaN</td>\n      <td>2020-08-16 11:38:00</td>\n      <td>2019-08-16</td>\n      <td>Euthanasia</td>\n      <td>NaN</td>\n      <td>Other</td>\n      <td>Unknown</td>\n      <td>1 year</td>\n      <td>Raccoon</td>\n      <td>Gray</td>\n    </tr>\n    <tr>\n      <th>11</th>\n      <td>A840370</td>\n      <td>Tulip</td>\n      <td>2021-08-19 19:36:00</td>\n      <td>2019-08-06</td>\n      <td>Adoption</td>\n      <td>NaN</td>\n      <td>Dog</td>\n      <td>Spayed Female</td>\n      <td>2 years</td>\n      <td>Border Collie/Cardigan Welsh Corgi</td>\n      <td>Black/White</td>\n    </tr>\n    <tr>\n      <th>12</th>\n      <td>A881795</td>\n      <td>NaN</td>\n      <td>2023-06-13 07:13:00</td>\n      <td>2021-05-26</td>\n      <td>Transfer</td>\n      <td>Snr</td>\n      <td>Cat</td>\n      <td>Unknown</td>\n      <td>2 years</td>\n      <td>Domestic Shorthair</td>\n      <td>Brown Tabby</td>\n    </tr>\n  </tbody>\n</table>\n</div>"
     },
     "execution_count": 15,
     "metadata": {},
     "output_type": "execute_result"
    }
   ],
   "source": [
    "date_format(outcome, \"datetime\", \"%Y-%m-%d %H:%M\")\n",
    "date_format(outcome, \"date_of_birth\", \"%Y-%m-%d\")"
   ]
  },
  {
   "cell_type": "markdown",
   "source": [
    "# Merge dataframes"
   ],
   "metadata": {
    "collapsed": false,
    "ExecuteTime": {
     "start_time": "2023-11-30T19:04:43.548376Z"
    }
   }
  },
  {
   "cell_type": "code",
   "execution_count": 16,
   "outputs": [
    {
     "data": {
      "text/plain": "Index(['animal_id', 'name', 'datetime', 'found_location', 'intake_type',\n       'intake_condition', 'animal_type', 'sex_upon_intake', 'age_upon_intake',\n       'breed', 'color'],\n      dtype='object')"
     },
     "execution_count": 16,
     "metadata": {},
     "output_type": "execute_result"
    }
   ],
   "source": [
    "intake.columns"
   ],
   "metadata": {
    "collapsed": false,
    "ExecuteTime": {
     "end_time": "2023-11-30T20:03:41.908957Z",
     "start_time": "2023-11-30T20:03:41.905388Z"
    }
   }
  },
  {
   "cell_type": "code",
   "execution_count": 17,
   "outputs": [
    {
     "data": {
      "text/plain": "Index(['animal_id', 'name', 'datetime', 'date_of_birth', 'outcome_type',\n       'outcome_subtype', 'animal_type', 'sex_upon_outcome',\n       'age_upon_outcome', 'breed', 'color'],\n      dtype='object')"
     },
     "execution_count": 17,
     "metadata": {},
     "output_type": "execute_result"
    }
   ],
   "source": [
    "outcome.columns"
   ],
   "metadata": {
    "collapsed": false,
    "ExecuteTime": {
     "end_time": "2023-11-30T20:03:42.424459Z",
     "start_time": "2023-11-30T20:03:42.418847Z"
    }
   }
  },
  {
   "cell_type": "markdown",
   "source": [
    "# Drop duplicated columns in outcome data"
   ],
   "metadata": {
    "collapsed": false,
    "ExecuteTime": {
     "start_time": "2023-11-30T19:04:43.551335Z"
    }
   }
  },
  {
   "cell_type": "code",
   "execution_count": 18,
   "outputs": [],
   "source": [
    "outcome.drop([\"name\", \"animal_type\", \"sex_upon_outcome\", \"breed\", \"color\"],\n",
    "             inplace=True,\n",
    "             axis=1)"
   ],
   "metadata": {
    "collapsed": false,
    "ExecuteTime": {
     "end_time": "2023-11-30T20:03:43.294039Z",
     "start_time": "2023-11-30T20:03:43.261522Z"
    }
   }
  },
  {
   "cell_type": "code",
   "execution_count": 19,
   "outputs": [
    {
     "data": {
      "text/plain": "  animal_id          name     datetime_intake  \\\n0   A635072       Beowulf 2019-04-16 09:53:00   \n1   A682524           Rio 2014-06-29 10:38:00   \n2   A706918         Belle 2015-07-05 12:59:00   \n3   A708452        Mumble 2015-07-30 14:37:00   \n4   A724273       Runster 2016-04-14 18:43:00   \n5   A743852          Odin 2017-02-18 12:46:00   \n6   A786884        *Brock 2019-01-03 16:19:00   \n7   A818975           NaN 2020-06-18 14:53:00   \n8   A844350         *Ella 2021-10-15 11:40:00   \n9   A857105  Johnny Ringo 2022-05-12 00:23:00   \n\n                                  found_location      intake_type  \\\n0            415 East Mary Street in Austin (TX)    Public Assist   \n1                  800 Grove Blvd in Austin (TX)            Stray   \n2               9409 Bluegrass Dr in Austin (TX)            Stray   \n3                                    Austin (TX)    Public Assist   \n4             2818 Palomino Trail in Austin (TX)            Stray   \n5                                    Austin (TX)  Owner Surrender   \n6            2501 Magin Meadow Dr in Austin (TX)            Stray   \n7          Braker Lane And Metric in Travis (TX)            Stray   \n8  2112 East William Cannon Drive in Austin (TX)            Stray   \n9             4404 Sarasota Drive in Austin (TX)    Public Assist   \n\n  intake_condition animal_type sex_upon_intake age_upon_intake  \\\n0           Normal         Dog   Neutered Male         6 years   \n1           Normal         Dog   Neutered Male         4 years   \n2           Normal         Dog   Spayed Female         8 years   \n3           Normal         Dog     Intact Male         2 years   \n4           Normal         Dog     Intact Male       11 months   \n5           Normal         Dog   Neutered Male         2 years   \n6           Normal         Dog   Neutered Male         2 years   \n7           Normal         Cat     Intact Male         4 weeks   \n8           Normal         Cat   Intact Female        6 months   \n9           Normal         Cat   Neutered Male         2 years   \n\n                                   breed         color datetime_outcome  \\\n0                         Great Dane Mix         Black              NaT   \n1  Doberman Pinsch/Australian Cattle Dog      Tan/Gray              NaT   \n2               English Springer Spaniel   White/Liver              NaT   \n3                 Labrador Retriever Mix   Black/White              NaT   \n4                            Basenji Mix   Sable/White              NaT   \n5                 Labrador Retriever Mix     Chocolate              NaT   \n6                             Beagle Mix      Tricolor              NaT   \n7                     Domestic Shorthair   Cream Tabby              NaT   \n8                     Domestic Shorthair   Brown Tabby              NaT   \n9                     Domestic Shorthair  Orange Tabby              NaT   \n\n  datetime_outcome date_of_birth outcome_type outcome_subtype age_upon_outcome  \n0              NaT           NaT          NaN             NaN              NaN  \n1              NaT           NaT          NaN             NaN              NaN  \n2              NaT           NaT          NaN             NaN              NaN  \n3              NaT           NaT          NaN             NaN              NaN  \n4              NaT           NaT          NaN             NaN              NaN  \n5              NaT           NaT          NaN             NaN              NaN  \n6              NaT           NaT          NaN             NaN              NaN  \n7              NaT           NaT          NaN             NaN              NaN  \n8              NaT           NaT          NaN             NaN              NaN  \n9              NaT           NaT          NaN             NaN              NaN  ",
      "text/html": "<div>\n<style scoped>\n    .dataframe tbody tr th:only-of-type {\n        vertical-align: middle;\n    }\n\n    .dataframe tbody tr th {\n        vertical-align: top;\n    }\n\n    .dataframe thead th {\n        text-align: right;\n    }\n</style>\n<table border=\"1\" class=\"dataframe\">\n  <thead>\n    <tr style=\"text-align: right;\">\n      <th></th>\n      <th>animal_id</th>\n      <th>name</th>\n      <th>datetime_intake</th>\n      <th>found_location</th>\n      <th>intake_type</th>\n      <th>intake_condition</th>\n      <th>animal_type</th>\n      <th>sex_upon_intake</th>\n      <th>age_upon_intake</th>\n      <th>breed</th>\n      <th>color</th>\n      <th>datetime_outcome</th>\n      <th>datetime_outcome</th>\n      <th>date_of_birth</th>\n      <th>outcome_type</th>\n      <th>outcome_subtype</th>\n      <th>age_upon_outcome</th>\n    </tr>\n  </thead>\n  <tbody>\n    <tr>\n      <th>0</th>\n      <td>A635072</td>\n      <td>Beowulf</td>\n      <td>2019-04-16 09:53:00</td>\n      <td>415 East Mary Street in Austin (TX)</td>\n      <td>Public Assist</td>\n      <td>Normal</td>\n      <td>Dog</td>\n      <td>Neutered Male</td>\n      <td>6 years</td>\n      <td>Great Dane Mix</td>\n      <td>Black</td>\n      <td>NaT</td>\n      <td>NaT</td>\n      <td>NaT</td>\n      <td>NaN</td>\n      <td>NaN</td>\n      <td>NaN</td>\n    </tr>\n    <tr>\n      <th>1</th>\n      <td>A682524</td>\n      <td>Rio</td>\n      <td>2014-06-29 10:38:00</td>\n      <td>800 Grove Blvd in Austin (TX)</td>\n      <td>Stray</td>\n      <td>Normal</td>\n      <td>Dog</td>\n      <td>Neutered Male</td>\n      <td>4 years</td>\n      <td>Doberman Pinsch/Australian Cattle Dog</td>\n      <td>Tan/Gray</td>\n      <td>NaT</td>\n      <td>NaT</td>\n      <td>NaT</td>\n      <td>NaN</td>\n      <td>NaN</td>\n      <td>NaN</td>\n    </tr>\n    <tr>\n      <th>2</th>\n      <td>A706918</td>\n      <td>Belle</td>\n      <td>2015-07-05 12:59:00</td>\n      <td>9409 Bluegrass Dr in Austin (TX)</td>\n      <td>Stray</td>\n      <td>Normal</td>\n      <td>Dog</td>\n      <td>Spayed Female</td>\n      <td>8 years</td>\n      <td>English Springer Spaniel</td>\n      <td>White/Liver</td>\n      <td>NaT</td>\n      <td>NaT</td>\n      <td>NaT</td>\n      <td>NaN</td>\n      <td>NaN</td>\n      <td>NaN</td>\n    </tr>\n    <tr>\n      <th>3</th>\n      <td>A708452</td>\n      <td>Mumble</td>\n      <td>2015-07-30 14:37:00</td>\n      <td>Austin (TX)</td>\n      <td>Public Assist</td>\n      <td>Normal</td>\n      <td>Dog</td>\n      <td>Intact Male</td>\n      <td>2 years</td>\n      <td>Labrador Retriever Mix</td>\n      <td>Black/White</td>\n      <td>NaT</td>\n      <td>NaT</td>\n      <td>NaT</td>\n      <td>NaN</td>\n      <td>NaN</td>\n      <td>NaN</td>\n    </tr>\n    <tr>\n      <th>4</th>\n      <td>A724273</td>\n      <td>Runster</td>\n      <td>2016-04-14 18:43:00</td>\n      <td>2818 Palomino Trail in Austin (TX)</td>\n      <td>Stray</td>\n      <td>Normal</td>\n      <td>Dog</td>\n      <td>Intact Male</td>\n      <td>11 months</td>\n      <td>Basenji Mix</td>\n      <td>Sable/White</td>\n      <td>NaT</td>\n      <td>NaT</td>\n      <td>NaT</td>\n      <td>NaN</td>\n      <td>NaN</td>\n      <td>NaN</td>\n    </tr>\n    <tr>\n      <th>5</th>\n      <td>A743852</td>\n      <td>Odin</td>\n      <td>2017-02-18 12:46:00</td>\n      <td>Austin (TX)</td>\n      <td>Owner Surrender</td>\n      <td>Normal</td>\n      <td>Dog</td>\n      <td>Neutered Male</td>\n      <td>2 years</td>\n      <td>Labrador Retriever Mix</td>\n      <td>Chocolate</td>\n      <td>NaT</td>\n      <td>NaT</td>\n      <td>NaT</td>\n      <td>NaN</td>\n      <td>NaN</td>\n      <td>NaN</td>\n    </tr>\n    <tr>\n      <th>6</th>\n      <td>A786884</td>\n      <td>*Brock</td>\n      <td>2019-01-03 16:19:00</td>\n      <td>2501 Magin Meadow Dr in Austin (TX)</td>\n      <td>Stray</td>\n      <td>Normal</td>\n      <td>Dog</td>\n      <td>Neutered Male</td>\n      <td>2 years</td>\n      <td>Beagle Mix</td>\n      <td>Tricolor</td>\n      <td>NaT</td>\n      <td>NaT</td>\n      <td>NaT</td>\n      <td>NaN</td>\n      <td>NaN</td>\n      <td>NaN</td>\n    </tr>\n    <tr>\n      <th>7</th>\n      <td>A818975</td>\n      <td>NaN</td>\n      <td>2020-06-18 14:53:00</td>\n      <td>Braker Lane And Metric in Travis (TX)</td>\n      <td>Stray</td>\n      <td>Normal</td>\n      <td>Cat</td>\n      <td>Intact Male</td>\n      <td>4 weeks</td>\n      <td>Domestic Shorthair</td>\n      <td>Cream Tabby</td>\n      <td>NaT</td>\n      <td>NaT</td>\n      <td>NaT</td>\n      <td>NaN</td>\n      <td>NaN</td>\n      <td>NaN</td>\n    </tr>\n    <tr>\n      <th>8</th>\n      <td>A844350</td>\n      <td>*Ella</td>\n      <td>2021-10-15 11:40:00</td>\n      <td>2112 East William Cannon Drive in Austin (TX)</td>\n      <td>Stray</td>\n      <td>Normal</td>\n      <td>Cat</td>\n      <td>Intact Female</td>\n      <td>6 months</td>\n      <td>Domestic Shorthair</td>\n      <td>Brown Tabby</td>\n      <td>NaT</td>\n      <td>NaT</td>\n      <td>NaT</td>\n      <td>NaN</td>\n      <td>NaN</td>\n      <td>NaN</td>\n    </tr>\n    <tr>\n      <th>9</th>\n      <td>A857105</td>\n      <td>Johnny Ringo</td>\n      <td>2022-05-12 00:23:00</td>\n      <td>4404 Sarasota Drive in Austin (TX)</td>\n      <td>Public Assist</td>\n      <td>Normal</td>\n      <td>Cat</td>\n      <td>Neutered Male</td>\n      <td>2 years</td>\n      <td>Domestic Shorthair</td>\n      <td>Orange Tabby</td>\n      <td>NaT</td>\n      <td>NaT</td>\n      <td>NaT</td>\n      <td>NaN</td>\n      <td>NaN</td>\n      <td>NaN</td>\n    </tr>\n  </tbody>\n</table>\n</div>"
     },
     "execution_count": 19,
     "metadata": {},
     "output_type": "execute_result"
    }
   ],
   "source": [
    "intake_n_outcome = merge_intake_n_outcome(intake, outcome)\n",
    "intake_n_outcome"
   ],
   "metadata": {
    "collapsed": false,
    "ExecuteTime": {
     "end_time": "2023-11-30T20:03:43.822042Z",
     "start_time": "2023-11-30T20:03:43.767462Z"
    }
   }
  },
  {
   "cell_type": "markdown",
   "source": [
    "In certain cases, an animal's information may be entered multiple times due to updates in basic details such as `intake_type` or `intake_condition`. Consequently, resolving the issue by solely dropping duplicates at the outset may not suffice. Instead, duplicates will be identified if rows exhibit matching values for `animal_id`, `intake_datetime`, and `outcome_datetime`."
   ],
   "metadata": {
    "collapsed": false,
    "ExecuteTime": {
     "start_time": "2023-11-30T19:04:43.553245Z"
    }
   }
  },
  {
   "cell_type": "code",
   "execution_count": 20,
   "outputs": [
    {
     "data": {
      "text/plain": "  animal_id          name     datetime_intake  \\\n0   A635072       Beowulf 2019-04-16 09:53:00   \n1   A682524           Rio 2014-06-29 10:38:00   \n2   A706918         Belle 2015-07-05 12:59:00   \n3   A708452        Mumble 2015-07-30 14:37:00   \n4   A724273       Runster 2016-04-14 18:43:00   \n5   A743852          Odin 2017-02-18 12:46:00   \n6   A786884        *Brock 2019-01-03 16:19:00   \n7   A818975           NaN 2020-06-18 14:53:00   \n8   A844350         *Ella 2021-10-15 11:40:00   \n9   A857105  Johnny Ringo 2022-05-12 00:23:00   \n\n                                  found_location      intake_type  \\\n0            415 East Mary Street in Austin (TX)    Public Assist   \n1                  800 Grove Blvd in Austin (TX)            Stray   \n2               9409 Bluegrass Dr in Austin (TX)            Stray   \n3                                    Austin (TX)    Public Assist   \n4             2818 Palomino Trail in Austin (TX)            Stray   \n5                                    Austin (TX)  Owner Surrender   \n6            2501 Magin Meadow Dr in Austin (TX)            Stray   \n7          Braker Lane And Metric in Travis (TX)            Stray   \n8  2112 East William Cannon Drive in Austin (TX)            Stray   \n9             4404 Sarasota Drive in Austin (TX)    Public Assist   \n\n  intake_condition animal_type sex_upon_intake age_upon_intake  \\\n0           Normal         Dog   Neutered Male         6 years   \n1           Normal         Dog   Neutered Male         4 years   \n2           Normal         Dog   Spayed Female         8 years   \n3           Normal         Dog     Intact Male         2 years   \n4           Normal         Dog     Intact Male       11 months   \n5           Normal         Dog   Neutered Male         2 years   \n6           Normal         Dog   Neutered Male         2 years   \n7           Normal         Cat     Intact Male         4 weeks   \n8           Normal         Cat   Intact Female        6 months   \n9           Normal         Cat   Neutered Male         2 years   \n\n                                   breed         color datetime_outcome  \\\n0                         Great Dane Mix         Black              NaT   \n1  Doberman Pinsch/Australian Cattle Dog      Tan/Gray              NaT   \n2               English Springer Spaniel   White/Liver              NaT   \n3                 Labrador Retriever Mix   Black/White              NaT   \n4                            Basenji Mix   Sable/White              NaT   \n5                 Labrador Retriever Mix     Chocolate              NaT   \n6                             Beagle Mix      Tricolor              NaT   \n7                     Domestic Shorthair   Cream Tabby              NaT   \n8                     Domestic Shorthair   Brown Tabby              NaT   \n9                     Domestic Shorthair  Orange Tabby              NaT   \n\n  date_of_birth outcome_type outcome_subtype age_upon_outcome  \n0           NaT          NaN             NaN              NaN  \n1           NaT          NaN             NaN              NaN  \n2           NaT          NaN             NaN              NaN  \n3           NaT          NaN             NaN              NaN  \n4           NaT          NaN             NaN              NaN  \n5           NaT          NaN             NaN              NaN  \n6           NaT          NaN             NaN              NaN  \n7           NaT          NaN             NaN              NaN  \n8           NaT          NaN             NaN              NaN  \n9           NaT          NaN             NaN              NaN  ",
      "text/html": "<div>\n<style scoped>\n    .dataframe tbody tr th:only-of-type {\n        vertical-align: middle;\n    }\n\n    .dataframe tbody tr th {\n        vertical-align: top;\n    }\n\n    .dataframe thead th {\n        text-align: right;\n    }\n</style>\n<table border=\"1\" class=\"dataframe\">\n  <thead>\n    <tr style=\"text-align: right;\">\n      <th></th>\n      <th>animal_id</th>\n      <th>name</th>\n      <th>datetime_intake</th>\n      <th>found_location</th>\n      <th>intake_type</th>\n      <th>intake_condition</th>\n      <th>animal_type</th>\n      <th>sex_upon_intake</th>\n      <th>age_upon_intake</th>\n      <th>breed</th>\n      <th>color</th>\n      <th>datetime_outcome</th>\n      <th>date_of_birth</th>\n      <th>outcome_type</th>\n      <th>outcome_subtype</th>\n      <th>age_upon_outcome</th>\n    </tr>\n  </thead>\n  <tbody>\n    <tr>\n      <th>0</th>\n      <td>A635072</td>\n      <td>Beowulf</td>\n      <td>2019-04-16 09:53:00</td>\n      <td>415 East Mary Street in Austin (TX)</td>\n      <td>Public Assist</td>\n      <td>Normal</td>\n      <td>Dog</td>\n      <td>Neutered Male</td>\n      <td>6 years</td>\n      <td>Great Dane Mix</td>\n      <td>Black</td>\n      <td>NaT</td>\n      <td>NaT</td>\n      <td>NaN</td>\n      <td>NaN</td>\n      <td>NaN</td>\n    </tr>\n    <tr>\n      <th>1</th>\n      <td>A682524</td>\n      <td>Rio</td>\n      <td>2014-06-29 10:38:00</td>\n      <td>800 Grove Blvd in Austin (TX)</td>\n      <td>Stray</td>\n      <td>Normal</td>\n      <td>Dog</td>\n      <td>Neutered Male</td>\n      <td>4 years</td>\n      <td>Doberman Pinsch/Australian Cattle Dog</td>\n      <td>Tan/Gray</td>\n      <td>NaT</td>\n      <td>NaT</td>\n      <td>NaN</td>\n      <td>NaN</td>\n      <td>NaN</td>\n    </tr>\n    <tr>\n      <th>2</th>\n      <td>A706918</td>\n      <td>Belle</td>\n      <td>2015-07-05 12:59:00</td>\n      <td>9409 Bluegrass Dr in Austin (TX)</td>\n      <td>Stray</td>\n      <td>Normal</td>\n      <td>Dog</td>\n      <td>Spayed Female</td>\n      <td>8 years</td>\n      <td>English Springer Spaniel</td>\n      <td>White/Liver</td>\n      <td>NaT</td>\n      <td>NaT</td>\n      <td>NaN</td>\n      <td>NaN</td>\n      <td>NaN</td>\n    </tr>\n    <tr>\n      <th>3</th>\n      <td>A708452</td>\n      <td>Mumble</td>\n      <td>2015-07-30 14:37:00</td>\n      <td>Austin (TX)</td>\n      <td>Public Assist</td>\n      <td>Normal</td>\n      <td>Dog</td>\n      <td>Intact Male</td>\n      <td>2 years</td>\n      <td>Labrador Retriever Mix</td>\n      <td>Black/White</td>\n      <td>NaT</td>\n      <td>NaT</td>\n      <td>NaN</td>\n      <td>NaN</td>\n      <td>NaN</td>\n    </tr>\n    <tr>\n      <th>4</th>\n      <td>A724273</td>\n      <td>Runster</td>\n      <td>2016-04-14 18:43:00</td>\n      <td>2818 Palomino Trail in Austin (TX)</td>\n      <td>Stray</td>\n      <td>Normal</td>\n      <td>Dog</td>\n      <td>Intact Male</td>\n      <td>11 months</td>\n      <td>Basenji Mix</td>\n      <td>Sable/White</td>\n      <td>NaT</td>\n      <td>NaT</td>\n      <td>NaN</td>\n      <td>NaN</td>\n      <td>NaN</td>\n    </tr>\n    <tr>\n      <th>5</th>\n      <td>A743852</td>\n      <td>Odin</td>\n      <td>2017-02-18 12:46:00</td>\n      <td>Austin (TX)</td>\n      <td>Owner Surrender</td>\n      <td>Normal</td>\n      <td>Dog</td>\n      <td>Neutered Male</td>\n      <td>2 years</td>\n      <td>Labrador Retriever Mix</td>\n      <td>Chocolate</td>\n      <td>NaT</td>\n      <td>NaT</td>\n      <td>NaN</td>\n      <td>NaN</td>\n      <td>NaN</td>\n    </tr>\n    <tr>\n      <th>6</th>\n      <td>A786884</td>\n      <td>*Brock</td>\n      <td>2019-01-03 16:19:00</td>\n      <td>2501 Magin Meadow Dr in Austin (TX)</td>\n      <td>Stray</td>\n      <td>Normal</td>\n      <td>Dog</td>\n      <td>Neutered Male</td>\n      <td>2 years</td>\n      <td>Beagle Mix</td>\n      <td>Tricolor</td>\n      <td>NaT</td>\n      <td>NaT</td>\n      <td>NaN</td>\n      <td>NaN</td>\n      <td>NaN</td>\n    </tr>\n    <tr>\n      <th>7</th>\n      <td>A818975</td>\n      <td>NaN</td>\n      <td>2020-06-18 14:53:00</td>\n      <td>Braker Lane And Metric in Travis (TX)</td>\n      <td>Stray</td>\n      <td>Normal</td>\n      <td>Cat</td>\n      <td>Intact Male</td>\n      <td>4 weeks</td>\n      <td>Domestic Shorthair</td>\n      <td>Cream Tabby</td>\n      <td>NaT</td>\n      <td>NaT</td>\n      <td>NaN</td>\n      <td>NaN</td>\n      <td>NaN</td>\n    </tr>\n    <tr>\n      <th>8</th>\n      <td>A844350</td>\n      <td>*Ella</td>\n      <td>2021-10-15 11:40:00</td>\n      <td>2112 East William Cannon Drive in Austin (TX)</td>\n      <td>Stray</td>\n      <td>Normal</td>\n      <td>Cat</td>\n      <td>Intact Female</td>\n      <td>6 months</td>\n      <td>Domestic Shorthair</td>\n      <td>Brown Tabby</td>\n      <td>NaT</td>\n      <td>NaT</td>\n      <td>NaN</td>\n      <td>NaN</td>\n      <td>NaN</td>\n    </tr>\n    <tr>\n      <th>9</th>\n      <td>A857105</td>\n      <td>Johnny Ringo</td>\n      <td>2022-05-12 00:23:00</td>\n      <td>4404 Sarasota Drive in Austin (TX)</td>\n      <td>Public Assist</td>\n      <td>Normal</td>\n      <td>Cat</td>\n      <td>Neutered Male</td>\n      <td>2 years</td>\n      <td>Domestic Shorthair</td>\n      <td>Orange Tabby</td>\n      <td>NaT</td>\n      <td>NaT</td>\n      <td>NaN</td>\n      <td>NaN</td>\n      <td>NaN</td>\n    </tr>\n  </tbody>\n</table>\n</div>"
     },
     "execution_count": 20,
     "metadata": {},
     "output_type": "execute_result"
    }
   ],
   "source": [
    "intake_n_outcome.drop_duplicates(subset = [\"animal_id\", \"datetime_intake\", \"datetime_outcome\"],\n",
    "                                 inplace=True)\n",
    "intake_n_outcome = intake_n_outcome.loc[:,~intake_n_outcome.columns.duplicated()]\n",
    "intake_n_outcome"
   ],
   "metadata": {
    "collapsed": false,
    "ExecuteTime": {
     "end_time": "2023-11-30T20:03:44.718125Z",
     "start_time": "2023-11-30T20:03:44.686719Z"
    }
   }
  },
  {
   "cell_type": "code",
   "execution_count": 21,
   "outputs": [
    {
     "data": {
      "text/plain": "Index(['animal_id', 'name', 'datetime_intake', 'found_location', 'intake_type',\n       'intake_condition', 'animal_type', 'sex_upon_intake', 'age_upon_intake',\n       'breed', 'color', 'datetime_outcome', 'date_of_birth', 'outcome_type',\n       'outcome_subtype', 'age_upon_outcome'],\n      dtype='object')"
     },
     "execution_count": 21,
     "metadata": {},
     "output_type": "execute_result"
    }
   ],
   "source": [
    "intake_n_outcome.columns"
   ],
   "metadata": {
    "collapsed": false,
    "ExecuteTime": {
     "end_time": "2023-11-30T20:03:45.194305Z",
     "start_time": "2023-11-30T20:03:45.166794Z"
    }
   }
  },
  {
   "cell_type": "code",
   "execution_count": 22,
   "outputs": [
    {
     "data": {
      "text/plain": "  animal_id          name animal_type            sex  \\\n0   A635072       Beowulf         Dog  Neutered Male   \n1   A682524           Rio         Dog  Neutered Male   \n2   A706918         Belle         Dog  Spayed Female   \n3   A708452        Mumble         Dog    Intact Male   \n4   A724273       Runster         Dog    Intact Male   \n5   A743852          Odin         Dog  Neutered Male   \n6   A786884        *Brock         Dog  Neutered Male   \n7   A818975           NaN         Cat    Intact Male   \n8   A844350         *Ella         Cat  Intact Female   \n9   A857105  Johnny Ringo         Cat  Neutered Male   \n\n                                   breed         color date_of_birth  \\\n0                         Great Dane Mix         Black           NaT   \n1  Doberman Pinsch/Australian Cattle Dog      Tan/Gray           NaT   \n2               English Springer Spaniel   White/Liver           NaT   \n3                 Labrador Retriever Mix   Black/White           NaT   \n4                            Basenji Mix   Sable/White           NaT   \n5                 Labrador Retriever Mix     Chocolate           NaT   \n6                             Beagle Mix      Tricolor           NaT   \n7                     Domestic Shorthair   Cream Tabby           NaT   \n8                     Domestic Shorthair   Brown Tabby           NaT   \n9                     Domestic Shorthair  Orange Tabby           NaT   \n\n                                  found_location     intake_datetime  \\\n0            415 East Mary Street in Austin (TX) 2019-04-16 09:53:00   \n1                  800 Grove Blvd in Austin (TX) 2014-06-29 10:38:00   \n2               9409 Bluegrass Dr in Austin (TX) 2015-07-05 12:59:00   \n3                                    Austin (TX) 2015-07-30 14:37:00   \n4             2818 Palomino Trail in Austin (TX) 2016-04-14 18:43:00   \n5                                    Austin (TX) 2017-02-18 12:46:00   \n6            2501 Magin Meadow Dr in Austin (TX) 2019-01-03 16:19:00   \n7          Braker Lane And Metric in Travis (TX) 2020-06-18 14:53:00   \n8  2112 East William Cannon Drive in Austin (TX) 2021-10-15 11:40:00   \n9             4404 Sarasota Drive in Austin (TX) 2022-05-12 00:23:00   \n\n  age_upon_intake outcome_datetime age_upon_outcome      intake_type  \\\n0         6 years              NaT              NaN    Public Assist   \n1         4 years              NaT              NaN            Stray   \n2         8 years              NaT              NaN            Stray   \n3         2 years              NaT              NaN    Public Assist   \n4       11 months              NaT              NaN            Stray   \n5         2 years              NaT              NaN  Owner Surrender   \n6         2 years              NaT              NaN            Stray   \n7         4 weeks              NaT              NaN            Stray   \n8        6 months              NaT              NaN            Stray   \n9         2 years              NaT              NaN    Public Assist   \n\n  intake_condition outcome_type outcome_subtype  \n0           Normal          NaN             NaN  \n1           Normal          NaN             NaN  \n2           Normal          NaN             NaN  \n3           Normal          NaN             NaN  \n4           Normal          NaN             NaN  \n5           Normal          NaN             NaN  \n6           Normal          NaN             NaN  \n7           Normal          NaN             NaN  \n8           Normal          NaN             NaN  \n9           Normal          NaN             NaN  ",
      "text/html": "<div>\n<style scoped>\n    .dataframe tbody tr th:only-of-type {\n        vertical-align: middle;\n    }\n\n    .dataframe tbody tr th {\n        vertical-align: top;\n    }\n\n    .dataframe thead th {\n        text-align: right;\n    }\n</style>\n<table border=\"1\" class=\"dataframe\">\n  <thead>\n    <tr style=\"text-align: right;\">\n      <th></th>\n      <th>animal_id</th>\n      <th>name</th>\n      <th>animal_type</th>\n      <th>sex</th>\n      <th>breed</th>\n      <th>color</th>\n      <th>date_of_birth</th>\n      <th>found_location</th>\n      <th>intake_datetime</th>\n      <th>age_upon_intake</th>\n      <th>outcome_datetime</th>\n      <th>age_upon_outcome</th>\n      <th>intake_type</th>\n      <th>intake_condition</th>\n      <th>outcome_type</th>\n      <th>outcome_subtype</th>\n    </tr>\n  </thead>\n  <tbody>\n    <tr>\n      <th>0</th>\n      <td>A635072</td>\n      <td>Beowulf</td>\n      <td>Dog</td>\n      <td>Neutered Male</td>\n      <td>Great Dane Mix</td>\n      <td>Black</td>\n      <td>NaT</td>\n      <td>415 East Mary Street in Austin (TX)</td>\n      <td>2019-04-16 09:53:00</td>\n      <td>6 years</td>\n      <td>NaT</td>\n      <td>NaN</td>\n      <td>Public Assist</td>\n      <td>Normal</td>\n      <td>NaN</td>\n      <td>NaN</td>\n    </tr>\n    <tr>\n      <th>1</th>\n      <td>A682524</td>\n      <td>Rio</td>\n      <td>Dog</td>\n      <td>Neutered Male</td>\n      <td>Doberman Pinsch/Australian Cattle Dog</td>\n      <td>Tan/Gray</td>\n      <td>NaT</td>\n      <td>800 Grove Blvd in Austin (TX)</td>\n      <td>2014-06-29 10:38:00</td>\n      <td>4 years</td>\n      <td>NaT</td>\n      <td>NaN</td>\n      <td>Stray</td>\n      <td>Normal</td>\n      <td>NaN</td>\n      <td>NaN</td>\n    </tr>\n    <tr>\n      <th>2</th>\n      <td>A706918</td>\n      <td>Belle</td>\n      <td>Dog</td>\n      <td>Spayed Female</td>\n      <td>English Springer Spaniel</td>\n      <td>White/Liver</td>\n      <td>NaT</td>\n      <td>9409 Bluegrass Dr in Austin (TX)</td>\n      <td>2015-07-05 12:59:00</td>\n      <td>8 years</td>\n      <td>NaT</td>\n      <td>NaN</td>\n      <td>Stray</td>\n      <td>Normal</td>\n      <td>NaN</td>\n      <td>NaN</td>\n    </tr>\n    <tr>\n      <th>3</th>\n      <td>A708452</td>\n      <td>Mumble</td>\n      <td>Dog</td>\n      <td>Intact Male</td>\n      <td>Labrador Retriever Mix</td>\n      <td>Black/White</td>\n      <td>NaT</td>\n      <td>Austin (TX)</td>\n      <td>2015-07-30 14:37:00</td>\n      <td>2 years</td>\n      <td>NaT</td>\n      <td>NaN</td>\n      <td>Public Assist</td>\n      <td>Normal</td>\n      <td>NaN</td>\n      <td>NaN</td>\n    </tr>\n    <tr>\n      <th>4</th>\n      <td>A724273</td>\n      <td>Runster</td>\n      <td>Dog</td>\n      <td>Intact Male</td>\n      <td>Basenji Mix</td>\n      <td>Sable/White</td>\n      <td>NaT</td>\n      <td>2818 Palomino Trail in Austin (TX)</td>\n      <td>2016-04-14 18:43:00</td>\n      <td>11 months</td>\n      <td>NaT</td>\n      <td>NaN</td>\n      <td>Stray</td>\n      <td>Normal</td>\n      <td>NaN</td>\n      <td>NaN</td>\n    </tr>\n    <tr>\n      <th>5</th>\n      <td>A743852</td>\n      <td>Odin</td>\n      <td>Dog</td>\n      <td>Neutered Male</td>\n      <td>Labrador Retriever Mix</td>\n      <td>Chocolate</td>\n      <td>NaT</td>\n      <td>Austin (TX)</td>\n      <td>2017-02-18 12:46:00</td>\n      <td>2 years</td>\n      <td>NaT</td>\n      <td>NaN</td>\n      <td>Owner Surrender</td>\n      <td>Normal</td>\n      <td>NaN</td>\n      <td>NaN</td>\n    </tr>\n    <tr>\n      <th>6</th>\n      <td>A786884</td>\n      <td>*Brock</td>\n      <td>Dog</td>\n      <td>Neutered Male</td>\n      <td>Beagle Mix</td>\n      <td>Tricolor</td>\n      <td>NaT</td>\n      <td>2501 Magin Meadow Dr in Austin (TX)</td>\n      <td>2019-01-03 16:19:00</td>\n      <td>2 years</td>\n      <td>NaT</td>\n      <td>NaN</td>\n      <td>Stray</td>\n      <td>Normal</td>\n      <td>NaN</td>\n      <td>NaN</td>\n    </tr>\n    <tr>\n      <th>7</th>\n      <td>A818975</td>\n      <td>NaN</td>\n      <td>Cat</td>\n      <td>Intact Male</td>\n      <td>Domestic Shorthair</td>\n      <td>Cream Tabby</td>\n      <td>NaT</td>\n      <td>Braker Lane And Metric in Travis (TX)</td>\n      <td>2020-06-18 14:53:00</td>\n      <td>4 weeks</td>\n      <td>NaT</td>\n      <td>NaN</td>\n      <td>Stray</td>\n      <td>Normal</td>\n      <td>NaN</td>\n      <td>NaN</td>\n    </tr>\n    <tr>\n      <th>8</th>\n      <td>A844350</td>\n      <td>*Ella</td>\n      <td>Cat</td>\n      <td>Intact Female</td>\n      <td>Domestic Shorthair</td>\n      <td>Brown Tabby</td>\n      <td>NaT</td>\n      <td>2112 East William Cannon Drive in Austin (TX)</td>\n      <td>2021-10-15 11:40:00</td>\n      <td>6 months</td>\n      <td>NaT</td>\n      <td>NaN</td>\n      <td>Stray</td>\n      <td>Normal</td>\n      <td>NaN</td>\n      <td>NaN</td>\n    </tr>\n    <tr>\n      <th>9</th>\n      <td>A857105</td>\n      <td>Johnny Ringo</td>\n      <td>Cat</td>\n      <td>Neutered Male</td>\n      <td>Domestic Shorthair</td>\n      <td>Orange Tabby</td>\n      <td>NaT</td>\n      <td>4404 Sarasota Drive in Austin (TX)</td>\n      <td>2022-05-12 00:23:00</td>\n      <td>2 years</td>\n      <td>NaT</td>\n      <td>NaN</td>\n      <td>Public Assist</td>\n      <td>Normal</td>\n      <td>NaN</td>\n      <td>NaN</td>\n    </tr>\n  </tbody>\n</table>\n</div>"
     },
     "execution_count": 22,
     "metadata": {},
     "output_type": "execute_result"
    }
   ],
   "source": [
    "column_order = {\n",
    "    \"animal_id\": \"animal_id\",\n",
    "    \"name\": \"name\",\n",
    "    \"animal_type\": \"animal_type\",\n",
    "    \"sex_upon_intake\": \"sex\",\n",
    "    \"breed\": \"breed\",\n",
    "    \"color\": \"color\",\n",
    "    \"date_of_birth\": \"date_of_birth\",\n",
    "    \"found_location\": \"found_location\",\n",
    "    \"datetime_intake\": \"intake_datetime\",\n",
    "    \"age_upon_intake\": \"age_upon_intake\",\n",
    "    \"datetime_outcome\": \"outcome_datetime\",\n",
    "    \"age_upon_outcome\": \"age_upon_outcome\",\n",
    "    \"intake_type\": \"intake_type\",\n",
    "    \"intake_condition\": \"intake_condition\",\n",
    "    \"outcome_type\": \"outcome_type\",\n",
    "    \"outcome_subtype\": \"outcome_subtype\"\n",
    "}\n",
    "intake_n_outcome = intake_n_outcome.rename(columns=column_order)[column_order.values()]\n",
    "intake_n_outcome"
   ],
   "metadata": {
    "collapsed": false,
    "ExecuteTime": {
     "end_time": "2023-11-30T20:03:45.718145Z",
     "start_time": "2023-11-30T20:03:45.706716Z"
    }
   }
  },
  {
   "cell_type": "markdown",
   "source": [
    "# Check final dataset"
   ],
   "metadata": {
    "collapsed": false,
    "ExecuteTime": {
     "start_time": "2023-11-30T19:04:43.557034Z"
    }
   }
  },
  {
   "cell_type": "code",
   "execution_count": 23,
   "outputs": [
    {
     "data": {
      "text/plain": "animal_id                   object\nname                        object\nanimal_type                 object\nsex                         object\nbreed                       object\ncolor                       object\ndate_of_birth       datetime64[ns]\nfound_location              object\nintake_datetime     datetime64[ns]\nage_upon_intake             object\noutcome_datetime    datetime64[ns]\nage_upon_outcome            object\nintake_type                 object\nintake_condition            object\noutcome_type                object\noutcome_subtype             object\ndtype: object"
     },
     "execution_count": 23,
     "metadata": {},
     "output_type": "execute_result"
    }
   ],
   "source": [
    "intake_n_outcome.dtypes"
   ],
   "metadata": {
    "collapsed": false,
    "ExecuteTime": {
     "end_time": "2023-11-30T20:03:46.648599Z",
     "start_time": "2023-11-30T20:03:46.636873Z"
    }
   }
  },
  {
   "cell_type": "code",
   "execution_count": 24,
   "outputs": [
    {
     "data": {
      "text/plain": "0   NaN\n1   NaN\n2   NaN\n3   NaN\n4   NaN\n5   NaN\n6   NaN\n7   NaN\n8   NaN\n9   NaN\nName: duration, dtype: float64"
     },
     "execution_count": 24,
     "metadata": {},
     "output_type": "execute_result"
    }
   ],
   "source": [
    "calculate_age_delta(intake_n_outcome, start=\"date_of_birth\", end=\"intake_datetime\", unit=\"years\", col_suffix=\"intake\")\n",
    "calculate_age_delta(intake_n_outcome, start=\"date_of_birth\", end=\"outcome_datetime\", unit=\"years\", col_suffix=\"outcome\")\n",
    "calculate_age_delta(intake_n_outcome, start=\"intake_datetime\", end=\"outcome_datetime\", unit=\"days\")"
   ],
   "metadata": {
    "collapsed": false,
    "ExecuteTime": {
     "end_time": "2023-11-30T20:03:47.243952Z",
     "start_time": "2023-11-30T20:03:47.230990Z"
    }
   }
  },
  {
   "cell_type": "code",
   "execution_count": 25,
   "outputs": [
    {
     "data": {
      "text/plain": "  animal_id          name animal_type            sex  \\\n0   A635072       Beowulf         Dog  Neutered Male   \n1   A682524           Rio         Dog  Neutered Male   \n2   A706918         Belle         Dog  Spayed Female   \n3   A708452        Mumble         Dog    Intact Male   \n4   A724273       Runster         Dog    Intact Male   \n5   A743852          Odin         Dog  Neutered Male   \n6   A786884        *Brock         Dog  Neutered Male   \n7   A818975           NaN         Cat    Intact Male   \n8   A844350         *Ella         Cat  Intact Female   \n9   A857105  Johnny Ringo         Cat  Neutered Male   \n\n                                   breed         color date_of_birth  \\\n0                         Great Dane Mix         Black           NaT   \n1  Doberman Pinsch/Australian Cattle Dog      Tan/Gray           NaT   \n2               English Springer Spaniel   White/Liver           NaT   \n3                 Labrador Retriever Mix   Black/White           NaT   \n4                            Basenji Mix   Sable/White           NaT   \n5                 Labrador Retriever Mix     Chocolate           NaT   \n6                             Beagle Mix      Tricolor           NaT   \n7                     Domestic Shorthair   Cream Tabby           NaT   \n8                     Domestic Shorthair   Brown Tabby           NaT   \n9                     Domestic Shorthair  Orange Tabby           NaT   \n\n                                  found_location     intake_datetime  \\\n0            415 East Mary Street in Austin (TX) 2019-04-16 09:53:00   \n1                  800 Grove Blvd in Austin (TX) 2014-06-29 10:38:00   \n2               9409 Bluegrass Dr in Austin (TX) 2015-07-05 12:59:00   \n3                                    Austin (TX) 2015-07-30 14:37:00   \n4             2818 Palomino Trail in Austin (TX) 2016-04-14 18:43:00   \n5                                    Austin (TX) 2017-02-18 12:46:00   \n6            2501 Magin Meadow Dr in Austin (TX) 2019-01-03 16:19:00   \n7          Braker Lane And Metric in Travis (TX) 2020-06-18 14:53:00   \n8  2112 East William Cannon Drive in Austin (TX) 2021-10-15 11:40:00   \n9             4404 Sarasota Drive in Austin (TX) 2022-05-12 00:23:00   \n\n   age_upon_intake outcome_datetime  age_upon_outcome      intake_type  \\\n0              NaN              NaT               NaN    Public Assist   \n1              NaN              NaT               NaN            Stray   \n2              NaN              NaT               NaN            Stray   \n3              NaN              NaT               NaN    Public Assist   \n4              NaN              NaT               NaN            Stray   \n5              NaN              NaT               NaN  Owner Surrender   \n6              NaN              NaT               NaN            Stray   \n7              NaN              NaT               NaN            Stray   \n8              NaN              NaT               NaN            Stray   \n9              NaN              NaT               NaN    Public Assist   \n\n  intake_condition outcome_type outcome_subtype  duration  \n0           Normal          NaN             NaN       NaN  \n1           Normal          NaN             NaN       NaN  \n2           Normal          NaN             NaN       NaN  \n3           Normal          NaN             NaN       NaN  \n4           Normal          NaN             NaN       NaN  \n5           Normal          NaN             NaN       NaN  \n6           Normal          NaN             NaN       NaN  \n7           Normal          NaN             NaN       NaN  \n8           Normal          NaN             NaN       NaN  \n9           Normal          NaN             NaN       NaN  ",
      "text/html": "<div>\n<style scoped>\n    .dataframe tbody tr th:only-of-type {\n        vertical-align: middle;\n    }\n\n    .dataframe tbody tr th {\n        vertical-align: top;\n    }\n\n    .dataframe thead th {\n        text-align: right;\n    }\n</style>\n<table border=\"1\" class=\"dataframe\">\n  <thead>\n    <tr style=\"text-align: right;\">\n      <th></th>\n      <th>animal_id</th>\n      <th>name</th>\n      <th>animal_type</th>\n      <th>sex</th>\n      <th>breed</th>\n      <th>color</th>\n      <th>date_of_birth</th>\n      <th>found_location</th>\n      <th>intake_datetime</th>\n      <th>age_upon_intake</th>\n      <th>outcome_datetime</th>\n      <th>age_upon_outcome</th>\n      <th>intake_type</th>\n      <th>intake_condition</th>\n      <th>outcome_type</th>\n      <th>outcome_subtype</th>\n      <th>duration</th>\n    </tr>\n  </thead>\n  <tbody>\n    <tr>\n      <th>0</th>\n      <td>A635072</td>\n      <td>Beowulf</td>\n      <td>Dog</td>\n      <td>Neutered Male</td>\n      <td>Great Dane Mix</td>\n      <td>Black</td>\n      <td>NaT</td>\n      <td>415 East Mary Street in Austin (TX)</td>\n      <td>2019-04-16 09:53:00</td>\n      <td>NaN</td>\n      <td>NaT</td>\n      <td>NaN</td>\n      <td>Public Assist</td>\n      <td>Normal</td>\n      <td>NaN</td>\n      <td>NaN</td>\n      <td>NaN</td>\n    </tr>\n    <tr>\n      <th>1</th>\n      <td>A682524</td>\n      <td>Rio</td>\n      <td>Dog</td>\n      <td>Neutered Male</td>\n      <td>Doberman Pinsch/Australian Cattle Dog</td>\n      <td>Tan/Gray</td>\n      <td>NaT</td>\n      <td>800 Grove Blvd in Austin (TX)</td>\n      <td>2014-06-29 10:38:00</td>\n      <td>NaN</td>\n      <td>NaT</td>\n      <td>NaN</td>\n      <td>Stray</td>\n      <td>Normal</td>\n      <td>NaN</td>\n      <td>NaN</td>\n      <td>NaN</td>\n    </tr>\n    <tr>\n      <th>2</th>\n      <td>A706918</td>\n      <td>Belle</td>\n      <td>Dog</td>\n      <td>Spayed Female</td>\n      <td>English Springer Spaniel</td>\n      <td>White/Liver</td>\n      <td>NaT</td>\n      <td>9409 Bluegrass Dr in Austin (TX)</td>\n      <td>2015-07-05 12:59:00</td>\n      <td>NaN</td>\n      <td>NaT</td>\n      <td>NaN</td>\n      <td>Stray</td>\n      <td>Normal</td>\n      <td>NaN</td>\n      <td>NaN</td>\n      <td>NaN</td>\n    </tr>\n    <tr>\n      <th>3</th>\n      <td>A708452</td>\n      <td>Mumble</td>\n      <td>Dog</td>\n      <td>Intact Male</td>\n      <td>Labrador Retriever Mix</td>\n      <td>Black/White</td>\n      <td>NaT</td>\n      <td>Austin (TX)</td>\n      <td>2015-07-30 14:37:00</td>\n      <td>NaN</td>\n      <td>NaT</td>\n      <td>NaN</td>\n      <td>Public Assist</td>\n      <td>Normal</td>\n      <td>NaN</td>\n      <td>NaN</td>\n      <td>NaN</td>\n    </tr>\n    <tr>\n      <th>4</th>\n      <td>A724273</td>\n      <td>Runster</td>\n      <td>Dog</td>\n      <td>Intact Male</td>\n      <td>Basenji Mix</td>\n      <td>Sable/White</td>\n      <td>NaT</td>\n      <td>2818 Palomino Trail in Austin (TX)</td>\n      <td>2016-04-14 18:43:00</td>\n      <td>NaN</td>\n      <td>NaT</td>\n      <td>NaN</td>\n      <td>Stray</td>\n      <td>Normal</td>\n      <td>NaN</td>\n      <td>NaN</td>\n      <td>NaN</td>\n    </tr>\n    <tr>\n      <th>5</th>\n      <td>A743852</td>\n      <td>Odin</td>\n      <td>Dog</td>\n      <td>Neutered Male</td>\n      <td>Labrador Retriever Mix</td>\n      <td>Chocolate</td>\n      <td>NaT</td>\n      <td>Austin (TX)</td>\n      <td>2017-02-18 12:46:00</td>\n      <td>NaN</td>\n      <td>NaT</td>\n      <td>NaN</td>\n      <td>Owner Surrender</td>\n      <td>Normal</td>\n      <td>NaN</td>\n      <td>NaN</td>\n      <td>NaN</td>\n    </tr>\n    <tr>\n      <th>6</th>\n      <td>A786884</td>\n      <td>*Brock</td>\n      <td>Dog</td>\n      <td>Neutered Male</td>\n      <td>Beagle Mix</td>\n      <td>Tricolor</td>\n      <td>NaT</td>\n      <td>2501 Magin Meadow Dr in Austin (TX)</td>\n      <td>2019-01-03 16:19:00</td>\n      <td>NaN</td>\n      <td>NaT</td>\n      <td>NaN</td>\n      <td>Stray</td>\n      <td>Normal</td>\n      <td>NaN</td>\n      <td>NaN</td>\n      <td>NaN</td>\n    </tr>\n    <tr>\n      <th>7</th>\n      <td>A818975</td>\n      <td>NaN</td>\n      <td>Cat</td>\n      <td>Intact Male</td>\n      <td>Domestic Shorthair</td>\n      <td>Cream Tabby</td>\n      <td>NaT</td>\n      <td>Braker Lane And Metric in Travis (TX)</td>\n      <td>2020-06-18 14:53:00</td>\n      <td>NaN</td>\n      <td>NaT</td>\n      <td>NaN</td>\n      <td>Stray</td>\n      <td>Normal</td>\n      <td>NaN</td>\n      <td>NaN</td>\n      <td>NaN</td>\n    </tr>\n    <tr>\n      <th>8</th>\n      <td>A844350</td>\n      <td>*Ella</td>\n      <td>Cat</td>\n      <td>Intact Female</td>\n      <td>Domestic Shorthair</td>\n      <td>Brown Tabby</td>\n      <td>NaT</td>\n      <td>2112 East William Cannon Drive in Austin (TX)</td>\n      <td>2021-10-15 11:40:00</td>\n      <td>NaN</td>\n      <td>NaT</td>\n      <td>NaN</td>\n      <td>Stray</td>\n      <td>Normal</td>\n      <td>NaN</td>\n      <td>NaN</td>\n      <td>NaN</td>\n    </tr>\n    <tr>\n      <th>9</th>\n      <td>A857105</td>\n      <td>Johnny Ringo</td>\n      <td>Cat</td>\n      <td>Neutered Male</td>\n      <td>Domestic Shorthair</td>\n      <td>Orange Tabby</td>\n      <td>NaT</td>\n      <td>4404 Sarasota Drive in Austin (TX)</td>\n      <td>2022-05-12 00:23:00</td>\n      <td>NaN</td>\n      <td>NaT</td>\n      <td>NaN</td>\n      <td>Public Assist</td>\n      <td>Normal</td>\n      <td>NaN</td>\n      <td>NaN</td>\n      <td>NaN</td>\n    </tr>\n  </tbody>\n</table>\n</div>"
     },
     "execution_count": 25,
     "metadata": {},
     "output_type": "execute_result"
    }
   ],
   "source": [
    "intake_n_outcome"
   ],
   "metadata": {
    "collapsed": false,
    "ExecuteTime": {
     "end_time": "2023-11-30T20:03:47.749936Z",
     "start_time": "2023-11-30T20:03:47.741321Z"
    }
   }
  },
  {
   "cell_type": "markdown",
   "source": [
    "# Check columns"
   ],
   "metadata": {
    "collapsed": false,
    "ExecuteTime": {
     "start_time": "2023-11-30T19:04:43.560178Z"
    }
   }
  },
  {
   "cell_type": "code",
   "execution_count": 26,
   "outputs": [
    {
     "data": {
      "text/plain": "animal_id                   object\nname                        object\nanimal_type                 object\nsex                         object\nbreed                       object\ncolor                       object\ndate_of_birth       datetime64[ns]\nfound_location              object\nintake_datetime     datetime64[ns]\nage_upon_intake            float64\noutcome_datetime    datetime64[ns]\nage_upon_outcome           float64\nintake_type                 object\nintake_condition            object\noutcome_type                object\noutcome_subtype             object\nduration                   float64\ndtype: object"
     },
     "execution_count": 26,
     "metadata": {},
     "output_type": "execute_result"
    }
   ],
   "source": [
    "intake_n_outcome.dtypes"
   ],
   "metadata": {
    "collapsed": false,
    "ExecuteTime": {
     "end_time": "2023-11-30T20:03:48.796316Z",
     "start_time": "2023-11-30T20:03:48.789114Z"
    }
   }
  },
  {
   "cell_type": "code",
   "execution_count": 27,
   "outputs": [
    {
     "data": {
      "text/plain": "Index(['animal_id', 'name', 'animal_type', 'sex', 'breed', 'color',\n       'date_of_birth', 'found_location', 'intake_datetime', 'age_upon_intake',\n       'outcome_datetime', 'age_upon_outcome', 'intake_type',\n       'intake_condition', 'outcome_type', 'outcome_subtype', 'duration'],\n      dtype='object')"
     },
     "execution_count": 27,
     "metadata": {},
     "output_type": "execute_result"
    }
   ],
   "source": [
    "intake_n_outcome.columns"
   ],
   "metadata": {
    "collapsed": false,
    "ExecuteTime": {
     "end_time": "2023-11-30T20:03:49.396759Z",
     "start_time": "2023-11-30T20:03:49.377147Z"
    }
   }
  },
  {
   "cell_type": "code",
   "execution_count": 28,
   "outputs": [
    {
     "data": {
      "text/plain": "animal_type\nDog    7\nCat    3\nName: count, dtype: int64"
     },
     "execution_count": 28,
     "metadata": {},
     "output_type": "execute_result"
    }
   ],
   "source": [
    "intake_n_outcome.animal_type.value_counts()"
   ],
   "metadata": {
    "collapsed": false,
    "ExecuteTime": {
     "end_time": "2023-11-30T20:03:49.859782Z",
     "start_time": "2023-11-30T20:03:49.834184Z"
    }
   }
  },
  {
   "cell_type": "code",
   "execution_count": 29,
   "outputs": [
    {
     "data": {
      "text/plain": "breed\nDomestic Shorthair                       3\nLabrador Retriever Mix                   2\nGreat Dane Mix                           1\nDoberman Pinsch/Australian Cattle Dog    1\nEnglish Springer Spaniel                 1\nBasenji Mix                              1\nBeagle Mix                               1\nName: count, dtype: int64"
     },
     "execution_count": 29,
     "metadata": {},
     "output_type": "execute_result"
    }
   ],
   "source": [
    "intake_n_outcome.breed.value_counts()"
   ],
   "metadata": {
    "collapsed": false,
    "ExecuteTime": {
     "end_time": "2023-11-30T20:03:50.401808Z",
     "start_time": "2023-11-30T20:03:50.379338Z"
    }
   }
  },
  {
   "cell_type": "code",
   "execution_count": 29,
   "outputs": [],
   "source": [
    "test = {\"date_of_birth\":[\"2014-04-02 15:55:00\"],\n",
    "         \"date_leave\":[\"2015-04-27 14:45:00\"]}\n",
    "test[\"date_of_birth\"] = pd.to_datetime(test[\"date_of_birth\"])\n",
    "test[\"date_leave\"] = pd.to_datetime(test[\"date_leave\"])\n",
    "test_df = pd.DataFrame(test)\n",
    "print(calculate_age_delta(test_df, \"date_of_birth\", \"date_leave\", unit=\"years\", col_suffix=\"leaving\"))"
   ],
   "metadata": {
    "collapsed": false,
    "ExecuteTime": {
     "end_time": "2023-11-30T20:03:52.267795Z",
     "start_time": "2023-11-30T20:03:52.221858Z"
    }
   }
  },
  {
   "cell_type": "code",
   "execution_count": 29,
   "outputs": [],
   "source": [
    "test_intake = pd.read_csv(\"test_data/test_intake.csv\")\n",
    "test_intake_data = pd.DataFrame(test_intake)\n",
    "test_outcome = pd.read_csv(\"test_Data/test_outcome.csv\")\n",
    "test_outcome_data = pd.DataFrame(test_outcome)\n",
    "    # >>> print(test_intake_data)\n",
    "merge_intake_n_outcome(test_intake_data, test_outcome_data)"
   ],
   "metadata": {
    "collapsed": false,
    "ExecuteTime": {
     "end_time": "2023-11-30T20:03:53.257936Z",
     "start_time": "2023-11-30T20:03:53.235209Z"
    }
   }
  },
  {
   "cell_type": "code",
   "execution_count": 29,
   "outputs": [],
   "source": [
    "print(test_intake['datetime'])"
   ],
   "metadata": {
    "collapsed": false,
    "ExecuteTime": {
     "end_time": "2023-11-30T20:03:53.712881Z",
     "start_time": "2023-11-30T20:03:53.681168Z"
    }
   }
  },
  {
   "cell_type": "code",
   "execution_count": 29,
   "outputs": [],
   "source": [
    "test_intake.columns"
   ],
   "metadata": {
    "collapsed": false,
    "ExecuteTime": {
     "end_time": "2023-11-30T20:03:54.128729Z",
     "start_time": "2023-11-30T20:03:54.110655Z"
    }
   }
  },
  {
   "cell_type": "code",
   "execution_count": null,
   "outputs": [],
   "source": [],
   "metadata": {
    "collapsed": false
   }
  }
 ],
 "metadata": {
  "kernelspec": {
   "display_name": "base",
   "language": "python",
   "name": "python3"
  },
  "language_info": {
   "codemirror_mode": {
    "name": "ipython",
    "version": 3
   },
   "file_extension": ".py",
   "mimetype": "text/x-python",
   "name": "python",
   "nbconvert_exporter": "python",
   "pygments_lexer": "ipython3",
   "version": "3.9.12"
  }
 },
 "nbformat": 4,
 "nbformat_minor": 2
}
