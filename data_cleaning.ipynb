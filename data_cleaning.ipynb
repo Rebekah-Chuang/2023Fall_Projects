{
 "cells": [
  {
   "cell_type": "code",
   "execution_count": 1,
   "metadata": {
    "ExecuteTime": {
     "end_time": "2023-12-11T23:16:05.102673Z",
     "start_time": "2023-12-11T23:16:03.714308Z"
    }
   },
   "outputs": [
    {
     "name": "stdout",
     "output_type": "stream",
     "text": [
      "Intel MKL WARNING: Support of Intel(R) Streaming SIMD Extensions 4.2 (Intel(R) SSE4.2) enabled only processors has been deprecated. Intel oneAPI Math Kernel Library 2025.0 will require Intel(R) Advanced Vector Extensions (Intel(R) AVX) instructions.\n",
      "Intel MKL WARNING: Support of Intel(R) Streaming SIMD Extensions 4.2 (Intel(R) SSE4.2) enabled only processors has been deprecated. Intel oneAPI Math Kernel Library 2025.0 will require Intel(R) Advanced Vector Extensions (Intel(R) AVX) instructions.\n"
     ]
    }
   ],
   "source": [
    "from data_cleaning_functions import *"
   ]
  },
  {
   "cell_type": "markdown",
   "metadata": {},
   "source": [
    "### **Get data using API endpoint URL**"
   ]
  },
  {
   "cell_type": "code",
   "execution_count": 2,
   "metadata": {
    "ExecuteTime": {
     "end_time": "2023-12-11T23:16:33.686100Z",
     "start_time": "2023-12-11T23:16:05.103311Z"
    }
   },
   "outputs": [
    {
     "name": "stdout",
     "output_type": "stream",
     "text": [
      "Successfully get INTAKE data(157818 rows)...\n",
      "Successfully get OUTCOME data(157773 rows)...\n"
     ]
    }
   ],
   "source": [
    "# API endpoint URL(set the limit to get all data(default is 1000 rows))\n",
    "urls = {\n",
    "    \"intake\": \"https://data.austintexas.gov/resource/wter-evkm.csv?$limit=170000\",\n",
    "    \"outcome\": \"https://data.austintexas.gov/resource/9t4d-g238.csv?$limit=170000\"\n",
    "    }\n",
    "intake, outcome = get_data(urls)"
   ]
  },
  {
   "cell_type": "markdown",
   "metadata": {
    "ExecuteTime": {
     "end_time": "2023-11-30T19:05:11.599993Z",
     "start_time": "2023-11-30T19:05:10.372430Z"
    },
    "collapsed": false
   },
   "source": [
    "### **Check number of rows, columns, and duplicated rows**"
   ]
  },
  {
   "cell_type": "code",
   "execution_count": 3,
   "metadata": {
    "ExecuteTime": {
     "end_time": "2023-12-11T23:16:34.083133Z",
     "start_time": "2023-12-11T23:16:33.695815Z"
    }
   },
   "outputs": [
    {
     "name": "stdout",
     "output_type": "stream",
     "text": [
      "INTAKE  data: 157818 rows | 12 columns | 30 duplicated rows\n",
      "OUTCOME data: 157773 rows | 12 columns | 23 duplicated rows\n"
     ]
    }
   ],
   "source": [
    "print(f\"INTAKE  data: {intake.shape[0]} rows | {intake.shape[1]} columns | {intake.duplicated().sum()} duplicated rows\")\n",
    "print(f\"OUTCOME data: {outcome.shape[0]} rows | {outcome.shape[1]} columns | {outcome.duplicated().sum()} duplicated rows\")"
   ]
  },
  {
   "cell_type": "markdown",
   "metadata": {
    "ExecuteTime": {
     "start_time": "2023-11-30T19:04:43.530233Z"
    },
    "collapsed": false
   },
   "source": [
    "### **Drop duplicates**"
   ]
  },
  {
   "cell_type": "code",
   "execution_count": 4,
   "metadata": {
    "collapsed": false,
    "ExecuteTime": {
     "end_time": "2023-12-11T23:16:34.468924Z",
     "start_time": "2023-12-11T23:16:34.089756Z"
    }
   },
   "outputs": [],
   "source": [
    "intake.drop_duplicates(inplace=True)\n",
    "outcome.drop_duplicates(inplace=True)"
   ]
  },
  {
   "cell_type": "markdown",
   "metadata": {
    "ExecuteTime": {
     "start_time": "2023-11-30T19:04:43.532119Z"
    },
    "collapsed": false
   },
   "source": [
    "### **Check number of rows, columns, and duplicated rows after dropping duplicates**"
   ]
  },
  {
   "cell_type": "code",
   "execution_count": 5,
   "metadata": {
    "collapsed": false,
    "ExecuteTime": {
     "end_time": "2023-12-11T23:16:34.820256Z",
     "start_time": "2023-12-11T23:16:34.474800Z"
    }
   },
   "outputs": [
    {
     "name": "stdout",
     "output_type": "stream",
     "text": [
      "INTAKE  data: 157788 rows | 12 columns | 0 duplicated rows\n",
      "OUTCOME data: 157750 rows | 12 columns | 0 duplicated rows\n"
     ]
    }
   ],
   "source": [
    "print(f\"INTAKE  data: {intake.shape[0]} rows | {intake.shape[1]} columns | {intake.duplicated().sum()} duplicated rows\")\n",
    "print(f\"OUTCOME data: {outcome.shape[0]} rows | {outcome.shape[1]} columns | {outcome.duplicated().sum()} duplicated rows\")"
   ]
  },
  {
   "cell_type": "markdown",
   "metadata": {
    "ExecuteTime": {
     "start_time": "2023-11-30T19:04:43.533968Z"
    }
   },
   "source": [
    "### **Remove `datetime2` in `intake` data and `monthyear` in `outcome` data**"
   ]
  },
  {
   "cell_type": "code",
   "execution_count": 6,
   "metadata": {
    "ExecuteTime": {
     "end_time": "2023-12-11T23:16:34.859441Z",
     "start_time": "2023-12-11T23:16:34.824622Z"
    }
   },
   "outputs": [],
   "source": [
    "intake.drop(\"datetime2\", axis=1, inplace = True)\n",
    "outcome.drop(\"monthyear\", axis=1, inplace = True)"
   ]
  },
  {
   "cell_type": "code",
   "execution_count": 7,
   "metadata": {
    "ExecuteTime": {
     "end_time": "2023-12-11T23:16:34.871186Z",
     "start_time": "2023-12-11T23:16:34.860052Z"
    }
   },
   "outputs": [
    {
     "data": {
      "text/plain": "  animal_id      name                 datetime  \\\n0   A665644       NaN  2013-10-21T07:59:00.000   \n1   A665739    *Alana  2013-10-22T11:11:00.000   \n2   A665763       NaN  2013-10-22T15:10:00.000   \n3   A379998  Disciple  2013-10-23T11:42:00.000   \n4   A634503     Otter  2013-10-01T14:49:00.000   \n\n                                 found_location      intake_type  \\\n0                                   Austin (TX)            Stray   \n1                                   Austin (TX)            Stray   \n2  E Riverside Dr/Royal Crest Dr in Austin (TX)            Stray   \n3                51St And Grover in Austin (TX)            Stray   \n4                                    Manor (TX)  Owner Surrender   \n\n  intake_condition animal_type sex_upon_intake age_upon_intake  \\\n0             Sick         Cat   Intact Female         4 weeks   \n1           Normal         Cat   Intact Female         1 month   \n2           Normal         Dog     Intact Male        4 months   \n3           Normal         Dog     Intact Male        10 years   \n4           Normal         Dog   Spayed Female         2 years   \n\n                      breed      color  \n0    Domestic Shorthair Mix     Calico  \n1  Domestic Medium Hair Mix      Black  \n2         Cairn Terrier Mix  Tan/White  \n3                  Pit Bull      Black  \n4       Norfolk Terrier Mix        Tan  ",
      "text/html": "<div>\n<style scoped>\n    .dataframe tbody tr th:only-of-type {\n        vertical-align: middle;\n    }\n\n    .dataframe tbody tr th {\n        vertical-align: top;\n    }\n\n    .dataframe thead th {\n        text-align: right;\n    }\n</style>\n<table border=\"1\" class=\"dataframe\">\n  <thead>\n    <tr style=\"text-align: right;\">\n      <th></th>\n      <th>animal_id</th>\n      <th>name</th>\n      <th>datetime</th>\n      <th>found_location</th>\n      <th>intake_type</th>\n      <th>intake_condition</th>\n      <th>animal_type</th>\n      <th>sex_upon_intake</th>\n      <th>age_upon_intake</th>\n      <th>breed</th>\n      <th>color</th>\n    </tr>\n  </thead>\n  <tbody>\n    <tr>\n      <th>0</th>\n      <td>A665644</td>\n      <td>NaN</td>\n      <td>2013-10-21T07:59:00.000</td>\n      <td>Austin (TX)</td>\n      <td>Stray</td>\n      <td>Sick</td>\n      <td>Cat</td>\n      <td>Intact Female</td>\n      <td>4 weeks</td>\n      <td>Domestic Shorthair Mix</td>\n      <td>Calico</td>\n    </tr>\n    <tr>\n      <th>1</th>\n      <td>A665739</td>\n      <td>*Alana</td>\n      <td>2013-10-22T11:11:00.000</td>\n      <td>Austin (TX)</td>\n      <td>Stray</td>\n      <td>Normal</td>\n      <td>Cat</td>\n      <td>Intact Female</td>\n      <td>1 month</td>\n      <td>Domestic Medium Hair Mix</td>\n      <td>Black</td>\n    </tr>\n    <tr>\n      <th>2</th>\n      <td>A665763</td>\n      <td>NaN</td>\n      <td>2013-10-22T15:10:00.000</td>\n      <td>E Riverside Dr/Royal Crest Dr in Austin (TX)</td>\n      <td>Stray</td>\n      <td>Normal</td>\n      <td>Dog</td>\n      <td>Intact Male</td>\n      <td>4 months</td>\n      <td>Cairn Terrier Mix</td>\n      <td>Tan/White</td>\n    </tr>\n    <tr>\n      <th>3</th>\n      <td>A379998</td>\n      <td>Disciple</td>\n      <td>2013-10-23T11:42:00.000</td>\n      <td>51St And Grover in Austin (TX)</td>\n      <td>Stray</td>\n      <td>Normal</td>\n      <td>Dog</td>\n      <td>Intact Male</td>\n      <td>10 years</td>\n      <td>Pit Bull</td>\n      <td>Black</td>\n    </tr>\n    <tr>\n      <th>4</th>\n      <td>A634503</td>\n      <td>Otter</td>\n      <td>2013-10-01T14:49:00.000</td>\n      <td>Manor (TX)</td>\n      <td>Owner Surrender</td>\n      <td>Normal</td>\n      <td>Dog</td>\n      <td>Spayed Female</td>\n      <td>2 years</td>\n      <td>Norfolk Terrier Mix</td>\n      <td>Tan</td>\n    </tr>\n  </tbody>\n</table>\n</div>"
     },
     "execution_count": 7,
     "metadata": {},
     "output_type": "execute_result"
    }
   ],
   "source": [
    "intake.head()"
   ]
  },
  {
   "cell_type": "code",
   "execution_count": 8,
   "metadata": {
    "ExecuteTime": {
     "end_time": "2023-12-11T23:16:34.879970Z",
     "start_time": "2023-12-11T23:16:34.876065Z"
    }
   },
   "outputs": [
    {
     "data": {
      "text/plain": "  animal_id   name                 datetime            date_of_birth  \\\n0   A794011  Chunk  2019-05-08T18:20:00.000  2017-05-02T00:00:00.000   \n1   A776359  Gizmo  2018-07-18T16:02:00.000  2017-07-12T00:00:00.000   \n2   A821648    NaN  2020-08-16T11:38:00.000  2019-08-16T00:00:00.000   \n3   A720371  Moose  2016-02-13T17:59:00.000  2015-10-08T00:00:00.000   \n4   A674754    NaN  2014-03-18T11:47:00.000  2014-03-12T00:00:00.000   \n\n  outcome_type outcome_subtype animal_type sex_upon_outcome age_upon_outcome  \\\n0    Rto-Adopt             NaN         Cat    Neutered Male          2 years   \n1     Adoption             NaN         Dog    Neutered Male           1 year   \n2   Euthanasia             NaN       Other          Unknown           1 year   \n3     Adoption             NaN         Dog    Neutered Male         4 months   \n4     Transfer         Partner         Cat      Intact Male           6 days   \n\n                                breed              color  \n0              Domestic Shorthair Mix  Brown Tabby/White  \n1             Chihuahua Shorthair Mix        White/Brown  \n2                             Raccoon               Gray  \n3  Anatol Shepherd/Labrador Retriever               Buff  \n4              Domestic Shorthair Mix       Orange Tabby  ",
      "text/html": "<div>\n<style scoped>\n    .dataframe tbody tr th:only-of-type {\n        vertical-align: middle;\n    }\n\n    .dataframe tbody tr th {\n        vertical-align: top;\n    }\n\n    .dataframe thead th {\n        text-align: right;\n    }\n</style>\n<table border=\"1\" class=\"dataframe\">\n  <thead>\n    <tr style=\"text-align: right;\">\n      <th></th>\n      <th>animal_id</th>\n      <th>name</th>\n      <th>datetime</th>\n      <th>date_of_birth</th>\n      <th>outcome_type</th>\n      <th>outcome_subtype</th>\n      <th>animal_type</th>\n      <th>sex_upon_outcome</th>\n      <th>age_upon_outcome</th>\n      <th>breed</th>\n      <th>color</th>\n    </tr>\n  </thead>\n  <tbody>\n    <tr>\n      <th>0</th>\n      <td>A794011</td>\n      <td>Chunk</td>\n      <td>2019-05-08T18:20:00.000</td>\n      <td>2017-05-02T00:00:00.000</td>\n      <td>Rto-Adopt</td>\n      <td>NaN</td>\n      <td>Cat</td>\n      <td>Neutered Male</td>\n      <td>2 years</td>\n      <td>Domestic Shorthair Mix</td>\n      <td>Brown Tabby/White</td>\n    </tr>\n    <tr>\n      <th>1</th>\n      <td>A776359</td>\n      <td>Gizmo</td>\n      <td>2018-07-18T16:02:00.000</td>\n      <td>2017-07-12T00:00:00.000</td>\n      <td>Adoption</td>\n      <td>NaN</td>\n      <td>Dog</td>\n      <td>Neutered Male</td>\n      <td>1 year</td>\n      <td>Chihuahua Shorthair Mix</td>\n      <td>White/Brown</td>\n    </tr>\n    <tr>\n      <th>2</th>\n      <td>A821648</td>\n      <td>NaN</td>\n      <td>2020-08-16T11:38:00.000</td>\n      <td>2019-08-16T00:00:00.000</td>\n      <td>Euthanasia</td>\n      <td>NaN</td>\n      <td>Other</td>\n      <td>Unknown</td>\n      <td>1 year</td>\n      <td>Raccoon</td>\n      <td>Gray</td>\n    </tr>\n    <tr>\n      <th>3</th>\n      <td>A720371</td>\n      <td>Moose</td>\n      <td>2016-02-13T17:59:00.000</td>\n      <td>2015-10-08T00:00:00.000</td>\n      <td>Adoption</td>\n      <td>NaN</td>\n      <td>Dog</td>\n      <td>Neutered Male</td>\n      <td>4 months</td>\n      <td>Anatol Shepherd/Labrador Retriever</td>\n      <td>Buff</td>\n    </tr>\n    <tr>\n      <th>4</th>\n      <td>A674754</td>\n      <td>NaN</td>\n      <td>2014-03-18T11:47:00.000</td>\n      <td>2014-03-12T00:00:00.000</td>\n      <td>Transfer</td>\n      <td>Partner</td>\n      <td>Cat</td>\n      <td>Intact Male</td>\n      <td>6 days</td>\n      <td>Domestic Shorthair Mix</td>\n      <td>Orange Tabby</td>\n    </tr>\n  </tbody>\n</table>\n</div>"
     },
     "execution_count": 8,
     "metadata": {},
     "output_type": "execute_result"
    }
   ],
   "source": [
    "outcome.head()"
   ]
  },
  {
   "cell_type": "markdown",
   "metadata": {
    "collapsed": false
   },
   "source": [
    "### **Sort data by `animal_id` and `datetime`**"
   ]
  },
  {
   "cell_type": "code",
   "execution_count": 9,
   "metadata": {
    "ExecuteTime": {
     "end_time": "2023-12-11T23:16:35.667705Z",
     "start_time": "2023-12-11T23:16:34.883241Z"
    }
   },
   "outputs": [],
   "source": [
    "intake = intake.sort_values(by=[\"animal_id\", \"datetime\"], ascending=True).reset_index(drop=True)\n",
    "outcome = outcome.sort_values(by=[\"animal_id\", \"datetime\"], ascending=True).reset_index(drop=True)"
   ]
  },
  {
   "cell_type": "code",
   "execution_count": 10,
   "metadata": {
    "ExecuteTime": {
     "end_time": "2023-12-11T23:16:35.676279Z",
     "start_time": "2023-12-11T23:16:35.672640Z"
    }
   },
   "outputs": [
    {
     "data": {
      "text/plain": "  animal_id    name                 datetime  \\\n0   A006100   Scamp  2014-03-07T14:26:00.000   \n1   A006100   Scamp  2014-12-19T10:21:00.000   \n2   A006100   Scamp  2017-12-07T14:07:00.000   \n3   A047759    Oreo  2014-04-02T15:55:00.000   \n4   A134067  Bandit  2013-11-16T09:02:00.000   \n\n                                  found_location      intake_type  \\\n0                   8700 Research in Austin (TX)    Public Assist   \n1              8700 Research Blvd in Austin (TX)    Public Assist   \n2  Colony Creek And Hunters Trace in Austin (TX)            Stray   \n3                                    Austin (TX)  Owner Surrender   \n4             12034 Research Blvd in Austin (TX)    Public Assist   \n\n  intake_condition animal_type sex_upon_intake age_upon_intake  \\\n0           Normal         Dog   Neutered Male         6 years   \n1           Normal         Dog   Neutered Male         7 years   \n2           Normal         Dog   Neutered Male        10 years   \n3           Normal         Dog   Neutered Male        10 years   \n4          Injured         Dog   Neutered Male        16 years   \n\n                  breed         color  \n0  Spinone Italiano Mix  Yellow/White  \n1  Spinone Italiano Mix  Yellow/White  \n2  Spinone Italiano Mix  Yellow/White  \n3             Dachshund      Tricolor  \n4     Shetland Sheepdog   Brown/White  ",
      "text/html": "<div>\n<style scoped>\n    .dataframe tbody tr th:only-of-type {\n        vertical-align: middle;\n    }\n\n    .dataframe tbody tr th {\n        vertical-align: top;\n    }\n\n    .dataframe thead th {\n        text-align: right;\n    }\n</style>\n<table border=\"1\" class=\"dataframe\">\n  <thead>\n    <tr style=\"text-align: right;\">\n      <th></th>\n      <th>animal_id</th>\n      <th>name</th>\n      <th>datetime</th>\n      <th>found_location</th>\n      <th>intake_type</th>\n      <th>intake_condition</th>\n      <th>animal_type</th>\n      <th>sex_upon_intake</th>\n      <th>age_upon_intake</th>\n      <th>breed</th>\n      <th>color</th>\n    </tr>\n  </thead>\n  <tbody>\n    <tr>\n      <th>0</th>\n      <td>A006100</td>\n      <td>Scamp</td>\n      <td>2014-03-07T14:26:00.000</td>\n      <td>8700 Research in Austin (TX)</td>\n      <td>Public Assist</td>\n      <td>Normal</td>\n      <td>Dog</td>\n      <td>Neutered Male</td>\n      <td>6 years</td>\n      <td>Spinone Italiano Mix</td>\n      <td>Yellow/White</td>\n    </tr>\n    <tr>\n      <th>1</th>\n      <td>A006100</td>\n      <td>Scamp</td>\n      <td>2014-12-19T10:21:00.000</td>\n      <td>8700 Research Blvd in Austin (TX)</td>\n      <td>Public Assist</td>\n      <td>Normal</td>\n      <td>Dog</td>\n      <td>Neutered Male</td>\n      <td>7 years</td>\n      <td>Spinone Italiano Mix</td>\n      <td>Yellow/White</td>\n    </tr>\n    <tr>\n      <th>2</th>\n      <td>A006100</td>\n      <td>Scamp</td>\n      <td>2017-12-07T14:07:00.000</td>\n      <td>Colony Creek And Hunters Trace in Austin (TX)</td>\n      <td>Stray</td>\n      <td>Normal</td>\n      <td>Dog</td>\n      <td>Neutered Male</td>\n      <td>10 years</td>\n      <td>Spinone Italiano Mix</td>\n      <td>Yellow/White</td>\n    </tr>\n    <tr>\n      <th>3</th>\n      <td>A047759</td>\n      <td>Oreo</td>\n      <td>2014-04-02T15:55:00.000</td>\n      <td>Austin (TX)</td>\n      <td>Owner Surrender</td>\n      <td>Normal</td>\n      <td>Dog</td>\n      <td>Neutered Male</td>\n      <td>10 years</td>\n      <td>Dachshund</td>\n      <td>Tricolor</td>\n    </tr>\n    <tr>\n      <th>4</th>\n      <td>A134067</td>\n      <td>Bandit</td>\n      <td>2013-11-16T09:02:00.000</td>\n      <td>12034 Research Blvd in Austin (TX)</td>\n      <td>Public Assist</td>\n      <td>Injured</td>\n      <td>Dog</td>\n      <td>Neutered Male</td>\n      <td>16 years</td>\n      <td>Shetland Sheepdog</td>\n      <td>Brown/White</td>\n    </tr>\n  </tbody>\n</table>\n</div>"
     },
     "execution_count": 10,
     "metadata": {},
     "output_type": "execute_result"
    }
   ],
   "source": [
    "intake.head()"
   ]
  },
  {
   "cell_type": "code",
   "execution_count": 11,
   "metadata": {
    "ExecuteTime": {
     "end_time": "2023-12-11T23:16:35.684844Z",
     "start_time": "2023-12-11T23:16:35.675444Z"
    }
   },
   "outputs": [
    {
     "data": {
      "text/plain": "  animal_id    name                 datetime            date_of_birth  \\\n0   A006100   Scamp  2014-03-08T17:10:00.000  2007-07-09T00:00:00.000   \n1   A006100   Scamp  2014-12-20T16:35:00.000  2007-07-09T00:00:00.000   \n2   A006100   Scamp  2017-12-07T00:00:00.000  2007-07-09T00:00:00.000   \n3   A047759    Oreo  2014-04-07T15:12:00.000  2004-04-02T00:00:00.000   \n4   A134067  Bandit  2013-11-16T11:54:00.000  1997-10-16T00:00:00.000   \n\n      outcome_type outcome_subtype animal_type sex_upon_outcome  \\\n0  Return to Owner             NaN         Dog    Neutered Male   \n1  Return to Owner             NaN         Dog    Neutered Male   \n2  Return to Owner             NaN         Dog    Neutered Male   \n3         Transfer         Partner         Dog    Neutered Male   \n4  Return to Owner             NaN         Dog    Neutered Male   \n\n  age_upon_outcome                 breed         color  \n0          6 years  Spinone Italiano Mix  Yellow/White  \n1          7 years  Spinone Italiano Mix  Yellow/White  \n2         10 years  Spinone Italiano Mix  Yellow/White  \n3         10 years             Dachshund      Tricolor  \n4         16 years     Shetland Sheepdog   Brown/White  ",
      "text/html": "<div>\n<style scoped>\n    .dataframe tbody tr th:only-of-type {\n        vertical-align: middle;\n    }\n\n    .dataframe tbody tr th {\n        vertical-align: top;\n    }\n\n    .dataframe thead th {\n        text-align: right;\n    }\n</style>\n<table border=\"1\" class=\"dataframe\">\n  <thead>\n    <tr style=\"text-align: right;\">\n      <th></th>\n      <th>animal_id</th>\n      <th>name</th>\n      <th>datetime</th>\n      <th>date_of_birth</th>\n      <th>outcome_type</th>\n      <th>outcome_subtype</th>\n      <th>animal_type</th>\n      <th>sex_upon_outcome</th>\n      <th>age_upon_outcome</th>\n      <th>breed</th>\n      <th>color</th>\n    </tr>\n  </thead>\n  <tbody>\n    <tr>\n      <th>0</th>\n      <td>A006100</td>\n      <td>Scamp</td>\n      <td>2014-03-08T17:10:00.000</td>\n      <td>2007-07-09T00:00:00.000</td>\n      <td>Return to Owner</td>\n      <td>NaN</td>\n      <td>Dog</td>\n      <td>Neutered Male</td>\n      <td>6 years</td>\n      <td>Spinone Italiano Mix</td>\n      <td>Yellow/White</td>\n    </tr>\n    <tr>\n      <th>1</th>\n      <td>A006100</td>\n      <td>Scamp</td>\n      <td>2014-12-20T16:35:00.000</td>\n      <td>2007-07-09T00:00:00.000</td>\n      <td>Return to Owner</td>\n      <td>NaN</td>\n      <td>Dog</td>\n      <td>Neutered Male</td>\n      <td>7 years</td>\n      <td>Spinone Italiano Mix</td>\n      <td>Yellow/White</td>\n    </tr>\n    <tr>\n      <th>2</th>\n      <td>A006100</td>\n      <td>Scamp</td>\n      <td>2017-12-07T00:00:00.000</td>\n      <td>2007-07-09T00:00:00.000</td>\n      <td>Return to Owner</td>\n      <td>NaN</td>\n      <td>Dog</td>\n      <td>Neutered Male</td>\n      <td>10 years</td>\n      <td>Spinone Italiano Mix</td>\n      <td>Yellow/White</td>\n    </tr>\n    <tr>\n      <th>3</th>\n      <td>A047759</td>\n      <td>Oreo</td>\n      <td>2014-04-07T15:12:00.000</td>\n      <td>2004-04-02T00:00:00.000</td>\n      <td>Transfer</td>\n      <td>Partner</td>\n      <td>Dog</td>\n      <td>Neutered Male</td>\n      <td>10 years</td>\n      <td>Dachshund</td>\n      <td>Tricolor</td>\n    </tr>\n    <tr>\n      <th>4</th>\n      <td>A134067</td>\n      <td>Bandit</td>\n      <td>2013-11-16T11:54:00.000</td>\n      <td>1997-10-16T00:00:00.000</td>\n      <td>Return to Owner</td>\n      <td>NaN</td>\n      <td>Dog</td>\n      <td>Neutered Male</td>\n      <td>16 years</td>\n      <td>Shetland Sheepdog</td>\n      <td>Brown/White</td>\n    </tr>\n  </tbody>\n</table>\n</div>"
     },
     "execution_count": 11,
     "metadata": {},
     "output_type": "execute_result"
    }
   ],
   "source": [
    "outcome.head()"
   ]
  },
  {
   "cell_type": "markdown",
   "metadata": {
    "ExecuteTime": {
     "start_time": "2023-11-30T19:04:43.545022Z"
    }
   },
   "source": [
    "### **Change format for datetime**"
   ]
  },
  {
   "cell_type": "code",
   "execution_count": 12,
   "metadata": {
    "ExecuteTime": {
     "end_time": "2023-12-11T23:16:36.553129Z",
     "start_time": "2023-12-11T23:16:35.747293Z"
    }
   },
   "outputs": [
    {
     "data": {
      "text/plain": "  animal_id    name            datetime  \\\n0   A006100   Scamp 2014-03-07 14:26:00   \n1   A006100   Scamp 2014-12-19 10:21:00   \n2   A006100   Scamp 2017-12-07 14:07:00   \n3   A047759    Oreo 2014-04-02 15:55:00   \n4   A134067  Bandit 2013-11-16 09:02:00   \n\n                                  found_location      intake_type  \\\n0                   8700 Research in Austin (TX)    Public Assist   \n1              8700 Research Blvd in Austin (TX)    Public Assist   \n2  Colony Creek And Hunters Trace in Austin (TX)            Stray   \n3                                    Austin (TX)  Owner Surrender   \n4             12034 Research Blvd in Austin (TX)    Public Assist   \n\n  intake_condition animal_type sex_upon_intake age_upon_intake  \\\n0           Normal         Dog   Neutered Male         6 years   \n1           Normal         Dog   Neutered Male         7 years   \n2           Normal         Dog   Neutered Male        10 years   \n3           Normal         Dog   Neutered Male        10 years   \n4          Injured         Dog   Neutered Male        16 years   \n\n                  breed         color  \n0  Spinone Italiano Mix  Yellow/White  \n1  Spinone Italiano Mix  Yellow/White  \n2  Spinone Italiano Mix  Yellow/White  \n3             Dachshund      Tricolor  \n4     Shetland Sheepdog   Brown/White  ",
      "text/html": "<div>\n<style scoped>\n    .dataframe tbody tr th:only-of-type {\n        vertical-align: middle;\n    }\n\n    .dataframe tbody tr th {\n        vertical-align: top;\n    }\n\n    .dataframe thead th {\n        text-align: right;\n    }\n</style>\n<table border=\"1\" class=\"dataframe\">\n  <thead>\n    <tr style=\"text-align: right;\">\n      <th></th>\n      <th>animal_id</th>\n      <th>name</th>\n      <th>datetime</th>\n      <th>found_location</th>\n      <th>intake_type</th>\n      <th>intake_condition</th>\n      <th>animal_type</th>\n      <th>sex_upon_intake</th>\n      <th>age_upon_intake</th>\n      <th>breed</th>\n      <th>color</th>\n    </tr>\n  </thead>\n  <tbody>\n    <tr>\n      <th>0</th>\n      <td>A006100</td>\n      <td>Scamp</td>\n      <td>2014-03-07 14:26:00</td>\n      <td>8700 Research in Austin (TX)</td>\n      <td>Public Assist</td>\n      <td>Normal</td>\n      <td>Dog</td>\n      <td>Neutered Male</td>\n      <td>6 years</td>\n      <td>Spinone Italiano Mix</td>\n      <td>Yellow/White</td>\n    </tr>\n    <tr>\n      <th>1</th>\n      <td>A006100</td>\n      <td>Scamp</td>\n      <td>2014-12-19 10:21:00</td>\n      <td>8700 Research Blvd in Austin (TX)</td>\n      <td>Public Assist</td>\n      <td>Normal</td>\n      <td>Dog</td>\n      <td>Neutered Male</td>\n      <td>7 years</td>\n      <td>Spinone Italiano Mix</td>\n      <td>Yellow/White</td>\n    </tr>\n    <tr>\n      <th>2</th>\n      <td>A006100</td>\n      <td>Scamp</td>\n      <td>2017-12-07 14:07:00</td>\n      <td>Colony Creek And Hunters Trace in Austin (TX)</td>\n      <td>Stray</td>\n      <td>Normal</td>\n      <td>Dog</td>\n      <td>Neutered Male</td>\n      <td>10 years</td>\n      <td>Spinone Italiano Mix</td>\n      <td>Yellow/White</td>\n    </tr>\n    <tr>\n      <th>3</th>\n      <td>A047759</td>\n      <td>Oreo</td>\n      <td>2014-04-02 15:55:00</td>\n      <td>Austin (TX)</td>\n      <td>Owner Surrender</td>\n      <td>Normal</td>\n      <td>Dog</td>\n      <td>Neutered Male</td>\n      <td>10 years</td>\n      <td>Dachshund</td>\n      <td>Tricolor</td>\n    </tr>\n    <tr>\n      <th>4</th>\n      <td>A134067</td>\n      <td>Bandit</td>\n      <td>2013-11-16 09:02:00</td>\n      <td>12034 Research Blvd in Austin (TX)</td>\n      <td>Public Assist</td>\n      <td>Injured</td>\n      <td>Dog</td>\n      <td>Neutered Male</td>\n      <td>16 years</td>\n      <td>Shetland Sheepdog</td>\n      <td>Brown/White</td>\n    </tr>\n  </tbody>\n</table>\n</div>"
     },
     "execution_count": 12,
     "metadata": {},
     "output_type": "execute_result"
    }
   ],
   "source": [
    "# date_format(df, col, format)\n",
    "date_format(intake, \"datetime\", \"%Y-%m-%d %H:%M\").head()"
   ]
  },
  {
   "cell_type": "code",
   "execution_count": 13,
   "metadata": {
    "ExecuteTime": {
     "end_time": "2023-12-11T23:16:37.592333Z",
     "start_time": "2023-12-11T23:16:36.553958Z"
    }
   },
   "outputs": [
    {
     "data": {
      "text/plain": "       animal_id       name            datetime date_of_birth  \\\n0        A006100      Scamp 2014-03-08 17:10:00    2007-07-09   \n1        A006100      Scamp 2014-12-20 16:35:00    2007-07-09   \n2        A006100      Scamp 2017-12-07 00:00:00    2007-07-09   \n3        A047759       Oreo 2014-04-07 15:12:00    2004-04-02   \n4        A134067     Bandit 2013-11-16 11:54:00    1997-10-16   \n...          ...        ...                 ...           ...   \n157745   A894445    Summers 2023-12-10 15:45:00    2022-06-08   \n157746   A894472  Cutie Boy 2023-12-11 07:46:00    2021-12-09   \n157747   A894500        NaN 2023-12-10 12:43:00    2022-12-10   \n157748   A894504    Kashmir 2023-12-11 12:39:00    2006-12-11   \n157749   A894514        NaN 2023-12-11 08:40:00    2021-12-10   \n\n           outcome_type outcome_subtype animal_type sex_upon_outcome  \\\n0       Return to Owner             NaN         Dog    Neutered Male   \n1       Return to Owner             NaN         Dog    Neutered Male   \n2       Return to Owner             NaN         Dog    Neutered Male   \n3              Transfer         Partner         Dog    Neutered Male   \n4       Return to Owner             NaN         Dog    Neutered Male   \n...                 ...             ...         ...              ...   \n157745         Adoption             NaN         Cat    Spayed Female   \n157746         Transfer             Snr         Cat          Unknown   \n157747         Transfer         Partner         Dog      Intact Male   \n157748  Return to Owner             NaN         Cat    Neutered Male   \n157749       Euthanasia     Rabies Risk       Other          Unknown   \n\n       age_upon_outcome                           breed              color  \n0               6 years            Spinone Italiano Mix       Yellow/White  \n1               7 years            Spinone Italiano Mix       Yellow/White  \n2              10 years            Spinone Italiano Mix       Yellow/White  \n3              10 years                       Dachshund           Tricolor  \n4              16 years               Shetland Sheepdog        Brown/White  \n...                 ...                             ...                ...  \n157745           1 year              Domestic Shorthair             Calico  \n157746          2 years              Domestic Shorthair  Brown Tabby/White  \n157747              NaN  Cairn Terrier/Scottish Terrier          Black/Tan  \n157748         17 years            Domestic Medium Hair  White/Brown Tabby  \n157749          2 years                             Bat              Brown  \n\n[157750 rows x 11 columns]",
      "text/html": "<div>\n<style scoped>\n    .dataframe tbody tr th:only-of-type {\n        vertical-align: middle;\n    }\n\n    .dataframe tbody tr th {\n        vertical-align: top;\n    }\n\n    .dataframe thead th {\n        text-align: right;\n    }\n</style>\n<table border=\"1\" class=\"dataframe\">\n  <thead>\n    <tr style=\"text-align: right;\">\n      <th></th>\n      <th>animal_id</th>\n      <th>name</th>\n      <th>datetime</th>\n      <th>date_of_birth</th>\n      <th>outcome_type</th>\n      <th>outcome_subtype</th>\n      <th>animal_type</th>\n      <th>sex_upon_outcome</th>\n      <th>age_upon_outcome</th>\n      <th>breed</th>\n      <th>color</th>\n    </tr>\n  </thead>\n  <tbody>\n    <tr>\n      <th>0</th>\n      <td>A006100</td>\n      <td>Scamp</td>\n      <td>2014-03-08 17:10:00</td>\n      <td>2007-07-09</td>\n      <td>Return to Owner</td>\n      <td>NaN</td>\n      <td>Dog</td>\n      <td>Neutered Male</td>\n      <td>6 years</td>\n      <td>Spinone Italiano Mix</td>\n      <td>Yellow/White</td>\n    </tr>\n    <tr>\n      <th>1</th>\n      <td>A006100</td>\n      <td>Scamp</td>\n      <td>2014-12-20 16:35:00</td>\n      <td>2007-07-09</td>\n      <td>Return to Owner</td>\n      <td>NaN</td>\n      <td>Dog</td>\n      <td>Neutered Male</td>\n      <td>7 years</td>\n      <td>Spinone Italiano Mix</td>\n      <td>Yellow/White</td>\n    </tr>\n    <tr>\n      <th>2</th>\n      <td>A006100</td>\n      <td>Scamp</td>\n      <td>2017-12-07 00:00:00</td>\n      <td>2007-07-09</td>\n      <td>Return to Owner</td>\n      <td>NaN</td>\n      <td>Dog</td>\n      <td>Neutered Male</td>\n      <td>10 years</td>\n      <td>Spinone Italiano Mix</td>\n      <td>Yellow/White</td>\n    </tr>\n    <tr>\n      <th>3</th>\n      <td>A047759</td>\n      <td>Oreo</td>\n      <td>2014-04-07 15:12:00</td>\n      <td>2004-04-02</td>\n      <td>Transfer</td>\n      <td>Partner</td>\n      <td>Dog</td>\n      <td>Neutered Male</td>\n      <td>10 years</td>\n      <td>Dachshund</td>\n      <td>Tricolor</td>\n    </tr>\n    <tr>\n      <th>4</th>\n      <td>A134067</td>\n      <td>Bandit</td>\n      <td>2013-11-16 11:54:00</td>\n      <td>1997-10-16</td>\n      <td>Return to Owner</td>\n      <td>NaN</td>\n      <td>Dog</td>\n      <td>Neutered Male</td>\n      <td>16 years</td>\n      <td>Shetland Sheepdog</td>\n      <td>Brown/White</td>\n    </tr>\n    <tr>\n      <th>...</th>\n      <td>...</td>\n      <td>...</td>\n      <td>...</td>\n      <td>...</td>\n      <td>...</td>\n      <td>...</td>\n      <td>...</td>\n      <td>...</td>\n      <td>...</td>\n      <td>...</td>\n      <td>...</td>\n    </tr>\n    <tr>\n      <th>157745</th>\n      <td>A894445</td>\n      <td>Summers</td>\n      <td>2023-12-10 15:45:00</td>\n      <td>2022-06-08</td>\n      <td>Adoption</td>\n      <td>NaN</td>\n      <td>Cat</td>\n      <td>Spayed Female</td>\n      <td>1 year</td>\n      <td>Domestic Shorthair</td>\n      <td>Calico</td>\n    </tr>\n    <tr>\n      <th>157746</th>\n      <td>A894472</td>\n      <td>Cutie Boy</td>\n      <td>2023-12-11 07:46:00</td>\n      <td>2021-12-09</td>\n      <td>Transfer</td>\n      <td>Snr</td>\n      <td>Cat</td>\n      <td>Unknown</td>\n      <td>2 years</td>\n      <td>Domestic Shorthair</td>\n      <td>Brown Tabby/White</td>\n    </tr>\n    <tr>\n      <th>157747</th>\n      <td>A894500</td>\n      <td>NaN</td>\n      <td>2023-12-10 12:43:00</td>\n      <td>2022-12-10</td>\n      <td>Transfer</td>\n      <td>Partner</td>\n      <td>Dog</td>\n      <td>Intact Male</td>\n      <td>NaN</td>\n      <td>Cairn Terrier/Scottish Terrier</td>\n      <td>Black/Tan</td>\n    </tr>\n    <tr>\n      <th>157748</th>\n      <td>A894504</td>\n      <td>Kashmir</td>\n      <td>2023-12-11 12:39:00</td>\n      <td>2006-12-11</td>\n      <td>Return to Owner</td>\n      <td>NaN</td>\n      <td>Cat</td>\n      <td>Neutered Male</td>\n      <td>17 years</td>\n      <td>Domestic Medium Hair</td>\n      <td>White/Brown Tabby</td>\n    </tr>\n    <tr>\n      <th>157749</th>\n      <td>A894514</td>\n      <td>NaN</td>\n      <td>2023-12-11 08:40:00</td>\n      <td>2021-12-10</td>\n      <td>Euthanasia</td>\n      <td>Rabies Risk</td>\n      <td>Other</td>\n      <td>Unknown</td>\n      <td>2 years</td>\n      <td>Bat</td>\n      <td>Brown</td>\n    </tr>\n  </tbody>\n</table>\n<p>157750 rows × 11 columns</p>\n</div>"
     },
     "execution_count": 13,
     "metadata": {},
     "output_type": "execute_result"
    }
   ],
   "source": [
    "date_format(outcome, \"datetime\", \"%Y-%m-%d %H:%M\")\n",
    "date_format(outcome, \"date_of_birth\", \"%Y-%m-%d\")"
   ]
  },
  {
   "cell_type": "markdown",
   "metadata": {
    "ExecuteTime": {
     "start_time": "2023-11-30T19:04:43.548376Z"
    },
    "collapsed": false
   },
   "source": [
    "### **Check column names before merging dataframes**"
   ]
  },
  {
   "cell_type": "code",
   "execution_count": 14,
   "metadata": {
    "collapsed": false,
    "ExecuteTime": {
     "end_time": "2023-12-11T23:16:37.597589Z",
     "start_time": "2023-12-11T23:16:37.592740Z"
    }
   },
   "outputs": [
    {
     "data": {
      "text/plain": "Index(['animal_id', 'name', 'datetime', 'found_location', 'intake_type',\n       'intake_condition', 'animal_type', 'sex_upon_intake', 'age_upon_intake',\n       'breed', 'color'],\n      dtype='object')"
     },
     "execution_count": 14,
     "metadata": {},
     "output_type": "execute_result"
    }
   ],
   "source": [
    "intake.columns"
   ]
  },
  {
   "cell_type": "code",
   "execution_count": 15,
   "metadata": {
    "collapsed": false,
    "ExecuteTime": {
     "end_time": "2023-12-11T23:16:37.600551Z",
     "start_time": "2023-12-11T23:16:37.596691Z"
    }
   },
   "outputs": [
    {
     "data": {
      "text/plain": "Index(['animal_id', 'name', 'datetime', 'date_of_birth', 'outcome_type',\n       'outcome_subtype', 'animal_type', 'sex_upon_outcome',\n       'age_upon_outcome', 'breed', 'color'],\n      dtype='object')"
     },
     "execution_count": 15,
     "metadata": {},
     "output_type": "execute_result"
    }
   ],
   "source": [
    "outcome.columns"
   ]
  },
  {
   "cell_type": "markdown",
   "metadata": {
    "ExecuteTime": {
     "start_time": "2023-11-30T19:04:43.551335Z"
    },
    "collapsed": false
   },
   "source": [
    "### **Drop duplicated columns in outcome data**\n",
    "`name`, `animal_type`, `breed`, and `color` are columns that exist in both data"
   ]
  },
  {
   "cell_type": "code",
   "execution_count": 16,
   "metadata": {
    "collapsed": false,
    "ExecuteTime": {
     "end_time": "2023-12-11T23:16:37.609130Z",
     "start_time": "2023-12-11T23:16:37.603873Z"
    }
   },
   "outputs": [],
   "source": [
    "outcome.drop([\"name\", \"animal_type\", \"breed\", \"color\"],\n",
    "             inplace=True,\n",
    "             axis=1)"
   ]
  },
  {
   "cell_type": "markdown",
   "metadata": {
    "collapsed": false
   },
   "source": [
    "### **Merge dataframes**"
   ]
  },
  {
   "cell_type": "code",
   "execution_count": 17,
   "metadata": {
    "collapsed": false,
    "ExecuteTime": {
     "end_time": "2023-12-11T23:16:54.785128Z",
     "start_time": "2023-12-11T23:16:37.610260Z"
    }
   },
   "outputs": [
    {
     "data": {
      "text/plain": "  animal_id    name     datetime_intake  \\\n0   A006100   Scamp 2014-03-07 14:26:00   \n1   A006100   Scamp 2014-12-19 10:21:00   \n2   A006100   Scamp 2017-12-07 14:07:00   \n3   A047759    Oreo 2014-04-02 15:55:00   \n4   A134067  Bandit 2013-11-16 09:02:00   \n\n                                  found_location      intake_type  \\\n0                   8700 Research in Austin (TX)    Public Assist   \n1              8700 Research Blvd in Austin (TX)    Public Assist   \n2  Colony Creek And Hunters Trace in Austin (TX)            Stray   \n3                                    Austin (TX)  Owner Surrender   \n4             12034 Research Blvd in Austin (TX)    Public Assist   \n\n  intake_condition animal_type sex_upon_intake age_upon_intake  \\\n0           Normal         Dog   Neutered Male         6 years   \n1           Normal         Dog   Neutered Male         7 years   \n2           Normal         Dog   Neutered Male        10 years   \n3           Normal         Dog   Neutered Male        10 years   \n4          Injured         Dog   Neutered Male        16 years   \n\n                  breed         color    datetime_outcome    datetime_outcome  \\\n0  Spinone Italiano Mix  Yellow/White 2014-03-08 17:10:00 2014-03-08 17:10:00   \n1  Spinone Italiano Mix  Yellow/White 2014-12-20 16:35:00 2014-12-20 16:35:00   \n2  Spinone Italiano Mix  Yellow/White 2017-12-07 00:00:00 2017-12-07 00:00:00   \n3             Dachshund      Tricolor 2014-04-07 15:12:00 2014-04-07 15:12:00   \n4     Shetland Sheepdog   Brown/White 2013-11-16 11:54:00 2013-11-16 11:54:00   \n\n  date_of_birth     outcome_type outcome_subtype sex_upon_outcome  \\\n0    2007-07-09  Return to Owner             NaN    Neutered Male   \n1    2007-07-09  Return to Owner             NaN    Neutered Male   \n2    2007-07-09  Return to Owner             NaN    Neutered Male   \n3    2004-04-02         Transfer         Partner    Neutered Male   \n4    1997-10-16  Return to Owner             NaN    Neutered Male   \n\n  age_upon_outcome  \n0          6 years  \n1          7 years  \n2         10 years  \n3         10 years  \n4         16 years  ",
      "text/html": "<div>\n<style scoped>\n    .dataframe tbody tr th:only-of-type {\n        vertical-align: middle;\n    }\n\n    .dataframe tbody tr th {\n        vertical-align: top;\n    }\n\n    .dataframe thead th {\n        text-align: right;\n    }\n</style>\n<table border=\"1\" class=\"dataframe\">\n  <thead>\n    <tr style=\"text-align: right;\">\n      <th></th>\n      <th>animal_id</th>\n      <th>name</th>\n      <th>datetime_intake</th>\n      <th>found_location</th>\n      <th>intake_type</th>\n      <th>intake_condition</th>\n      <th>animal_type</th>\n      <th>sex_upon_intake</th>\n      <th>age_upon_intake</th>\n      <th>breed</th>\n      <th>color</th>\n      <th>datetime_outcome</th>\n      <th>datetime_outcome</th>\n      <th>date_of_birth</th>\n      <th>outcome_type</th>\n      <th>outcome_subtype</th>\n      <th>sex_upon_outcome</th>\n      <th>age_upon_outcome</th>\n    </tr>\n  </thead>\n  <tbody>\n    <tr>\n      <th>0</th>\n      <td>A006100</td>\n      <td>Scamp</td>\n      <td>2014-03-07 14:26:00</td>\n      <td>8700 Research in Austin (TX)</td>\n      <td>Public Assist</td>\n      <td>Normal</td>\n      <td>Dog</td>\n      <td>Neutered Male</td>\n      <td>6 years</td>\n      <td>Spinone Italiano Mix</td>\n      <td>Yellow/White</td>\n      <td>2014-03-08 17:10:00</td>\n      <td>2014-03-08 17:10:00</td>\n      <td>2007-07-09</td>\n      <td>Return to Owner</td>\n      <td>NaN</td>\n      <td>Neutered Male</td>\n      <td>6 years</td>\n    </tr>\n    <tr>\n      <th>1</th>\n      <td>A006100</td>\n      <td>Scamp</td>\n      <td>2014-12-19 10:21:00</td>\n      <td>8700 Research Blvd in Austin (TX)</td>\n      <td>Public Assist</td>\n      <td>Normal</td>\n      <td>Dog</td>\n      <td>Neutered Male</td>\n      <td>7 years</td>\n      <td>Spinone Italiano Mix</td>\n      <td>Yellow/White</td>\n      <td>2014-12-20 16:35:00</td>\n      <td>2014-12-20 16:35:00</td>\n      <td>2007-07-09</td>\n      <td>Return to Owner</td>\n      <td>NaN</td>\n      <td>Neutered Male</td>\n      <td>7 years</td>\n    </tr>\n    <tr>\n      <th>2</th>\n      <td>A006100</td>\n      <td>Scamp</td>\n      <td>2017-12-07 14:07:00</td>\n      <td>Colony Creek And Hunters Trace in Austin (TX)</td>\n      <td>Stray</td>\n      <td>Normal</td>\n      <td>Dog</td>\n      <td>Neutered Male</td>\n      <td>10 years</td>\n      <td>Spinone Italiano Mix</td>\n      <td>Yellow/White</td>\n      <td>2017-12-07 00:00:00</td>\n      <td>2017-12-07 00:00:00</td>\n      <td>2007-07-09</td>\n      <td>Return to Owner</td>\n      <td>NaN</td>\n      <td>Neutered Male</td>\n      <td>10 years</td>\n    </tr>\n    <tr>\n      <th>3</th>\n      <td>A047759</td>\n      <td>Oreo</td>\n      <td>2014-04-02 15:55:00</td>\n      <td>Austin (TX)</td>\n      <td>Owner Surrender</td>\n      <td>Normal</td>\n      <td>Dog</td>\n      <td>Neutered Male</td>\n      <td>10 years</td>\n      <td>Dachshund</td>\n      <td>Tricolor</td>\n      <td>2014-04-07 15:12:00</td>\n      <td>2014-04-07 15:12:00</td>\n      <td>2004-04-02</td>\n      <td>Transfer</td>\n      <td>Partner</td>\n      <td>Neutered Male</td>\n      <td>10 years</td>\n    </tr>\n    <tr>\n      <th>4</th>\n      <td>A134067</td>\n      <td>Bandit</td>\n      <td>2013-11-16 09:02:00</td>\n      <td>12034 Research Blvd in Austin (TX)</td>\n      <td>Public Assist</td>\n      <td>Injured</td>\n      <td>Dog</td>\n      <td>Neutered Male</td>\n      <td>16 years</td>\n      <td>Shetland Sheepdog</td>\n      <td>Brown/White</td>\n      <td>2013-11-16 11:54:00</td>\n      <td>2013-11-16 11:54:00</td>\n      <td>1997-10-16</td>\n      <td>Return to Owner</td>\n      <td>NaN</td>\n      <td>Neutered Male</td>\n      <td>16 years</td>\n    </tr>\n  </tbody>\n</table>\n</div>"
     },
     "execution_count": 17,
     "metadata": {},
     "output_type": "execute_result"
    }
   ],
   "source": [
    "intake_n_outcome = merge_intake_n_outcome(intake, outcome)\n",
    "intake_n_outcome.head()"
   ]
  },
  {
   "cell_type": "markdown",
   "metadata": {
    "ExecuteTime": {
     "start_time": "2023-11-30T19:04:43.553245Z"
    },
    "collapsed": false
   },
   "source": [
    "In certain cases, an animal's information may be entered multiple times due to updates in basic details such as `intake_type` or `intake_condition`. Consequently, resolving the issue by solely dropping duplicates at the outset may not suffice. Instead, duplicates will be identified if rows exhibit matching values for `animal_id`, `intake_datetime`, and `outcome_datetime`."
   ]
  },
  {
   "cell_type": "code",
   "execution_count": 18,
   "metadata": {
    "collapsed": false,
    "ExecuteTime": {
     "end_time": "2023-12-11T23:16:54.924884Z",
     "start_time": "2023-12-11T23:16:54.793667Z"
    }
   },
   "outputs": [
    {
     "data": {
      "text/plain": "  animal_id    name     datetime_intake  \\\n0   A006100   Scamp 2014-03-07 14:26:00   \n1   A006100   Scamp 2014-12-19 10:21:00   \n2   A006100   Scamp 2017-12-07 14:07:00   \n3   A047759    Oreo 2014-04-02 15:55:00   \n4   A134067  Bandit 2013-11-16 09:02:00   \n\n                                  found_location      intake_type  \\\n0                   8700 Research in Austin (TX)    Public Assist   \n1              8700 Research Blvd in Austin (TX)    Public Assist   \n2  Colony Creek And Hunters Trace in Austin (TX)            Stray   \n3                                    Austin (TX)  Owner Surrender   \n4             12034 Research Blvd in Austin (TX)    Public Assist   \n\n  intake_condition animal_type sex_upon_intake age_upon_intake  \\\n0           Normal         Dog   Neutered Male         6 years   \n1           Normal         Dog   Neutered Male         7 years   \n2           Normal         Dog   Neutered Male        10 years   \n3           Normal         Dog   Neutered Male        10 years   \n4          Injured         Dog   Neutered Male        16 years   \n\n                  breed         color    datetime_outcome date_of_birth  \\\n0  Spinone Italiano Mix  Yellow/White 2014-03-08 17:10:00    2007-07-09   \n1  Spinone Italiano Mix  Yellow/White 2014-12-20 16:35:00    2007-07-09   \n2  Spinone Italiano Mix  Yellow/White 2017-12-07 00:00:00    2007-07-09   \n3             Dachshund      Tricolor 2014-04-07 15:12:00    2004-04-02   \n4     Shetland Sheepdog   Brown/White 2013-11-16 11:54:00    1997-10-16   \n\n      outcome_type outcome_subtype sex_upon_outcome age_upon_outcome  \n0  Return to Owner             NaN    Neutered Male          6 years  \n1  Return to Owner             NaN    Neutered Male          7 years  \n2  Return to Owner             NaN    Neutered Male         10 years  \n3         Transfer         Partner    Neutered Male         10 years  \n4  Return to Owner             NaN    Neutered Male         16 years  ",
      "text/html": "<div>\n<style scoped>\n    .dataframe tbody tr th:only-of-type {\n        vertical-align: middle;\n    }\n\n    .dataframe tbody tr th {\n        vertical-align: top;\n    }\n\n    .dataframe thead th {\n        text-align: right;\n    }\n</style>\n<table border=\"1\" class=\"dataframe\">\n  <thead>\n    <tr style=\"text-align: right;\">\n      <th></th>\n      <th>animal_id</th>\n      <th>name</th>\n      <th>datetime_intake</th>\n      <th>found_location</th>\n      <th>intake_type</th>\n      <th>intake_condition</th>\n      <th>animal_type</th>\n      <th>sex_upon_intake</th>\n      <th>age_upon_intake</th>\n      <th>breed</th>\n      <th>color</th>\n      <th>datetime_outcome</th>\n      <th>date_of_birth</th>\n      <th>outcome_type</th>\n      <th>outcome_subtype</th>\n      <th>sex_upon_outcome</th>\n      <th>age_upon_outcome</th>\n    </tr>\n  </thead>\n  <tbody>\n    <tr>\n      <th>0</th>\n      <td>A006100</td>\n      <td>Scamp</td>\n      <td>2014-03-07 14:26:00</td>\n      <td>8700 Research in Austin (TX)</td>\n      <td>Public Assist</td>\n      <td>Normal</td>\n      <td>Dog</td>\n      <td>Neutered Male</td>\n      <td>6 years</td>\n      <td>Spinone Italiano Mix</td>\n      <td>Yellow/White</td>\n      <td>2014-03-08 17:10:00</td>\n      <td>2007-07-09</td>\n      <td>Return to Owner</td>\n      <td>NaN</td>\n      <td>Neutered Male</td>\n      <td>6 years</td>\n    </tr>\n    <tr>\n      <th>1</th>\n      <td>A006100</td>\n      <td>Scamp</td>\n      <td>2014-12-19 10:21:00</td>\n      <td>8700 Research Blvd in Austin (TX)</td>\n      <td>Public Assist</td>\n      <td>Normal</td>\n      <td>Dog</td>\n      <td>Neutered Male</td>\n      <td>7 years</td>\n      <td>Spinone Italiano Mix</td>\n      <td>Yellow/White</td>\n      <td>2014-12-20 16:35:00</td>\n      <td>2007-07-09</td>\n      <td>Return to Owner</td>\n      <td>NaN</td>\n      <td>Neutered Male</td>\n      <td>7 years</td>\n    </tr>\n    <tr>\n      <th>2</th>\n      <td>A006100</td>\n      <td>Scamp</td>\n      <td>2017-12-07 14:07:00</td>\n      <td>Colony Creek And Hunters Trace in Austin (TX)</td>\n      <td>Stray</td>\n      <td>Normal</td>\n      <td>Dog</td>\n      <td>Neutered Male</td>\n      <td>10 years</td>\n      <td>Spinone Italiano Mix</td>\n      <td>Yellow/White</td>\n      <td>2017-12-07 00:00:00</td>\n      <td>2007-07-09</td>\n      <td>Return to Owner</td>\n      <td>NaN</td>\n      <td>Neutered Male</td>\n      <td>10 years</td>\n    </tr>\n    <tr>\n      <th>3</th>\n      <td>A047759</td>\n      <td>Oreo</td>\n      <td>2014-04-02 15:55:00</td>\n      <td>Austin (TX)</td>\n      <td>Owner Surrender</td>\n      <td>Normal</td>\n      <td>Dog</td>\n      <td>Neutered Male</td>\n      <td>10 years</td>\n      <td>Dachshund</td>\n      <td>Tricolor</td>\n      <td>2014-04-07 15:12:00</td>\n      <td>2004-04-02</td>\n      <td>Transfer</td>\n      <td>Partner</td>\n      <td>Neutered Male</td>\n      <td>10 years</td>\n    </tr>\n    <tr>\n      <th>4</th>\n      <td>A134067</td>\n      <td>Bandit</td>\n      <td>2013-11-16 09:02:00</td>\n      <td>12034 Research Blvd in Austin (TX)</td>\n      <td>Public Assist</td>\n      <td>Injured</td>\n      <td>Dog</td>\n      <td>Neutered Male</td>\n      <td>16 years</td>\n      <td>Shetland Sheepdog</td>\n      <td>Brown/White</td>\n      <td>2013-11-16 11:54:00</td>\n      <td>1997-10-16</td>\n      <td>Return to Owner</td>\n      <td>NaN</td>\n      <td>Neutered Male</td>\n      <td>16 years</td>\n    </tr>\n  </tbody>\n</table>\n</div>"
     },
     "execution_count": 18,
     "metadata": {},
     "output_type": "execute_result"
    }
   ],
   "source": [
    "intake_n_outcome.drop_duplicates(subset = [\"animal_id\", \"datetime_intake\", \"datetime_outcome\"],\n",
    "                                 inplace=True)\n",
    "intake_n_outcome = intake_n_outcome.loc[:,~intake_n_outcome.columns.duplicated()]\n",
    "intake_n_outcome.head()"
   ]
  },
  {
   "cell_type": "code",
   "execution_count": 19,
   "metadata": {
    "collapsed": false,
    "ExecuteTime": {
     "end_time": "2023-12-11T23:16:54.925605Z",
     "start_time": "2023-12-11T23:16:54.904211Z"
    }
   },
   "outputs": [
    {
     "data": {
      "text/plain": "Index(['animal_id', 'name', 'datetime_intake', 'found_location', 'intake_type',\n       'intake_condition', 'animal_type', 'sex_upon_intake', 'age_upon_intake',\n       'breed', 'color', 'datetime_outcome', 'date_of_birth', 'outcome_type',\n       'outcome_subtype', 'sex_upon_outcome', 'age_upon_outcome'],\n      dtype='object')"
     },
     "execution_count": 19,
     "metadata": {},
     "output_type": "execute_result"
    }
   ],
   "source": [
    "intake_n_outcome.columns"
   ]
  },
  {
   "cell_type": "markdown",
   "metadata": {
    "collapsed": false
   },
   "source": [
    "### **Reorder columns**"
   ]
  },
  {
   "cell_type": "code",
   "execution_count": 20,
   "metadata": {
    "collapsed": false,
    "ExecuteTime": {
     "end_time": "2023-12-11T23:16:55.018520Z",
     "start_time": "2023-12-11T23:16:54.909295Z"
    }
   },
   "outputs": [
    {
     "data": {
      "text/plain": "       animal_id     name animal_type     sex_intake    sex_outcome  \\\n0        A006100    Scamp         Dog  Neutered Male  Neutered Male   \n1        A006100    Scamp         Dog  Neutered Male  Neutered Male   \n2        A006100    Scamp         Dog  Neutered Male  Neutered Male   \n3        A047759     Oreo         Dog  Neutered Male  Neutered Male   \n4        A134067   Bandit         Dog  Neutered Male  Neutered Male   \n...          ...      ...         ...            ...            ...   \n157784   A894540  A894540         Dog    Intact Male            NaN   \n157785   A894541  A894541         Cat  Intact Female            NaN   \n157786   A894547  A894547         Dog  Intact Female            NaN   \n157787   A894551  A894551         Cat  Intact Female            NaN   \n157788   A894558      NaN         Dog  Intact Female            NaN   \n\n                         breed         color date_of_birth  \\\n0         Spinone Italiano Mix  Yellow/White    2007-07-09   \n1         Spinone Italiano Mix  Yellow/White    2007-07-09   \n2         Spinone Italiano Mix  Yellow/White    2007-07-09   \n3                    Dachshund      Tricolor    2004-04-02   \n4            Shetland Sheepdog   Brown/White    1997-10-16   \n...                        ...           ...           ...   \n157784           Blue Lacy Mix    Blue/White           NaT   \n157785  Domestic Shorthair Mix         Black           NaT   \n157786               Boxer Mix   Brown/White           NaT   \n157787  Domestic Shorthair Mix        Tortie           NaT   \n157788       Staffordshire Mix   White/Black           NaT   \n\n                                       found_location     intake_datetime  \\\n0                        8700 Research in Austin (TX) 2014-03-07 14:26:00   \n1                   8700 Research Blvd in Austin (TX) 2014-12-19 10:21:00   \n2       Colony Creek And Hunters Trace in Austin (TX) 2017-12-07 14:07:00   \n3                                         Austin (TX) 2014-04-02 15:55:00   \n4                  12034 Research Blvd in Austin (TX) 2013-11-16 09:02:00   \n...                                               ...                 ...   \n157784          Rutlan And North Lamar in Austin (TX) 2023-12-11 11:24:00   \n157785           2439 Town Lake Circle in Austin (TX) 2023-12-11 12:12:00   \n157786                6200 Stiles Cove in Austin (TX) 2023-12-11 12:59:00   \n157787               3002 Cheviot Lane in Austin (TX) 2023-12-11 13:20:00   \n157788                5301 Decker Lane in Austin (TX) 2023-12-11 15:27:00   \n\n       age_upon_intake    outcome_datetime age_upon_outcome      intake_type  \\\n0              6 years 2014-03-08 17:10:00          6 years    Public Assist   \n1              7 years 2014-12-20 16:35:00          7 years    Public Assist   \n2             10 years 2017-12-07 00:00:00         10 years            Stray   \n3             10 years 2014-04-07 15:12:00         10 years  Owner Surrender   \n4             16 years 2013-11-16 11:54:00         16 years    Public Assist   \n...                ...                 ...              ...              ...   \n157784        5 months                 NaT              NaN            Stray   \n157785        8 months                 NaT              NaN            Stray   \n157786         6 years                 NaT              NaN            Stray   \n157787         1 month                 NaT              NaN            Stray   \n157788         1 month                 NaT              NaN            Stray   \n\n       intake_condition     outcome_type outcome_subtype  \n0                Normal  Return to Owner             NaN  \n1                Normal  Return to Owner             NaN  \n2                Normal  Return to Owner             NaN  \n3                Normal         Transfer         Partner  \n4               Injured  Return to Owner             NaN  \n...                 ...              ...             ...  \n157784           Normal              NaN             NaN  \n157785           Normal              NaN             NaN  \n157786           Normal              NaN             NaN  \n157787           Normal              NaN             NaN  \n157788           Normal              NaN             NaN  \n\n[157788 rows x 17 columns]",
      "text/html": "<div>\n<style scoped>\n    .dataframe tbody tr th:only-of-type {\n        vertical-align: middle;\n    }\n\n    .dataframe tbody tr th {\n        vertical-align: top;\n    }\n\n    .dataframe thead th {\n        text-align: right;\n    }\n</style>\n<table border=\"1\" class=\"dataframe\">\n  <thead>\n    <tr style=\"text-align: right;\">\n      <th></th>\n      <th>animal_id</th>\n      <th>name</th>\n      <th>animal_type</th>\n      <th>sex_intake</th>\n      <th>sex_outcome</th>\n      <th>breed</th>\n      <th>color</th>\n      <th>date_of_birth</th>\n      <th>found_location</th>\n      <th>intake_datetime</th>\n      <th>age_upon_intake</th>\n      <th>outcome_datetime</th>\n      <th>age_upon_outcome</th>\n      <th>intake_type</th>\n      <th>intake_condition</th>\n      <th>outcome_type</th>\n      <th>outcome_subtype</th>\n    </tr>\n  </thead>\n  <tbody>\n    <tr>\n      <th>0</th>\n      <td>A006100</td>\n      <td>Scamp</td>\n      <td>Dog</td>\n      <td>Neutered Male</td>\n      <td>Neutered Male</td>\n      <td>Spinone Italiano Mix</td>\n      <td>Yellow/White</td>\n      <td>2007-07-09</td>\n      <td>8700 Research in Austin (TX)</td>\n      <td>2014-03-07 14:26:00</td>\n      <td>6 years</td>\n      <td>2014-03-08 17:10:00</td>\n      <td>6 years</td>\n      <td>Public Assist</td>\n      <td>Normal</td>\n      <td>Return to Owner</td>\n      <td>NaN</td>\n    </tr>\n    <tr>\n      <th>1</th>\n      <td>A006100</td>\n      <td>Scamp</td>\n      <td>Dog</td>\n      <td>Neutered Male</td>\n      <td>Neutered Male</td>\n      <td>Spinone Italiano Mix</td>\n      <td>Yellow/White</td>\n      <td>2007-07-09</td>\n      <td>8700 Research Blvd in Austin (TX)</td>\n      <td>2014-12-19 10:21:00</td>\n      <td>7 years</td>\n      <td>2014-12-20 16:35:00</td>\n      <td>7 years</td>\n      <td>Public Assist</td>\n      <td>Normal</td>\n      <td>Return to Owner</td>\n      <td>NaN</td>\n    </tr>\n    <tr>\n      <th>2</th>\n      <td>A006100</td>\n      <td>Scamp</td>\n      <td>Dog</td>\n      <td>Neutered Male</td>\n      <td>Neutered Male</td>\n      <td>Spinone Italiano Mix</td>\n      <td>Yellow/White</td>\n      <td>2007-07-09</td>\n      <td>Colony Creek And Hunters Trace in Austin (TX)</td>\n      <td>2017-12-07 14:07:00</td>\n      <td>10 years</td>\n      <td>2017-12-07 00:00:00</td>\n      <td>10 years</td>\n      <td>Stray</td>\n      <td>Normal</td>\n      <td>Return to Owner</td>\n      <td>NaN</td>\n    </tr>\n    <tr>\n      <th>3</th>\n      <td>A047759</td>\n      <td>Oreo</td>\n      <td>Dog</td>\n      <td>Neutered Male</td>\n      <td>Neutered Male</td>\n      <td>Dachshund</td>\n      <td>Tricolor</td>\n      <td>2004-04-02</td>\n      <td>Austin (TX)</td>\n      <td>2014-04-02 15:55:00</td>\n      <td>10 years</td>\n      <td>2014-04-07 15:12:00</td>\n      <td>10 years</td>\n      <td>Owner Surrender</td>\n      <td>Normal</td>\n      <td>Transfer</td>\n      <td>Partner</td>\n    </tr>\n    <tr>\n      <th>4</th>\n      <td>A134067</td>\n      <td>Bandit</td>\n      <td>Dog</td>\n      <td>Neutered Male</td>\n      <td>Neutered Male</td>\n      <td>Shetland Sheepdog</td>\n      <td>Brown/White</td>\n      <td>1997-10-16</td>\n      <td>12034 Research Blvd in Austin (TX)</td>\n      <td>2013-11-16 09:02:00</td>\n      <td>16 years</td>\n      <td>2013-11-16 11:54:00</td>\n      <td>16 years</td>\n      <td>Public Assist</td>\n      <td>Injured</td>\n      <td>Return to Owner</td>\n      <td>NaN</td>\n    </tr>\n    <tr>\n      <th>...</th>\n      <td>...</td>\n      <td>...</td>\n      <td>...</td>\n      <td>...</td>\n      <td>...</td>\n      <td>...</td>\n      <td>...</td>\n      <td>...</td>\n      <td>...</td>\n      <td>...</td>\n      <td>...</td>\n      <td>...</td>\n      <td>...</td>\n      <td>...</td>\n      <td>...</td>\n      <td>...</td>\n      <td>...</td>\n    </tr>\n    <tr>\n      <th>157784</th>\n      <td>A894540</td>\n      <td>A894540</td>\n      <td>Dog</td>\n      <td>Intact Male</td>\n      <td>NaN</td>\n      <td>Blue Lacy Mix</td>\n      <td>Blue/White</td>\n      <td>NaT</td>\n      <td>Rutlan And North Lamar in Austin (TX)</td>\n      <td>2023-12-11 11:24:00</td>\n      <td>5 months</td>\n      <td>NaT</td>\n      <td>NaN</td>\n      <td>Stray</td>\n      <td>Normal</td>\n      <td>NaN</td>\n      <td>NaN</td>\n    </tr>\n    <tr>\n      <th>157785</th>\n      <td>A894541</td>\n      <td>A894541</td>\n      <td>Cat</td>\n      <td>Intact Female</td>\n      <td>NaN</td>\n      <td>Domestic Shorthair Mix</td>\n      <td>Black</td>\n      <td>NaT</td>\n      <td>2439 Town Lake Circle in Austin (TX)</td>\n      <td>2023-12-11 12:12:00</td>\n      <td>8 months</td>\n      <td>NaT</td>\n      <td>NaN</td>\n      <td>Stray</td>\n      <td>Normal</td>\n      <td>NaN</td>\n      <td>NaN</td>\n    </tr>\n    <tr>\n      <th>157786</th>\n      <td>A894547</td>\n      <td>A894547</td>\n      <td>Dog</td>\n      <td>Intact Female</td>\n      <td>NaN</td>\n      <td>Boxer Mix</td>\n      <td>Brown/White</td>\n      <td>NaT</td>\n      <td>6200 Stiles Cove in Austin (TX)</td>\n      <td>2023-12-11 12:59:00</td>\n      <td>6 years</td>\n      <td>NaT</td>\n      <td>NaN</td>\n      <td>Stray</td>\n      <td>Normal</td>\n      <td>NaN</td>\n      <td>NaN</td>\n    </tr>\n    <tr>\n      <th>157787</th>\n      <td>A894551</td>\n      <td>A894551</td>\n      <td>Cat</td>\n      <td>Intact Female</td>\n      <td>NaN</td>\n      <td>Domestic Shorthair Mix</td>\n      <td>Tortie</td>\n      <td>NaT</td>\n      <td>3002 Cheviot Lane in Austin (TX)</td>\n      <td>2023-12-11 13:20:00</td>\n      <td>1 month</td>\n      <td>NaT</td>\n      <td>NaN</td>\n      <td>Stray</td>\n      <td>Normal</td>\n      <td>NaN</td>\n      <td>NaN</td>\n    </tr>\n    <tr>\n      <th>157788</th>\n      <td>A894558</td>\n      <td>NaN</td>\n      <td>Dog</td>\n      <td>Intact Female</td>\n      <td>NaN</td>\n      <td>Staffordshire Mix</td>\n      <td>White/Black</td>\n      <td>NaT</td>\n      <td>5301 Decker Lane in Austin (TX)</td>\n      <td>2023-12-11 15:27:00</td>\n      <td>1 month</td>\n      <td>NaT</td>\n      <td>NaN</td>\n      <td>Stray</td>\n      <td>Normal</td>\n      <td>NaN</td>\n      <td>NaN</td>\n    </tr>\n  </tbody>\n</table>\n<p>157788 rows × 17 columns</p>\n</div>"
     },
     "execution_count": 20,
     "metadata": {},
     "output_type": "execute_result"
    }
   ],
   "source": [
    "column_order = {\n",
    "    \"animal_id\": \"animal_id\",\n",
    "    \"name\": \"name\",\n",
    "    \"animal_type\": \"animal_type\",\n",
    "    \"sex_upon_intake\": \"sex_intake\",\n",
    "    \"sex_upon_outcome\": \"sex_outcome\",\n",
    "    \"breed\": \"breed\",\n",
    "    \"color\": \"color\",\n",
    "    \"date_of_birth\": \"date_of_birth\",\n",
    "    \"found_location\": \"found_location\",\n",
    "    \"datetime_intake\": \"intake_datetime\",\n",
    "    \"age_upon_intake\": \"age_upon_intake\",\n",
    "    \"datetime_outcome\": \"outcome_datetime\",\n",
    "    \"age_upon_outcome\": \"age_upon_outcome\",\n",
    "    \"intake_type\": \"intake_type\",\n",
    "    \"intake_condition\": \"intake_condition\",\n",
    "    \"outcome_type\": \"outcome_type\",\n",
    "    \"outcome_subtype\": \"outcome_subtype\"\n",
    "}\n",
    "intake_n_outcome = intake_n_outcome.rename(columns=column_order)[column_order.values()]\n",
    "intake_n_outcome"
   ]
  },
  {
   "cell_type": "markdown",
   "metadata": {
    "ExecuteTime": {
     "start_time": "2023-11-30T19:04:43.557034Z"
    },
    "collapsed": false
   },
   "source": [
    "### **Calculate age upon intake and outcome (in years) to 1 decimal point**"
   ]
  },
  {
   "cell_type": "code",
   "execution_count": 21,
   "metadata": {
    "collapsed": false,
    "ExecuteTime": {
     "end_time": "2023-12-11T23:16:55.018936Z",
     "start_time": "2023-12-11T23:16:54.972874Z"
    }
   },
   "outputs": [
    {
     "data": {
      "text/plain": "0          6.7\n1          7.4\n2         10.4\n3         10.0\n4         16.1\n          ... \n157784     NaN\n157785     NaN\n157786     NaN\n157787     NaN\n157788     NaN\nName: age_upon_outcome(years), Length: 157788, dtype: float64"
     },
     "execution_count": 21,
     "metadata": {},
     "output_type": "execute_result"
    }
   ],
   "source": [
    "calculate_time_delta(intake_n_outcome, start=\"date_of_birth\", end=\"intake_datetime\", unit=\"years\", col_suffix=\"intake\")\n",
    "calculate_time_delta(intake_n_outcome, start=\"date_of_birth\", end=\"outcome_datetime\", unit=\"years\", col_suffix=\"outcome\")"
   ]
  },
  {
   "cell_type": "markdown",
   "metadata": {
    "collapsed": false
   },
   "source": [
    "### **Calculate the duration an animal stays in the center (in days)**"
   ]
  },
  {
   "cell_type": "code",
   "execution_count": 22,
   "metadata": {
    "collapsed": false,
    "ExecuteTime": {
     "end_time": "2023-12-11T23:16:55.019297Z",
     "start_time": "2023-12-11T23:16:54.989907Z"
    }
   },
   "outputs": [
    {
     "data": {
      "text/plain": "0         1.0\n1         1.0\n2        -1.0\n3         4.0\n4         0.0\n         ... \n157784    NaN\n157785    NaN\n157786    NaN\n157787    NaN\n157788    NaN\nName: duration(days), Length: 157788, dtype: float64"
     },
     "execution_count": 22,
     "metadata": {},
     "output_type": "execute_result"
    }
   ],
   "source": [
    "calculate_time_delta(intake_n_outcome, start=\"intake_datetime\", end=\"outcome_datetime\", unit=\"days\")"
   ]
  },
  {
   "cell_type": "code",
   "execution_count": 23,
   "metadata": {
    "collapsed": false,
    "ExecuteTime": {
     "end_time": "2023-12-11T23:16:55.029535Z",
     "start_time": "2023-12-11T23:16:54.999718Z"
    }
   },
   "outputs": [],
   "source": [
    "intake_n_outcome.drop([\"age_upon_intake\", \"age_upon_outcome\"],\n",
    "                      axis=1,\n",
    "                      inplace=True)"
   ]
  },
  {
   "cell_type": "code",
   "execution_count": 24,
   "metadata": {
    "collapsed": false,
    "ExecuteTime": {
     "end_time": "2023-12-11T23:16:55.048362Z",
     "start_time": "2023-12-11T23:16:55.022162Z"
    }
   },
   "outputs": [
    {
     "data": {
      "text/plain": "  animal_id    name animal_type     sex_intake    sex_outcome  \\\n0   A006100   Scamp         Dog  Neutered Male  Neutered Male   \n1   A006100   Scamp         Dog  Neutered Male  Neutered Male   \n2   A006100   Scamp         Dog  Neutered Male  Neutered Male   \n3   A047759    Oreo         Dog  Neutered Male  Neutered Male   \n4   A134067  Bandit         Dog  Neutered Male  Neutered Male   \n\n                  breed         color date_of_birth  \\\n0  Spinone Italiano Mix  Yellow/White    2007-07-09   \n1  Spinone Italiano Mix  Yellow/White    2007-07-09   \n2  Spinone Italiano Mix  Yellow/White    2007-07-09   \n3             Dachshund      Tricolor    2004-04-02   \n4     Shetland Sheepdog   Brown/White    1997-10-16   \n\n                                  found_location     intake_datetime  \\\n0                   8700 Research in Austin (TX) 2014-03-07 14:26:00   \n1              8700 Research Blvd in Austin (TX) 2014-12-19 10:21:00   \n2  Colony Creek And Hunters Trace in Austin (TX) 2017-12-07 14:07:00   \n3                                    Austin (TX) 2014-04-02 15:55:00   \n4             12034 Research Blvd in Austin (TX) 2013-11-16 09:02:00   \n\n     outcome_datetime      intake_type intake_condition     outcome_type  \\\n0 2014-03-08 17:10:00    Public Assist           Normal  Return to Owner   \n1 2014-12-20 16:35:00    Public Assist           Normal  Return to Owner   \n2 2017-12-07 00:00:00            Stray           Normal  Return to Owner   \n3 2014-04-07 15:12:00  Owner Surrender           Normal         Transfer   \n4 2013-11-16 11:54:00    Public Assist          Injured  Return to Owner   \n\n  outcome_subtype  age_upon_intake(years)  age_upon_outcome(years)  \\\n0             NaN                     6.7                      6.7   \n1             NaN                     7.4                      7.4   \n2             NaN                    10.4                     10.4   \n3         Partner                    10.0                     10.0   \n4             NaN                    16.1                     16.1   \n\n   duration(days)  \n0             1.0  \n1             1.0  \n2            -1.0  \n3             4.0  \n4             0.0  ",
      "text/html": "<div>\n<style scoped>\n    .dataframe tbody tr th:only-of-type {\n        vertical-align: middle;\n    }\n\n    .dataframe tbody tr th {\n        vertical-align: top;\n    }\n\n    .dataframe thead th {\n        text-align: right;\n    }\n</style>\n<table border=\"1\" class=\"dataframe\">\n  <thead>\n    <tr style=\"text-align: right;\">\n      <th></th>\n      <th>animal_id</th>\n      <th>name</th>\n      <th>animal_type</th>\n      <th>sex_intake</th>\n      <th>sex_outcome</th>\n      <th>breed</th>\n      <th>color</th>\n      <th>date_of_birth</th>\n      <th>found_location</th>\n      <th>intake_datetime</th>\n      <th>outcome_datetime</th>\n      <th>intake_type</th>\n      <th>intake_condition</th>\n      <th>outcome_type</th>\n      <th>outcome_subtype</th>\n      <th>age_upon_intake(years)</th>\n      <th>age_upon_outcome(years)</th>\n      <th>duration(days)</th>\n    </tr>\n  </thead>\n  <tbody>\n    <tr>\n      <th>0</th>\n      <td>A006100</td>\n      <td>Scamp</td>\n      <td>Dog</td>\n      <td>Neutered Male</td>\n      <td>Neutered Male</td>\n      <td>Spinone Italiano Mix</td>\n      <td>Yellow/White</td>\n      <td>2007-07-09</td>\n      <td>8700 Research in Austin (TX)</td>\n      <td>2014-03-07 14:26:00</td>\n      <td>2014-03-08 17:10:00</td>\n      <td>Public Assist</td>\n      <td>Normal</td>\n      <td>Return to Owner</td>\n      <td>NaN</td>\n      <td>6.7</td>\n      <td>6.7</td>\n      <td>1.0</td>\n    </tr>\n    <tr>\n      <th>1</th>\n      <td>A006100</td>\n      <td>Scamp</td>\n      <td>Dog</td>\n      <td>Neutered Male</td>\n      <td>Neutered Male</td>\n      <td>Spinone Italiano Mix</td>\n      <td>Yellow/White</td>\n      <td>2007-07-09</td>\n      <td>8700 Research Blvd in Austin (TX)</td>\n      <td>2014-12-19 10:21:00</td>\n      <td>2014-12-20 16:35:00</td>\n      <td>Public Assist</td>\n      <td>Normal</td>\n      <td>Return to Owner</td>\n      <td>NaN</td>\n      <td>7.4</td>\n      <td>7.4</td>\n      <td>1.0</td>\n    </tr>\n    <tr>\n      <th>2</th>\n      <td>A006100</td>\n      <td>Scamp</td>\n      <td>Dog</td>\n      <td>Neutered Male</td>\n      <td>Neutered Male</td>\n      <td>Spinone Italiano Mix</td>\n      <td>Yellow/White</td>\n      <td>2007-07-09</td>\n      <td>Colony Creek And Hunters Trace in Austin (TX)</td>\n      <td>2017-12-07 14:07:00</td>\n      <td>2017-12-07 00:00:00</td>\n      <td>Stray</td>\n      <td>Normal</td>\n      <td>Return to Owner</td>\n      <td>NaN</td>\n      <td>10.4</td>\n      <td>10.4</td>\n      <td>-1.0</td>\n    </tr>\n    <tr>\n      <th>3</th>\n      <td>A047759</td>\n      <td>Oreo</td>\n      <td>Dog</td>\n      <td>Neutered Male</td>\n      <td>Neutered Male</td>\n      <td>Dachshund</td>\n      <td>Tricolor</td>\n      <td>2004-04-02</td>\n      <td>Austin (TX)</td>\n      <td>2014-04-02 15:55:00</td>\n      <td>2014-04-07 15:12:00</td>\n      <td>Owner Surrender</td>\n      <td>Normal</td>\n      <td>Transfer</td>\n      <td>Partner</td>\n      <td>10.0</td>\n      <td>10.0</td>\n      <td>4.0</td>\n    </tr>\n    <tr>\n      <th>4</th>\n      <td>A134067</td>\n      <td>Bandit</td>\n      <td>Dog</td>\n      <td>Neutered Male</td>\n      <td>Neutered Male</td>\n      <td>Shetland Sheepdog</td>\n      <td>Brown/White</td>\n      <td>1997-10-16</td>\n      <td>12034 Research Blvd in Austin (TX)</td>\n      <td>2013-11-16 09:02:00</td>\n      <td>2013-11-16 11:54:00</td>\n      <td>Public Assist</td>\n      <td>Injured</td>\n      <td>Return to Owner</td>\n      <td>NaN</td>\n      <td>16.1</td>\n      <td>16.1</td>\n      <td>0.0</td>\n    </tr>\n  </tbody>\n</table>\n</div>"
     },
     "execution_count": 24,
     "metadata": {},
     "output_type": "execute_result"
    }
   ],
   "source": [
    "intake_n_outcome.head()"
   ]
  },
  {
   "cell_type": "markdown",
   "metadata": {
    "ExecuteTime": {
     "start_time": "2023-11-30T19:04:43.560178Z"
    },
    "collapsed": false
   },
   "source": [
    "### **Check column datatypes and names**"
   ]
  },
  {
   "cell_type": "code",
   "execution_count": 25,
   "metadata": {
    "collapsed": false,
    "ExecuteTime": {
     "end_time": "2023-12-11T23:16:55.085380Z",
     "start_time": "2023-12-11T23:16:55.036085Z"
    }
   },
   "outputs": [
    {
     "data": {
      "text/plain": "animal_id                          object\nname                               object\nanimal_type                        object\nsex_intake                         object\nsex_outcome                        object\nbreed                              object\ncolor                              object\ndate_of_birth              datetime64[ns]\nfound_location                     object\nintake_datetime            datetime64[ns]\noutcome_datetime           datetime64[ns]\nintake_type                        object\nintake_condition                   object\noutcome_type                       object\noutcome_subtype                    object\nage_upon_intake(years)            float64\nage_upon_outcome(years)           float64\nduration(days)                    float64\ndtype: object"
     },
     "execution_count": 25,
     "metadata": {},
     "output_type": "execute_result"
    }
   ],
   "source": [
    "intake_n_outcome.dtypes"
   ]
  },
  {
   "cell_type": "code",
   "execution_count": 26,
   "metadata": {
    "collapsed": false,
    "ExecuteTime": {
     "end_time": "2023-12-11T23:16:55.086389Z",
     "start_time": "2023-12-11T23:16:55.041303Z"
    }
   },
   "outputs": [
    {
     "data": {
      "text/plain": "Index(['animal_id', 'name', 'animal_type', 'sex_intake', 'sex_outcome',\n       'breed', 'color', 'date_of_birth', 'found_location', 'intake_datetime',\n       'outcome_datetime', 'intake_type', 'intake_condition', 'outcome_type',\n       'outcome_subtype', 'age_upon_intake(years)', 'age_upon_outcome(years)',\n       'duration(days)'],\n      dtype='object')"
     },
     "execution_count": 26,
     "metadata": {},
     "output_type": "execute_result"
    }
   ],
   "source": [
    "intake_n_outcome.columns"
   ]
  },
  {
   "cell_type": "markdown",
   "metadata": {},
   "source": [
    "### **Check the value counts of `animal_type`**"
   ]
  },
  {
   "cell_type": "code",
   "execution_count": 27,
   "metadata": {
    "collapsed": false,
    "ExecuteTime": {
     "end_time": "2023-12-11T23:16:55.132056Z",
     "start_time": "2023-12-11T23:16:55.045449Z"
    }
   },
   "outputs": [
    {
     "data": {
      "text/plain": "animal_type\nDog          87272\nCat          61444\nOther         8266\nBird           780\nLivestock       26\nName: count, dtype: int64"
     },
     "execution_count": 27,
     "metadata": {},
     "output_type": "execute_result"
    }
   ],
   "source": [
    "intake_n_outcome.animal_type.value_counts()"
   ]
  },
  {
   "cell_type": "markdown",
   "metadata": {},
   "source": [
    "### **Check the value counts of `sex`**"
   ]
  },
  {
   "cell_type": "code",
   "execution_count": 28,
   "metadata": {
    "collapsed": false,
    "ExecuteTime": {
     "end_time": "2023-12-11T23:16:55.165091Z",
     "start_time": "2023-12-11T23:16:55.062074Z"
    }
   },
   "outputs": [
    {
     "data": {
      "text/plain": "sex_intake\nIntact Male      53067\nIntact Female    50765\nNeutered Male    22587\nSpayed Female    19090\nUnknown          12277\nName: count, dtype: int64"
     },
     "execution_count": 28,
     "metadata": {},
     "output_type": "execute_result"
    }
   ],
   "source": [
    "intake_n_outcome.sex_intake.value_counts()"
   ]
  },
  {
   "cell_type": "code",
   "execution_count": 29,
   "metadata": {
    "collapsed": false,
    "ExecuteTime": {
     "end_time": "2023-12-11T23:16:55.184013Z",
     "start_time": "2023-12-11T23:16:55.090225Z"
    }
   },
   "outputs": [
    {
     "data": {
      "text/plain": "sex_outcome\nNeutered Male    54857\nSpayed Female    49594\nIntact Male      20274\nIntact Female    19828\nUnknown          12259\nName: count, dtype: int64"
     },
     "execution_count": 29,
     "metadata": {},
     "output_type": "execute_result"
    }
   ],
   "source": [
    "intake_n_outcome.sex_outcome.value_counts()"
   ]
  },
  {
   "cell_type": "markdown",
   "metadata": {},
   "source": [
    "### **Check the value counts of `breed`**"
   ]
  },
  {
   "cell_type": "code",
   "execution_count": 30,
   "metadata": {
    "collapsed": false,
    "ExecuteTime": {
     "end_time": "2023-12-11T23:16:55.237919Z",
     "start_time": "2023-12-11T23:16:55.107859Z"
    }
   },
   "outputs": [
    {
     "data": {
      "text/plain": "breed\nDomestic Shorthair Mix             33297\nDomestic Shorthair                 17631\nPit Bull Mix                        9651\nLabrador Retriever Mix              8176\nChihuahua Shorthair Mix             6742\n                                   ...  \nPit Bull/American Foxhound             1\nPit Bull/Dogue De Bordeaux             1\nEnglish Springer Spaniel/Beagle        1\nGoose Mix                              1\nDomestic Shorthair/Oriental Sh         1\nName: count, Length: 2887, dtype: int64"
     },
     "execution_count": 30,
     "metadata": {},
     "output_type": "execute_result"
    }
   ],
   "source": [
    "intake_n_outcome.breed.value_counts()"
   ]
  },
  {
   "cell_type": "markdown",
   "metadata": {},
   "source": [
    "### **Check the value counts of `color`**"
   ]
  },
  {
   "cell_type": "code",
   "execution_count": 31,
   "metadata": {
    "collapsed": false,
    "ExecuteTime": {
     "end_time": "2023-12-11T23:16:55.240515Z",
     "start_time": "2023-12-11T23:16:55.113204Z"
    }
   },
   "outputs": [
    {
     "data": {
      "text/plain": "color\nBlack/White               16446\nBlack                     13169\nBrown Tabby                9390\nBrown                      6542\nWhite                      5544\n                          ...  \nBlue Tabby/Buff               1\nRed Tick/Blue                 1\nCream/Blue Point              1\nTorbie/Silver Tabby           1\nBlue Tabby/Brown Tabby        1\nName: count, Length: 635, dtype: int64"
     },
     "execution_count": 31,
     "metadata": {},
     "output_type": "execute_result"
    }
   ],
   "source": [
    "intake_n_outcome.color.value_counts()"
   ]
  },
  {
   "cell_type": "markdown",
   "metadata": {},
   "source": [
    "### **Check the value counts of `intake_type`**"
   ]
  },
  {
   "cell_type": "code",
   "execution_count": 32,
   "metadata": {
    "collapsed": false,
    "ExecuteTime": {
     "end_time": "2023-12-11T23:16:55.260852Z",
     "start_time": "2023-12-11T23:16:55.145097Z"
    }
   },
   "outputs": [
    {
     "data": {
      "text/plain": "intake_type\nStray                 108178\nOwner Surrender        32557\nPublic Assist           9423\nWildlife                5985\nAbandoned               1385\nEuthanasia Request       260\nName: count, dtype: int64"
     },
     "execution_count": 32,
     "metadata": {},
     "output_type": "execute_result"
    }
   ],
   "source": [
    "intake_n_outcome.intake_type.value_counts()"
   ]
  },
  {
   "cell_type": "markdown",
   "metadata": {},
   "source": [
    "### **Check the value counts of `intake_condition`**"
   ]
  },
  {
   "cell_type": "code",
   "execution_count": 33,
   "metadata": {
    "collapsed": false,
    "ExecuteTime": {
     "end_time": "2023-12-11T23:16:55.262304Z",
     "start_time": "2023-12-11T23:16:55.148166Z"
    }
   },
   "outputs": [
    {
     "data": {
      "text/plain": "intake_condition\nNormal        134816\nInjured         9442\nSick            7002\nNursing         3916\nNeonatal        1075\nAged             503\nOther            340\nMedical          297\nFeral            135\nPregnant         128\nBehavior          64\nMed Attn          25\nUnknown           16\nMed Urgent         9\nNeurologic         9\nSpace              4\nParvo              3\nAgonal             2\nPanleuk            1\nCongenital         1\nName: count, dtype: int64"
     },
     "execution_count": 33,
     "metadata": {},
     "output_type": "execute_result"
    }
   ],
   "source": [
    "intake_n_outcome.intake_condition.value_counts()"
   ]
  },
  {
   "cell_type": "markdown",
   "metadata": {},
   "source": [
    "### **Check the value counts of `outcome_type`**"
   ]
  },
  {
   "cell_type": "code",
   "execution_count": 34,
   "metadata": {
    "collapsed": false,
    "ExecuteTime": {
     "end_time": "2023-12-11T23:16:55.265015Z",
     "start_time": "2023-12-11T23:16:55.175724Z"
    }
   },
   "outputs": [
    {
     "data": {
      "text/plain": "outcome_type\nAdoption           73997\nTransfer           44944\nReturn to Owner    24440\nEuthanasia          9967\nDied                1470\nRto-Adopt           1082\nDisposal             768\nMissing               84\nRelocate              26\nStolen                 5\nName: count, dtype: int64"
     },
     "execution_count": 34,
     "metadata": {},
     "output_type": "execute_result"
    }
   ],
   "source": [
    "intake_n_outcome.outcome_type.value_counts()"
   ]
  },
  {
   "cell_type": "markdown",
   "metadata": {},
   "source": [
    "### **Check the value counts of `outcome_subtype`**"
   ]
  },
  {
   "cell_type": "code",
   "execution_count": 35,
   "metadata": {
    "collapsed": false,
    "ExecuteTime": {
     "end_time": "2023-12-11T23:16:55.268836Z",
     "start_time": "2023-12-11T23:16:55.188737Z"
    }
   },
   "outputs": [
    {
     "data": {
      "text/plain": "outcome_subtype\nPartner                37264\nFoster                 15354\nRabies Risk             4494\nSuffering               3829\nSnr                     3518\nSCRP                    3204\nOut State                931\nIn Kennel                777\nAggressive               583\nOffsite                  477\nIn Foster                366\nMedical                  338\nAt Vet                   321\nField                    188\nBehavior                 157\nEnroute                  103\nCourt/Investigation       63\nUnderage                  37\nIn Surgery                32\nCustomer S                18\nEmergency                 17\nPossible Theft            16\nPrc                       13\nBarn                      12\nIn State                  12\nEmer                       7\nName: count, dtype: int64"
     },
     "execution_count": 35,
     "metadata": {},
     "output_type": "execute_result"
    }
   ],
   "source": [
    "intake_n_outcome.outcome_subtype.value_counts()"
   ]
  },
  {
   "cell_type": "markdown",
   "metadata": {
    "collapsed": false
   },
   "source": [
    "## **Save as csv**"
   ]
  },
  {
   "cell_type": "code",
   "execution_count": 36,
   "metadata": {
    "collapsed": false,
    "ExecuteTime": {
     "end_time": "2023-12-11T23:16:56.841681Z",
     "start_time": "2023-12-11T23:16:55.192433Z"
    }
   },
   "outputs": [],
   "source": [
    "intake_n_outcome.to_csv(\"data/animal_center.csv\", index=False)"
   ]
  }
 ],
 "metadata": {
  "kernelspec": {
   "display_name": "base",
   "language": "python",
   "name": "python3"
  },
  "language_info": {
   "codemirror_mode": {
    "name": "ipython",
    "version": 3
   },
   "file_extension": ".py",
   "mimetype": "text/x-python",
   "name": "python",
   "nbconvert_exporter": "python",
   "pygments_lexer": "ipython3",
   "version": "3.9.12"
  }
 },
 "nbformat": 4,
 "nbformat_minor": 2
}
