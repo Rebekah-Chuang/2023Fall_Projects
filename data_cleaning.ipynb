{
 "cells": [
  {
   "cell_type": "code",
   "execution_count": 1,
   "metadata": {
    "ExecuteTime": {
     "end_time": "2023-12-02T04:13:03.336071Z",
     "start_time": "2023-12-02T04:13:01.941992Z"
    }
   },
   "outputs": [],
   "source": [
    "# import pandas as pd\n",
    "from data_cleaning_functions import *"
   ]
  },
  {
   "cell_type": "markdown",
   "metadata": {},
   "source": [
    "### **Get data using API endpoint URL**"
   ]
  },
  {
   "cell_type": "code",
   "execution_count": 2,
   "metadata": {
    "ExecuteTime": {
     "end_time": "2023-12-02T04:13:18.857209Z",
     "start_time": "2023-12-02T04:13:03.336370Z"
    }
   },
   "outputs": [
    {
     "name": "stdout",
     "output_type": "stream",
     "text": [
      "Successfully get INTAKE data(157656 rows)...\n",
      "Successfully get OUTCOME data(157593 rows)...\n"
     ]
    }
   ],
   "source": [
    "# API endpoint URL(set the limit to get all data(default is 1000 rows))\n",
    "urls = {\n",
    "    \"intake\": \"https://data.austintexas.gov/resource/wter-evkm.csv?$limit=160000\",\n",
    "    \"outcome\": \"https://data.austintexas.gov/resource/9t4d-g238.csv?$limit=160000\"\n",
    "    }\n",
    "intake, outcome = get_data(urls)"
   ]
  },
  {
   "cell_type": "markdown",
   "metadata": {
    "ExecuteTime": {
     "end_time": "2023-11-30T19:05:11.599993Z",
     "start_time": "2023-11-30T19:05:10.372430Z"
    },
    "collapsed": false
   },
   "source": [
    "### **Check number of rows, columns, and duplicated rows**"
   ]
  },
  {
   "cell_type": "code",
   "execution_count": 3,
   "metadata": {
    "ExecuteTime": {
     "end_time": "2023-12-02T04:13:19.250583Z",
     "start_time": "2023-12-02T04:13:18.861731Z"
    }
   },
   "outputs": [
    {
     "name": "stdout",
     "output_type": "stream",
     "text": [
      "INTAKE  data: 157656 rows | 12 columns | 30 duplicated rows\n",
      "OUTCOME data: 157593 rows | 12 columns | 23 duplicated rows\n"
     ]
    }
   ],
   "source": [
    "print(f\"INTAKE  data: {intake.shape[0]} rows | {intake.shape[1]} columns | {intake.duplicated().sum()} duplicated rows\")\n",
    "print(f\"OUTCOME data: {outcome.shape[0]} rows | {outcome.shape[1]} columns | {outcome.duplicated().sum()} duplicated rows\")"
   ]
  },
  {
   "cell_type": "markdown",
   "metadata": {
    "ExecuteTime": {
     "start_time": "2023-11-30T19:04:43.530233Z"
    },
    "collapsed": false
   },
   "source": [
    "### **Drop duplicates**"
   ]
  },
  {
   "cell_type": "code",
   "execution_count": 4,
   "metadata": {
    "ExecuteTime": {
     "end_time": "2023-12-02T04:13:19.651728Z",
     "start_time": "2023-12-02T04:13:19.259560Z"
    },
    "collapsed": false
   },
   "outputs": [],
   "source": [
    "intake.drop_duplicates(inplace=True)\n",
    "outcome.drop_duplicates(inplace=True)"
   ]
  },
  {
   "cell_type": "markdown",
   "metadata": {
    "ExecuteTime": {
     "start_time": "2023-11-30T19:04:43.532119Z"
    },
    "collapsed": false
   },
   "source": [
    "### **Check number of rows, columns, and duplicated rows after dropping duplicates**"
   ]
  },
  {
   "cell_type": "code",
   "execution_count": 5,
   "metadata": {
    "ExecuteTime": {
     "end_time": "2023-12-02T04:13:20.035513Z",
     "start_time": "2023-12-02T04:13:19.658202Z"
    },
    "collapsed": false
   },
   "outputs": [
    {
     "name": "stdout",
     "output_type": "stream",
     "text": [
      "INTAKE  data: 157626 rows | 12 columns | 0 duplicated rows\n",
      "OUTCOME data: 157570 rows | 12 columns | 0 duplicated rows\n"
     ]
    }
   ],
   "source": [
    "print(f\"INTAKE  data: {intake.shape[0]} rows | {intake.shape[1]} columns | {intake.duplicated().sum()} duplicated rows\")\n",
    "print(f\"OUTCOME data: {outcome.shape[0]} rows | {outcome.shape[1]} columns | {outcome.duplicated().sum()} duplicated rows\")"
   ]
  },
  {
   "cell_type": "markdown",
   "metadata": {
    "ExecuteTime": {
     "start_time": "2023-11-30T19:04:43.533968Z"
    }
   },
   "source": [
    "### **Remove `datetime2` in `intake` data and `monthyear` in `outcome` data**"
   ]
  },
  {
   "cell_type": "code",
   "execution_count": 8,
   "metadata": {
    "ExecuteTime": {
     "end_time": "2023-12-02T04:13:20.075306Z",
     "start_time": "2023-12-02T04:13:20.039766Z"
    }
   },
   "outputs": [],
   "source": [
    "intake.drop(\"datetime2\", axis=1, inplace = True)\n",
    "outcome.drop(\"monthyear\", axis=1, inplace = True)"
   ]
  },
  {
   "cell_type": "code",
   "execution_count": 9,
   "metadata": {
    "ExecuteTime": {
     "end_time": "2023-12-02T04:13:20.091790Z",
     "start_time": "2023-12-02T04:13:20.067510Z"
    }
   },
   "outputs": [
    {
     "data": {
      "text/html": [
       "<div>\n",
       "<style scoped>\n",
       "    .dataframe tbody tr th:only-of-type {\n",
       "        vertical-align: middle;\n",
       "    }\n",
       "\n",
       "    .dataframe tbody tr th {\n",
       "        vertical-align: top;\n",
       "    }\n",
       "\n",
       "    .dataframe thead th {\n",
       "        text-align: right;\n",
       "    }\n",
       "</style>\n",
       "<table border=\"1\" class=\"dataframe\">\n",
       "  <thead>\n",
       "    <tr style=\"text-align: right;\">\n",
       "      <th></th>\n",
       "      <th>animal_id</th>\n",
       "      <th>name</th>\n",
       "      <th>datetime</th>\n",
       "      <th>found_location</th>\n",
       "      <th>intake_type</th>\n",
       "      <th>intake_condition</th>\n",
       "      <th>animal_type</th>\n",
       "      <th>sex_upon_intake</th>\n",
       "      <th>age_upon_intake</th>\n",
       "      <th>breed</th>\n",
       "      <th>color</th>\n",
       "    </tr>\n",
       "  </thead>\n",
       "  <tbody>\n",
       "    <tr>\n",
       "      <th>0</th>\n",
       "      <td>A786884</td>\n",
       "      <td>*Brock</td>\n",
       "      <td>2019-01-03T16:19:00.000</td>\n",
       "      <td>2501 Magin Meadow Dr in Austin (TX)</td>\n",
       "      <td>Stray</td>\n",
       "      <td>Normal</td>\n",
       "      <td>Dog</td>\n",
       "      <td>Neutered Male</td>\n",
       "      <td>2 years</td>\n",
       "      <td>Beagle Mix</td>\n",
       "      <td>Tricolor</td>\n",
       "    </tr>\n",
       "    <tr>\n",
       "      <th>1</th>\n",
       "      <td>A706918</td>\n",
       "      <td>Belle</td>\n",
       "      <td>2015-07-05T12:59:00.000</td>\n",
       "      <td>9409 Bluegrass Dr in Austin (TX)</td>\n",
       "      <td>Stray</td>\n",
       "      <td>Normal</td>\n",
       "      <td>Dog</td>\n",
       "      <td>Spayed Female</td>\n",
       "      <td>8 years</td>\n",
       "      <td>English Springer Spaniel</td>\n",
       "      <td>White/Liver</td>\n",
       "    </tr>\n",
       "    <tr>\n",
       "      <th>2</th>\n",
       "      <td>A724273</td>\n",
       "      <td>Runster</td>\n",
       "      <td>2016-04-14T18:43:00.000</td>\n",
       "      <td>2818 Palomino Trail in Austin (TX)</td>\n",
       "      <td>Stray</td>\n",
       "      <td>Normal</td>\n",
       "      <td>Dog</td>\n",
       "      <td>Intact Male</td>\n",
       "      <td>11 months</td>\n",
       "      <td>Basenji Mix</td>\n",
       "      <td>Sable/White</td>\n",
       "    </tr>\n",
       "    <tr>\n",
       "      <th>3</th>\n",
       "      <td>A857105</td>\n",
       "      <td>Johnny Ringo</td>\n",
       "      <td>2022-05-12T00:23:00.000</td>\n",
       "      <td>4404 Sarasota Drive in Austin (TX)</td>\n",
       "      <td>Public Assist</td>\n",
       "      <td>Normal</td>\n",
       "      <td>Cat</td>\n",
       "      <td>Neutered Male</td>\n",
       "      <td>2 years</td>\n",
       "      <td>Domestic Shorthair</td>\n",
       "      <td>Orange Tabby</td>\n",
       "    </tr>\n",
       "    <tr>\n",
       "      <th>4</th>\n",
       "      <td>A682524</td>\n",
       "      <td>Rio</td>\n",
       "      <td>2014-06-29T10:38:00.000</td>\n",
       "      <td>800 Grove Blvd in Austin (TX)</td>\n",
       "      <td>Stray</td>\n",
       "      <td>Normal</td>\n",
       "      <td>Dog</td>\n",
       "      <td>Neutered Male</td>\n",
       "      <td>4 years</td>\n",
       "      <td>Doberman Pinsch/Australian Cattle Dog</td>\n",
       "      <td>Tan/Gray</td>\n",
       "    </tr>\n",
       "  </tbody>\n",
       "</table>\n",
       "</div>"
      ],
      "text/plain": [
       "  animal_id          name                 datetime  \\\n",
       "0   A786884        *Brock  2019-01-03T16:19:00.000   \n",
       "1   A706918         Belle  2015-07-05T12:59:00.000   \n",
       "2   A724273       Runster  2016-04-14T18:43:00.000   \n",
       "3   A857105  Johnny Ringo  2022-05-12T00:23:00.000   \n",
       "4   A682524           Rio  2014-06-29T10:38:00.000   \n",
       "\n",
       "                        found_location    intake_type intake_condition  \\\n",
       "0  2501 Magin Meadow Dr in Austin (TX)          Stray           Normal   \n",
       "1     9409 Bluegrass Dr in Austin (TX)          Stray           Normal   \n",
       "2   2818 Palomino Trail in Austin (TX)          Stray           Normal   \n",
       "3   4404 Sarasota Drive in Austin (TX)  Public Assist           Normal   \n",
       "4        800 Grove Blvd in Austin (TX)          Stray           Normal   \n",
       "\n",
       "  animal_type sex_upon_intake age_upon_intake  \\\n",
       "0         Dog   Neutered Male         2 years   \n",
       "1         Dog   Spayed Female         8 years   \n",
       "2         Dog     Intact Male       11 months   \n",
       "3         Cat   Neutered Male         2 years   \n",
       "4         Dog   Neutered Male         4 years   \n",
       "\n",
       "                                   breed         color  \n",
       "0                             Beagle Mix      Tricolor  \n",
       "1               English Springer Spaniel   White/Liver  \n",
       "2                            Basenji Mix   Sable/White  \n",
       "3                     Domestic Shorthair  Orange Tabby  \n",
       "4  Doberman Pinsch/Australian Cattle Dog      Tan/Gray  "
      ]
     },
     "execution_count": 9,
     "metadata": {},
     "output_type": "execute_result"
    }
   ],
   "source": [
    "intake.head()"
   ]
  },
  {
   "cell_type": "code",
   "execution_count": 10,
   "metadata": {
    "ExecuteTime": {
     "end_time": "2023-12-02T04:13:20.092128Z",
     "start_time": "2023-12-02T04:13:20.083697Z"
    }
   },
   "outputs": [
    {
     "data": {
      "text/html": [
       "<div>\n",
       "<style scoped>\n",
       "    .dataframe tbody tr th:only-of-type {\n",
       "        vertical-align: middle;\n",
       "    }\n",
       "\n",
       "    .dataframe tbody tr th {\n",
       "        vertical-align: top;\n",
       "    }\n",
       "\n",
       "    .dataframe thead th {\n",
       "        text-align: right;\n",
       "    }\n",
       "</style>\n",
       "<table border=\"1\" class=\"dataframe\">\n",
       "  <thead>\n",
       "    <tr style=\"text-align: right;\">\n",
       "      <th></th>\n",
       "      <th>animal_id</th>\n",
       "      <th>name</th>\n",
       "      <th>datetime</th>\n",
       "      <th>date_of_birth</th>\n",
       "      <th>outcome_type</th>\n",
       "      <th>outcome_subtype</th>\n",
       "      <th>animal_type</th>\n",
       "      <th>sex_upon_outcome</th>\n",
       "      <th>age_upon_outcome</th>\n",
       "      <th>breed</th>\n",
       "      <th>color</th>\n",
       "    </tr>\n",
       "  </thead>\n",
       "  <tbody>\n",
       "    <tr>\n",
       "      <th>0</th>\n",
       "      <td>A794011</td>\n",
       "      <td>Chunk</td>\n",
       "      <td>2019-05-08T18:20:00.000</td>\n",
       "      <td>2017-05-02T00:00:00.000</td>\n",
       "      <td>Rto-Adopt</td>\n",
       "      <td>NaN</td>\n",
       "      <td>Cat</td>\n",
       "      <td>Neutered Male</td>\n",
       "      <td>2 years</td>\n",
       "      <td>Domestic Shorthair Mix</td>\n",
       "      <td>Brown Tabby/White</td>\n",
       "    </tr>\n",
       "    <tr>\n",
       "      <th>1</th>\n",
       "      <td>A776359</td>\n",
       "      <td>Gizmo</td>\n",
       "      <td>2018-07-18T16:02:00.000</td>\n",
       "      <td>2017-07-12T00:00:00.000</td>\n",
       "      <td>Adoption</td>\n",
       "      <td>NaN</td>\n",
       "      <td>Dog</td>\n",
       "      <td>Neutered Male</td>\n",
       "      <td>1 year</td>\n",
       "      <td>Chihuahua Shorthair Mix</td>\n",
       "      <td>White/Brown</td>\n",
       "    </tr>\n",
       "    <tr>\n",
       "      <th>2</th>\n",
       "      <td>A821648</td>\n",
       "      <td>NaN</td>\n",
       "      <td>2020-08-16T11:38:00.000</td>\n",
       "      <td>2019-08-16T00:00:00.000</td>\n",
       "      <td>Euthanasia</td>\n",
       "      <td>NaN</td>\n",
       "      <td>Other</td>\n",
       "      <td>Unknown</td>\n",
       "      <td>1 year</td>\n",
       "      <td>Raccoon</td>\n",
       "      <td>Gray</td>\n",
       "    </tr>\n",
       "    <tr>\n",
       "      <th>3</th>\n",
       "      <td>A720371</td>\n",
       "      <td>Moose</td>\n",
       "      <td>2016-02-13T17:59:00.000</td>\n",
       "      <td>2015-10-08T00:00:00.000</td>\n",
       "      <td>Adoption</td>\n",
       "      <td>NaN</td>\n",
       "      <td>Dog</td>\n",
       "      <td>Neutered Male</td>\n",
       "      <td>4 months</td>\n",
       "      <td>Anatol Shepherd/Labrador Retriever</td>\n",
       "      <td>Buff</td>\n",
       "    </tr>\n",
       "    <tr>\n",
       "      <th>4</th>\n",
       "      <td>A674754</td>\n",
       "      <td>NaN</td>\n",
       "      <td>2014-03-18T11:47:00.000</td>\n",
       "      <td>2014-03-12T00:00:00.000</td>\n",
       "      <td>Transfer</td>\n",
       "      <td>Partner</td>\n",
       "      <td>Cat</td>\n",
       "      <td>Intact Male</td>\n",
       "      <td>6 days</td>\n",
       "      <td>Domestic Shorthair Mix</td>\n",
       "      <td>Orange Tabby</td>\n",
       "    </tr>\n",
       "  </tbody>\n",
       "</table>\n",
       "</div>"
      ],
      "text/plain": [
       "  animal_id   name                 datetime            date_of_birth  \\\n",
       "0   A794011  Chunk  2019-05-08T18:20:00.000  2017-05-02T00:00:00.000   \n",
       "1   A776359  Gizmo  2018-07-18T16:02:00.000  2017-07-12T00:00:00.000   \n",
       "2   A821648    NaN  2020-08-16T11:38:00.000  2019-08-16T00:00:00.000   \n",
       "3   A720371  Moose  2016-02-13T17:59:00.000  2015-10-08T00:00:00.000   \n",
       "4   A674754    NaN  2014-03-18T11:47:00.000  2014-03-12T00:00:00.000   \n",
       "\n",
       "  outcome_type outcome_subtype animal_type sex_upon_outcome age_upon_outcome  \\\n",
       "0    Rto-Adopt             NaN         Cat    Neutered Male          2 years   \n",
       "1     Adoption             NaN         Dog    Neutered Male           1 year   \n",
       "2   Euthanasia             NaN       Other          Unknown           1 year   \n",
       "3     Adoption             NaN         Dog    Neutered Male         4 months   \n",
       "4     Transfer         Partner         Cat      Intact Male           6 days   \n",
       "\n",
       "                                breed              color  \n",
       "0              Domestic Shorthair Mix  Brown Tabby/White  \n",
       "1             Chihuahua Shorthair Mix        White/Brown  \n",
       "2                             Raccoon               Gray  \n",
       "3  Anatol Shepherd/Labrador Retriever               Buff  \n",
       "4              Domestic Shorthair Mix       Orange Tabby  "
      ]
     },
     "execution_count": 10,
     "metadata": {},
     "output_type": "execute_result"
    }
   ],
   "source": [
    "outcome.head()"
   ]
  },
  {
   "cell_type": "markdown",
   "metadata": {
    "collapsed": false
   },
   "source": [
    "### **Sort data by `animal_id` and `datetime`**"
   ]
  },
  {
   "cell_type": "code",
   "execution_count": 11,
   "metadata": {
    "ExecuteTime": {
     "end_time": "2023-12-02T04:13:20.906354Z",
     "start_time": "2023-12-02T04:13:20.091022Z"
    }
   },
   "outputs": [],
   "source": [
    "intake = intake.sort_values(by=[\"animal_id\", \"datetime\"], ascending=True).reset_index(drop=True)\n",
    "outcome = outcome.sort_values(by=[\"animal_id\", \"datetime\"], ascending=True).reset_index(drop=True)"
   ]
  },
  {
   "cell_type": "code",
   "execution_count": 12,
   "metadata": {
    "ExecuteTime": {
     "end_time": "2023-12-02T04:13:20.924142Z",
     "start_time": "2023-12-02T04:13:20.913083Z"
    }
   },
   "outputs": [
    {
     "data": {
      "text/html": [
       "<div>\n",
       "<style scoped>\n",
       "    .dataframe tbody tr th:only-of-type {\n",
       "        vertical-align: middle;\n",
       "    }\n",
       "\n",
       "    .dataframe tbody tr th {\n",
       "        vertical-align: top;\n",
       "    }\n",
       "\n",
       "    .dataframe thead th {\n",
       "        text-align: right;\n",
       "    }\n",
       "</style>\n",
       "<table border=\"1\" class=\"dataframe\">\n",
       "  <thead>\n",
       "    <tr style=\"text-align: right;\">\n",
       "      <th></th>\n",
       "      <th>animal_id</th>\n",
       "      <th>name</th>\n",
       "      <th>datetime</th>\n",
       "      <th>found_location</th>\n",
       "      <th>intake_type</th>\n",
       "      <th>intake_condition</th>\n",
       "      <th>animal_type</th>\n",
       "      <th>sex_upon_intake</th>\n",
       "      <th>age_upon_intake</th>\n",
       "      <th>breed</th>\n",
       "      <th>color</th>\n",
       "    </tr>\n",
       "  </thead>\n",
       "  <tbody>\n",
       "    <tr>\n",
       "      <th>0</th>\n",
       "      <td>A006100</td>\n",
       "      <td>Scamp</td>\n",
       "      <td>2014-03-07T14:26:00.000</td>\n",
       "      <td>8700 Research in Austin (TX)</td>\n",
       "      <td>Public Assist</td>\n",
       "      <td>Normal</td>\n",
       "      <td>Dog</td>\n",
       "      <td>Neutered Male</td>\n",
       "      <td>6 years</td>\n",
       "      <td>Spinone Italiano Mix</td>\n",
       "      <td>Yellow/White</td>\n",
       "    </tr>\n",
       "    <tr>\n",
       "      <th>1</th>\n",
       "      <td>A006100</td>\n",
       "      <td>Scamp</td>\n",
       "      <td>2014-12-19T10:21:00.000</td>\n",
       "      <td>8700 Research Blvd in Austin (TX)</td>\n",
       "      <td>Public Assist</td>\n",
       "      <td>Normal</td>\n",
       "      <td>Dog</td>\n",
       "      <td>Neutered Male</td>\n",
       "      <td>7 years</td>\n",
       "      <td>Spinone Italiano Mix</td>\n",
       "      <td>Yellow/White</td>\n",
       "    </tr>\n",
       "    <tr>\n",
       "      <th>2</th>\n",
       "      <td>A006100</td>\n",
       "      <td>Scamp</td>\n",
       "      <td>2017-12-07T14:07:00.000</td>\n",
       "      <td>Colony Creek And Hunters Trace in Austin (TX)</td>\n",
       "      <td>Stray</td>\n",
       "      <td>Normal</td>\n",
       "      <td>Dog</td>\n",
       "      <td>Neutered Male</td>\n",
       "      <td>10 years</td>\n",
       "      <td>Spinone Italiano Mix</td>\n",
       "      <td>Yellow/White</td>\n",
       "    </tr>\n",
       "    <tr>\n",
       "      <th>3</th>\n",
       "      <td>A047759</td>\n",
       "      <td>Oreo</td>\n",
       "      <td>2014-04-02T15:55:00.000</td>\n",
       "      <td>Austin (TX)</td>\n",
       "      <td>Owner Surrender</td>\n",
       "      <td>Normal</td>\n",
       "      <td>Dog</td>\n",
       "      <td>Neutered Male</td>\n",
       "      <td>10 years</td>\n",
       "      <td>Dachshund</td>\n",
       "      <td>Tricolor</td>\n",
       "    </tr>\n",
       "    <tr>\n",
       "      <th>4</th>\n",
       "      <td>A134067</td>\n",
       "      <td>Bandit</td>\n",
       "      <td>2013-11-16T09:02:00.000</td>\n",
       "      <td>12034 Research Blvd in Austin (TX)</td>\n",
       "      <td>Public Assist</td>\n",
       "      <td>Injured</td>\n",
       "      <td>Dog</td>\n",
       "      <td>Neutered Male</td>\n",
       "      <td>16 years</td>\n",
       "      <td>Shetland Sheepdog</td>\n",
       "      <td>Brown/White</td>\n",
       "    </tr>\n",
       "  </tbody>\n",
       "</table>\n",
       "</div>"
      ],
      "text/plain": [
       "  animal_id    name                 datetime  \\\n",
       "0   A006100   Scamp  2014-03-07T14:26:00.000   \n",
       "1   A006100   Scamp  2014-12-19T10:21:00.000   \n",
       "2   A006100   Scamp  2017-12-07T14:07:00.000   \n",
       "3   A047759    Oreo  2014-04-02T15:55:00.000   \n",
       "4   A134067  Bandit  2013-11-16T09:02:00.000   \n",
       "\n",
       "                                  found_location      intake_type  \\\n",
       "0                   8700 Research in Austin (TX)    Public Assist   \n",
       "1              8700 Research Blvd in Austin (TX)    Public Assist   \n",
       "2  Colony Creek And Hunters Trace in Austin (TX)            Stray   \n",
       "3                                    Austin (TX)  Owner Surrender   \n",
       "4             12034 Research Blvd in Austin (TX)    Public Assist   \n",
       "\n",
       "  intake_condition animal_type sex_upon_intake age_upon_intake  \\\n",
       "0           Normal         Dog   Neutered Male         6 years   \n",
       "1           Normal         Dog   Neutered Male         7 years   \n",
       "2           Normal         Dog   Neutered Male        10 years   \n",
       "3           Normal         Dog   Neutered Male        10 years   \n",
       "4          Injured         Dog   Neutered Male        16 years   \n",
       "\n",
       "                  breed         color  \n",
       "0  Spinone Italiano Mix  Yellow/White  \n",
       "1  Spinone Italiano Mix  Yellow/White  \n",
       "2  Spinone Italiano Mix  Yellow/White  \n",
       "3             Dachshund      Tricolor  \n",
       "4     Shetland Sheepdog   Brown/White  "
      ]
     },
     "execution_count": 12,
     "metadata": {},
     "output_type": "execute_result"
    }
   ],
   "source": [
    "intake.head()"
   ]
  },
  {
   "cell_type": "code",
   "execution_count": 13,
   "metadata": {
    "ExecuteTime": {
     "end_time": "2023-12-02T04:13:20.927372Z",
     "start_time": "2023-12-02T04:13:20.921165Z"
    }
   },
   "outputs": [
    {
     "data": {
      "text/html": [
       "<div>\n",
       "<style scoped>\n",
       "    .dataframe tbody tr th:only-of-type {\n",
       "        vertical-align: middle;\n",
       "    }\n",
       "\n",
       "    .dataframe tbody tr th {\n",
       "        vertical-align: top;\n",
       "    }\n",
       "\n",
       "    .dataframe thead th {\n",
       "        text-align: right;\n",
       "    }\n",
       "</style>\n",
       "<table border=\"1\" class=\"dataframe\">\n",
       "  <thead>\n",
       "    <tr style=\"text-align: right;\">\n",
       "      <th></th>\n",
       "      <th>animal_id</th>\n",
       "      <th>name</th>\n",
       "      <th>datetime</th>\n",
       "      <th>date_of_birth</th>\n",
       "      <th>outcome_type</th>\n",
       "      <th>outcome_subtype</th>\n",
       "      <th>animal_type</th>\n",
       "      <th>sex_upon_outcome</th>\n",
       "      <th>age_upon_outcome</th>\n",
       "      <th>breed</th>\n",
       "      <th>color</th>\n",
       "    </tr>\n",
       "  </thead>\n",
       "  <tbody>\n",
       "    <tr>\n",
       "      <th>0</th>\n",
       "      <td>A006100</td>\n",
       "      <td>Scamp</td>\n",
       "      <td>2014-03-08T17:10:00.000</td>\n",
       "      <td>2007-07-09T00:00:00.000</td>\n",
       "      <td>Return to Owner</td>\n",
       "      <td>NaN</td>\n",
       "      <td>Dog</td>\n",
       "      <td>Neutered Male</td>\n",
       "      <td>6 years</td>\n",
       "      <td>Spinone Italiano Mix</td>\n",
       "      <td>Yellow/White</td>\n",
       "    </tr>\n",
       "    <tr>\n",
       "      <th>1</th>\n",
       "      <td>A006100</td>\n",
       "      <td>Scamp</td>\n",
       "      <td>2014-12-20T16:35:00.000</td>\n",
       "      <td>2007-07-09T00:00:00.000</td>\n",
       "      <td>Return to Owner</td>\n",
       "      <td>NaN</td>\n",
       "      <td>Dog</td>\n",
       "      <td>Neutered Male</td>\n",
       "      <td>7 years</td>\n",
       "      <td>Spinone Italiano Mix</td>\n",
       "      <td>Yellow/White</td>\n",
       "    </tr>\n",
       "    <tr>\n",
       "      <th>2</th>\n",
       "      <td>A006100</td>\n",
       "      <td>Scamp</td>\n",
       "      <td>2017-12-07T00:00:00.000</td>\n",
       "      <td>2007-07-09T00:00:00.000</td>\n",
       "      <td>Return to Owner</td>\n",
       "      <td>NaN</td>\n",
       "      <td>Dog</td>\n",
       "      <td>Neutered Male</td>\n",
       "      <td>10 years</td>\n",
       "      <td>Spinone Italiano Mix</td>\n",
       "      <td>Yellow/White</td>\n",
       "    </tr>\n",
       "    <tr>\n",
       "      <th>3</th>\n",
       "      <td>A047759</td>\n",
       "      <td>Oreo</td>\n",
       "      <td>2014-04-07T15:12:00.000</td>\n",
       "      <td>2004-04-02T00:00:00.000</td>\n",
       "      <td>Transfer</td>\n",
       "      <td>Partner</td>\n",
       "      <td>Dog</td>\n",
       "      <td>Neutered Male</td>\n",
       "      <td>10 years</td>\n",
       "      <td>Dachshund</td>\n",
       "      <td>Tricolor</td>\n",
       "    </tr>\n",
       "    <tr>\n",
       "      <th>4</th>\n",
       "      <td>A134067</td>\n",
       "      <td>Bandit</td>\n",
       "      <td>2013-11-16T11:54:00.000</td>\n",
       "      <td>1997-10-16T00:00:00.000</td>\n",
       "      <td>Return to Owner</td>\n",
       "      <td>NaN</td>\n",
       "      <td>Dog</td>\n",
       "      <td>Neutered Male</td>\n",
       "      <td>16 years</td>\n",
       "      <td>Shetland Sheepdog</td>\n",
       "      <td>Brown/White</td>\n",
       "    </tr>\n",
       "  </tbody>\n",
       "</table>\n",
       "</div>"
      ],
      "text/plain": [
       "  animal_id    name                 datetime            date_of_birth  \\\n",
       "0   A006100   Scamp  2014-03-08T17:10:00.000  2007-07-09T00:00:00.000   \n",
       "1   A006100   Scamp  2014-12-20T16:35:00.000  2007-07-09T00:00:00.000   \n",
       "2   A006100   Scamp  2017-12-07T00:00:00.000  2007-07-09T00:00:00.000   \n",
       "3   A047759    Oreo  2014-04-07T15:12:00.000  2004-04-02T00:00:00.000   \n",
       "4   A134067  Bandit  2013-11-16T11:54:00.000  1997-10-16T00:00:00.000   \n",
       "\n",
       "      outcome_type outcome_subtype animal_type sex_upon_outcome  \\\n",
       "0  Return to Owner             NaN         Dog    Neutered Male   \n",
       "1  Return to Owner             NaN         Dog    Neutered Male   \n",
       "2  Return to Owner             NaN         Dog    Neutered Male   \n",
       "3         Transfer         Partner         Dog    Neutered Male   \n",
       "4  Return to Owner             NaN         Dog    Neutered Male   \n",
       "\n",
       "  age_upon_outcome                 breed         color  \n",
       "0          6 years  Spinone Italiano Mix  Yellow/White  \n",
       "1          7 years  Spinone Italiano Mix  Yellow/White  \n",
       "2         10 years  Spinone Italiano Mix  Yellow/White  \n",
       "3         10 years             Dachshund      Tricolor  \n",
       "4         16 years     Shetland Sheepdog   Brown/White  "
      ]
     },
     "execution_count": 13,
     "metadata": {},
     "output_type": "execute_result"
    }
   ],
   "source": [
    "outcome.head()"
   ]
  },
  {
   "cell_type": "markdown",
   "metadata": {
    "ExecuteTime": {
     "start_time": "2023-11-30T19:04:43.545022Z"
    }
   },
   "source": [
    "### **Change format for datetime**"
   ]
  },
  {
   "cell_type": "code",
   "execution_count": 14,
   "metadata": {
    "ExecuteTime": {
     "end_time": "2023-12-02T04:13:21.779731Z",
     "start_time": "2023-12-02T04:13:21.001482Z"
    }
   },
   "outputs": [
    {
     "data": {
      "text/html": [
       "<div>\n",
       "<style scoped>\n",
       "    .dataframe tbody tr th:only-of-type {\n",
       "        vertical-align: middle;\n",
       "    }\n",
       "\n",
       "    .dataframe tbody tr th {\n",
       "        vertical-align: top;\n",
       "    }\n",
       "\n",
       "    .dataframe thead th {\n",
       "        text-align: right;\n",
       "    }\n",
       "</style>\n",
       "<table border=\"1\" class=\"dataframe\">\n",
       "  <thead>\n",
       "    <tr style=\"text-align: right;\">\n",
       "      <th></th>\n",
       "      <th>animal_id</th>\n",
       "      <th>name</th>\n",
       "      <th>datetime</th>\n",
       "      <th>found_location</th>\n",
       "      <th>intake_type</th>\n",
       "      <th>intake_condition</th>\n",
       "      <th>animal_type</th>\n",
       "      <th>sex_upon_intake</th>\n",
       "      <th>age_upon_intake</th>\n",
       "      <th>breed</th>\n",
       "      <th>color</th>\n",
       "    </tr>\n",
       "  </thead>\n",
       "  <tbody>\n",
       "    <tr>\n",
       "      <th>0</th>\n",
       "      <td>A006100</td>\n",
       "      <td>Scamp</td>\n",
       "      <td>2014-03-07 14:26:00</td>\n",
       "      <td>8700 Research in Austin (TX)</td>\n",
       "      <td>Public Assist</td>\n",
       "      <td>Normal</td>\n",
       "      <td>Dog</td>\n",
       "      <td>Neutered Male</td>\n",
       "      <td>6 years</td>\n",
       "      <td>Spinone Italiano Mix</td>\n",
       "      <td>Yellow/White</td>\n",
       "    </tr>\n",
       "    <tr>\n",
       "      <th>1</th>\n",
       "      <td>A006100</td>\n",
       "      <td>Scamp</td>\n",
       "      <td>2014-12-19 10:21:00</td>\n",
       "      <td>8700 Research Blvd in Austin (TX)</td>\n",
       "      <td>Public Assist</td>\n",
       "      <td>Normal</td>\n",
       "      <td>Dog</td>\n",
       "      <td>Neutered Male</td>\n",
       "      <td>7 years</td>\n",
       "      <td>Spinone Italiano Mix</td>\n",
       "      <td>Yellow/White</td>\n",
       "    </tr>\n",
       "    <tr>\n",
       "      <th>2</th>\n",
       "      <td>A006100</td>\n",
       "      <td>Scamp</td>\n",
       "      <td>2017-12-07 14:07:00</td>\n",
       "      <td>Colony Creek And Hunters Trace in Austin (TX)</td>\n",
       "      <td>Stray</td>\n",
       "      <td>Normal</td>\n",
       "      <td>Dog</td>\n",
       "      <td>Neutered Male</td>\n",
       "      <td>10 years</td>\n",
       "      <td>Spinone Italiano Mix</td>\n",
       "      <td>Yellow/White</td>\n",
       "    </tr>\n",
       "    <tr>\n",
       "      <th>3</th>\n",
       "      <td>A047759</td>\n",
       "      <td>Oreo</td>\n",
       "      <td>2014-04-02 15:55:00</td>\n",
       "      <td>Austin (TX)</td>\n",
       "      <td>Owner Surrender</td>\n",
       "      <td>Normal</td>\n",
       "      <td>Dog</td>\n",
       "      <td>Neutered Male</td>\n",
       "      <td>10 years</td>\n",
       "      <td>Dachshund</td>\n",
       "      <td>Tricolor</td>\n",
       "    </tr>\n",
       "    <tr>\n",
       "      <th>4</th>\n",
       "      <td>A134067</td>\n",
       "      <td>Bandit</td>\n",
       "      <td>2013-11-16 09:02:00</td>\n",
       "      <td>12034 Research Blvd in Austin (TX)</td>\n",
       "      <td>Public Assist</td>\n",
       "      <td>Injured</td>\n",
       "      <td>Dog</td>\n",
       "      <td>Neutered Male</td>\n",
       "      <td>16 years</td>\n",
       "      <td>Shetland Sheepdog</td>\n",
       "      <td>Brown/White</td>\n",
       "    </tr>\n",
       "  </tbody>\n",
       "</table>\n",
       "</div>"
      ],
      "text/plain": [
       "  animal_id    name            datetime  \\\n",
       "0   A006100   Scamp 2014-03-07 14:26:00   \n",
       "1   A006100   Scamp 2014-12-19 10:21:00   \n",
       "2   A006100   Scamp 2017-12-07 14:07:00   \n",
       "3   A047759    Oreo 2014-04-02 15:55:00   \n",
       "4   A134067  Bandit 2013-11-16 09:02:00   \n",
       "\n",
       "                                  found_location      intake_type  \\\n",
       "0                   8700 Research in Austin (TX)    Public Assist   \n",
       "1              8700 Research Blvd in Austin (TX)    Public Assist   \n",
       "2  Colony Creek And Hunters Trace in Austin (TX)            Stray   \n",
       "3                                    Austin (TX)  Owner Surrender   \n",
       "4             12034 Research Blvd in Austin (TX)    Public Assist   \n",
       "\n",
       "  intake_condition animal_type sex_upon_intake age_upon_intake  \\\n",
       "0           Normal         Dog   Neutered Male         6 years   \n",
       "1           Normal         Dog   Neutered Male         7 years   \n",
       "2           Normal         Dog   Neutered Male        10 years   \n",
       "3           Normal         Dog   Neutered Male        10 years   \n",
       "4          Injured         Dog   Neutered Male        16 years   \n",
       "\n",
       "                  breed         color  \n",
       "0  Spinone Italiano Mix  Yellow/White  \n",
       "1  Spinone Italiano Mix  Yellow/White  \n",
       "2  Spinone Italiano Mix  Yellow/White  \n",
       "3             Dachshund      Tricolor  \n",
       "4     Shetland Sheepdog   Brown/White  "
      ]
     },
     "execution_count": 14,
     "metadata": {},
     "output_type": "execute_result"
    }
   ],
   "source": [
    "# date_format(df, col, format)\n",
    "date_format(intake, \"datetime\", \"%Y-%m-%d %H:%M\").head()"
   ]
  },
  {
   "cell_type": "code",
   "execution_count": 15,
   "metadata": {
    "ExecuteTime": {
     "end_time": "2023-12-02T04:13:22.871302Z",
     "start_time": "2023-12-02T04:13:21.781125Z"
    }
   },
   "outputs": [
    {
     "data": {
      "text/html": [
       "<div>\n",
       "<style scoped>\n",
       "    .dataframe tbody tr th:only-of-type {\n",
       "        vertical-align: middle;\n",
       "    }\n",
       "\n",
       "    .dataframe tbody tr th {\n",
       "        vertical-align: top;\n",
       "    }\n",
       "\n",
       "    .dataframe thead th {\n",
       "        text-align: right;\n",
       "    }\n",
       "</style>\n",
       "<table border=\"1\" class=\"dataframe\">\n",
       "  <thead>\n",
       "    <tr style=\"text-align: right;\">\n",
       "      <th></th>\n",
       "      <th>animal_id</th>\n",
       "      <th>name</th>\n",
       "      <th>datetime</th>\n",
       "      <th>date_of_birth</th>\n",
       "      <th>outcome_type</th>\n",
       "      <th>outcome_subtype</th>\n",
       "      <th>animal_type</th>\n",
       "      <th>sex_upon_outcome</th>\n",
       "      <th>age_upon_outcome</th>\n",
       "      <th>breed</th>\n",
       "      <th>color</th>\n",
       "    </tr>\n",
       "  </thead>\n",
       "  <tbody>\n",
       "    <tr>\n",
       "      <th>0</th>\n",
       "      <td>A006100</td>\n",
       "      <td>Scamp</td>\n",
       "      <td>2014-03-08 17:10:00</td>\n",
       "      <td>2007-07-09</td>\n",
       "      <td>Return to Owner</td>\n",
       "      <td>NaN</td>\n",
       "      <td>Dog</td>\n",
       "      <td>Neutered Male</td>\n",
       "      <td>6 years</td>\n",
       "      <td>Spinone Italiano Mix</td>\n",
       "      <td>Yellow/White</td>\n",
       "    </tr>\n",
       "    <tr>\n",
       "      <th>1</th>\n",
       "      <td>A006100</td>\n",
       "      <td>Scamp</td>\n",
       "      <td>2014-12-20 16:35:00</td>\n",
       "      <td>2007-07-09</td>\n",
       "      <td>Return to Owner</td>\n",
       "      <td>NaN</td>\n",
       "      <td>Dog</td>\n",
       "      <td>Neutered Male</td>\n",
       "      <td>7 years</td>\n",
       "      <td>Spinone Italiano Mix</td>\n",
       "      <td>Yellow/White</td>\n",
       "    </tr>\n",
       "    <tr>\n",
       "      <th>2</th>\n",
       "      <td>A006100</td>\n",
       "      <td>Scamp</td>\n",
       "      <td>2017-12-07 00:00:00</td>\n",
       "      <td>2007-07-09</td>\n",
       "      <td>Return to Owner</td>\n",
       "      <td>NaN</td>\n",
       "      <td>Dog</td>\n",
       "      <td>Neutered Male</td>\n",
       "      <td>10 years</td>\n",
       "      <td>Spinone Italiano Mix</td>\n",
       "      <td>Yellow/White</td>\n",
       "    </tr>\n",
       "    <tr>\n",
       "      <th>3</th>\n",
       "      <td>A047759</td>\n",
       "      <td>Oreo</td>\n",
       "      <td>2014-04-07 15:12:00</td>\n",
       "      <td>2004-04-02</td>\n",
       "      <td>Transfer</td>\n",
       "      <td>Partner</td>\n",
       "      <td>Dog</td>\n",
       "      <td>Neutered Male</td>\n",
       "      <td>10 years</td>\n",
       "      <td>Dachshund</td>\n",
       "      <td>Tricolor</td>\n",
       "    </tr>\n",
       "    <tr>\n",
       "      <th>4</th>\n",
       "      <td>A134067</td>\n",
       "      <td>Bandit</td>\n",
       "      <td>2013-11-16 11:54:00</td>\n",
       "      <td>1997-10-16</td>\n",
       "      <td>Return to Owner</td>\n",
       "      <td>NaN</td>\n",
       "      <td>Dog</td>\n",
       "      <td>Neutered Male</td>\n",
       "      <td>16 years</td>\n",
       "      <td>Shetland Sheepdog</td>\n",
       "      <td>Brown/White</td>\n",
       "    </tr>\n",
       "    <tr>\n",
       "      <th>...</th>\n",
       "      <td>...</td>\n",
       "      <td>...</td>\n",
       "      <td>...</td>\n",
       "      <td>...</td>\n",
       "      <td>...</td>\n",
       "      <td>...</td>\n",
       "      <td>...</td>\n",
       "      <td>...</td>\n",
       "      <td>...</td>\n",
       "      <td>...</td>\n",
       "      <td>...</td>\n",
       "    </tr>\n",
       "    <tr>\n",
       "      <th>157565</th>\n",
       "      <td>A894010</td>\n",
       "      <td>NaN</td>\n",
       "      <td>2023-12-01 16:00:00</td>\n",
       "      <td>2023-11-20</td>\n",
       "      <td>Transfer</td>\n",
       "      <td>Partner</td>\n",
       "      <td>Cat</td>\n",
       "      <td>Unknown</td>\n",
       "      <td>1 weeks</td>\n",
       "      <td>Domestic Shorthair</td>\n",
       "      <td>Black</td>\n",
       "    </tr>\n",
       "    <tr>\n",
       "      <th>157566</th>\n",
       "      <td>A894011</td>\n",
       "      <td>NaN</td>\n",
       "      <td>2023-12-01 16:00:00</td>\n",
       "      <td>2023-11-20</td>\n",
       "      <td>Transfer</td>\n",
       "      <td>Partner</td>\n",
       "      <td>Cat</td>\n",
       "      <td>Unknown</td>\n",
       "      <td>1 weeks</td>\n",
       "      <td>Domestic Shorthair</td>\n",
       "      <td>Black</td>\n",
       "    </tr>\n",
       "    <tr>\n",
       "      <th>157567</th>\n",
       "      <td>A894012</td>\n",
       "      <td>NaN</td>\n",
       "      <td>2023-12-01 16:00:00</td>\n",
       "      <td>2023-11-20</td>\n",
       "      <td>Transfer</td>\n",
       "      <td>Partner</td>\n",
       "      <td>Cat</td>\n",
       "      <td>Unknown</td>\n",
       "      <td>1 weeks</td>\n",
       "      <td>Domestic Shorthair</td>\n",
       "      <td>Black</td>\n",
       "    </tr>\n",
       "    <tr>\n",
       "      <th>157568</th>\n",
       "      <td>A894054</td>\n",
       "      <td>Dawn</td>\n",
       "      <td>2023-12-02 13:03:00</td>\n",
       "      <td>2022-12-02</td>\n",
       "      <td>Rto-Adopt</td>\n",
       "      <td>NaN</td>\n",
       "      <td>Dog</td>\n",
       "      <td>Intact Female</td>\n",
       "      <td>1 year</td>\n",
       "      <td>Chihuahua Shorthair</td>\n",
       "      <td>Tan</td>\n",
       "    </tr>\n",
       "    <tr>\n",
       "      <th>157569</th>\n",
       "      <td>A894181</td>\n",
       "      <td>Lucky</td>\n",
       "      <td>2023-12-04 18:13:00</td>\n",
       "      <td>2021-12-04</td>\n",
       "      <td>Return to Owner</td>\n",
       "      <td>NaN</td>\n",
       "      <td>Dog</td>\n",
       "      <td>Intact Male</td>\n",
       "      <td>2 years</td>\n",
       "      <td>German Shepherd Mix</td>\n",
       "      <td>Black/Tan</td>\n",
       "    </tr>\n",
       "  </tbody>\n",
       "</table>\n",
       "<p>157570 rows × 11 columns</p>\n",
       "</div>"
      ],
      "text/plain": [
       "       animal_id    name            datetime date_of_birth     outcome_type  \\\n",
       "0        A006100   Scamp 2014-03-08 17:10:00    2007-07-09  Return to Owner   \n",
       "1        A006100   Scamp 2014-12-20 16:35:00    2007-07-09  Return to Owner   \n",
       "2        A006100   Scamp 2017-12-07 00:00:00    2007-07-09  Return to Owner   \n",
       "3        A047759    Oreo 2014-04-07 15:12:00    2004-04-02         Transfer   \n",
       "4        A134067  Bandit 2013-11-16 11:54:00    1997-10-16  Return to Owner   \n",
       "...          ...     ...                 ...           ...              ...   \n",
       "157565   A894010     NaN 2023-12-01 16:00:00    2023-11-20         Transfer   \n",
       "157566   A894011     NaN 2023-12-01 16:00:00    2023-11-20         Transfer   \n",
       "157567   A894012     NaN 2023-12-01 16:00:00    2023-11-20         Transfer   \n",
       "157568   A894054    Dawn 2023-12-02 13:03:00    2022-12-02        Rto-Adopt   \n",
       "157569   A894181   Lucky 2023-12-04 18:13:00    2021-12-04  Return to Owner   \n",
       "\n",
       "       outcome_subtype animal_type sex_upon_outcome age_upon_outcome  \\\n",
       "0                  NaN         Dog    Neutered Male          6 years   \n",
       "1                  NaN         Dog    Neutered Male          7 years   \n",
       "2                  NaN         Dog    Neutered Male         10 years   \n",
       "3              Partner         Dog    Neutered Male         10 years   \n",
       "4                  NaN         Dog    Neutered Male         16 years   \n",
       "...                ...         ...              ...              ...   \n",
       "157565         Partner         Cat          Unknown          1 weeks   \n",
       "157566         Partner         Cat          Unknown          1 weeks   \n",
       "157567         Partner         Cat          Unknown          1 weeks   \n",
       "157568             NaN         Dog    Intact Female           1 year   \n",
       "157569             NaN         Dog      Intact Male          2 years   \n",
       "\n",
       "                       breed         color  \n",
       "0       Spinone Italiano Mix  Yellow/White  \n",
       "1       Spinone Italiano Mix  Yellow/White  \n",
       "2       Spinone Italiano Mix  Yellow/White  \n",
       "3                  Dachshund      Tricolor  \n",
       "4          Shetland Sheepdog   Brown/White  \n",
       "...                      ...           ...  \n",
       "157565    Domestic Shorthair         Black  \n",
       "157566    Domestic Shorthair         Black  \n",
       "157567    Domestic Shorthair         Black  \n",
       "157568   Chihuahua Shorthair           Tan  \n",
       "157569   German Shepherd Mix     Black/Tan  \n",
       "\n",
       "[157570 rows x 11 columns]"
      ]
     },
     "execution_count": 15,
     "metadata": {},
     "output_type": "execute_result"
    }
   ],
   "source": [
    "date_format(outcome, \"datetime\", \"%Y-%m-%d %H:%M\")\n",
    "date_format(outcome, \"date_of_birth\", \"%Y-%m-%d\")"
   ]
  },
  {
   "cell_type": "markdown",
   "metadata": {
    "ExecuteTime": {
     "start_time": "2023-11-30T19:04:43.548376Z"
    },
    "collapsed": false
   },
   "source": [
    "### **Check column names before merging dataframes**"
   ]
  },
  {
   "cell_type": "code",
   "execution_count": 16,
   "metadata": {
    "ExecuteTime": {
     "end_time": "2023-12-02T04:13:22.871569Z",
     "start_time": "2023-12-02T04:13:22.866760Z"
    },
    "collapsed": false
   },
   "outputs": [
    {
     "data": {
      "text/plain": [
       "Index(['animal_id', 'name', 'datetime', 'found_location', 'intake_type',\n",
       "       'intake_condition', 'animal_type', 'sex_upon_intake', 'age_upon_intake',\n",
       "       'breed', 'color'],\n",
       "      dtype='object')"
      ]
     },
     "execution_count": 16,
     "metadata": {},
     "output_type": "execute_result"
    }
   ],
   "source": [
    "intake.columns"
   ]
  },
  {
   "cell_type": "code",
   "execution_count": 17,
   "metadata": {
    "ExecuteTime": {
     "end_time": "2023-12-02T04:13:22.875313Z",
     "start_time": "2023-12-02T04:13:22.871432Z"
    },
    "collapsed": false
   },
   "outputs": [
    {
     "data": {
      "text/plain": [
       "Index(['animal_id', 'name', 'datetime', 'date_of_birth', 'outcome_type',\n",
       "       'outcome_subtype', 'animal_type', 'sex_upon_outcome',\n",
       "       'age_upon_outcome', 'breed', 'color'],\n",
       "      dtype='object')"
      ]
     },
     "execution_count": 17,
     "metadata": {},
     "output_type": "execute_result"
    }
   ],
   "source": [
    "outcome.columns"
   ]
  },
  {
   "cell_type": "markdown",
   "metadata": {
    "ExecuteTime": {
     "start_time": "2023-11-30T19:04:43.551335Z"
    },
    "collapsed": false
   },
   "source": [
    "### **Drop duplicated columns in outcome data**\n",
    "`name`, `animal_type`, `breed`, and `color` are columns that exist in both data"
   ]
  },
  {
   "cell_type": "code",
   "execution_count": 18,
   "metadata": {
    "ExecuteTime": {
     "end_time": "2023-12-02T04:13:22.898726Z",
     "start_time": "2023-12-02T04:13:22.878754Z"
    },
    "collapsed": false
   },
   "outputs": [],
   "source": [
    "outcome.drop([\"name\", \"animal_type\", \"breed\", \"color\"],\n",
    "             inplace=True,\n",
    "             axis=1)"
   ]
  },
  {
   "cell_type": "markdown",
   "metadata": {
    "collapsed": false
   },
   "source": [
    "### **Merge dataframes**"
   ]
  },
  {
   "cell_type": "code",
   "execution_count": 19,
   "metadata": {
    "ExecuteTime": {
     "end_time": "2023-12-02T04:13:40.886202Z",
     "start_time": "2023-12-02T04:13:22.885616Z"
    },
    "collapsed": false
   },
   "outputs": [
    {
     "data": {
      "text/html": [
       "<div>\n",
       "<style scoped>\n",
       "    .dataframe tbody tr th:only-of-type {\n",
       "        vertical-align: middle;\n",
       "    }\n",
       "\n",
       "    .dataframe tbody tr th {\n",
       "        vertical-align: top;\n",
       "    }\n",
       "\n",
       "    .dataframe thead th {\n",
       "        text-align: right;\n",
       "    }\n",
       "</style>\n",
       "<table border=\"1\" class=\"dataframe\">\n",
       "  <thead>\n",
       "    <tr style=\"text-align: right;\">\n",
       "      <th></th>\n",
       "      <th>animal_id</th>\n",
       "      <th>name</th>\n",
       "      <th>datetime_intake</th>\n",
       "      <th>found_location</th>\n",
       "      <th>intake_type</th>\n",
       "      <th>intake_condition</th>\n",
       "      <th>animal_type</th>\n",
       "      <th>sex_upon_intake</th>\n",
       "      <th>age_upon_intake</th>\n",
       "      <th>breed</th>\n",
       "      <th>color</th>\n",
       "      <th>datetime_outcome</th>\n",
       "      <th>datetime_outcome</th>\n",
       "      <th>date_of_birth</th>\n",
       "      <th>outcome_type</th>\n",
       "      <th>outcome_subtype</th>\n",
       "      <th>sex_upon_outcome</th>\n",
       "      <th>age_upon_outcome</th>\n",
       "    </tr>\n",
       "  </thead>\n",
       "  <tbody>\n",
       "    <tr>\n",
       "      <th>0</th>\n",
       "      <td>A006100</td>\n",
       "      <td>Scamp</td>\n",
       "      <td>2014-03-07 14:26:00</td>\n",
       "      <td>8700 Research in Austin (TX)</td>\n",
       "      <td>Public Assist</td>\n",
       "      <td>Normal</td>\n",
       "      <td>Dog</td>\n",
       "      <td>Neutered Male</td>\n",
       "      <td>6 years</td>\n",
       "      <td>Spinone Italiano Mix</td>\n",
       "      <td>Yellow/White</td>\n",
       "      <td>2014-03-08 17:10:00</td>\n",
       "      <td>2014-03-08 17:10:00</td>\n",
       "      <td>2007-07-09</td>\n",
       "      <td>Return to Owner</td>\n",
       "      <td>NaN</td>\n",
       "      <td>Neutered Male</td>\n",
       "      <td>6 years</td>\n",
       "    </tr>\n",
       "    <tr>\n",
       "      <th>1</th>\n",
       "      <td>A006100</td>\n",
       "      <td>Scamp</td>\n",
       "      <td>2014-12-19 10:21:00</td>\n",
       "      <td>8700 Research Blvd in Austin (TX)</td>\n",
       "      <td>Public Assist</td>\n",
       "      <td>Normal</td>\n",
       "      <td>Dog</td>\n",
       "      <td>Neutered Male</td>\n",
       "      <td>7 years</td>\n",
       "      <td>Spinone Italiano Mix</td>\n",
       "      <td>Yellow/White</td>\n",
       "      <td>2014-12-20 16:35:00</td>\n",
       "      <td>2014-12-20 16:35:00</td>\n",
       "      <td>2007-07-09</td>\n",
       "      <td>Return to Owner</td>\n",
       "      <td>NaN</td>\n",
       "      <td>Neutered Male</td>\n",
       "      <td>7 years</td>\n",
       "    </tr>\n",
       "    <tr>\n",
       "      <th>2</th>\n",
       "      <td>A006100</td>\n",
       "      <td>Scamp</td>\n",
       "      <td>2017-12-07 14:07:00</td>\n",
       "      <td>Colony Creek And Hunters Trace in Austin (TX)</td>\n",
       "      <td>Stray</td>\n",
       "      <td>Normal</td>\n",
       "      <td>Dog</td>\n",
       "      <td>Neutered Male</td>\n",
       "      <td>10 years</td>\n",
       "      <td>Spinone Italiano Mix</td>\n",
       "      <td>Yellow/White</td>\n",
       "      <td>2017-12-07 00:00:00</td>\n",
       "      <td>2017-12-07 00:00:00</td>\n",
       "      <td>2007-07-09</td>\n",
       "      <td>Return to Owner</td>\n",
       "      <td>NaN</td>\n",
       "      <td>Neutered Male</td>\n",
       "      <td>10 years</td>\n",
       "    </tr>\n",
       "    <tr>\n",
       "      <th>3</th>\n",
       "      <td>A047759</td>\n",
       "      <td>Oreo</td>\n",
       "      <td>2014-04-02 15:55:00</td>\n",
       "      <td>Austin (TX)</td>\n",
       "      <td>Owner Surrender</td>\n",
       "      <td>Normal</td>\n",
       "      <td>Dog</td>\n",
       "      <td>Neutered Male</td>\n",
       "      <td>10 years</td>\n",
       "      <td>Dachshund</td>\n",
       "      <td>Tricolor</td>\n",
       "      <td>2014-04-07 15:12:00</td>\n",
       "      <td>2014-04-07 15:12:00</td>\n",
       "      <td>2004-04-02</td>\n",
       "      <td>Transfer</td>\n",
       "      <td>Partner</td>\n",
       "      <td>Neutered Male</td>\n",
       "      <td>10 years</td>\n",
       "    </tr>\n",
       "    <tr>\n",
       "      <th>4</th>\n",
       "      <td>A134067</td>\n",
       "      <td>Bandit</td>\n",
       "      <td>2013-11-16 09:02:00</td>\n",
       "      <td>12034 Research Blvd in Austin (TX)</td>\n",
       "      <td>Public Assist</td>\n",
       "      <td>Injured</td>\n",
       "      <td>Dog</td>\n",
       "      <td>Neutered Male</td>\n",
       "      <td>16 years</td>\n",
       "      <td>Shetland Sheepdog</td>\n",
       "      <td>Brown/White</td>\n",
       "      <td>2013-11-16 11:54:00</td>\n",
       "      <td>2013-11-16 11:54:00</td>\n",
       "      <td>1997-10-16</td>\n",
       "      <td>Return to Owner</td>\n",
       "      <td>NaN</td>\n",
       "      <td>Neutered Male</td>\n",
       "      <td>16 years</td>\n",
       "    </tr>\n",
       "  </tbody>\n",
       "</table>\n",
       "</div>"
      ],
      "text/plain": [
       "  animal_id    name     datetime_intake  \\\n",
       "0   A006100   Scamp 2014-03-07 14:26:00   \n",
       "1   A006100   Scamp 2014-12-19 10:21:00   \n",
       "2   A006100   Scamp 2017-12-07 14:07:00   \n",
       "3   A047759    Oreo 2014-04-02 15:55:00   \n",
       "4   A134067  Bandit 2013-11-16 09:02:00   \n",
       "\n",
       "                                  found_location      intake_type  \\\n",
       "0                   8700 Research in Austin (TX)    Public Assist   \n",
       "1              8700 Research Blvd in Austin (TX)    Public Assist   \n",
       "2  Colony Creek And Hunters Trace in Austin (TX)            Stray   \n",
       "3                                    Austin (TX)  Owner Surrender   \n",
       "4             12034 Research Blvd in Austin (TX)    Public Assist   \n",
       "\n",
       "  intake_condition animal_type sex_upon_intake age_upon_intake  \\\n",
       "0           Normal         Dog   Neutered Male         6 years   \n",
       "1           Normal         Dog   Neutered Male         7 years   \n",
       "2           Normal         Dog   Neutered Male        10 years   \n",
       "3           Normal         Dog   Neutered Male        10 years   \n",
       "4          Injured         Dog   Neutered Male        16 years   \n",
       "\n",
       "                  breed         color    datetime_outcome    datetime_outcome  \\\n",
       "0  Spinone Italiano Mix  Yellow/White 2014-03-08 17:10:00 2014-03-08 17:10:00   \n",
       "1  Spinone Italiano Mix  Yellow/White 2014-12-20 16:35:00 2014-12-20 16:35:00   \n",
       "2  Spinone Italiano Mix  Yellow/White 2017-12-07 00:00:00 2017-12-07 00:00:00   \n",
       "3             Dachshund      Tricolor 2014-04-07 15:12:00 2014-04-07 15:12:00   \n",
       "4     Shetland Sheepdog   Brown/White 2013-11-16 11:54:00 2013-11-16 11:54:00   \n",
       "\n",
       "  date_of_birth     outcome_type outcome_subtype sex_upon_outcome  \\\n",
       "0    2007-07-09  Return to Owner             NaN    Neutered Male   \n",
       "1    2007-07-09  Return to Owner             NaN    Neutered Male   \n",
       "2    2007-07-09  Return to Owner             NaN    Neutered Male   \n",
       "3    2004-04-02         Transfer         Partner    Neutered Male   \n",
       "4    1997-10-16  Return to Owner             NaN    Neutered Male   \n",
       "\n",
       "  age_upon_outcome  \n",
       "0          6 years  \n",
       "1          7 years  \n",
       "2         10 years  \n",
       "3         10 years  \n",
       "4         16 years  "
      ]
     },
     "execution_count": 19,
     "metadata": {},
     "output_type": "execute_result"
    }
   ],
   "source": [
    "intake_n_outcome = merge_intake_n_outcome(intake, outcome)\n",
    "intake_n_outcome.head()"
   ]
  },
  {
   "cell_type": "markdown",
   "metadata": {
    "ExecuteTime": {
     "start_time": "2023-11-30T19:04:43.553245Z"
    },
    "collapsed": false
   },
   "source": [
    "In certain cases, an animal's information may be entered multiple times due to updates in basic details such as `intake_type` or `intake_condition`. Consequently, resolving the issue by solely dropping duplicates at the outset may not suffice. Instead, duplicates will be identified if rows exhibit matching values for `animal_id`, `intake_datetime`, and `outcome_datetime`."
   ]
  },
  {
   "cell_type": "code",
   "execution_count": 20,
   "metadata": {
    "ExecuteTime": {
     "end_time": "2023-12-02T04:13:41.004761Z",
     "start_time": "2023-12-02T04:13:40.898783Z"
    },
    "collapsed": false
   },
   "outputs": [
    {
     "data": {
      "text/html": [
       "<div>\n",
       "<style scoped>\n",
       "    .dataframe tbody tr th:only-of-type {\n",
       "        vertical-align: middle;\n",
       "    }\n",
       "\n",
       "    .dataframe tbody tr th {\n",
       "        vertical-align: top;\n",
       "    }\n",
       "\n",
       "    .dataframe thead th {\n",
       "        text-align: right;\n",
       "    }\n",
       "</style>\n",
       "<table border=\"1\" class=\"dataframe\">\n",
       "  <thead>\n",
       "    <tr style=\"text-align: right;\">\n",
       "      <th></th>\n",
       "      <th>animal_id</th>\n",
       "      <th>name</th>\n",
       "      <th>datetime_intake</th>\n",
       "      <th>found_location</th>\n",
       "      <th>intake_type</th>\n",
       "      <th>intake_condition</th>\n",
       "      <th>animal_type</th>\n",
       "      <th>sex_upon_intake</th>\n",
       "      <th>age_upon_intake</th>\n",
       "      <th>breed</th>\n",
       "      <th>color</th>\n",
       "      <th>datetime_outcome</th>\n",
       "      <th>date_of_birth</th>\n",
       "      <th>outcome_type</th>\n",
       "      <th>outcome_subtype</th>\n",
       "      <th>sex_upon_outcome</th>\n",
       "      <th>age_upon_outcome</th>\n",
       "    </tr>\n",
       "  </thead>\n",
       "  <tbody>\n",
       "    <tr>\n",
       "      <th>0</th>\n",
       "      <td>A006100</td>\n",
       "      <td>Scamp</td>\n",
       "      <td>2014-03-07 14:26:00</td>\n",
       "      <td>8700 Research in Austin (TX)</td>\n",
       "      <td>Public Assist</td>\n",
       "      <td>Normal</td>\n",
       "      <td>Dog</td>\n",
       "      <td>Neutered Male</td>\n",
       "      <td>6 years</td>\n",
       "      <td>Spinone Italiano Mix</td>\n",
       "      <td>Yellow/White</td>\n",
       "      <td>2014-03-08 17:10:00</td>\n",
       "      <td>2007-07-09</td>\n",
       "      <td>Return to Owner</td>\n",
       "      <td>NaN</td>\n",
       "      <td>Neutered Male</td>\n",
       "      <td>6 years</td>\n",
       "    </tr>\n",
       "    <tr>\n",
       "      <th>1</th>\n",
       "      <td>A006100</td>\n",
       "      <td>Scamp</td>\n",
       "      <td>2014-12-19 10:21:00</td>\n",
       "      <td>8700 Research Blvd in Austin (TX)</td>\n",
       "      <td>Public Assist</td>\n",
       "      <td>Normal</td>\n",
       "      <td>Dog</td>\n",
       "      <td>Neutered Male</td>\n",
       "      <td>7 years</td>\n",
       "      <td>Spinone Italiano Mix</td>\n",
       "      <td>Yellow/White</td>\n",
       "      <td>2014-12-20 16:35:00</td>\n",
       "      <td>2007-07-09</td>\n",
       "      <td>Return to Owner</td>\n",
       "      <td>NaN</td>\n",
       "      <td>Neutered Male</td>\n",
       "      <td>7 years</td>\n",
       "    </tr>\n",
       "    <tr>\n",
       "      <th>2</th>\n",
       "      <td>A006100</td>\n",
       "      <td>Scamp</td>\n",
       "      <td>2017-12-07 14:07:00</td>\n",
       "      <td>Colony Creek And Hunters Trace in Austin (TX)</td>\n",
       "      <td>Stray</td>\n",
       "      <td>Normal</td>\n",
       "      <td>Dog</td>\n",
       "      <td>Neutered Male</td>\n",
       "      <td>10 years</td>\n",
       "      <td>Spinone Italiano Mix</td>\n",
       "      <td>Yellow/White</td>\n",
       "      <td>2017-12-07 00:00:00</td>\n",
       "      <td>2007-07-09</td>\n",
       "      <td>Return to Owner</td>\n",
       "      <td>NaN</td>\n",
       "      <td>Neutered Male</td>\n",
       "      <td>10 years</td>\n",
       "    </tr>\n",
       "    <tr>\n",
       "      <th>3</th>\n",
       "      <td>A047759</td>\n",
       "      <td>Oreo</td>\n",
       "      <td>2014-04-02 15:55:00</td>\n",
       "      <td>Austin (TX)</td>\n",
       "      <td>Owner Surrender</td>\n",
       "      <td>Normal</td>\n",
       "      <td>Dog</td>\n",
       "      <td>Neutered Male</td>\n",
       "      <td>10 years</td>\n",
       "      <td>Dachshund</td>\n",
       "      <td>Tricolor</td>\n",
       "      <td>2014-04-07 15:12:00</td>\n",
       "      <td>2004-04-02</td>\n",
       "      <td>Transfer</td>\n",
       "      <td>Partner</td>\n",
       "      <td>Neutered Male</td>\n",
       "      <td>10 years</td>\n",
       "    </tr>\n",
       "    <tr>\n",
       "      <th>4</th>\n",
       "      <td>A134067</td>\n",
       "      <td>Bandit</td>\n",
       "      <td>2013-11-16 09:02:00</td>\n",
       "      <td>12034 Research Blvd in Austin (TX)</td>\n",
       "      <td>Public Assist</td>\n",
       "      <td>Injured</td>\n",
       "      <td>Dog</td>\n",
       "      <td>Neutered Male</td>\n",
       "      <td>16 years</td>\n",
       "      <td>Shetland Sheepdog</td>\n",
       "      <td>Brown/White</td>\n",
       "      <td>2013-11-16 11:54:00</td>\n",
       "      <td>1997-10-16</td>\n",
       "      <td>Return to Owner</td>\n",
       "      <td>NaN</td>\n",
       "      <td>Neutered Male</td>\n",
       "      <td>16 years</td>\n",
       "    </tr>\n",
       "  </tbody>\n",
       "</table>\n",
       "</div>"
      ],
      "text/plain": [
       "  animal_id    name     datetime_intake  \\\n",
       "0   A006100   Scamp 2014-03-07 14:26:00   \n",
       "1   A006100   Scamp 2014-12-19 10:21:00   \n",
       "2   A006100   Scamp 2017-12-07 14:07:00   \n",
       "3   A047759    Oreo 2014-04-02 15:55:00   \n",
       "4   A134067  Bandit 2013-11-16 09:02:00   \n",
       "\n",
       "                                  found_location      intake_type  \\\n",
       "0                   8700 Research in Austin (TX)    Public Assist   \n",
       "1              8700 Research Blvd in Austin (TX)    Public Assist   \n",
       "2  Colony Creek And Hunters Trace in Austin (TX)            Stray   \n",
       "3                                    Austin (TX)  Owner Surrender   \n",
       "4             12034 Research Blvd in Austin (TX)    Public Assist   \n",
       "\n",
       "  intake_condition animal_type sex_upon_intake age_upon_intake  \\\n",
       "0           Normal         Dog   Neutered Male         6 years   \n",
       "1           Normal         Dog   Neutered Male         7 years   \n",
       "2           Normal         Dog   Neutered Male        10 years   \n",
       "3           Normal         Dog   Neutered Male        10 years   \n",
       "4          Injured         Dog   Neutered Male        16 years   \n",
       "\n",
       "                  breed         color    datetime_outcome date_of_birth  \\\n",
       "0  Spinone Italiano Mix  Yellow/White 2014-03-08 17:10:00    2007-07-09   \n",
       "1  Spinone Italiano Mix  Yellow/White 2014-12-20 16:35:00    2007-07-09   \n",
       "2  Spinone Italiano Mix  Yellow/White 2017-12-07 00:00:00    2007-07-09   \n",
       "3             Dachshund      Tricolor 2014-04-07 15:12:00    2004-04-02   \n",
       "4     Shetland Sheepdog   Brown/White 2013-11-16 11:54:00    1997-10-16   \n",
       "\n",
       "      outcome_type outcome_subtype sex_upon_outcome age_upon_outcome  \n",
       "0  Return to Owner             NaN    Neutered Male          6 years  \n",
       "1  Return to Owner             NaN    Neutered Male          7 years  \n",
       "2  Return to Owner             NaN    Neutered Male         10 years  \n",
       "3         Transfer         Partner    Neutered Male         10 years  \n",
       "4  Return to Owner             NaN    Neutered Male         16 years  "
      ]
     },
     "execution_count": 20,
     "metadata": {},
     "output_type": "execute_result"
    }
   ],
   "source": [
    "intake_n_outcome.drop_duplicates(subset = [\"animal_id\", \"datetime_intake\", \"datetime_outcome\"],\n",
    "                                 inplace=True)\n",
    "intake_n_outcome = intake_n_outcome.loc[:,~intake_n_outcome.columns.duplicated()]\n",
    "intake_n_outcome.head()"
   ]
  },
  {
   "cell_type": "code",
   "execution_count": 21,
   "metadata": {
    "ExecuteTime": {
     "end_time": "2023-12-02T04:13:41.005226Z",
     "start_time": "2023-12-02T04:13:40.997144Z"
    },
    "collapsed": false
   },
   "outputs": [
    {
     "data": {
      "text/plain": [
       "Index(['animal_id', 'name', 'datetime_intake', 'found_location', 'intake_type',\n",
       "       'intake_condition', 'animal_type', 'sex_upon_intake', 'age_upon_intake',\n",
       "       'breed', 'color', 'datetime_outcome', 'date_of_birth', 'outcome_type',\n",
       "       'outcome_subtype', 'sex_upon_outcome', 'age_upon_outcome'],\n",
       "      dtype='object')"
      ]
     },
     "execution_count": 21,
     "metadata": {},
     "output_type": "execute_result"
    }
   ],
   "source": [
    "intake_n_outcome.columns"
   ]
  },
  {
   "cell_type": "markdown",
   "metadata": {
    "collapsed": false
   },
   "source": [
    "### **Reorder columns**"
   ]
  },
  {
   "cell_type": "code",
   "execution_count": 22,
   "metadata": {
    "ExecuteTime": {
     "end_time": "2023-12-02T04:13:54.120485Z",
     "start_time": "2023-12-02T04:13:52.508126Z"
    },
    "collapsed": false
   },
   "outputs": [
    {
     "data": {
      "text/html": [
       "<div>\n",
       "<style scoped>\n",
       "    .dataframe tbody tr th:only-of-type {\n",
       "        vertical-align: middle;\n",
       "    }\n",
       "\n",
       "    .dataframe tbody tr th {\n",
       "        vertical-align: top;\n",
       "    }\n",
       "\n",
       "    .dataframe thead th {\n",
       "        text-align: right;\n",
       "    }\n",
       "</style>\n",
       "<table border=\"1\" class=\"dataframe\">\n",
       "  <thead>\n",
       "    <tr style=\"text-align: right;\">\n",
       "      <th></th>\n",
       "      <th>animal_id</th>\n",
       "      <th>name</th>\n",
       "      <th>animal_type</th>\n",
       "      <th>sex_intake</th>\n",
       "      <th>sex_outcome</th>\n",
       "      <th>breed</th>\n",
       "      <th>color</th>\n",
       "      <th>date_of_birth</th>\n",
       "      <th>found_location</th>\n",
       "      <th>intake_datetime</th>\n",
       "      <th>age_upon_intake</th>\n",
       "      <th>outcome_datetime</th>\n",
       "      <th>age_upon_outcome</th>\n",
       "      <th>intake_type</th>\n",
       "      <th>intake_condition</th>\n",
       "      <th>outcome_type</th>\n",
       "      <th>outcome_subtype</th>\n",
       "    </tr>\n",
       "  </thead>\n",
       "  <tbody>\n",
       "    <tr>\n",
       "      <th>0</th>\n",
       "      <td>A006100</td>\n",
       "      <td>Scamp</td>\n",
       "      <td>Dog</td>\n",
       "      <td>Neutered Male</td>\n",
       "      <td>Neutered Male</td>\n",
       "      <td>Spinone Italiano Mix</td>\n",
       "      <td>Yellow/White</td>\n",
       "      <td>2007-07-09</td>\n",
       "      <td>8700 Research in Austin (TX)</td>\n",
       "      <td>2014-03-07 14:26:00</td>\n",
       "      <td>6 years</td>\n",
       "      <td>2014-03-08 17:10:00</td>\n",
       "      <td>6 years</td>\n",
       "      <td>Public Assist</td>\n",
       "      <td>Normal</td>\n",
       "      <td>Return to Owner</td>\n",
       "      <td>NaN</td>\n",
       "    </tr>\n",
       "    <tr>\n",
       "      <th>1</th>\n",
       "      <td>A006100</td>\n",
       "      <td>Scamp</td>\n",
       "      <td>Dog</td>\n",
       "      <td>Neutered Male</td>\n",
       "      <td>Neutered Male</td>\n",
       "      <td>Spinone Italiano Mix</td>\n",
       "      <td>Yellow/White</td>\n",
       "      <td>2007-07-09</td>\n",
       "      <td>8700 Research Blvd in Austin (TX)</td>\n",
       "      <td>2014-12-19 10:21:00</td>\n",
       "      <td>7 years</td>\n",
       "      <td>2014-12-20 16:35:00</td>\n",
       "      <td>7 years</td>\n",
       "      <td>Public Assist</td>\n",
       "      <td>Normal</td>\n",
       "      <td>Return to Owner</td>\n",
       "      <td>NaN</td>\n",
       "    </tr>\n",
       "    <tr>\n",
       "      <th>2</th>\n",
       "      <td>A006100</td>\n",
       "      <td>Scamp</td>\n",
       "      <td>Dog</td>\n",
       "      <td>Neutered Male</td>\n",
       "      <td>Neutered Male</td>\n",
       "      <td>Spinone Italiano Mix</td>\n",
       "      <td>Yellow/White</td>\n",
       "      <td>2007-07-09</td>\n",
       "      <td>Colony Creek And Hunters Trace in Austin (TX)</td>\n",
       "      <td>2017-12-07 14:07:00</td>\n",
       "      <td>10 years</td>\n",
       "      <td>2017-12-07 00:00:00</td>\n",
       "      <td>10 years</td>\n",
       "      <td>Stray</td>\n",
       "      <td>Normal</td>\n",
       "      <td>Return to Owner</td>\n",
       "      <td>NaN</td>\n",
       "    </tr>\n",
       "    <tr>\n",
       "      <th>3</th>\n",
       "      <td>A047759</td>\n",
       "      <td>Oreo</td>\n",
       "      <td>Dog</td>\n",
       "      <td>Neutered Male</td>\n",
       "      <td>Neutered Male</td>\n",
       "      <td>Dachshund</td>\n",
       "      <td>Tricolor</td>\n",
       "      <td>2004-04-02</td>\n",
       "      <td>Austin (TX)</td>\n",
       "      <td>2014-04-02 15:55:00</td>\n",
       "      <td>10 years</td>\n",
       "      <td>2014-04-07 15:12:00</td>\n",
       "      <td>10 years</td>\n",
       "      <td>Owner Surrender</td>\n",
       "      <td>Normal</td>\n",
       "      <td>Transfer</td>\n",
       "      <td>Partner</td>\n",
       "    </tr>\n",
       "    <tr>\n",
       "      <th>4</th>\n",
       "      <td>A134067</td>\n",
       "      <td>Bandit</td>\n",
       "      <td>Dog</td>\n",
       "      <td>Neutered Male</td>\n",
       "      <td>Neutered Male</td>\n",
       "      <td>Shetland Sheepdog</td>\n",
       "      <td>Brown/White</td>\n",
       "      <td>1997-10-16</td>\n",
       "      <td>12034 Research Blvd in Austin (TX)</td>\n",
       "      <td>2013-11-16 09:02:00</td>\n",
       "      <td>16 years</td>\n",
       "      <td>2013-11-16 11:54:00</td>\n",
       "      <td>16 years</td>\n",
       "      <td>Public Assist</td>\n",
       "      <td>Injured</td>\n",
       "      <td>Return to Owner</td>\n",
       "      <td>NaN</td>\n",
       "    </tr>\n",
       "    <tr>\n",
       "      <th>...</th>\n",
       "      <td>...</td>\n",
       "      <td>...</td>\n",
       "      <td>...</td>\n",
       "      <td>...</td>\n",
       "      <td>...</td>\n",
       "      <td>...</td>\n",
       "      <td>...</td>\n",
       "      <td>...</td>\n",
       "      <td>...</td>\n",
       "      <td>...</td>\n",
       "      <td>...</td>\n",
       "      <td>...</td>\n",
       "      <td>...</td>\n",
       "      <td>...</td>\n",
       "      <td>...</td>\n",
       "      <td>...</td>\n",
       "      <td>...</td>\n",
       "    </tr>\n",
       "    <tr>\n",
       "      <th>157622</th>\n",
       "      <td>A894189</td>\n",
       "      <td>Kittler</td>\n",
       "      <td>Cat</td>\n",
       "      <td>Intact Female</td>\n",
       "      <td>NaN</td>\n",
       "      <td>Domestic Shorthair Mix</td>\n",
       "      <td>Black/White</td>\n",
       "      <td>NaT</td>\n",
       "      <td>Austin (TX)</td>\n",
       "      <td>2023-12-04 17:16:00</td>\n",
       "      <td>2 years</td>\n",
       "      <td>NaT</td>\n",
       "      <td>NaN</td>\n",
       "      <td>Owner Surrender</td>\n",
       "      <td>Normal</td>\n",
       "      <td>NaN</td>\n",
       "      <td>NaN</td>\n",
       "    </tr>\n",
       "    <tr>\n",
       "      <th>157623</th>\n",
       "      <td>A894190</td>\n",
       "      <td>Zeeb</td>\n",
       "      <td>Cat</td>\n",
       "      <td>Intact Male</td>\n",
       "      <td>NaN</td>\n",
       "      <td>Domestic Shorthair Mix</td>\n",
       "      <td>Brown Tabby</td>\n",
       "      <td>NaT</td>\n",
       "      <td>Austin (TX)</td>\n",
       "      <td>2023-12-04 17:16:00</td>\n",
       "      <td>2 years</td>\n",
       "      <td>NaT</td>\n",
       "      <td>NaN</td>\n",
       "      <td>Owner Surrender</td>\n",
       "      <td>Normal</td>\n",
       "      <td>NaN</td>\n",
       "      <td>NaN</td>\n",
       "    </tr>\n",
       "    <tr>\n",
       "      <th>157624</th>\n",
       "      <td>A894191</td>\n",
       "      <td>Lucky</td>\n",
       "      <td>Cat</td>\n",
       "      <td>Intact Male</td>\n",
       "      <td>NaN</td>\n",
       "      <td>Domestic Shorthair Mix</td>\n",
       "      <td>Gray/White</td>\n",
       "      <td>NaT</td>\n",
       "      <td>Austin (TX)</td>\n",
       "      <td>2023-12-04 17:16:00</td>\n",
       "      <td>2 years</td>\n",
       "      <td>NaT</td>\n",
       "      <td>NaN</td>\n",
       "      <td>Owner Surrender</td>\n",
       "      <td>Normal</td>\n",
       "      <td>NaN</td>\n",
       "      <td>NaN</td>\n",
       "    </tr>\n",
       "    <tr>\n",
       "      <th>157625</th>\n",
       "      <td>A894192</td>\n",
       "      <td>Lil Bit</td>\n",
       "      <td>Cat</td>\n",
       "      <td>Intact Female</td>\n",
       "      <td>NaN</td>\n",
       "      <td>Domestic Shorthair Mix</td>\n",
       "      <td>Black/White</td>\n",
       "      <td>NaT</td>\n",
       "      <td>Austin (TX)</td>\n",
       "      <td>2023-12-04 17:16:00</td>\n",
       "      <td>2 years</td>\n",
       "      <td>NaT</td>\n",
       "      <td>NaN</td>\n",
       "      <td>Owner Surrender</td>\n",
       "      <td>Normal</td>\n",
       "      <td>NaN</td>\n",
       "      <td>NaN</td>\n",
       "    </tr>\n",
       "    <tr>\n",
       "      <th>157626</th>\n",
       "      <td>A894196</td>\n",
       "      <td>Jinx</td>\n",
       "      <td>Dog</td>\n",
       "      <td>Intact Female</td>\n",
       "      <td>NaN</td>\n",
       "      <td>Rottweiler Mix</td>\n",
       "      <td>Black/Brown</td>\n",
       "      <td>NaT</td>\n",
       "      <td>10926 Jollyville Road in Austin (TX)</td>\n",
       "      <td>2023-12-04 17:48:00</td>\n",
       "      <td>2 years</td>\n",
       "      <td>NaT</td>\n",
       "      <td>NaN</td>\n",
       "      <td>Abandoned</td>\n",
       "      <td>Normal</td>\n",
       "      <td>NaN</td>\n",
       "      <td>NaN</td>\n",
       "    </tr>\n",
       "  </tbody>\n",
       "</table>\n",
       "<p>157626 rows × 17 columns</p>\n",
       "</div>"
      ],
      "text/plain": [
       "       animal_id     name animal_type     sex_intake    sex_outcome  \\\n",
       "0        A006100    Scamp         Dog  Neutered Male  Neutered Male   \n",
       "1        A006100    Scamp         Dog  Neutered Male  Neutered Male   \n",
       "2        A006100    Scamp         Dog  Neutered Male  Neutered Male   \n",
       "3        A047759     Oreo         Dog  Neutered Male  Neutered Male   \n",
       "4        A134067   Bandit         Dog  Neutered Male  Neutered Male   \n",
       "...          ...      ...         ...            ...            ...   \n",
       "157622   A894189  Kittler         Cat  Intact Female            NaN   \n",
       "157623   A894190     Zeeb         Cat    Intact Male            NaN   \n",
       "157624   A894191    Lucky         Cat    Intact Male            NaN   \n",
       "157625   A894192  Lil Bit         Cat  Intact Female            NaN   \n",
       "157626   A894196     Jinx         Dog  Intact Female            NaN   \n",
       "\n",
       "                         breed         color date_of_birth  \\\n",
       "0         Spinone Italiano Mix  Yellow/White    2007-07-09   \n",
       "1         Spinone Italiano Mix  Yellow/White    2007-07-09   \n",
       "2         Spinone Italiano Mix  Yellow/White    2007-07-09   \n",
       "3                    Dachshund      Tricolor    2004-04-02   \n",
       "4            Shetland Sheepdog   Brown/White    1997-10-16   \n",
       "...                        ...           ...           ...   \n",
       "157622  Domestic Shorthair Mix   Black/White           NaT   \n",
       "157623  Domestic Shorthair Mix   Brown Tabby           NaT   \n",
       "157624  Domestic Shorthair Mix    Gray/White           NaT   \n",
       "157625  Domestic Shorthair Mix   Black/White           NaT   \n",
       "157626          Rottweiler Mix   Black/Brown           NaT   \n",
       "\n",
       "                                       found_location     intake_datetime  \\\n",
       "0                        8700 Research in Austin (TX) 2014-03-07 14:26:00   \n",
       "1                   8700 Research Blvd in Austin (TX) 2014-12-19 10:21:00   \n",
       "2       Colony Creek And Hunters Trace in Austin (TX) 2017-12-07 14:07:00   \n",
       "3                                         Austin (TX) 2014-04-02 15:55:00   \n",
       "4                  12034 Research Blvd in Austin (TX) 2013-11-16 09:02:00   \n",
       "...                                               ...                 ...   \n",
       "157622                                    Austin (TX) 2023-12-04 17:16:00   \n",
       "157623                                    Austin (TX) 2023-12-04 17:16:00   \n",
       "157624                                    Austin (TX) 2023-12-04 17:16:00   \n",
       "157625                                    Austin (TX) 2023-12-04 17:16:00   \n",
       "157626           10926 Jollyville Road in Austin (TX) 2023-12-04 17:48:00   \n",
       "\n",
       "       age_upon_intake    outcome_datetime age_upon_outcome      intake_type  \\\n",
       "0              6 years 2014-03-08 17:10:00          6 years    Public Assist   \n",
       "1              7 years 2014-12-20 16:35:00          7 years    Public Assist   \n",
       "2             10 years 2017-12-07 00:00:00         10 years            Stray   \n",
       "3             10 years 2014-04-07 15:12:00         10 years  Owner Surrender   \n",
       "4             16 years 2013-11-16 11:54:00         16 years    Public Assist   \n",
       "...                ...                 ...              ...              ...   \n",
       "157622         2 years                 NaT              NaN  Owner Surrender   \n",
       "157623         2 years                 NaT              NaN  Owner Surrender   \n",
       "157624         2 years                 NaT              NaN  Owner Surrender   \n",
       "157625         2 years                 NaT              NaN  Owner Surrender   \n",
       "157626         2 years                 NaT              NaN        Abandoned   \n",
       "\n",
       "       intake_condition     outcome_type outcome_subtype  \n",
       "0                Normal  Return to Owner             NaN  \n",
       "1                Normal  Return to Owner             NaN  \n",
       "2                Normal  Return to Owner             NaN  \n",
       "3                Normal         Transfer         Partner  \n",
       "4               Injured  Return to Owner             NaN  \n",
       "...                 ...              ...             ...  \n",
       "157622           Normal              NaN             NaN  \n",
       "157623           Normal              NaN             NaN  \n",
       "157624           Normal              NaN             NaN  \n",
       "157625           Normal              NaN             NaN  \n",
       "157626           Normal              NaN             NaN  \n",
       "\n",
       "[157626 rows x 17 columns]"
      ]
     },
     "execution_count": 22,
     "metadata": {},
     "output_type": "execute_result"
    }
   ],
   "source": [
    "column_order = {\n",
    "    \"animal_id\": \"animal_id\",\n",
    "    \"name\": \"name\",\n",
    "    \"animal_type\": \"animal_type\",\n",
    "    \"sex_upon_intake\": \"sex_intake\",\n",
    "    \"sex_upon_outcome\": \"sex_outcome\",\n",
    "    \"breed\": \"breed\",\n",
    "    \"color\": \"color\",\n",
    "    \"date_of_birth\": \"date_of_birth\",\n",
    "    \"found_location\": \"found_location\",\n",
    "    \"datetime_intake\": \"intake_datetime\",\n",
    "    \"age_upon_intake\": \"age_upon_intake\",\n",
    "    \"datetime_outcome\": \"outcome_datetime\",\n",
    "    \"age_upon_outcome\": \"age_upon_outcome\",\n",
    "    \"intake_type\": \"intake_type\",\n",
    "    \"intake_condition\": \"intake_condition\",\n",
    "    \"outcome_type\": \"outcome_type\",\n",
    "    \"outcome_subtype\": \"outcome_subtype\"\n",
    "}\n",
    "intake_n_outcome = intake_n_outcome.rename(columns=column_order)[column_order.values()]\n",
    "intake_n_outcome"
   ]
  },
  {
   "cell_type": "markdown",
   "metadata": {
    "ExecuteTime": {
     "start_time": "2023-11-30T19:04:43.557034Z"
    },
    "collapsed": false
   },
   "source": [
    "### **Calculate age upon intake and outcome (in years) to 1 decimal point**"
   ]
  },
  {
   "cell_type": "code",
   "execution_count": 23,
   "metadata": {
    "ExecuteTime": {
     "end_time": "2023-12-02T04:13:41.258173Z",
     "start_time": "2023-12-02T04:13:41.059311Z"
    },
    "collapsed": false
   },
   "outputs": [
    {
     "data": {
      "text/plain": [
       "0          6.7\n",
       "1          7.4\n",
       "2         10.4\n",
       "3         10.0\n",
       "4         16.1\n",
       "          ... \n",
       "157622     NaN\n",
       "157623     NaN\n",
       "157624     NaN\n",
       "157625     NaN\n",
       "157626     NaN\n",
       "Name: age_upon_outcome(years), Length: 157626, dtype: float64"
      ]
     },
     "execution_count": 23,
     "metadata": {},
     "output_type": "execute_result"
    }
   ],
   "source": [
    "calculate_time_delta(intake_n_outcome, start=\"date_of_birth\", end=\"intake_datetime\", unit=\"years\", col_suffix=\"intake\")\n",
    "calculate_time_delta(intake_n_outcome, start=\"date_of_birth\", end=\"outcome_datetime\", unit=\"years\", col_suffix=\"outcome\")"
   ]
  },
  {
   "cell_type": "markdown",
   "metadata": {
    "collapsed": false
   },
   "source": [
    "### **Calculate the duration an animal stays in the center (in days)**"
   ]
  },
  {
   "cell_type": "code",
   "execution_count": 24,
   "metadata": {
    "ExecuteTime": {
     "end_time": "2023-12-02T04:13:41.258726Z",
     "start_time": "2023-12-02T04:13:41.076268Z"
    },
    "collapsed": false
   },
   "outputs": [
    {
     "data": {
      "text/plain": [
       "0         1.0\n",
       "1         1.0\n",
       "2        -1.0\n",
       "3         4.0\n",
       "4         0.0\n",
       "         ... \n",
       "157622    NaN\n",
       "157623    NaN\n",
       "157624    NaN\n",
       "157625    NaN\n",
       "157626    NaN\n",
       "Name: duration(days), Length: 157626, dtype: float64"
      ]
     },
     "execution_count": 24,
     "metadata": {},
     "output_type": "execute_result"
    }
   ],
   "source": [
    "calculate_time_delta(intake_n_outcome, start=\"intake_datetime\", end=\"outcome_datetime\", unit=\"days\")"
   ]
  },
  {
   "cell_type": "code",
   "execution_count": 25,
   "metadata": {
    "ExecuteTime": {
     "end_time": "2023-12-02T04:13:41.262857Z",
     "start_time": "2023-12-02T04:13:41.085729Z"
    },
    "collapsed": false
   },
   "outputs": [],
   "source": [
    "intake_n_outcome.drop([\"age_upon_intake\", \"age_upon_outcome\"],\n",
    "                      axis=1,\n",
    "                      inplace=True)"
   ]
  },
  {
   "cell_type": "code",
   "execution_count": 26,
   "metadata": {
    "ExecuteTime": {
     "end_time": "2023-12-02T04:13:41.263325Z",
     "start_time": "2023-12-02T04:13:41.110841Z"
    },
    "collapsed": false
   },
   "outputs": [
    {
     "data": {
      "text/html": [
       "<div>\n",
       "<style scoped>\n",
       "    .dataframe tbody tr th:only-of-type {\n",
       "        vertical-align: middle;\n",
       "    }\n",
       "\n",
       "    .dataframe tbody tr th {\n",
       "        vertical-align: top;\n",
       "    }\n",
       "\n",
       "    .dataframe thead th {\n",
       "        text-align: right;\n",
       "    }\n",
       "</style>\n",
       "<table border=\"1\" class=\"dataframe\">\n",
       "  <thead>\n",
       "    <tr style=\"text-align: right;\">\n",
       "      <th></th>\n",
       "      <th>animal_id</th>\n",
       "      <th>name</th>\n",
       "      <th>animal_type</th>\n",
       "      <th>sex_intake</th>\n",
       "      <th>sex_outcome</th>\n",
       "      <th>breed</th>\n",
       "      <th>color</th>\n",
       "      <th>date_of_birth</th>\n",
       "      <th>found_location</th>\n",
       "      <th>intake_datetime</th>\n",
       "      <th>outcome_datetime</th>\n",
       "      <th>intake_type</th>\n",
       "      <th>intake_condition</th>\n",
       "      <th>outcome_type</th>\n",
       "      <th>outcome_subtype</th>\n",
       "      <th>age_upon_intake(years)</th>\n",
       "      <th>age_upon_outcome(years)</th>\n",
       "      <th>duration(days)</th>\n",
       "    </tr>\n",
       "  </thead>\n",
       "  <tbody>\n",
       "    <tr>\n",
       "      <th>0</th>\n",
       "      <td>A006100</td>\n",
       "      <td>Scamp</td>\n",
       "      <td>Dog</td>\n",
       "      <td>Neutered Male</td>\n",
       "      <td>Neutered Male</td>\n",
       "      <td>Spinone Italiano Mix</td>\n",
       "      <td>Yellow/White</td>\n",
       "      <td>2007-07-09</td>\n",
       "      <td>8700 Research in Austin (TX)</td>\n",
       "      <td>2014-03-07 14:26:00</td>\n",
       "      <td>2014-03-08 17:10:00</td>\n",
       "      <td>Public Assist</td>\n",
       "      <td>Normal</td>\n",
       "      <td>Return to Owner</td>\n",
       "      <td>NaN</td>\n",
       "      <td>6.7</td>\n",
       "      <td>6.7</td>\n",
       "      <td>1.0</td>\n",
       "    </tr>\n",
       "    <tr>\n",
       "      <th>1</th>\n",
       "      <td>A006100</td>\n",
       "      <td>Scamp</td>\n",
       "      <td>Dog</td>\n",
       "      <td>Neutered Male</td>\n",
       "      <td>Neutered Male</td>\n",
       "      <td>Spinone Italiano Mix</td>\n",
       "      <td>Yellow/White</td>\n",
       "      <td>2007-07-09</td>\n",
       "      <td>8700 Research Blvd in Austin (TX)</td>\n",
       "      <td>2014-12-19 10:21:00</td>\n",
       "      <td>2014-12-20 16:35:00</td>\n",
       "      <td>Public Assist</td>\n",
       "      <td>Normal</td>\n",
       "      <td>Return to Owner</td>\n",
       "      <td>NaN</td>\n",
       "      <td>7.4</td>\n",
       "      <td>7.4</td>\n",
       "      <td>1.0</td>\n",
       "    </tr>\n",
       "    <tr>\n",
       "      <th>2</th>\n",
       "      <td>A006100</td>\n",
       "      <td>Scamp</td>\n",
       "      <td>Dog</td>\n",
       "      <td>Neutered Male</td>\n",
       "      <td>Neutered Male</td>\n",
       "      <td>Spinone Italiano Mix</td>\n",
       "      <td>Yellow/White</td>\n",
       "      <td>2007-07-09</td>\n",
       "      <td>Colony Creek And Hunters Trace in Austin (TX)</td>\n",
       "      <td>2017-12-07 14:07:00</td>\n",
       "      <td>2017-12-07 00:00:00</td>\n",
       "      <td>Stray</td>\n",
       "      <td>Normal</td>\n",
       "      <td>Return to Owner</td>\n",
       "      <td>NaN</td>\n",
       "      <td>10.4</td>\n",
       "      <td>10.4</td>\n",
       "      <td>-1.0</td>\n",
       "    </tr>\n",
       "    <tr>\n",
       "      <th>3</th>\n",
       "      <td>A047759</td>\n",
       "      <td>Oreo</td>\n",
       "      <td>Dog</td>\n",
       "      <td>Neutered Male</td>\n",
       "      <td>Neutered Male</td>\n",
       "      <td>Dachshund</td>\n",
       "      <td>Tricolor</td>\n",
       "      <td>2004-04-02</td>\n",
       "      <td>Austin (TX)</td>\n",
       "      <td>2014-04-02 15:55:00</td>\n",
       "      <td>2014-04-07 15:12:00</td>\n",
       "      <td>Owner Surrender</td>\n",
       "      <td>Normal</td>\n",
       "      <td>Transfer</td>\n",
       "      <td>Partner</td>\n",
       "      <td>10.0</td>\n",
       "      <td>10.0</td>\n",
       "      <td>4.0</td>\n",
       "    </tr>\n",
       "    <tr>\n",
       "      <th>4</th>\n",
       "      <td>A134067</td>\n",
       "      <td>Bandit</td>\n",
       "      <td>Dog</td>\n",
       "      <td>Neutered Male</td>\n",
       "      <td>Neutered Male</td>\n",
       "      <td>Shetland Sheepdog</td>\n",
       "      <td>Brown/White</td>\n",
       "      <td>1997-10-16</td>\n",
       "      <td>12034 Research Blvd in Austin (TX)</td>\n",
       "      <td>2013-11-16 09:02:00</td>\n",
       "      <td>2013-11-16 11:54:00</td>\n",
       "      <td>Public Assist</td>\n",
       "      <td>Injured</td>\n",
       "      <td>Return to Owner</td>\n",
       "      <td>NaN</td>\n",
       "      <td>16.1</td>\n",
       "      <td>16.1</td>\n",
       "      <td>0.0</td>\n",
       "    </tr>\n",
       "  </tbody>\n",
       "</table>\n",
       "</div>"
      ],
      "text/plain": [
       "  animal_id    name animal_type     sex_intake    sex_outcome  \\\n",
       "0   A006100   Scamp         Dog  Neutered Male  Neutered Male   \n",
       "1   A006100   Scamp         Dog  Neutered Male  Neutered Male   \n",
       "2   A006100   Scamp         Dog  Neutered Male  Neutered Male   \n",
       "3   A047759    Oreo         Dog  Neutered Male  Neutered Male   \n",
       "4   A134067  Bandit         Dog  Neutered Male  Neutered Male   \n",
       "\n",
       "                  breed         color date_of_birth  \\\n",
       "0  Spinone Italiano Mix  Yellow/White    2007-07-09   \n",
       "1  Spinone Italiano Mix  Yellow/White    2007-07-09   \n",
       "2  Spinone Italiano Mix  Yellow/White    2007-07-09   \n",
       "3             Dachshund      Tricolor    2004-04-02   \n",
       "4     Shetland Sheepdog   Brown/White    1997-10-16   \n",
       "\n",
       "                                  found_location     intake_datetime  \\\n",
       "0                   8700 Research in Austin (TX) 2014-03-07 14:26:00   \n",
       "1              8700 Research Blvd in Austin (TX) 2014-12-19 10:21:00   \n",
       "2  Colony Creek And Hunters Trace in Austin (TX) 2017-12-07 14:07:00   \n",
       "3                                    Austin (TX) 2014-04-02 15:55:00   \n",
       "4             12034 Research Blvd in Austin (TX) 2013-11-16 09:02:00   \n",
       "\n",
       "     outcome_datetime      intake_type intake_condition     outcome_type  \\\n",
       "0 2014-03-08 17:10:00    Public Assist           Normal  Return to Owner   \n",
       "1 2014-12-20 16:35:00    Public Assist           Normal  Return to Owner   \n",
       "2 2017-12-07 00:00:00            Stray           Normal  Return to Owner   \n",
       "3 2014-04-07 15:12:00  Owner Surrender           Normal         Transfer   \n",
       "4 2013-11-16 11:54:00    Public Assist          Injured  Return to Owner   \n",
       "\n",
       "  outcome_subtype  age_upon_intake(years)  age_upon_outcome(years)  \\\n",
       "0             NaN                     6.7                      6.7   \n",
       "1             NaN                     7.4                      7.4   \n",
       "2             NaN                    10.4                     10.4   \n",
       "3         Partner                    10.0                     10.0   \n",
       "4             NaN                    16.1                     16.1   \n",
       "\n",
       "   duration(days)  \n",
       "0             1.0  \n",
       "1             1.0  \n",
       "2            -1.0  \n",
       "3             4.0  \n",
       "4             0.0  "
      ]
     },
     "execution_count": 26,
     "metadata": {},
     "output_type": "execute_result"
    }
   ],
   "source": [
    "intake_n_outcome.head()"
   ]
  },
  {
   "cell_type": "markdown",
   "metadata": {
    "ExecuteTime": {
     "start_time": "2023-11-30T19:04:43.560178Z"
    },
    "collapsed": false
   },
   "source": [
    "### **Check column datatypes and names**"
   ]
  },
  {
   "cell_type": "code",
   "execution_count": 27,
   "metadata": {
    "ExecuteTime": {
     "end_time": "2023-12-02T04:13:41.263485Z",
     "start_time": "2023-12-02T04:13:41.116989Z"
    },
    "collapsed": false
   },
   "outputs": [
    {
     "data": {
      "text/plain": [
       "animal_id                          object\n",
       "name                               object\n",
       "animal_type                        object\n",
       "sex_intake                         object\n",
       "sex_outcome                        object\n",
       "breed                              object\n",
       "color                              object\n",
       "date_of_birth              datetime64[ns]\n",
       "found_location                     object\n",
       "intake_datetime            datetime64[ns]\n",
       "outcome_datetime           datetime64[ns]\n",
       "intake_type                        object\n",
       "intake_condition                   object\n",
       "outcome_type                       object\n",
       "outcome_subtype                    object\n",
       "age_upon_intake(years)            float64\n",
       "age_upon_outcome(years)           float64\n",
       "duration(days)                    float64\n",
       "dtype: object"
      ]
     },
     "execution_count": 27,
     "metadata": {},
     "output_type": "execute_result"
    }
   ],
   "source": [
    "intake_n_outcome.dtypes"
   ]
  },
  {
   "cell_type": "code",
   "execution_count": 28,
   "metadata": {
    "ExecuteTime": {
     "end_time": "2023-12-02T04:13:41.263635Z",
     "start_time": "2023-12-02T04:13:41.123612Z"
    },
    "collapsed": false
   },
   "outputs": [
    {
     "data": {
      "text/plain": [
       "Index(['animal_id', 'name', 'animal_type', 'sex_intake', 'sex_outcome',\n",
       "       'breed', 'color', 'date_of_birth', 'found_location', 'intake_datetime',\n",
       "       'outcome_datetime', 'intake_type', 'intake_condition', 'outcome_type',\n",
       "       'outcome_subtype', 'age_upon_intake(years)', 'age_upon_outcome(years)',\n",
       "       'duration(days)'],\n",
       "      dtype='object')"
      ]
     },
     "execution_count": 28,
     "metadata": {},
     "output_type": "execute_result"
    }
   ],
   "source": [
    "intake_n_outcome.columns"
   ]
  },
  {
   "cell_type": "markdown",
   "metadata": {},
   "source": [
    "### **Check the value counts of `animal_type`**"
   ]
  },
  {
   "cell_type": "code",
   "execution_count": 29,
   "metadata": {
    "ExecuteTime": {
     "end_time": "2023-12-02T04:13:41.264621Z",
     "start_time": "2023-12-02T04:13:41.127509Z"
    },
    "collapsed": false
   },
   "outputs": [
    {
     "data": {
      "text/plain": [
       "Dog          87187\n",
       "Cat          61372\n",
       "Other         8261\n",
       "Bird           780\n",
       "Livestock       26\n",
       "Name: animal_type, dtype: int64"
      ]
     },
     "execution_count": 29,
     "metadata": {},
     "output_type": "execute_result"
    }
   ],
   "source": [
    "intake_n_outcome.animal_type.value_counts()"
   ]
  },
  {
   "cell_type": "markdown",
   "metadata": {},
   "source": [
    "### **Check the value counts of `sex`**"
   ]
  },
  {
   "cell_type": "code",
   "execution_count": 30,
   "metadata": {
    "ExecuteTime": {
     "end_time": "2023-12-02T04:15:13.550325Z",
     "start_time": "2023-12-02T04:15:13.539167Z"
    },
    "collapsed": false
   },
   "outputs": [
    {
     "data": {
      "text/plain": [
       "Intact Male      53015\n",
       "Intact Female    50705\n",
       "Neutered Male    22564\n",
       "Spayed Female    19078\n",
       "Unknown          12262\n",
       "Name: sex_intake, dtype: int64"
      ]
     },
     "execution_count": 30,
     "metadata": {},
     "output_type": "execute_result"
    }
   ],
   "source": [
    "intake_n_outcome.sex_intake.value_counts()"
   ]
  },
  {
   "cell_type": "code",
   "execution_count": 31,
   "metadata": {
    "ExecuteTime": {
     "end_time": "2023-12-02T04:15:23.224173Z",
     "start_time": "2023-12-02T04:15:23.212473Z"
    },
    "collapsed": false
   },
   "outputs": [
    {
     "data": {
      "text/plain": [
       "Neutered Male    54785\n",
       "Spayed Female    49534\n",
       "Intact Male      20254\n",
       "Intact Female    19809\n",
       "Unknown          12249\n",
       "Name: sex_outcome, dtype: int64"
      ]
     },
     "execution_count": 31,
     "metadata": {},
     "output_type": "execute_result"
    }
   ],
   "source": [
    "intake_n_outcome.sex_outcome.value_counts()"
   ]
  },
  {
   "cell_type": "markdown",
   "metadata": {},
   "source": [
    "### **Check the value counts of `breed`**"
   ]
  },
  {
   "cell_type": "code",
   "execution_count": 32,
   "metadata": {
    "ExecuteTime": {
     "end_time": "2023-12-02T04:15:35.672059Z",
     "start_time": "2023-12-02T04:15:35.650209Z"
    },
    "collapsed": false
   },
   "outputs": [
    {
     "data": {
      "text/plain": [
       "Domestic Shorthair Mix             33291\n",
       "Domestic Shorthair                 17582\n",
       "Pit Bull Mix                        9646\n",
       "Labrador Retriever Mix              8168\n",
       "Chihuahua Shorthair Mix             6737\n",
       "                                   ...  \n",
       "Pit Bull/American Foxhound             1\n",
       "Pit Bull/Dogue De Bordeaux             1\n",
       "English Springer Spaniel/Beagle        1\n",
       "Goose Mix                              1\n",
       "Domestic Shorthair/Oriental Sh         1\n",
       "Name: breed, Length: 2887, dtype: int64"
      ]
     },
     "execution_count": 32,
     "metadata": {},
     "output_type": "execute_result"
    }
   ],
   "source": [
    "intake_n_outcome.breed.value_counts()"
   ]
  },
  {
   "cell_type": "markdown",
   "metadata": {},
   "source": [
    "### **Check the value counts of `color`**"
   ]
  },
  {
   "cell_type": "code",
   "execution_count": 33,
   "metadata": {
    "ExecuteTime": {
     "end_time": "2023-12-02T04:15:36.635912Z",
     "start_time": "2023-12-02T04:15:36.617813Z"
    },
    "collapsed": false
   },
   "outputs": [
    {
     "data": {
      "text/plain": [
       "Black/White               16430\n",
       "Black                     13151\n",
       "Brown Tabby                9376\n",
       "Brown                      6534\n",
       "White                      5537\n",
       "                          ...  \n",
       "Blue Tabby/Buff               1\n",
       "Red Tick/Blue                 1\n",
       "Cream/Blue Point              1\n",
       "Torbie/Silver Tabby           1\n",
       "Blue Tabby/Brown Tabby        1\n",
       "Name: color, Length: 635, dtype: int64"
      ]
     },
     "execution_count": 33,
     "metadata": {},
     "output_type": "execute_result"
    }
   ],
   "source": [
    "intake_n_outcome.color.value_counts()"
   ]
  },
  {
   "cell_type": "markdown",
   "metadata": {},
   "source": [
    "### **Check the value counts of `intake_type`**"
   ]
  },
  {
   "cell_type": "code",
   "execution_count": 34,
   "metadata": {
    "ExecuteTime": {
     "end_time": "2023-12-02T04:15:37.117306Z",
     "start_time": "2023-12-02T04:15:37.099840Z"
    },
    "collapsed": false
   },
   "outputs": [
    {
     "data": {
      "text/plain": [
       "Stray                 108090\n",
       "Owner Surrender        32504\n",
       "Public Assist           9411\n",
       "Wildlife                5983\n",
       "Abandoned               1378\n",
       "Euthanasia Request       260\n",
       "Name: intake_type, dtype: int64"
      ]
     },
     "execution_count": 34,
     "metadata": {},
     "output_type": "execute_result"
    }
   ],
   "source": [
    "intake_n_outcome.intake_type.value_counts()"
   ]
  },
  {
   "cell_type": "markdown",
   "metadata": {},
   "source": [
    "### **Check the value counts of `intake_condition`**"
   ]
  },
  {
   "cell_type": "code",
   "execution_count": 35,
   "metadata": {
    "ExecuteTime": {
     "end_time": "2023-12-02T04:15:37.823613Z",
     "start_time": "2023-12-02T04:15:37.806489Z"
    },
    "collapsed": false
   },
   "outputs": [
    {
     "data": {
      "text/plain": [
       "Normal        134683\n",
       "Injured         9428\n",
       "Sick            6991\n",
       "Nursing         3920\n",
       "Neonatal        1071\n",
       "Aged             502\n",
       "Other            340\n",
       "Medical          294\n",
       "Feral            135\n",
       "Pregnant         128\n",
       "Behavior          64\n",
       "Med Attn          25\n",
       "Unknown           16\n",
       "Med Urgent         9\n",
       "Neurologic         9\n",
       "Space              4\n",
       "Parvo              3\n",
       "Agonal             2\n",
       "Panleuk            1\n",
       "Congenital         1\n",
       "Name: intake_condition, dtype: int64"
      ]
     },
     "execution_count": 35,
     "metadata": {},
     "output_type": "execute_result"
    }
   ],
   "source": [
    "intake_n_outcome.intake_condition.value_counts()"
   ]
  },
  {
   "cell_type": "markdown",
   "metadata": {},
   "source": [
    "### **Check the value counts of `outcome_type`**"
   ]
  },
  {
   "cell_type": "code",
   "execution_count": 36,
   "metadata": {
    "ExecuteTime": {
     "end_time": "2023-12-02T04:15:38.606980Z",
     "start_time": "2023-12-02T04:15:38.596670Z"
    },
    "collapsed": false
   },
   "outputs": [
    {
     "data": {
      "text/plain": [
       "Adoption           73875\n",
       "Transfer           44903\n",
       "Return to Owner    24429\n",
       "Euthanasia          9965\n",
       "Died                1470\n",
       "Rto-Adopt           1079\n",
       "Disposal             767\n",
       "Missing               84\n",
       "Relocate              26\n",
       "Stolen                 5\n",
       "Name: outcome_type, dtype: int64"
      ]
     },
     "execution_count": 36,
     "metadata": {},
     "output_type": "execute_result"
    }
   ],
   "source": [
    "intake_n_outcome.outcome_type.value_counts()"
   ]
  },
  {
   "cell_type": "markdown",
   "metadata": {},
   "source": [
    "### **Check the value counts of `outcome_subtype`**"
   ]
  },
  {
   "cell_type": "code",
   "execution_count": 37,
   "metadata": {
    "ExecuteTime": {
     "end_time": "2023-12-02T04:15:39.956013Z",
     "start_time": "2023-12-02T04:15:39.934447Z"
    },
    "collapsed": false
   },
   "outputs": [
    {
     "data": {
      "text/plain": [
       "Partner                37233\n",
       "Foster                 15315\n",
       "Rabies Risk             4492\n",
       "Suffering               3828\n",
       "Snr                     3508\n",
       "SCRP                    3204\n",
       "Out State                931\n",
       "In Kennel                777\n",
       "Aggressive               583\n",
       "Offsite                  477\n",
       "In Foster                366\n",
       "Medical                  338\n",
       "At Vet                   321\n",
       "Field                    188\n",
       "Behavior                 157\n",
       "Enroute                  103\n",
       "Court/Investigation       63\n",
       "Underage                  37\n",
       "In Surgery                32\n",
       "Customer S                18\n",
       "Emergency                 17\n",
       "Possible Theft            16\n",
       "Prc                       13\n",
       "Barn                      12\n",
       "In State                  12\n",
       "Emer                       7\n",
       "Name: outcome_subtype, dtype: int64"
      ]
     },
     "execution_count": 37,
     "metadata": {},
     "output_type": "execute_result"
    }
   ],
   "source": [
    "intake_n_outcome.outcome_subtype.value_counts()"
   ]
  },
  {
   "cell_type": "markdown",
   "metadata": {
    "collapsed": false
   },
   "source": [
    "## **Save as csv**"
   ]
  },
  {
   "cell_type": "code",
   "execution_count": 38,
   "metadata": {
    "ExecuteTime": {
     "end_time": "2023-12-02T04:15:43.193923Z",
     "start_time": "2023-12-02T04:15:41.480168Z"
    },
    "collapsed": false
   },
   "outputs": [],
   "source": [
    "intake_n_outcome.to_csv(\"data/animal_center.csv\", index=False)"
   ]
  },
  {
   "cell_type": "code",
   "execution_count": null,
   "metadata": {
    "ExecuteTime": {
     "start_time": "2023-12-02T04:13:41.545614Z"
    },
    "collapsed": false
   },
   "outputs": [],
   "source": []
  }
 ],
 "metadata": {
  "kernelspec": {
   "display_name": "base",
   "language": "python",
   "name": "python3"
  },
  "language_info": {
   "codemirror_mode": {
    "name": "ipython",
    "version": 3
   },
   "file_extension": ".py",
   "mimetype": "text/x-python",
   "name": "python",
   "nbconvert_exporter": "python",
   "pygments_lexer": "ipython3",
   "version": "3.9.12"
  }
 },
 "nbformat": 4,
 "nbformat_minor": 2
}
