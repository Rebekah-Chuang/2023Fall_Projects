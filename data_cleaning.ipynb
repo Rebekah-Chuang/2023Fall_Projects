{
 "cells": [
  {
   "cell_type": "code",
   "execution_count": 1,
   "metadata": {
    "ExecuteTime": {
     "end_time": "2023-12-02T00:35:14.771746Z",
     "start_time": "2023-12-02T00:35:13.309140Z"
    }
   },
   "outputs": [
    {
     "name": "stdout",
     "output_type": "stream",
     "text": [
      "Intel MKL WARNING: Support of Intel(R) Streaming SIMD Extensions 4.2 (Intel(R) SSE4.2) enabled only processors has been deprecated. Intel oneAPI Math Kernel Library 2025.0 will require Intel(R) Advanced Vector Extensions (Intel(R) AVX) instructions.\n",
      "Intel MKL WARNING: Support of Intel(R) Streaming SIMD Extensions 4.2 (Intel(R) SSE4.2) enabled only processors has been deprecated. Intel oneAPI Math Kernel Library 2025.0 will require Intel(R) Advanced Vector Extensions (Intel(R) AVX) instructions.\n"
     ]
    }
   ],
   "source": [
    "# import pandas as pd\n",
    "from data_cleaning_functions import *"
   ]
  },
  {
   "cell_type": "markdown",
   "metadata": {},
   "source": [
    "### **Get data using API endpoint URL**"
   ]
  },
  {
   "cell_type": "code",
   "execution_count": 2,
   "metadata": {
    "ExecuteTime": {
     "end_time": "2023-12-02T00:35:45.564325Z",
     "start_time": "2023-12-02T00:35:14.773014Z"
    }
   },
   "outputs": [
    {
     "name": "stdout",
     "output_type": "stream",
     "text": [
      "Successfully get INTAKE data(157615 rows)...\n",
      "Successfully get OUTCOME data(157530 rows)...\n"
     ]
    }
   ],
   "source": [
    "# API endpoint URL(set the limit to get all data(default is 1000 rows))\n",
    "urls = {\n",
    "    \"intake\": \"https://data.austintexas.gov/resource/wter-evkm.csv?$limit=160000\",\n",
    "    \"outcome\": \"https://data.austintexas.gov/resource/9t4d-g238.csv?$limit=160000\"\n",
    "    }\n",
    "intake, outcome = get_data(urls)"
   ]
  },
  {
   "cell_type": "markdown",
   "metadata": {
    "ExecuteTime": {
     "end_time": "2023-11-30T19:05:11.599993Z",
     "start_time": "2023-11-30T19:05:10.372430Z"
    },
    "collapsed": false
   },
   "source": [
    "### **Check number of rows, columns, and duplicated rows**"
   ]
  },
  {
   "cell_type": "code",
   "execution_count": 3,
   "metadata": {
    "ExecuteTime": {
     "end_time": "2023-12-02T00:35:45.966752Z",
     "start_time": "2023-12-02T00:35:45.576136Z"
    }
   },
   "outputs": [
    {
     "name": "stdout",
     "output_type": "stream",
     "text": [
      "INTAKE  data: 157615 rows | 12 columns | 30 duplicated rows\n",
      "OUTCOME data: 157530 rows | 12 columns | 23 duplicated rows\n"
     ]
    }
   ],
   "source": [
    "print(f\"INTAKE  data: {intake.shape[0]} rows | {intake.shape[1]} columns | {intake.duplicated().sum()} duplicated rows\")\n",
    "print(f\"OUTCOME data: {outcome.shape[0]} rows | {outcome.shape[1]} columns | {outcome.duplicated().sum()} duplicated rows\")"
   ]
  },
  {
   "cell_type": "markdown",
   "metadata": {
    "ExecuteTime": {
     "start_time": "2023-11-30T19:04:43.530233Z"
    },
    "collapsed": false
   },
   "source": [
    "### **Drop duplicates**"
   ]
  },
  {
   "cell_type": "code",
   "execution_count": 4,
   "metadata": {
    "collapsed": false,
    "ExecuteTime": {
     "end_time": "2023-12-02T00:35:46.371022Z",
     "start_time": "2023-12-02T00:35:45.974185Z"
    }
   },
   "outputs": [],
   "source": [
    "intake.drop_duplicates(inplace=True)\n",
    "outcome.drop_duplicates(inplace=True)"
   ]
  },
  {
   "cell_type": "markdown",
   "metadata": {
    "ExecuteTime": {
     "start_time": "2023-11-30T19:04:43.532119Z"
    },
    "collapsed": false
   },
   "source": [
    "### **Check number of rows, columns, and duplicated rows after dropping duplicates**"
   ]
  },
  {
   "cell_type": "code",
   "execution_count": 5,
   "metadata": {
    "collapsed": false,
    "ExecuteTime": {
     "end_time": "2023-12-02T00:35:46.755395Z",
     "start_time": "2023-12-02T00:35:46.379920Z"
    }
   },
   "outputs": [
    {
     "name": "stdout",
     "output_type": "stream",
     "text": [
      "INTAKE  data: 157585 rows | 12 columns | 0 duplicated rows\n",
      "OUTCOME data: 157507 rows | 12 columns | 0 duplicated rows\n"
     ]
    }
   ],
   "source": [
    "print(f\"INTAKE  data: {intake.shape[0]} rows | {intake.shape[1]} columns | {intake.duplicated().sum()} duplicated rows\")\n",
    "print(f\"OUTCOME data: {outcome.shape[0]} rows | {outcome.shape[1]} columns | {outcome.duplicated().sum()} duplicated rows\")"
   ]
  },
  {
   "cell_type": "markdown",
   "metadata": {
    "ExecuteTime": {
     "start_time": "2023-11-30T19:04:43.533968Z"
    }
   },
   "source": [
    "### **Remove `datetime2` in `intake` data and `monthyear` in `outcome` data**"
   ]
  },
  {
   "cell_type": "code",
   "execution_count": 6,
   "metadata": {
    "ExecuteTime": {
     "end_time": "2023-12-02T00:35:46.797335Z",
     "start_time": "2023-12-02T00:35:46.753044Z"
    }
   },
   "outputs": [],
   "source": [
    "intake.drop(\"datetime2\", axis=1, inplace = True)\n",
    "outcome.drop(\"monthyear\", axis=1, inplace = True)"
   ]
  },
  {
   "cell_type": "code",
   "execution_count": 7,
   "metadata": {
    "ExecuteTime": {
     "end_time": "2023-12-02T00:35:46.811156Z",
     "start_time": "2023-12-02T00:35:46.788915Z"
    }
   },
   "outputs": [
    {
     "data": {
      "text/plain": "  animal_id          name                 datetime  \\\n0   A786884        *Brock  2019-01-03T16:19:00.000   \n1   A706918         Belle  2015-07-05T12:59:00.000   \n2   A724273       Runster  2016-04-14T18:43:00.000   \n3   A857105  Johnny Ringo  2022-05-12T00:23:00.000   \n4   A682524           Rio  2014-06-29T10:38:00.000   \n\n                        found_location    intake_type intake_condition  \\\n0  2501 Magin Meadow Dr in Austin (TX)          Stray           Normal   \n1     9409 Bluegrass Dr in Austin (TX)          Stray           Normal   \n2   2818 Palomino Trail in Austin (TX)          Stray           Normal   \n3   4404 Sarasota Drive in Austin (TX)  Public Assist           Normal   \n4        800 Grove Blvd in Austin (TX)          Stray           Normal   \n\n  animal_type sex_upon_intake age_upon_intake  \\\n0         Dog   Neutered Male         2 years   \n1         Dog   Spayed Female         8 years   \n2         Dog     Intact Male       11 months   \n3         Cat   Neutered Male         2 years   \n4         Dog   Neutered Male         4 years   \n\n                                   breed         color  \n0                             Beagle Mix      Tricolor  \n1               English Springer Spaniel   White/Liver  \n2                            Basenji Mix   Sable/White  \n3                     Domestic Shorthair  Orange Tabby  \n4  Doberman Pinsch/Australian Cattle Dog      Tan/Gray  ",
      "text/html": "<div>\n<style scoped>\n    .dataframe tbody tr th:only-of-type {\n        vertical-align: middle;\n    }\n\n    .dataframe tbody tr th {\n        vertical-align: top;\n    }\n\n    .dataframe thead th {\n        text-align: right;\n    }\n</style>\n<table border=\"1\" class=\"dataframe\">\n  <thead>\n    <tr style=\"text-align: right;\">\n      <th></th>\n      <th>animal_id</th>\n      <th>name</th>\n      <th>datetime</th>\n      <th>found_location</th>\n      <th>intake_type</th>\n      <th>intake_condition</th>\n      <th>animal_type</th>\n      <th>sex_upon_intake</th>\n      <th>age_upon_intake</th>\n      <th>breed</th>\n      <th>color</th>\n    </tr>\n  </thead>\n  <tbody>\n    <tr>\n      <th>0</th>\n      <td>A786884</td>\n      <td>*Brock</td>\n      <td>2019-01-03T16:19:00.000</td>\n      <td>2501 Magin Meadow Dr in Austin (TX)</td>\n      <td>Stray</td>\n      <td>Normal</td>\n      <td>Dog</td>\n      <td>Neutered Male</td>\n      <td>2 years</td>\n      <td>Beagle Mix</td>\n      <td>Tricolor</td>\n    </tr>\n    <tr>\n      <th>1</th>\n      <td>A706918</td>\n      <td>Belle</td>\n      <td>2015-07-05T12:59:00.000</td>\n      <td>9409 Bluegrass Dr in Austin (TX)</td>\n      <td>Stray</td>\n      <td>Normal</td>\n      <td>Dog</td>\n      <td>Spayed Female</td>\n      <td>8 years</td>\n      <td>English Springer Spaniel</td>\n      <td>White/Liver</td>\n    </tr>\n    <tr>\n      <th>2</th>\n      <td>A724273</td>\n      <td>Runster</td>\n      <td>2016-04-14T18:43:00.000</td>\n      <td>2818 Palomino Trail in Austin (TX)</td>\n      <td>Stray</td>\n      <td>Normal</td>\n      <td>Dog</td>\n      <td>Intact Male</td>\n      <td>11 months</td>\n      <td>Basenji Mix</td>\n      <td>Sable/White</td>\n    </tr>\n    <tr>\n      <th>3</th>\n      <td>A857105</td>\n      <td>Johnny Ringo</td>\n      <td>2022-05-12T00:23:00.000</td>\n      <td>4404 Sarasota Drive in Austin (TX)</td>\n      <td>Public Assist</td>\n      <td>Normal</td>\n      <td>Cat</td>\n      <td>Neutered Male</td>\n      <td>2 years</td>\n      <td>Domestic Shorthair</td>\n      <td>Orange Tabby</td>\n    </tr>\n    <tr>\n      <th>4</th>\n      <td>A682524</td>\n      <td>Rio</td>\n      <td>2014-06-29T10:38:00.000</td>\n      <td>800 Grove Blvd in Austin (TX)</td>\n      <td>Stray</td>\n      <td>Normal</td>\n      <td>Dog</td>\n      <td>Neutered Male</td>\n      <td>4 years</td>\n      <td>Doberman Pinsch/Australian Cattle Dog</td>\n      <td>Tan/Gray</td>\n    </tr>\n  </tbody>\n</table>\n</div>"
     },
     "execution_count": 7,
     "metadata": {},
     "output_type": "execute_result"
    }
   ],
   "source": [
    "intake.head()"
   ]
  },
  {
   "cell_type": "code",
   "execution_count": 8,
   "metadata": {
    "ExecuteTime": {
     "end_time": "2023-12-02T00:35:46.811942Z",
     "start_time": "2023-12-02T00:35:46.803866Z"
    }
   },
   "outputs": [
    {
     "data": {
      "text/plain": "  animal_id   name                 datetime            date_of_birth  \\\n0   A794011  Chunk  2019-05-08T18:20:00.000  2017-05-02T00:00:00.000   \n1   A776359  Gizmo  2018-07-18T16:02:00.000  2017-07-12T00:00:00.000   \n2   A821648    NaN  2020-08-16T11:38:00.000  2019-08-16T00:00:00.000   \n3   A720371  Moose  2016-02-13T17:59:00.000  2015-10-08T00:00:00.000   \n4   A674754    NaN  2014-03-18T11:47:00.000  2014-03-12T00:00:00.000   \n\n  outcome_type outcome_subtype animal_type sex_upon_outcome age_upon_outcome  \\\n0    Rto-Adopt             NaN         Cat    Neutered Male          2 years   \n1     Adoption             NaN         Dog    Neutered Male           1 year   \n2   Euthanasia             NaN       Other          Unknown           1 year   \n3     Adoption             NaN         Dog    Neutered Male         4 months   \n4     Transfer         Partner         Cat      Intact Male           6 days   \n\n                                breed              color  \n0              Domestic Shorthair Mix  Brown Tabby/White  \n1             Chihuahua Shorthair Mix        White/Brown  \n2                             Raccoon               Gray  \n3  Anatol Shepherd/Labrador Retriever               Buff  \n4              Domestic Shorthair Mix       Orange Tabby  ",
      "text/html": "<div>\n<style scoped>\n    .dataframe tbody tr th:only-of-type {\n        vertical-align: middle;\n    }\n\n    .dataframe tbody tr th {\n        vertical-align: top;\n    }\n\n    .dataframe thead th {\n        text-align: right;\n    }\n</style>\n<table border=\"1\" class=\"dataframe\">\n  <thead>\n    <tr style=\"text-align: right;\">\n      <th></th>\n      <th>animal_id</th>\n      <th>name</th>\n      <th>datetime</th>\n      <th>date_of_birth</th>\n      <th>outcome_type</th>\n      <th>outcome_subtype</th>\n      <th>animal_type</th>\n      <th>sex_upon_outcome</th>\n      <th>age_upon_outcome</th>\n      <th>breed</th>\n      <th>color</th>\n    </tr>\n  </thead>\n  <tbody>\n    <tr>\n      <th>0</th>\n      <td>A794011</td>\n      <td>Chunk</td>\n      <td>2019-05-08T18:20:00.000</td>\n      <td>2017-05-02T00:00:00.000</td>\n      <td>Rto-Adopt</td>\n      <td>NaN</td>\n      <td>Cat</td>\n      <td>Neutered Male</td>\n      <td>2 years</td>\n      <td>Domestic Shorthair Mix</td>\n      <td>Brown Tabby/White</td>\n    </tr>\n    <tr>\n      <th>1</th>\n      <td>A776359</td>\n      <td>Gizmo</td>\n      <td>2018-07-18T16:02:00.000</td>\n      <td>2017-07-12T00:00:00.000</td>\n      <td>Adoption</td>\n      <td>NaN</td>\n      <td>Dog</td>\n      <td>Neutered Male</td>\n      <td>1 year</td>\n      <td>Chihuahua Shorthair Mix</td>\n      <td>White/Brown</td>\n    </tr>\n    <tr>\n      <th>2</th>\n      <td>A821648</td>\n      <td>NaN</td>\n      <td>2020-08-16T11:38:00.000</td>\n      <td>2019-08-16T00:00:00.000</td>\n      <td>Euthanasia</td>\n      <td>NaN</td>\n      <td>Other</td>\n      <td>Unknown</td>\n      <td>1 year</td>\n      <td>Raccoon</td>\n      <td>Gray</td>\n    </tr>\n    <tr>\n      <th>3</th>\n      <td>A720371</td>\n      <td>Moose</td>\n      <td>2016-02-13T17:59:00.000</td>\n      <td>2015-10-08T00:00:00.000</td>\n      <td>Adoption</td>\n      <td>NaN</td>\n      <td>Dog</td>\n      <td>Neutered Male</td>\n      <td>4 months</td>\n      <td>Anatol Shepherd/Labrador Retriever</td>\n      <td>Buff</td>\n    </tr>\n    <tr>\n      <th>4</th>\n      <td>A674754</td>\n      <td>NaN</td>\n      <td>2014-03-18T11:47:00.000</td>\n      <td>2014-03-12T00:00:00.000</td>\n      <td>Transfer</td>\n      <td>Partner</td>\n      <td>Cat</td>\n      <td>Intact Male</td>\n      <td>6 days</td>\n      <td>Domestic Shorthair Mix</td>\n      <td>Orange Tabby</td>\n    </tr>\n  </tbody>\n</table>\n</div>"
     },
     "execution_count": 8,
     "metadata": {},
     "output_type": "execute_result"
    }
   ],
   "source": [
    "outcome.head()"
   ]
  },
  {
   "cell_type": "markdown",
   "metadata": {
    "collapsed": false
   },
   "source": [
    "### **Sort data by `animal_id` and `datetime`**"
   ]
  },
  {
   "cell_type": "code",
   "execution_count": 9,
   "metadata": {
    "ExecuteTime": {
     "end_time": "2023-12-02T00:35:47.675484Z",
     "start_time": "2023-12-02T00:35:46.808404Z"
    }
   },
   "outputs": [],
   "source": [
    "intake = intake.sort_values(by=[\"animal_id\", \"datetime\"], ascending=True).reset_index(drop=True)\n",
    "outcome = outcome.sort_values(by=[\"animal_id\", \"datetime\"], ascending=True).reset_index(drop=True)"
   ]
  },
  {
   "cell_type": "code",
   "execution_count": 10,
   "metadata": {
    "ExecuteTime": {
     "end_time": "2023-12-02T00:35:47.692258Z",
     "start_time": "2023-12-02T00:35:47.681002Z"
    }
   },
   "outputs": [
    {
     "data": {
      "text/plain": "  animal_id    name                 datetime  \\\n0   A006100   Scamp  2014-03-07T14:26:00.000   \n1   A006100   Scamp  2014-12-19T10:21:00.000   \n2   A006100   Scamp  2017-12-07T14:07:00.000   \n3   A047759    Oreo  2014-04-02T15:55:00.000   \n4   A134067  Bandit  2013-11-16T09:02:00.000   \n\n                                  found_location      intake_type  \\\n0                   8700 Research in Austin (TX)    Public Assist   \n1              8700 Research Blvd in Austin (TX)    Public Assist   \n2  Colony Creek And Hunters Trace in Austin (TX)            Stray   \n3                                    Austin (TX)  Owner Surrender   \n4             12034 Research Blvd in Austin (TX)    Public Assist   \n\n  intake_condition animal_type sex_upon_intake age_upon_intake  \\\n0           Normal         Dog   Neutered Male         6 years   \n1           Normal         Dog   Neutered Male         7 years   \n2           Normal         Dog   Neutered Male        10 years   \n3           Normal         Dog   Neutered Male        10 years   \n4          Injured         Dog   Neutered Male        16 years   \n\n                  breed         color  \n0  Spinone Italiano Mix  Yellow/White  \n1  Spinone Italiano Mix  Yellow/White  \n2  Spinone Italiano Mix  Yellow/White  \n3             Dachshund      Tricolor  \n4     Shetland Sheepdog   Brown/White  ",
      "text/html": "<div>\n<style scoped>\n    .dataframe tbody tr th:only-of-type {\n        vertical-align: middle;\n    }\n\n    .dataframe tbody tr th {\n        vertical-align: top;\n    }\n\n    .dataframe thead th {\n        text-align: right;\n    }\n</style>\n<table border=\"1\" class=\"dataframe\">\n  <thead>\n    <tr style=\"text-align: right;\">\n      <th></th>\n      <th>animal_id</th>\n      <th>name</th>\n      <th>datetime</th>\n      <th>found_location</th>\n      <th>intake_type</th>\n      <th>intake_condition</th>\n      <th>animal_type</th>\n      <th>sex_upon_intake</th>\n      <th>age_upon_intake</th>\n      <th>breed</th>\n      <th>color</th>\n    </tr>\n  </thead>\n  <tbody>\n    <tr>\n      <th>0</th>\n      <td>A006100</td>\n      <td>Scamp</td>\n      <td>2014-03-07T14:26:00.000</td>\n      <td>8700 Research in Austin (TX)</td>\n      <td>Public Assist</td>\n      <td>Normal</td>\n      <td>Dog</td>\n      <td>Neutered Male</td>\n      <td>6 years</td>\n      <td>Spinone Italiano Mix</td>\n      <td>Yellow/White</td>\n    </tr>\n    <tr>\n      <th>1</th>\n      <td>A006100</td>\n      <td>Scamp</td>\n      <td>2014-12-19T10:21:00.000</td>\n      <td>8700 Research Blvd in Austin (TX)</td>\n      <td>Public Assist</td>\n      <td>Normal</td>\n      <td>Dog</td>\n      <td>Neutered Male</td>\n      <td>7 years</td>\n      <td>Spinone Italiano Mix</td>\n      <td>Yellow/White</td>\n    </tr>\n    <tr>\n      <th>2</th>\n      <td>A006100</td>\n      <td>Scamp</td>\n      <td>2017-12-07T14:07:00.000</td>\n      <td>Colony Creek And Hunters Trace in Austin (TX)</td>\n      <td>Stray</td>\n      <td>Normal</td>\n      <td>Dog</td>\n      <td>Neutered Male</td>\n      <td>10 years</td>\n      <td>Spinone Italiano Mix</td>\n      <td>Yellow/White</td>\n    </tr>\n    <tr>\n      <th>3</th>\n      <td>A047759</td>\n      <td>Oreo</td>\n      <td>2014-04-02T15:55:00.000</td>\n      <td>Austin (TX)</td>\n      <td>Owner Surrender</td>\n      <td>Normal</td>\n      <td>Dog</td>\n      <td>Neutered Male</td>\n      <td>10 years</td>\n      <td>Dachshund</td>\n      <td>Tricolor</td>\n    </tr>\n    <tr>\n      <th>4</th>\n      <td>A134067</td>\n      <td>Bandit</td>\n      <td>2013-11-16T09:02:00.000</td>\n      <td>12034 Research Blvd in Austin (TX)</td>\n      <td>Public Assist</td>\n      <td>Injured</td>\n      <td>Dog</td>\n      <td>Neutered Male</td>\n      <td>16 years</td>\n      <td>Shetland Sheepdog</td>\n      <td>Brown/White</td>\n    </tr>\n  </tbody>\n</table>\n</div>"
     },
     "execution_count": 10,
     "metadata": {},
     "output_type": "execute_result"
    }
   ],
   "source": [
    "intake.head()"
   ]
  },
  {
   "cell_type": "code",
   "execution_count": 11,
   "metadata": {
    "ExecuteTime": {
     "end_time": "2023-12-02T00:35:47.692776Z",
     "start_time": "2023-12-02T00:35:47.688933Z"
    }
   },
   "outputs": [
    {
     "data": {
      "text/plain": "  animal_id    name                 datetime            date_of_birth  \\\n0   A006100   Scamp  2014-03-08T17:10:00.000  2007-07-09T00:00:00.000   \n1   A006100   Scamp  2014-12-20T16:35:00.000  2007-07-09T00:00:00.000   \n2   A006100   Scamp  2017-12-07T00:00:00.000  2007-07-09T00:00:00.000   \n3   A047759    Oreo  2014-04-07T15:12:00.000  2004-04-02T00:00:00.000   \n4   A134067  Bandit  2013-11-16T11:54:00.000  1997-10-16T00:00:00.000   \n\n      outcome_type outcome_subtype animal_type sex_upon_outcome  \\\n0  Return to Owner             NaN         Dog    Neutered Male   \n1  Return to Owner             NaN         Dog    Neutered Male   \n2  Return to Owner             NaN         Dog    Neutered Male   \n3         Transfer         Partner         Dog    Neutered Male   \n4  Return to Owner             NaN         Dog    Neutered Male   \n\n  age_upon_outcome                 breed         color  \n0          6 years  Spinone Italiano Mix  Yellow/White  \n1          7 years  Spinone Italiano Mix  Yellow/White  \n2         10 years  Spinone Italiano Mix  Yellow/White  \n3         10 years             Dachshund      Tricolor  \n4         16 years     Shetland Sheepdog   Brown/White  ",
      "text/html": "<div>\n<style scoped>\n    .dataframe tbody tr th:only-of-type {\n        vertical-align: middle;\n    }\n\n    .dataframe tbody tr th {\n        vertical-align: top;\n    }\n\n    .dataframe thead th {\n        text-align: right;\n    }\n</style>\n<table border=\"1\" class=\"dataframe\">\n  <thead>\n    <tr style=\"text-align: right;\">\n      <th></th>\n      <th>animal_id</th>\n      <th>name</th>\n      <th>datetime</th>\n      <th>date_of_birth</th>\n      <th>outcome_type</th>\n      <th>outcome_subtype</th>\n      <th>animal_type</th>\n      <th>sex_upon_outcome</th>\n      <th>age_upon_outcome</th>\n      <th>breed</th>\n      <th>color</th>\n    </tr>\n  </thead>\n  <tbody>\n    <tr>\n      <th>0</th>\n      <td>A006100</td>\n      <td>Scamp</td>\n      <td>2014-03-08T17:10:00.000</td>\n      <td>2007-07-09T00:00:00.000</td>\n      <td>Return to Owner</td>\n      <td>NaN</td>\n      <td>Dog</td>\n      <td>Neutered Male</td>\n      <td>6 years</td>\n      <td>Spinone Italiano Mix</td>\n      <td>Yellow/White</td>\n    </tr>\n    <tr>\n      <th>1</th>\n      <td>A006100</td>\n      <td>Scamp</td>\n      <td>2014-12-20T16:35:00.000</td>\n      <td>2007-07-09T00:00:00.000</td>\n      <td>Return to Owner</td>\n      <td>NaN</td>\n      <td>Dog</td>\n      <td>Neutered Male</td>\n      <td>7 years</td>\n      <td>Spinone Italiano Mix</td>\n      <td>Yellow/White</td>\n    </tr>\n    <tr>\n      <th>2</th>\n      <td>A006100</td>\n      <td>Scamp</td>\n      <td>2017-12-07T00:00:00.000</td>\n      <td>2007-07-09T00:00:00.000</td>\n      <td>Return to Owner</td>\n      <td>NaN</td>\n      <td>Dog</td>\n      <td>Neutered Male</td>\n      <td>10 years</td>\n      <td>Spinone Italiano Mix</td>\n      <td>Yellow/White</td>\n    </tr>\n    <tr>\n      <th>3</th>\n      <td>A047759</td>\n      <td>Oreo</td>\n      <td>2014-04-07T15:12:00.000</td>\n      <td>2004-04-02T00:00:00.000</td>\n      <td>Transfer</td>\n      <td>Partner</td>\n      <td>Dog</td>\n      <td>Neutered Male</td>\n      <td>10 years</td>\n      <td>Dachshund</td>\n      <td>Tricolor</td>\n    </tr>\n    <tr>\n      <th>4</th>\n      <td>A134067</td>\n      <td>Bandit</td>\n      <td>2013-11-16T11:54:00.000</td>\n      <td>1997-10-16T00:00:00.000</td>\n      <td>Return to Owner</td>\n      <td>NaN</td>\n      <td>Dog</td>\n      <td>Neutered Male</td>\n      <td>16 years</td>\n      <td>Shetland Sheepdog</td>\n      <td>Brown/White</td>\n    </tr>\n  </tbody>\n</table>\n</div>"
     },
     "execution_count": 11,
     "metadata": {},
     "output_type": "execute_result"
    }
   ],
   "source": [
    "outcome.head()"
   ]
  },
  {
   "cell_type": "markdown",
   "metadata": {
    "ExecuteTime": {
     "start_time": "2023-11-30T19:04:43.545022Z"
    }
   },
   "source": [
    "### **Change format for datetime**"
   ]
  },
  {
   "cell_type": "code",
   "execution_count": 12,
   "metadata": {
    "ExecuteTime": {
     "end_time": "2023-12-02T00:35:48.568595Z",
     "start_time": "2023-12-02T00:35:47.762531Z"
    }
   },
   "outputs": [
    {
     "data": {
      "text/plain": "  animal_id    name            datetime  \\\n0   A006100   Scamp 2014-03-07 14:26:00   \n1   A006100   Scamp 2014-12-19 10:21:00   \n2   A006100   Scamp 2017-12-07 14:07:00   \n3   A047759    Oreo 2014-04-02 15:55:00   \n4   A134067  Bandit 2013-11-16 09:02:00   \n\n                                  found_location      intake_type  \\\n0                   8700 Research in Austin (TX)    Public Assist   \n1              8700 Research Blvd in Austin (TX)    Public Assist   \n2  Colony Creek And Hunters Trace in Austin (TX)            Stray   \n3                                    Austin (TX)  Owner Surrender   \n4             12034 Research Blvd in Austin (TX)    Public Assist   \n\n  intake_condition animal_type sex_upon_intake age_upon_intake  \\\n0           Normal         Dog   Neutered Male         6 years   \n1           Normal         Dog   Neutered Male         7 years   \n2           Normal         Dog   Neutered Male        10 years   \n3           Normal         Dog   Neutered Male        10 years   \n4          Injured         Dog   Neutered Male        16 years   \n\n                  breed         color  \n0  Spinone Italiano Mix  Yellow/White  \n1  Spinone Italiano Mix  Yellow/White  \n2  Spinone Italiano Mix  Yellow/White  \n3             Dachshund      Tricolor  \n4     Shetland Sheepdog   Brown/White  ",
      "text/html": "<div>\n<style scoped>\n    .dataframe tbody tr th:only-of-type {\n        vertical-align: middle;\n    }\n\n    .dataframe tbody tr th {\n        vertical-align: top;\n    }\n\n    .dataframe thead th {\n        text-align: right;\n    }\n</style>\n<table border=\"1\" class=\"dataframe\">\n  <thead>\n    <tr style=\"text-align: right;\">\n      <th></th>\n      <th>animal_id</th>\n      <th>name</th>\n      <th>datetime</th>\n      <th>found_location</th>\n      <th>intake_type</th>\n      <th>intake_condition</th>\n      <th>animal_type</th>\n      <th>sex_upon_intake</th>\n      <th>age_upon_intake</th>\n      <th>breed</th>\n      <th>color</th>\n    </tr>\n  </thead>\n  <tbody>\n    <tr>\n      <th>0</th>\n      <td>A006100</td>\n      <td>Scamp</td>\n      <td>2014-03-07 14:26:00</td>\n      <td>8700 Research in Austin (TX)</td>\n      <td>Public Assist</td>\n      <td>Normal</td>\n      <td>Dog</td>\n      <td>Neutered Male</td>\n      <td>6 years</td>\n      <td>Spinone Italiano Mix</td>\n      <td>Yellow/White</td>\n    </tr>\n    <tr>\n      <th>1</th>\n      <td>A006100</td>\n      <td>Scamp</td>\n      <td>2014-12-19 10:21:00</td>\n      <td>8700 Research Blvd in Austin (TX)</td>\n      <td>Public Assist</td>\n      <td>Normal</td>\n      <td>Dog</td>\n      <td>Neutered Male</td>\n      <td>7 years</td>\n      <td>Spinone Italiano Mix</td>\n      <td>Yellow/White</td>\n    </tr>\n    <tr>\n      <th>2</th>\n      <td>A006100</td>\n      <td>Scamp</td>\n      <td>2017-12-07 14:07:00</td>\n      <td>Colony Creek And Hunters Trace in Austin (TX)</td>\n      <td>Stray</td>\n      <td>Normal</td>\n      <td>Dog</td>\n      <td>Neutered Male</td>\n      <td>10 years</td>\n      <td>Spinone Italiano Mix</td>\n      <td>Yellow/White</td>\n    </tr>\n    <tr>\n      <th>3</th>\n      <td>A047759</td>\n      <td>Oreo</td>\n      <td>2014-04-02 15:55:00</td>\n      <td>Austin (TX)</td>\n      <td>Owner Surrender</td>\n      <td>Normal</td>\n      <td>Dog</td>\n      <td>Neutered Male</td>\n      <td>10 years</td>\n      <td>Dachshund</td>\n      <td>Tricolor</td>\n    </tr>\n    <tr>\n      <th>4</th>\n      <td>A134067</td>\n      <td>Bandit</td>\n      <td>2013-11-16 09:02:00</td>\n      <td>12034 Research Blvd in Austin (TX)</td>\n      <td>Public Assist</td>\n      <td>Injured</td>\n      <td>Dog</td>\n      <td>Neutered Male</td>\n      <td>16 years</td>\n      <td>Shetland Sheepdog</td>\n      <td>Brown/White</td>\n    </tr>\n  </tbody>\n</table>\n</div>"
     },
     "execution_count": 12,
     "metadata": {},
     "output_type": "execute_result"
    }
   ],
   "source": [
    "# date_format(df, col, format)\n",
    "date_format(intake, \"datetime\", \"%Y-%m-%d %H:%M\").head()"
   ]
  },
  {
   "cell_type": "code",
   "execution_count": 13,
   "metadata": {
    "ExecuteTime": {
     "end_time": "2023-12-02T00:35:49.657852Z",
     "start_time": "2023-12-02T00:35:48.568495Z"
    }
   },
   "outputs": [
    {
     "data": {
      "text/plain": "       animal_id    name            datetime date_of_birth     outcome_type  \\\n0        A006100   Scamp 2014-03-08 17:10:00    2007-07-09  Return to Owner   \n1        A006100   Scamp 2014-12-20 16:35:00    2007-07-09  Return to Owner   \n2        A006100   Scamp 2017-12-07 00:00:00    2007-07-09  Return to Owner   \n3        A047759    Oreo 2014-04-07 15:12:00    2004-04-02         Transfer   \n4        A134067  Bandit 2013-11-16 11:54:00    1997-10-16  Return to Owner   \n...          ...     ...                 ...           ...              ...   \n157502   A894008     NaN 2023-12-01 16:00:00    2023-11-20         Transfer   \n157503   A894009     NaN 2023-12-01 16:00:00    2023-11-20         Transfer   \n157504   A894010     NaN 2023-12-01 16:00:00    2023-11-20         Transfer   \n157505   A894011     NaN 2023-12-01 16:00:00    2023-11-20         Transfer   \n157506   A894012     NaN 2023-12-01 16:00:00    2023-11-20         Transfer   \n\n       outcome_subtype animal_type sex_upon_outcome age_upon_outcome  \\\n0                  NaN         Dog    Neutered Male          6 years   \n1                  NaN         Dog    Neutered Male          7 years   \n2                  NaN         Dog    Neutered Male         10 years   \n3              Partner         Dog    Neutered Male         10 years   \n4                  NaN         Dog    Neutered Male         16 years   \n...                ...         ...              ...              ...   \n157502         Partner         Cat          Unknown          1 weeks   \n157503         Partner         Cat          Unknown          1 weeks   \n157504         Partner         Cat          Unknown          1 weeks   \n157505         Partner         Cat          Unknown          1 weeks   \n157506         Partner         Cat          Unknown          1 weeks   \n\n                       breed         color  \n0       Spinone Italiano Mix  Yellow/White  \n1       Spinone Italiano Mix  Yellow/White  \n2       Spinone Italiano Mix  Yellow/White  \n3                  Dachshund      Tricolor  \n4          Shetland Sheepdog   Brown/White  \n...                      ...           ...  \n157502    Domestic Shorthair         Black  \n157503    Domestic Shorthair         Black  \n157504    Domestic Shorthair         Black  \n157505    Domestic Shorthair         Black  \n157506    Domestic Shorthair         Black  \n\n[157507 rows x 11 columns]",
      "text/html": "<div>\n<style scoped>\n    .dataframe tbody tr th:only-of-type {\n        vertical-align: middle;\n    }\n\n    .dataframe tbody tr th {\n        vertical-align: top;\n    }\n\n    .dataframe thead th {\n        text-align: right;\n    }\n</style>\n<table border=\"1\" class=\"dataframe\">\n  <thead>\n    <tr style=\"text-align: right;\">\n      <th></th>\n      <th>animal_id</th>\n      <th>name</th>\n      <th>datetime</th>\n      <th>date_of_birth</th>\n      <th>outcome_type</th>\n      <th>outcome_subtype</th>\n      <th>animal_type</th>\n      <th>sex_upon_outcome</th>\n      <th>age_upon_outcome</th>\n      <th>breed</th>\n      <th>color</th>\n    </tr>\n  </thead>\n  <tbody>\n    <tr>\n      <th>0</th>\n      <td>A006100</td>\n      <td>Scamp</td>\n      <td>2014-03-08 17:10:00</td>\n      <td>2007-07-09</td>\n      <td>Return to Owner</td>\n      <td>NaN</td>\n      <td>Dog</td>\n      <td>Neutered Male</td>\n      <td>6 years</td>\n      <td>Spinone Italiano Mix</td>\n      <td>Yellow/White</td>\n    </tr>\n    <tr>\n      <th>1</th>\n      <td>A006100</td>\n      <td>Scamp</td>\n      <td>2014-12-20 16:35:00</td>\n      <td>2007-07-09</td>\n      <td>Return to Owner</td>\n      <td>NaN</td>\n      <td>Dog</td>\n      <td>Neutered Male</td>\n      <td>7 years</td>\n      <td>Spinone Italiano Mix</td>\n      <td>Yellow/White</td>\n    </tr>\n    <tr>\n      <th>2</th>\n      <td>A006100</td>\n      <td>Scamp</td>\n      <td>2017-12-07 00:00:00</td>\n      <td>2007-07-09</td>\n      <td>Return to Owner</td>\n      <td>NaN</td>\n      <td>Dog</td>\n      <td>Neutered Male</td>\n      <td>10 years</td>\n      <td>Spinone Italiano Mix</td>\n      <td>Yellow/White</td>\n    </tr>\n    <tr>\n      <th>3</th>\n      <td>A047759</td>\n      <td>Oreo</td>\n      <td>2014-04-07 15:12:00</td>\n      <td>2004-04-02</td>\n      <td>Transfer</td>\n      <td>Partner</td>\n      <td>Dog</td>\n      <td>Neutered Male</td>\n      <td>10 years</td>\n      <td>Dachshund</td>\n      <td>Tricolor</td>\n    </tr>\n    <tr>\n      <th>4</th>\n      <td>A134067</td>\n      <td>Bandit</td>\n      <td>2013-11-16 11:54:00</td>\n      <td>1997-10-16</td>\n      <td>Return to Owner</td>\n      <td>NaN</td>\n      <td>Dog</td>\n      <td>Neutered Male</td>\n      <td>16 years</td>\n      <td>Shetland Sheepdog</td>\n      <td>Brown/White</td>\n    </tr>\n    <tr>\n      <th>...</th>\n      <td>...</td>\n      <td>...</td>\n      <td>...</td>\n      <td>...</td>\n      <td>...</td>\n      <td>...</td>\n      <td>...</td>\n      <td>...</td>\n      <td>...</td>\n      <td>...</td>\n      <td>...</td>\n    </tr>\n    <tr>\n      <th>157502</th>\n      <td>A894008</td>\n      <td>NaN</td>\n      <td>2023-12-01 16:00:00</td>\n      <td>2023-11-20</td>\n      <td>Transfer</td>\n      <td>Partner</td>\n      <td>Cat</td>\n      <td>Unknown</td>\n      <td>1 weeks</td>\n      <td>Domestic Shorthair</td>\n      <td>Black</td>\n    </tr>\n    <tr>\n      <th>157503</th>\n      <td>A894009</td>\n      <td>NaN</td>\n      <td>2023-12-01 16:00:00</td>\n      <td>2023-11-20</td>\n      <td>Transfer</td>\n      <td>Partner</td>\n      <td>Cat</td>\n      <td>Unknown</td>\n      <td>1 weeks</td>\n      <td>Domestic Shorthair</td>\n      <td>Black</td>\n    </tr>\n    <tr>\n      <th>157504</th>\n      <td>A894010</td>\n      <td>NaN</td>\n      <td>2023-12-01 16:00:00</td>\n      <td>2023-11-20</td>\n      <td>Transfer</td>\n      <td>Partner</td>\n      <td>Cat</td>\n      <td>Unknown</td>\n      <td>1 weeks</td>\n      <td>Domestic Shorthair</td>\n      <td>Black</td>\n    </tr>\n    <tr>\n      <th>157505</th>\n      <td>A894011</td>\n      <td>NaN</td>\n      <td>2023-12-01 16:00:00</td>\n      <td>2023-11-20</td>\n      <td>Transfer</td>\n      <td>Partner</td>\n      <td>Cat</td>\n      <td>Unknown</td>\n      <td>1 weeks</td>\n      <td>Domestic Shorthair</td>\n      <td>Black</td>\n    </tr>\n    <tr>\n      <th>157506</th>\n      <td>A894012</td>\n      <td>NaN</td>\n      <td>2023-12-01 16:00:00</td>\n      <td>2023-11-20</td>\n      <td>Transfer</td>\n      <td>Partner</td>\n      <td>Cat</td>\n      <td>Unknown</td>\n      <td>1 weeks</td>\n      <td>Domestic Shorthair</td>\n      <td>Black</td>\n    </tr>\n  </tbody>\n</table>\n<p>157507 rows × 11 columns</p>\n</div>"
     },
     "execution_count": 13,
     "metadata": {},
     "output_type": "execute_result"
    }
   ],
   "source": [
    "date_format(outcome, \"datetime\", \"%Y-%m-%d %H:%M\")\n",
    "date_format(outcome, \"date_of_birth\", \"%Y-%m-%d\")"
   ]
  },
  {
   "cell_type": "markdown",
   "metadata": {
    "ExecuteTime": {
     "start_time": "2023-11-30T19:04:43.548376Z"
    },
    "collapsed": false
   },
   "source": [
    "### **Check column names before merging dataframes**"
   ]
  },
  {
   "cell_type": "code",
   "execution_count": 14,
   "metadata": {
    "collapsed": false,
    "ExecuteTime": {
     "end_time": "2023-12-02T00:35:49.664934Z",
     "start_time": "2023-12-02T00:35:49.662213Z"
    }
   },
   "outputs": [
    {
     "data": {
      "text/plain": "Index(['animal_id', 'name', 'datetime', 'found_location', 'intake_type',\n       'intake_condition', 'animal_type', 'sex_upon_intake', 'age_upon_intake',\n       'breed', 'color'],\n      dtype='object')"
     },
     "execution_count": 14,
     "metadata": {},
     "output_type": "execute_result"
    }
   ],
   "source": [
    "intake.columns"
   ]
  },
  {
   "cell_type": "code",
   "execution_count": 15,
   "metadata": {
    "collapsed": false,
    "ExecuteTime": {
     "end_time": "2023-12-02T00:35:49.674985Z",
     "start_time": "2023-12-02T00:35:49.667304Z"
    }
   },
   "outputs": [
    {
     "data": {
      "text/plain": "Index(['animal_id', 'name', 'datetime', 'date_of_birth', 'outcome_type',\n       'outcome_subtype', 'animal_type', 'sex_upon_outcome',\n       'age_upon_outcome', 'breed', 'color'],\n      dtype='object')"
     },
     "execution_count": 15,
     "metadata": {},
     "output_type": "execute_result"
    }
   ],
   "source": [
    "outcome.columns"
   ]
  },
  {
   "cell_type": "markdown",
   "metadata": {
    "ExecuteTime": {
     "start_time": "2023-11-30T19:04:43.551335Z"
    },
    "collapsed": false
   },
   "source": [
    "### **Drop duplicated columns in outcome data**\n",
    "`name`, `animal_type`, `sex_upon_outcome`, `breed`, and `color` are columns that exist in both data"
   ]
  },
  {
   "cell_type": "code",
   "execution_count": 16,
   "metadata": {
    "collapsed": false,
    "ExecuteTime": {
     "end_time": "2023-12-02T00:35:49.719954Z",
     "start_time": "2023-12-02T00:35:49.680117Z"
    }
   },
   "outputs": [],
   "source": [
    "outcome.drop([\"name\", \"animal_type\", \"sex_upon_outcome\", \"breed\", \"color\"],\n",
    "             inplace=True,\n",
    "             axis=1)"
   ]
  },
  {
   "cell_type": "markdown",
   "metadata": {
    "collapsed": false
   },
   "source": [
    "### **Merge dataframes**"
   ]
  },
  {
   "cell_type": "code",
   "execution_count": 17,
   "metadata": {
    "collapsed": false,
    "ExecuteTime": {
     "end_time": "2023-12-02T00:36:07.616736Z",
     "start_time": "2023-12-02T00:35:49.684438Z"
    }
   },
   "outputs": [
    {
     "data": {
      "text/plain": "  animal_id    name     datetime_intake  \\\n0   A006100   Scamp 2014-03-07 14:26:00   \n1   A006100   Scamp 2014-12-19 10:21:00   \n2   A006100   Scamp 2017-12-07 14:07:00   \n3   A047759    Oreo 2014-04-02 15:55:00   \n4   A134067  Bandit 2013-11-16 09:02:00   \n\n                                  found_location      intake_type  \\\n0                   8700 Research in Austin (TX)    Public Assist   \n1              8700 Research Blvd in Austin (TX)    Public Assist   \n2  Colony Creek And Hunters Trace in Austin (TX)            Stray   \n3                                    Austin (TX)  Owner Surrender   \n4             12034 Research Blvd in Austin (TX)    Public Assist   \n\n  intake_condition animal_type sex_upon_intake age_upon_intake  \\\n0           Normal         Dog   Neutered Male         6 years   \n1           Normal         Dog   Neutered Male         7 years   \n2           Normal         Dog   Neutered Male        10 years   \n3           Normal         Dog   Neutered Male        10 years   \n4          Injured         Dog   Neutered Male        16 years   \n\n                  breed         color    datetime_outcome    datetime_outcome  \\\n0  Spinone Italiano Mix  Yellow/White 2014-03-08 17:10:00 2014-03-08 17:10:00   \n1  Spinone Italiano Mix  Yellow/White 2014-12-20 16:35:00 2014-12-20 16:35:00   \n2  Spinone Italiano Mix  Yellow/White 2017-12-07 00:00:00 2017-12-07 00:00:00   \n3             Dachshund      Tricolor 2014-04-07 15:12:00 2014-04-07 15:12:00   \n4     Shetland Sheepdog   Brown/White 2013-11-16 11:54:00 2013-11-16 11:54:00   \n\n  date_of_birth     outcome_type outcome_subtype age_upon_outcome  \n0    2007-07-09  Return to Owner             NaN          6 years  \n1    2007-07-09  Return to Owner             NaN          7 years  \n2    2007-07-09  Return to Owner             NaN         10 years  \n3    2004-04-02         Transfer         Partner         10 years  \n4    1997-10-16  Return to Owner             NaN         16 years  ",
      "text/html": "<div>\n<style scoped>\n    .dataframe tbody tr th:only-of-type {\n        vertical-align: middle;\n    }\n\n    .dataframe tbody tr th {\n        vertical-align: top;\n    }\n\n    .dataframe thead th {\n        text-align: right;\n    }\n</style>\n<table border=\"1\" class=\"dataframe\">\n  <thead>\n    <tr style=\"text-align: right;\">\n      <th></th>\n      <th>animal_id</th>\n      <th>name</th>\n      <th>datetime_intake</th>\n      <th>found_location</th>\n      <th>intake_type</th>\n      <th>intake_condition</th>\n      <th>animal_type</th>\n      <th>sex_upon_intake</th>\n      <th>age_upon_intake</th>\n      <th>breed</th>\n      <th>color</th>\n      <th>datetime_outcome</th>\n      <th>datetime_outcome</th>\n      <th>date_of_birth</th>\n      <th>outcome_type</th>\n      <th>outcome_subtype</th>\n      <th>age_upon_outcome</th>\n    </tr>\n  </thead>\n  <tbody>\n    <tr>\n      <th>0</th>\n      <td>A006100</td>\n      <td>Scamp</td>\n      <td>2014-03-07 14:26:00</td>\n      <td>8700 Research in Austin (TX)</td>\n      <td>Public Assist</td>\n      <td>Normal</td>\n      <td>Dog</td>\n      <td>Neutered Male</td>\n      <td>6 years</td>\n      <td>Spinone Italiano Mix</td>\n      <td>Yellow/White</td>\n      <td>2014-03-08 17:10:00</td>\n      <td>2014-03-08 17:10:00</td>\n      <td>2007-07-09</td>\n      <td>Return to Owner</td>\n      <td>NaN</td>\n      <td>6 years</td>\n    </tr>\n    <tr>\n      <th>1</th>\n      <td>A006100</td>\n      <td>Scamp</td>\n      <td>2014-12-19 10:21:00</td>\n      <td>8700 Research Blvd in Austin (TX)</td>\n      <td>Public Assist</td>\n      <td>Normal</td>\n      <td>Dog</td>\n      <td>Neutered Male</td>\n      <td>7 years</td>\n      <td>Spinone Italiano Mix</td>\n      <td>Yellow/White</td>\n      <td>2014-12-20 16:35:00</td>\n      <td>2014-12-20 16:35:00</td>\n      <td>2007-07-09</td>\n      <td>Return to Owner</td>\n      <td>NaN</td>\n      <td>7 years</td>\n    </tr>\n    <tr>\n      <th>2</th>\n      <td>A006100</td>\n      <td>Scamp</td>\n      <td>2017-12-07 14:07:00</td>\n      <td>Colony Creek And Hunters Trace in Austin (TX)</td>\n      <td>Stray</td>\n      <td>Normal</td>\n      <td>Dog</td>\n      <td>Neutered Male</td>\n      <td>10 years</td>\n      <td>Spinone Italiano Mix</td>\n      <td>Yellow/White</td>\n      <td>2017-12-07 00:00:00</td>\n      <td>2017-12-07 00:00:00</td>\n      <td>2007-07-09</td>\n      <td>Return to Owner</td>\n      <td>NaN</td>\n      <td>10 years</td>\n    </tr>\n    <tr>\n      <th>3</th>\n      <td>A047759</td>\n      <td>Oreo</td>\n      <td>2014-04-02 15:55:00</td>\n      <td>Austin (TX)</td>\n      <td>Owner Surrender</td>\n      <td>Normal</td>\n      <td>Dog</td>\n      <td>Neutered Male</td>\n      <td>10 years</td>\n      <td>Dachshund</td>\n      <td>Tricolor</td>\n      <td>2014-04-07 15:12:00</td>\n      <td>2014-04-07 15:12:00</td>\n      <td>2004-04-02</td>\n      <td>Transfer</td>\n      <td>Partner</td>\n      <td>10 years</td>\n    </tr>\n    <tr>\n      <th>4</th>\n      <td>A134067</td>\n      <td>Bandit</td>\n      <td>2013-11-16 09:02:00</td>\n      <td>12034 Research Blvd in Austin (TX)</td>\n      <td>Public Assist</td>\n      <td>Injured</td>\n      <td>Dog</td>\n      <td>Neutered Male</td>\n      <td>16 years</td>\n      <td>Shetland Sheepdog</td>\n      <td>Brown/White</td>\n      <td>2013-11-16 11:54:00</td>\n      <td>2013-11-16 11:54:00</td>\n      <td>1997-10-16</td>\n      <td>Return to Owner</td>\n      <td>NaN</td>\n      <td>16 years</td>\n    </tr>\n  </tbody>\n</table>\n</div>"
     },
     "execution_count": 17,
     "metadata": {},
     "output_type": "execute_result"
    }
   ],
   "source": [
    "intake_n_outcome = merge_intake_n_outcome(intake, outcome)\n",
    "intake_n_outcome.head()"
   ]
  },
  {
   "cell_type": "markdown",
   "metadata": {
    "ExecuteTime": {
     "start_time": "2023-11-30T19:04:43.553245Z"
    },
    "collapsed": false
   },
   "source": [
    "In certain cases, an animal's information may be entered multiple times due to updates in basic details such as `intake_type` or `intake_condition`. Consequently, resolving the issue by solely dropping duplicates at the outset may not suffice. Instead, duplicates will be identified if rows exhibit matching values for `animal_id`, `intake_datetime`, and `outcome_datetime`."
   ]
  },
  {
   "cell_type": "code",
   "execution_count": 18,
   "metadata": {
    "collapsed": false,
    "ExecuteTime": {
     "end_time": "2023-12-02T00:36:07.781994Z",
     "start_time": "2023-12-02T00:36:07.622395Z"
    }
   },
   "outputs": [
    {
     "data": {
      "text/plain": "  animal_id    name     datetime_intake  \\\n0   A006100   Scamp 2014-03-07 14:26:00   \n1   A006100   Scamp 2014-12-19 10:21:00   \n2   A006100   Scamp 2017-12-07 14:07:00   \n3   A047759    Oreo 2014-04-02 15:55:00   \n4   A134067  Bandit 2013-11-16 09:02:00   \n\n                                  found_location      intake_type  \\\n0                   8700 Research in Austin (TX)    Public Assist   \n1              8700 Research Blvd in Austin (TX)    Public Assist   \n2  Colony Creek And Hunters Trace in Austin (TX)            Stray   \n3                                    Austin (TX)  Owner Surrender   \n4             12034 Research Blvd in Austin (TX)    Public Assist   \n\n  intake_condition animal_type sex_upon_intake age_upon_intake  \\\n0           Normal         Dog   Neutered Male         6 years   \n1           Normal         Dog   Neutered Male         7 years   \n2           Normal         Dog   Neutered Male        10 years   \n3           Normal         Dog   Neutered Male        10 years   \n4          Injured         Dog   Neutered Male        16 years   \n\n                  breed         color    datetime_outcome date_of_birth  \\\n0  Spinone Italiano Mix  Yellow/White 2014-03-08 17:10:00    2007-07-09   \n1  Spinone Italiano Mix  Yellow/White 2014-12-20 16:35:00    2007-07-09   \n2  Spinone Italiano Mix  Yellow/White 2017-12-07 00:00:00    2007-07-09   \n3             Dachshund      Tricolor 2014-04-07 15:12:00    2004-04-02   \n4     Shetland Sheepdog   Brown/White 2013-11-16 11:54:00    1997-10-16   \n\n      outcome_type outcome_subtype age_upon_outcome  \n0  Return to Owner             NaN          6 years  \n1  Return to Owner             NaN          7 years  \n2  Return to Owner             NaN         10 years  \n3         Transfer         Partner         10 years  \n4  Return to Owner             NaN         16 years  ",
      "text/html": "<div>\n<style scoped>\n    .dataframe tbody tr th:only-of-type {\n        vertical-align: middle;\n    }\n\n    .dataframe tbody tr th {\n        vertical-align: top;\n    }\n\n    .dataframe thead th {\n        text-align: right;\n    }\n</style>\n<table border=\"1\" class=\"dataframe\">\n  <thead>\n    <tr style=\"text-align: right;\">\n      <th></th>\n      <th>animal_id</th>\n      <th>name</th>\n      <th>datetime_intake</th>\n      <th>found_location</th>\n      <th>intake_type</th>\n      <th>intake_condition</th>\n      <th>animal_type</th>\n      <th>sex_upon_intake</th>\n      <th>age_upon_intake</th>\n      <th>breed</th>\n      <th>color</th>\n      <th>datetime_outcome</th>\n      <th>date_of_birth</th>\n      <th>outcome_type</th>\n      <th>outcome_subtype</th>\n      <th>age_upon_outcome</th>\n    </tr>\n  </thead>\n  <tbody>\n    <tr>\n      <th>0</th>\n      <td>A006100</td>\n      <td>Scamp</td>\n      <td>2014-03-07 14:26:00</td>\n      <td>8700 Research in Austin (TX)</td>\n      <td>Public Assist</td>\n      <td>Normal</td>\n      <td>Dog</td>\n      <td>Neutered Male</td>\n      <td>6 years</td>\n      <td>Spinone Italiano Mix</td>\n      <td>Yellow/White</td>\n      <td>2014-03-08 17:10:00</td>\n      <td>2007-07-09</td>\n      <td>Return to Owner</td>\n      <td>NaN</td>\n      <td>6 years</td>\n    </tr>\n    <tr>\n      <th>1</th>\n      <td>A006100</td>\n      <td>Scamp</td>\n      <td>2014-12-19 10:21:00</td>\n      <td>8700 Research Blvd in Austin (TX)</td>\n      <td>Public Assist</td>\n      <td>Normal</td>\n      <td>Dog</td>\n      <td>Neutered Male</td>\n      <td>7 years</td>\n      <td>Spinone Italiano Mix</td>\n      <td>Yellow/White</td>\n      <td>2014-12-20 16:35:00</td>\n      <td>2007-07-09</td>\n      <td>Return to Owner</td>\n      <td>NaN</td>\n      <td>7 years</td>\n    </tr>\n    <tr>\n      <th>2</th>\n      <td>A006100</td>\n      <td>Scamp</td>\n      <td>2017-12-07 14:07:00</td>\n      <td>Colony Creek And Hunters Trace in Austin (TX)</td>\n      <td>Stray</td>\n      <td>Normal</td>\n      <td>Dog</td>\n      <td>Neutered Male</td>\n      <td>10 years</td>\n      <td>Spinone Italiano Mix</td>\n      <td>Yellow/White</td>\n      <td>2017-12-07 00:00:00</td>\n      <td>2007-07-09</td>\n      <td>Return to Owner</td>\n      <td>NaN</td>\n      <td>10 years</td>\n    </tr>\n    <tr>\n      <th>3</th>\n      <td>A047759</td>\n      <td>Oreo</td>\n      <td>2014-04-02 15:55:00</td>\n      <td>Austin (TX)</td>\n      <td>Owner Surrender</td>\n      <td>Normal</td>\n      <td>Dog</td>\n      <td>Neutered Male</td>\n      <td>10 years</td>\n      <td>Dachshund</td>\n      <td>Tricolor</td>\n      <td>2014-04-07 15:12:00</td>\n      <td>2004-04-02</td>\n      <td>Transfer</td>\n      <td>Partner</td>\n      <td>10 years</td>\n    </tr>\n    <tr>\n      <th>4</th>\n      <td>A134067</td>\n      <td>Bandit</td>\n      <td>2013-11-16 09:02:00</td>\n      <td>12034 Research Blvd in Austin (TX)</td>\n      <td>Public Assist</td>\n      <td>Injured</td>\n      <td>Dog</td>\n      <td>Neutered Male</td>\n      <td>16 years</td>\n      <td>Shetland Sheepdog</td>\n      <td>Brown/White</td>\n      <td>2013-11-16 11:54:00</td>\n      <td>1997-10-16</td>\n      <td>Return to Owner</td>\n      <td>NaN</td>\n      <td>16 years</td>\n    </tr>\n  </tbody>\n</table>\n</div>"
     },
     "execution_count": 18,
     "metadata": {},
     "output_type": "execute_result"
    }
   ],
   "source": [
    "intake_n_outcome.drop_duplicates(subset = [\"animal_id\", \"datetime_intake\", \"datetime_outcome\"],\n",
    "                                 inplace=True)\n",
    "intake_n_outcome = intake_n_outcome.loc[:,~intake_n_outcome.columns.duplicated()]\n",
    "intake_n_outcome.head()"
   ]
  },
  {
   "cell_type": "code",
   "execution_count": 19,
   "metadata": {
    "collapsed": false,
    "ExecuteTime": {
     "end_time": "2023-12-02T00:36:07.782720Z",
     "start_time": "2023-12-02T00:36:07.726045Z"
    }
   },
   "outputs": [
    {
     "data": {
      "text/plain": "Index(['animal_id', 'name', 'datetime_intake', 'found_location', 'intake_type',\n       'intake_condition', 'animal_type', 'sex_upon_intake', 'age_upon_intake',\n       'breed', 'color', 'datetime_outcome', 'date_of_birth', 'outcome_type',\n       'outcome_subtype', 'age_upon_outcome'],\n      dtype='object')"
     },
     "execution_count": 19,
     "metadata": {},
     "output_type": "execute_result"
    }
   ],
   "source": [
    "intake_n_outcome.columns"
   ]
  },
  {
   "cell_type": "markdown",
   "metadata": {
    "collapsed": false
   },
   "source": [
    "### **Reorder columns**"
   ]
  },
  {
   "cell_type": "code",
   "execution_count": 20,
   "metadata": {
    "collapsed": false,
    "ExecuteTime": {
     "end_time": "2023-12-02T00:36:07.792746Z",
     "start_time": "2023-12-02T00:36:07.732015Z"
    }
   },
   "outputs": [
    {
     "data": {
      "text/plain": "  animal_id    name animal_type            sex                 breed  \\\n0   A006100   Scamp         Dog  Neutered Male  Spinone Italiano Mix   \n1   A006100   Scamp         Dog  Neutered Male  Spinone Italiano Mix   \n2   A006100   Scamp         Dog  Neutered Male  Spinone Italiano Mix   \n3   A047759    Oreo         Dog  Neutered Male             Dachshund   \n4   A134067  Bandit         Dog  Neutered Male     Shetland Sheepdog   \n\n          color date_of_birth                                 found_location  \\\n0  Yellow/White    2007-07-09                   8700 Research in Austin (TX)   \n1  Yellow/White    2007-07-09              8700 Research Blvd in Austin (TX)   \n2  Yellow/White    2007-07-09  Colony Creek And Hunters Trace in Austin (TX)   \n3      Tricolor    2004-04-02                                    Austin (TX)   \n4   Brown/White    1997-10-16             12034 Research Blvd in Austin (TX)   \n\n      intake_datetime age_upon_intake    outcome_datetime age_upon_outcome  \\\n0 2014-03-07 14:26:00         6 years 2014-03-08 17:10:00          6 years   \n1 2014-12-19 10:21:00         7 years 2014-12-20 16:35:00          7 years   \n2 2017-12-07 14:07:00        10 years 2017-12-07 00:00:00         10 years   \n3 2014-04-02 15:55:00        10 years 2014-04-07 15:12:00         10 years   \n4 2013-11-16 09:02:00        16 years 2013-11-16 11:54:00         16 years   \n\n       intake_type intake_condition     outcome_type outcome_subtype  \n0    Public Assist           Normal  Return to Owner             NaN  \n1    Public Assist           Normal  Return to Owner             NaN  \n2            Stray           Normal  Return to Owner             NaN  \n3  Owner Surrender           Normal         Transfer         Partner  \n4    Public Assist          Injured  Return to Owner             NaN  ",
      "text/html": "<div>\n<style scoped>\n    .dataframe tbody tr th:only-of-type {\n        vertical-align: middle;\n    }\n\n    .dataframe tbody tr th {\n        vertical-align: top;\n    }\n\n    .dataframe thead th {\n        text-align: right;\n    }\n</style>\n<table border=\"1\" class=\"dataframe\">\n  <thead>\n    <tr style=\"text-align: right;\">\n      <th></th>\n      <th>animal_id</th>\n      <th>name</th>\n      <th>animal_type</th>\n      <th>sex</th>\n      <th>breed</th>\n      <th>color</th>\n      <th>date_of_birth</th>\n      <th>found_location</th>\n      <th>intake_datetime</th>\n      <th>age_upon_intake</th>\n      <th>outcome_datetime</th>\n      <th>age_upon_outcome</th>\n      <th>intake_type</th>\n      <th>intake_condition</th>\n      <th>outcome_type</th>\n      <th>outcome_subtype</th>\n    </tr>\n  </thead>\n  <tbody>\n    <tr>\n      <th>0</th>\n      <td>A006100</td>\n      <td>Scamp</td>\n      <td>Dog</td>\n      <td>Neutered Male</td>\n      <td>Spinone Italiano Mix</td>\n      <td>Yellow/White</td>\n      <td>2007-07-09</td>\n      <td>8700 Research in Austin (TX)</td>\n      <td>2014-03-07 14:26:00</td>\n      <td>6 years</td>\n      <td>2014-03-08 17:10:00</td>\n      <td>6 years</td>\n      <td>Public Assist</td>\n      <td>Normal</td>\n      <td>Return to Owner</td>\n      <td>NaN</td>\n    </tr>\n    <tr>\n      <th>1</th>\n      <td>A006100</td>\n      <td>Scamp</td>\n      <td>Dog</td>\n      <td>Neutered Male</td>\n      <td>Spinone Italiano Mix</td>\n      <td>Yellow/White</td>\n      <td>2007-07-09</td>\n      <td>8700 Research Blvd in Austin (TX)</td>\n      <td>2014-12-19 10:21:00</td>\n      <td>7 years</td>\n      <td>2014-12-20 16:35:00</td>\n      <td>7 years</td>\n      <td>Public Assist</td>\n      <td>Normal</td>\n      <td>Return to Owner</td>\n      <td>NaN</td>\n    </tr>\n    <tr>\n      <th>2</th>\n      <td>A006100</td>\n      <td>Scamp</td>\n      <td>Dog</td>\n      <td>Neutered Male</td>\n      <td>Spinone Italiano Mix</td>\n      <td>Yellow/White</td>\n      <td>2007-07-09</td>\n      <td>Colony Creek And Hunters Trace in Austin (TX)</td>\n      <td>2017-12-07 14:07:00</td>\n      <td>10 years</td>\n      <td>2017-12-07 00:00:00</td>\n      <td>10 years</td>\n      <td>Stray</td>\n      <td>Normal</td>\n      <td>Return to Owner</td>\n      <td>NaN</td>\n    </tr>\n    <tr>\n      <th>3</th>\n      <td>A047759</td>\n      <td>Oreo</td>\n      <td>Dog</td>\n      <td>Neutered Male</td>\n      <td>Dachshund</td>\n      <td>Tricolor</td>\n      <td>2004-04-02</td>\n      <td>Austin (TX)</td>\n      <td>2014-04-02 15:55:00</td>\n      <td>10 years</td>\n      <td>2014-04-07 15:12:00</td>\n      <td>10 years</td>\n      <td>Owner Surrender</td>\n      <td>Normal</td>\n      <td>Transfer</td>\n      <td>Partner</td>\n    </tr>\n    <tr>\n      <th>4</th>\n      <td>A134067</td>\n      <td>Bandit</td>\n      <td>Dog</td>\n      <td>Neutered Male</td>\n      <td>Shetland Sheepdog</td>\n      <td>Brown/White</td>\n      <td>1997-10-16</td>\n      <td>12034 Research Blvd in Austin (TX)</td>\n      <td>2013-11-16 09:02:00</td>\n      <td>16 years</td>\n      <td>2013-11-16 11:54:00</td>\n      <td>16 years</td>\n      <td>Public Assist</td>\n      <td>Injured</td>\n      <td>Return to Owner</td>\n      <td>NaN</td>\n    </tr>\n  </tbody>\n</table>\n</div>"
     },
     "execution_count": 20,
     "metadata": {},
     "output_type": "execute_result"
    }
   ],
   "source": [
    "column_order = {\n",
    "    \"animal_id\": \"animal_id\",\n",
    "    \"name\": \"name\",\n",
    "    \"animal_type\": \"animal_type\",\n",
    "    \"sex_upon_intake\": \"sex\",\n",
    "    \"breed\": \"breed\",\n",
    "    \"color\": \"color\",\n",
    "    \"date_of_birth\": \"date_of_birth\",\n",
    "    \"found_location\": \"found_location\",\n",
    "    \"datetime_intake\": \"intake_datetime\",\n",
    "    \"age_upon_intake\": \"age_upon_intake\",\n",
    "    \"datetime_outcome\": \"outcome_datetime\",\n",
    "    \"age_upon_outcome\": \"age_upon_outcome\",\n",
    "    \"intake_type\": \"intake_type\",\n",
    "    \"intake_condition\": \"intake_condition\",\n",
    "    \"outcome_type\": \"outcome_type\",\n",
    "    \"outcome_subtype\": \"outcome_subtype\"\n",
    "}\n",
    "intake_n_outcome = intake_n_outcome.rename(columns=column_order)[column_order.values()]\n",
    "intake_n_outcome.head()"
   ]
  },
  {
   "cell_type": "markdown",
   "metadata": {
    "ExecuteTime": {
     "start_time": "2023-11-30T19:04:43.557034Z"
    },
    "collapsed": false
   },
   "source": [
    "### **Calculate age upon intake and outcome (in years) to 1 decimal point**"
   ]
  },
  {
   "cell_type": "code",
   "execution_count": 21,
   "metadata": {
    "collapsed": false,
    "ExecuteTime": {
     "end_time": "2023-12-02T00:36:07.905836Z",
     "start_time": "2023-12-02T00:36:07.791895Z"
    }
   },
   "outputs": [
    {
     "data": {
      "text/plain": "0          6.7\n1          7.4\n2         10.4\n3         10.0\n4         16.1\n          ... \n157581     NaN\n157582     NaN\n157583     NaN\n157584     NaN\n157585     NaN\nName: age_upon_outcome(years), Length: 157585, dtype: float64"
     },
     "execution_count": 21,
     "metadata": {},
     "output_type": "execute_result"
    }
   ],
   "source": [
    "calculate_time_delta(intake_n_outcome, start=\"date_of_birth\", end=\"intake_datetime\", unit=\"years\", col_suffix=\"intake\")\n",
    "calculate_time_delta(intake_n_outcome, start=\"date_of_birth\", end=\"outcome_datetime\", unit=\"years\", col_suffix=\"outcome\")"
   ]
  },
  {
   "cell_type": "markdown",
   "metadata": {
    "collapsed": false
   },
   "source": [
    "### **Calculate the duration an animal stays in the center (in days)**"
   ]
  },
  {
   "cell_type": "code",
   "execution_count": 22,
   "metadata": {
    "collapsed": false,
    "ExecuteTime": {
     "end_time": "2023-12-02T00:36:07.906141Z",
     "start_time": "2023-12-02T00:36:07.812340Z"
    }
   },
   "outputs": [
    {
     "data": {
      "text/plain": "0         1.0\n1         1.0\n2        -1.0\n3         4.0\n4         0.0\n         ... \n157581    NaN\n157582    NaN\n157583    NaN\n157584    NaN\n157585    NaN\nName: duration(days), Length: 157585, dtype: float64"
     },
     "execution_count": 22,
     "metadata": {},
     "output_type": "execute_result"
    }
   ],
   "source": [
    "calculate_time_delta(intake_n_outcome, start=\"intake_datetime\", end=\"outcome_datetime\", unit=\"days\")"
   ]
  },
  {
   "cell_type": "code",
   "execution_count": 23,
   "metadata": {
    "collapsed": false,
    "ExecuteTime": {
     "end_time": "2023-12-02T00:36:07.906629Z",
     "start_time": "2023-12-02T00:36:07.828996Z"
    }
   },
   "outputs": [
    {
     "data": {
      "text/plain": "  animal_id    name animal_type            sex                 breed  \\\n0   A006100   Scamp         Dog  Neutered Male  Spinone Italiano Mix   \n1   A006100   Scamp         Dog  Neutered Male  Spinone Italiano Mix   \n2   A006100   Scamp         Dog  Neutered Male  Spinone Italiano Mix   \n3   A047759    Oreo         Dog  Neutered Male             Dachshund   \n4   A134067  Bandit         Dog  Neutered Male     Shetland Sheepdog   \n\n          color date_of_birth                                 found_location  \\\n0  Yellow/White    2007-07-09                   8700 Research in Austin (TX)   \n1  Yellow/White    2007-07-09              8700 Research Blvd in Austin (TX)   \n2  Yellow/White    2007-07-09  Colony Creek And Hunters Trace in Austin (TX)   \n3      Tricolor    2004-04-02                                    Austin (TX)   \n4   Brown/White    1997-10-16             12034 Research Blvd in Austin (TX)   \n\n      intake_datetime age_upon_intake    outcome_datetime age_upon_outcome  \\\n0 2014-03-07 14:26:00         6 years 2014-03-08 17:10:00          6 years   \n1 2014-12-19 10:21:00         7 years 2014-12-20 16:35:00          7 years   \n2 2017-12-07 14:07:00        10 years 2017-12-07 00:00:00         10 years   \n3 2014-04-02 15:55:00        10 years 2014-04-07 15:12:00         10 years   \n4 2013-11-16 09:02:00        16 years 2013-11-16 11:54:00         16 years   \n\n       intake_type intake_condition     outcome_type outcome_subtype  \\\n0    Public Assist           Normal  Return to Owner             NaN   \n1    Public Assist           Normal  Return to Owner             NaN   \n2            Stray           Normal  Return to Owner             NaN   \n3  Owner Surrender           Normal         Transfer         Partner   \n4    Public Assist          Injured  Return to Owner             NaN   \n\n   age_upon_intake(years)  age_upon_outcome(years)  duration(days)  \n0                     6.7                      6.7             1.0  \n1                     7.4                      7.4             1.0  \n2                    10.4                     10.4            -1.0  \n3                    10.0                     10.0             4.0  \n4                    16.1                     16.1             0.0  ",
      "text/html": "<div>\n<style scoped>\n    .dataframe tbody tr th:only-of-type {\n        vertical-align: middle;\n    }\n\n    .dataframe tbody tr th {\n        vertical-align: top;\n    }\n\n    .dataframe thead th {\n        text-align: right;\n    }\n</style>\n<table border=\"1\" class=\"dataframe\">\n  <thead>\n    <tr style=\"text-align: right;\">\n      <th></th>\n      <th>animal_id</th>\n      <th>name</th>\n      <th>animal_type</th>\n      <th>sex</th>\n      <th>breed</th>\n      <th>color</th>\n      <th>date_of_birth</th>\n      <th>found_location</th>\n      <th>intake_datetime</th>\n      <th>age_upon_intake</th>\n      <th>outcome_datetime</th>\n      <th>age_upon_outcome</th>\n      <th>intake_type</th>\n      <th>intake_condition</th>\n      <th>outcome_type</th>\n      <th>outcome_subtype</th>\n      <th>age_upon_intake(years)</th>\n      <th>age_upon_outcome(years)</th>\n      <th>duration(days)</th>\n    </tr>\n  </thead>\n  <tbody>\n    <tr>\n      <th>0</th>\n      <td>A006100</td>\n      <td>Scamp</td>\n      <td>Dog</td>\n      <td>Neutered Male</td>\n      <td>Spinone Italiano Mix</td>\n      <td>Yellow/White</td>\n      <td>2007-07-09</td>\n      <td>8700 Research in Austin (TX)</td>\n      <td>2014-03-07 14:26:00</td>\n      <td>6 years</td>\n      <td>2014-03-08 17:10:00</td>\n      <td>6 years</td>\n      <td>Public Assist</td>\n      <td>Normal</td>\n      <td>Return to Owner</td>\n      <td>NaN</td>\n      <td>6.7</td>\n      <td>6.7</td>\n      <td>1.0</td>\n    </tr>\n    <tr>\n      <th>1</th>\n      <td>A006100</td>\n      <td>Scamp</td>\n      <td>Dog</td>\n      <td>Neutered Male</td>\n      <td>Spinone Italiano Mix</td>\n      <td>Yellow/White</td>\n      <td>2007-07-09</td>\n      <td>8700 Research Blvd in Austin (TX)</td>\n      <td>2014-12-19 10:21:00</td>\n      <td>7 years</td>\n      <td>2014-12-20 16:35:00</td>\n      <td>7 years</td>\n      <td>Public Assist</td>\n      <td>Normal</td>\n      <td>Return to Owner</td>\n      <td>NaN</td>\n      <td>7.4</td>\n      <td>7.4</td>\n      <td>1.0</td>\n    </tr>\n    <tr>\n      <th>2</th>\n      <td>A006100</td>\n      <td>Scamp</td>\n      <td>Dog</td>\n      <td>Neutered Male</td>\n      <td>Spinone Italiano Mix</td>\n      <td>Yellow/White</td>\n      <td>2007-07-09</td>\n      <td>Colony Creek And Hunters Trace in Austin (TX)</td>\n      <td>2017-12-07 14:07:00</td>\n      <td>10 years</td>\n      <td>2017-12-07 00:00:00</td>\n      <td>10 years</td>\n      <td>Stray</td>\n      <td>Normal</td>\n      <td>Return to Owner</td>\n      <td>NaN</td>\n      <td>10.4</td>\n      <td>10.4</td>\n      <td>-1.0</td>\n    </tr>\n    <tr>\n      <th>3</th>\n      <td>A047759</td>\n      <td>Oreo</td>\n      <td>Dog</td>\n      <td>Neutered Male</td>\n      <td>Dachshund</td>\n      <td>Tricolor</td>\n      <td>2004-04-02</td>\n      <td>Austin (TX)</td>\n      <td>2014-04-02 15:55:00</td>\n      <td>10 years</td>\n      <td>2014-04-07 15:12:00</td>\n      <td>10 years</td>\n      <td>Owner Surrender</td>\n      <td>Normal</td>\n      <td>Transfer</td>\n      <td>Partner</td>\n      <td>10.0</td>\n      <td>10.0</td>\n      <td>4.0</td>\n    </tr>\n    <tr>\n      <th>4</th>\n      <td>A134067</td>\n      <td>Bandit</td>\n      <td>Dog</td>\n      <td>Neutered Male</td>\n      <td>Shetland Sheepdog</td>\n      <td>Brown/White</td>\n      <td>1997-10-16</td>\n      <td>12034 Research Blvd in Austin (TX)</td>\n      <td>2013-11-16 09:02:00</td>\n      <td>16 years</td>\n      <td>2013-11-16 11:54:00</td>\n      <td>16 years</td>\n      <td>Public Assist</td>\n      <td>Injured</td>\n      <td>Return to Owner</td>\n      <td>NaN</td>\n      <td>16.1</td>\n      <td>16.1</td>\n      <td>0.0</td>\n    </tr>\n  </tbody>\n</table>\n</div>"
     },
     "execution_count": 23,
     "metadata": {},
     "output_type": "execute_result"
    }
   ],
   "source": [
    "intake_n_outcome.head()"
   ]
  },
  {
   "cell_type": "markdown",
   "metadata": {
    "ExecuteTime": {
     "start_time": "2023-11-30T19:04:43.560178Z"
    },
    "collapsed": false
   },
   "source": [
    "### **Check column datatypes and names**"
   ]
  },
  {
   "cell_type": "code",
   "execution_count": 24,
   "metadata": {
    "collapsed": false,
    "ExecuteTime": {
     "end_time": "2023-12-02T00:36:07.906891Z",
     "start_time": "2023-12-02T00:36:07.834762Z"
    }
   },
   "outputs": [
    {
     "data": {
      "text/plain": "animal_id                          object\nname                               object\nanimal_type                        object\nsex                                object\nbreed                              object\ncolor                              object\ndate_of_birth              datetime64[ns]\nfound_location                     object\nintake_datetime            datetime64[ns]\nage_upon_intake                    object\noutcome_datetime           datetime64[ns]\nage_upon_outcome                   object\nintake_type                        object\nintake_condition                   object\noutcome_type                       object\noutcome_subtype                    object\nage_upon_intake(years)            float64\nage_upon_outcome(years)           float64\nduration(days)                    float64\ndtype: object"
     },
     "execution_count": 24,
     "metadata": {},
     "output_type": "execute_result"
    }
   ],
   "source": [
    "intake_n_outcome.dtypes"
   ]
  },
  {
   "cell_type": "code",
   "execution_count": 25,
   "metadata": {
    "collapsed": false,
    "ExecuteTime": {
     "end_time": "2023-12-02T00:36:07.907064Z",
     "start_time": "2023-12-02T00:36:07.839255Z"
    }
   },
   "outputs": [
    {
     "data": {
      "text/plain": "Index(['animal_id', 'name', 'animal_type', 'sex', 'breed', 'color',\n       'date_of_birth', 'found_location', 'intake_datetime', 'age_upon_intake',\n       'outcome_datetime', 'age_upon_outcome', 'intake_type',\n       'intake_condition', 'outcome_type', 'outcome_subtype',\n       'age_upon_intake(years)', 'age_upon_outcome(years)', 'duration(days)'],\n      dtype='object')"
     },
     "execution_count": 25,
     "metadata": {},
     "output_type": "execute_result"
    }
   ],
   "source": [
    "intake_n_outcome.columns"
   ]
  },
  {
   "cell_type": "markdown",
   "metadata": {},
   "source": [
    "### **Check the value counts of `animal_type`**"
   ]
  },
  {
   "cell_type": "code",
   "execution_count": 26,
   "metadata": {
    "collapsed": false,
    "ExecuteTime": {
     "end_time": "2023-12-02T00:36:07.967230Z",
     "start_time": "2023-12-02T00:36:07.855700Z"
    }
   },
   "outputs": [
    {
     "data": {
      "text/plain": "animal_type\nDog          87167\nCat          61351\nOther         8261\nBird           780\nLivestock       26\nName: count, dtype: int64"
     },
     "execution_count": 26,
     "metadata": {},
     "output_type": "execute_result"
    }
   ],
   "source": [
    "intake_n_outcome.animal_type.value_counts()"
   ]
  },
  {
   "cell_type": "markdown",
   "metadata": {},
   "source": [
    "### **Check the value counts of `sex`**"
   ]
  },
  {
   "cell_type": "code",
   "execution_count": 27,
   "metadata": {
    "collapsed": false,
    "ExecuteTime": {
     "end_time": "2023-12-02T00:36:07.967676Z",
     "start_time": "2023-12-02T00:36:07.871369Z"
    }
   },
   "outputs": [
    {
     "data": {
      "text/plain": "sex\nIntact Male      52992\nIntact Female    50678\nNeutered Male    22560\nSpayed Female    19073\nUnknown          12280\nName: count, dtype: int64"
     },
     "execution_count": 27,
     "metadata": {},
     "output_type": "execute_result"
    }
   ],
   "source": [
    "intake_n_outcome.sex.value_counts()"
   ]
  },
  {
   "cell_type": "markdown",
   "metadata": {},
   "source": [
    "### **Check the value counts of `breed`**"
   ]
  },
  {
   "cell_type": "code",
   "execution_count": 28,
   "metadata": {
    "collapsed": false,
    "ExecuteTime": {
     "end_time": "2023-12-02T00:36:07.968139Z",
     "start_time": "2023-12-02T00:36:07.886726Z"
    }
   },
   "outputs": [
    {
     "data": {
      "text/plain": "breed\nDomestic Shorthair Mix             33276\nDomestic Shorthair                 17577\nPit Bull Mix                        9655\nLabrador Retriever Mix              8168\nChihuahua Shorthair Mix             6737\n                                   ...  \nPit Bull/American Foxhound             1\nPit Bull/Dogue De Bordeaux             1\nEnglish Springer Spaniel/Beagle        1\nGoose Mix                              1\nDomestic Shorthair/Oriental Sh         1\nName: count, Length: 2887, dtype: int64"
     },
     "execution_count": 28,
     "metadata": {},
     "output_type": "execute_result"
    }
   ],
   "source": [
    "intake_n_outcome.breed.value_counts()"
   ]
  },
  {
   "cell_type": "markdown",
   "metadata": {},
   "source": [
    "### **Check the value counts of `color`**"
   ]
  },
  {
   "cell_type": "code",
   "execution_count": 29,
   "metadata": {
    "collapsed": false,
    "ExecuteTime": {
     "end_time": "2023-12-02T00:36:08.039834Z",
     "start_time": "2023-12-02T00:36:07.906359Z"
    }
   },
   "outputs": [
    {
     "data": {
      "text/plain": "color\nBlack/White               16426\nBlack                     13149\nBrown Tabby                9375\nBrown                      6535\nWhite                      5536\n                          ...  \nBlue Tabby/Buff               1\nRed Tick/Blue                 1\nCream/Blue Point              1\nTorbie/Silver Tabby           1\nBlue Tabby/Brown Tabby        1\nName: count, Length: 635, dtype: int64"
     },
     "execution_count": 29,
     "metadata": {},
     "output_type": "execute_result"
    }
   ],
   "source": [
    "intake_n_outcome.color.value_counts()"
   ]
  },
  {
   "cell_type": "markdown",
   "metadata": {},
   "source": [
    "### **Check the value counts of `intake_type`**"
   ]
  },
  {
   "cell_type": "code",
   "execution_count": 30,
   "metadata": {
    "collapsed": false,
    "ExecuteTime": {
     "end_time": "2023-12-02T00:36:08.119164Z",
     "start_time": "2023-12-02T00:36:07.926034Z"
    }
   },
   "outputs": [
    {
     "data": {
      "text/plain": "intake_type\nStray                 108068\nOwner Surrender        32488\nPublic Assist           9410\nWildlife                5983\nAbandoned               1376\nEuthanasia Request       260\nName: count, dtype: int64"
     },
     "execution_count": 30,
     "metadata": {},
     "output_type": "execute_result"
    }
   ],
   "source": [
    "intake_n_outcome.intake_type.value_counts()"
   ]
  },
  {
   "cell_type": "markdown",
   "metadata": {},
   "source": [
    "### **Check the value counts of `intake_condition`**"
   ]
  },
  {
   "cell_type": "code",
   "execution_count": 31,
   "metadata": {
    "collapsed": false,
    "ExecuteTime": {
     "end_time": "2023-12-02T00:36:08.136843Z",
     "start_time": "2023-12-02T00:36:07.942486Z"
    }
   },
   "outputs": [
    {
     "data": {
      "text/plain": "intake_condition\nNormal        134646\nInjured         9426\nSick            6989\nNursing         3920\nNeonatal        1071\nAged             502\nOther            340\nMedical          294\nFeral            135\nPregnant         128\nBehavior          64\nMed Attn          25\nUnknown           16\nMed Urgent         9\nNeurologic         9\nSpace              4\nParvo              3\nAgonal             2\nPanleuk            1\nCongenital         1\nName: count, dtype: int64"
     },
     "execution_count": 31,
     "metadata": {},
     "output_type": "execute_result"
    }
   ],
   "source": [
    "intake_n_outcome.intake_condition.value_counts()"
   ]
  },
  {
   "cell_type": "markdown",
   "metadata": {},
   "source": [
    "### **Check the value counts of `outcome_type`**"
   ]
  },
  {
   "cell_type": "code",
   "execution_count": 32,
   "metadata": {
    "collapsed": false,
    "ExecuteTime": {
     "end_time": "2023-12-02T00:36:08.137148Z",
     "start_time": "2023-12-02T00:36:07.958071Z"
    }
   },
   "outputs": [
    {
     "data": {
      "text/plain": "outcome_type\nAdoption           73829\nTransfer           44898\nReturn to Owner    24423\nEuthanasia          9964\nDied                1468\nRto-Adopt           1077\nDisposal             766\nMissing               84\nRelocate              26\nStolen                 5\nName: count, dtype: int64"
     },
     "execution_count": 32,
     "metadata": {},
     "output_type": "execute_result"
    }
   ],
   "source": [
    "intake_n_outcome.outcome_type.value_counts()"
   ]
  },
  {
   "cell_type": "markdown",
   "metadata": {},
   "source": [
    "### **Check the value counts of `outcome_subtype`**"
   ]
  },
  {
   "cell_type": "code",
   "execution_count": 33,
   "metadata": {
    "collapsed": false,
    "ExecuteTime": {
     "end_time": "2023-12-02T00:36:08.141195Z",
     "start_time": "2023-12-02T00:36:07.969097Z"
    }
   },
   "outputs": [
    {
     "data": {
      "text/plain": "outcome_subtype\nPartner                37232\nFoster                 15309\nRabies Risk             4491\nSuffering               3828\nSnr                     3504\nSCRP                    3204\nOut State                931\nIn Kennel                775\nAggressive               583\nOffsite                  477\nIn Foster                366\nMedical                  338\nAt Vet                   321\nField                    188\nBehavior                 157\nEnroute                  103\nCourt/Investigation       63\nUnderage                  37\nIn Surgery                32\nCustomer S                18\nEmergency                 17\nPossible Theft            16\nPrc                       13\nBarn                      12\nIn State                  12\nEmer                       7\nName: count, dtype: int64"
     },
     "execution_count": 33,
     "metadata": {},
     "output_type": "execute_result"
    }
   ],
   "source": [
    "intake_n_outcome.outcome_subtype.value_counts()"
   ]
  },
  {
   "cell_type": "markdown",
   "source": [
    "## **Save as csv**"
   ],
   "metadata": {
    "collapsed": false
   }
  },
  {
   "cell_type": "code",
   "execution_count": 35,
   "outputs": [],
   "source": [
    "intake_n_outcome.to_csv(\"data/animal_center.csv\", index=False)"
   ],
   "metadata": {
    "collapsed": false,
    "ExecuteTime": {
     "end_time": "2023-12-02T00:36:44.110485Z",
     "start_time": "2023-12-02T00:36:42.314490Z"
    }
   }
  }
 ],
 "metadata": {
  "kernelspec": {
   "display_name": "base",
   "language": "python",
   "name": "python3"
  },
  "language_info": {
   "codemirror_mode": {
    "name": "ipython",
    "version": 3
   },
   "file_extension": ".py",
   "mimetype": "text/x-python",
   "name": "python",
   "nbconvert_exporter": "python",
   "pygments_lexer": "ipython3",
   "version": "3.9.12"
  }
 },
 "nbformat": 4,
 "nbformat_minor": 2
}
